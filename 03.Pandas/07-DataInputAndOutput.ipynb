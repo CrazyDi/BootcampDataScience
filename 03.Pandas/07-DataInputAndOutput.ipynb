{
 "cells": [
  {
   "cell_type": "markdown",
   "metadata": {
    "collapsed": true,
    "pycharm": {
     "name": "#%% md\n"
    }
   },
   "source": [
    "# Ввод и вывод данных"
   ]
  },
  {
   "cell_type": "code",
   "execution_count": 1,
   "outputs": [],
   "source": [
    "import numpy as np\n",
    "import pandas as pd"
   ],
   "metadata": {
    "collapsed": false,
    "pycharm": {
     "name": "#%%\n",
     "is_executing": false
    }
   }
  },
  {
   "cell_type": "markdown",
   "source": [
    "## CSV"
   ],
   "metadata": {
    "collapsed": false,
    "pycharm": {
     "name": "#%% md\n"
    }
   }
  },
  {
   "cell_type": "markdown",
   "source": [
    "### CSV чтение"
   ],
   "metadata": {
    "collapsed": false
   }
  },
  {
   "cell_type": "code",
   "execution_count": 2,
   "outputs": [
    {
     "data": {
      "text/plain": "    a   b   c   d\n0   0   1   2   3\n1   4   5   6   7\n2   8   9  10  11\n3  12  13  14  15",
      "text/html": "<div>\n<style scoped>\n    .dataframe tbody tr th:only-of-type {\n        vertical-align: middle;\n    }\n\n    .dataframe tbody tr th {\n        vertical-align: top;\n    }\n\n    .dataframe thead th {\n        text-align: right;\n    }\n</style>\n<table border=\"1\" class=\"dataframe\">\n  <thead>\n    <tr style=\"text-align: right;\">\n      <th></th>\n      <th>a</th>\n      <th>b</th>\n      <th>c</th>\n      <th>d</th>\n    </tr>\n  </thead>\n  <tbody>\n    <tr>\n      <th>0</th>\n      <td>0</td>\n      <td>1</td>\n      <td>2</td>\n      <td>3</td>\n    </tr>\n    <tr>\n      <th>1</th>\n      <td>4</td>\n      <td>5</td>\n      <td>6</td>\n      <td>7</td>\n    </tr>\n    <tr>\n      <th>2</th>\n      <td>8</td>\n      <td>9</td>\n      <td>10</td>\n      <td>11</td>\n    </tr>\n    <tr>\n      <th>3</th>\n      <td>12</td>\n      <td>13</td>\n      <td>14</td>\n      <td>15</td>\n    </tr>\n  </tbody>\n</table>\n</div>"
     },
     "metadata": {},
     "output_type": "execute_result",
     "execution_count": 2
    }
   ],
   "source": [
    "df = pd.read_csv('example')\n",
    "df"
   ],
   "metadata": {
    "collapsed": false,
    "pycharm": {
     "name": "#%%\n",
     "is_executing": false
    }
   }
  },
  {
   "cell_type": "markdown",
   "source": [
    "### CSV запись"
   ],
   "metadata": {
    "collapsed": false,
    "pycharm": {
     "name": "#%% md\n"
    }
   }
  },
  {
   "cell_type": "code",
   "execution_count": 3,
   "outputs": [],
   "source": [
    "df.to_csv('example1', index=False)"
   ],
   "metadata": {
    "collapsed": false,
    "pycharm": {
     "name": "#%%\n",
     "is_executing": false
    }
   }
  },
  {
   "cell_type": "markdown",
   "source": [
    "## Excel"
   ],
   "metadata": {
    "collapsed": false,
    "pycharm": {
     "name": "#%% md\n"
    }
   }
  },
  {
   "cell_type": "markdown",
   "source": [
    "### Excel чтение"
   ],
   "metadata": {
    "collapsed": false
   }
  },
  {
   "cell_type": "code",
   "execution_count": 4,
   "outputs": [
    {
     "data": {
      "text/plain": "    a   b   c   d\n0   0   1   2   3\n1   4   5   6   7\n2   8   9  10  11\n3  12  13  14  15",
      "text/html": "<div>\n<style scoped>\n    .dataframe tbody tr th:only-of-type {\n        vertical-align: middle;\n    }\n\n    .dataframe tbody tr th {\n        vertical-align: top;\n    }\n\n    .dataframe thead th {\n        text-align: right;\n    }\n</style>\n<table border=\"1\" class=\"dataframe\">\n  <thead>\n    <tr style=\"text-align: right;\">\n      <th></th>\n      <th>a</th>\n      <th>b</th>\n      <th>c</th>\n      <th>d</th>\n    </tr>\n  </thead>\n  <tbody>\n    <tr>\n      <th>0</th>\n      <td>0</td>\n      <td>1</td>\n      <td>2</td>\n      <td>3</td>\n    </tr>\n    <tr>\n      <th>1</th>\n      <td>4</td>\n      <td>5</td>\n      <td>6</td>\n      <td>7</td>\n    </tr>\n    <tr>\n      <th>2</th>\n      <td>8</td>\n      <td>9</td>\n      <td>10</td>\n      <td>11</td>\n    </tr>\n    <tr>\n      <th>3</th>\n      <td>12</td>\n      <td>13</td>\n      <td>14</td>\n      <td>15</td>\n    </tr>\n  </tbody>\n</table>\n</div>"
     },
     "metadata": {},
     "output_type": "execute_result",
     "execution_count": 4
    }
   ],
   "source": [
    "pd.read_excel('Excel_Sample.xlsx', sheet_name='Sheet1', index_col=0)"
   ],
   "metadata": {
    "collapsed": false,
    "pycharm": {
     "name": "#%%\n",
     "is_executing": false
    }
   }
  },
  {
   "cell_type": "markdown",
   "source": [
    "### Excel запись"
   ],
   "metadata": {
    "collapsed": false,
    "pycharm": {
     "name": "#%% md\n"
    }
   }
  },
  {
   "cell_type": "code",
   "execution_count": 5,
   "outputs": [],
   "source": [
    "df.to_excel('Excel_Sample1.xlsx', sheet_name='Sheet1')"
   ],
   "metadata": {
    "collapsed": false,
    "pycharm": {
     "name": "#%%\n",
     "is_executing": false
    }
   }
  },
  {
   "cell_type": "markdown",
   "source": [
    "## HTML"
   ],
   "metadata": {
    "collapsed": false,
    "pycharm": {
     "name": "#%% md\n"
    }
   }
  },
  {
   "cell_type": "markdown",
   "source": [
    "### HTML чтение"
   ],
   "metadata": {
    "collapsed": false
   }
  },
  {
   "cell_type": "code",
   "execution_count": 6,
   "outputs": [
    {
     "data": {
      "text/plain": "                             Bank Name        City  ST   CERT  \\\n0                   Ericson State Bank     Ericson  NE  18265   \n1     City National Bank of New Jersey      Newark  NJ  21111   \n2                        Resolute Bank      Maumee  OH  58317   \n3                Louisa Community Bank      Louisa  KY  58112   \n4                 The Enloe State Bank      Cooper  TX  10716   \n..                                 ...         ...  ..    ...   \n555                 Superior Bank, FSB    Hinsdale  IL  32646   \n556                Malta National Bank       Malta  OH   6629   \n557    First Alliance Bank & Trust Co.  Manchester  NH  34264   \n558  National State Bank of Metropolis  Metropolis  IL   3815   \n559                   Bank of Honolulu    Honolulu  HI  21029   \n\n                   Acquiring Institution       Closing Date  \n0             Farmers and Merchants Bank  February 14, 2020  \n1                        Industrial Bank   November 1, 2019  \n2                     Buckeye State Bank   October 25, 2019  \n3      Kentucky Farmers Bank Corporation   October 25, 2019  \n4                     Legend Bank, N. A.       May 31, 2019  \n..                                   ...                ...  \n555                Superior Federal, FSB      July 27, 2001  \n556                    North Valley Bank        May 3, 2001  \n557  Southern New Hampshire Bank & Trust   February 2, 2001  \n558              Banterra Bank of Marion  December 14, 2000  \n559                   Bank of the Orient   October 13, 2000  \n\n[560 rows x 6 columns]",
      "text/html": "<div>\n<style scoped>\n    .dataframe tbody tr th:only-of-type {\n        vertical-align: middle;\n    }\n\n    .dataframe tbody tr th {\n        vertical-align: top;\n    }\n\n    .dataframe thead th {\n        text-align: right;\n    }\n</style>\n<table border=\"1\" class=\"dataframe\">\n  <thead>\n    <tr style=\"text-align: right;\">\n      <th></th>\n      <th>Bank Name</th>\n      <th>City</th>\n      <th>ST</th>\n      <th>CERT</th>\n      <th>Acquiring Institution</th>\n      <th>Closing Date</th>\n    </tr>\n  </thead>\n  <tbody>\n    <tr>\n      <th>0</th>\n      <td>Ericson State Bank</td>\n      <td>Ericson</td>\n      <td>NE</td>\n      <td>18265</td>\n      <td>Farmers and Merchants Bank</td>\n      <td>February 14, 2020</td>\n    </tr>\n    <tr>\n      <th>1</th>\n      <td>City National Bank of New Jersey</td>\n      <td>Newark</td>\n      <td>NJ</td>\n      <td>21111</td>\n      <td>Industrial Bank</td>\n      <td>November 1, 2019</td>\n    </tr>\n    <tr>\n      <th>2</th>\n      <td>Resolute Bank</td>\n      <td>Maumee</td>\n      <td>OH</td>\n      <td>58317</td>\n      <td>Buckeye State Bank</td>\n      <td>October 25, 2019</td>\n    </tr>\n    <tr>\n      <th>3</th>\n      <td>Louisa Community Bank</td>\n      <td>Louisa</td>\n      <td>KY</td>\n      <td>58112</td>\n      <td>Kentucky Farmers Bank Corporation</td>\n      <td>October 25, 2019</td>\n    </tr>\n    <tr>\n      <th>4</th>\n      <td>The Enloe State Bank</td>\n      <td>Cooper</td>\n      <td>TX</td>\n      <td>10716</td>\n      <td>Legend Bank, N. A.</td>\n      <td>May 31, 2019</td>\n    </tr>\n    <tr>\n      <th>...</th>\n      <td>...</td>\n      <td>...</td>\n      <td>...</td>\n      <td>...</td>\n      <td>...</td>\n      <td>...</td>\n    </tr>\n    <tr>\n      <th>555</th>\n      <td>Superior Bank, FSB</td>\n      <td>Hinsdale</td>\n      <td>IL</td>\n      <td>32646</td>\n      <td>Superior Federal, FSB</td>\n      <td>July 27, 2001</td>\n    </tr>\n    <tr>\n      <th>556</th>\n      <td>Malta National Bank</td>\n      <td>Malta</td>\n      <td>OH</td>\n      <td>6629</td>\n      <td>North Valley Bank</td>\n      <td>May 3, 2001</td>\n    </tr>\n    <tr>\n      <th>557</th>\n      <td>First Alliance Bank &amp; Trust Co.</td>\n      <td>Manchester</td>\n      <td>NH</td>\n      <td>34264</td>\n      <td>Southern New Hampshire Bank &amp; Trust</td>\n      <td>February 2, 2001</td>\n    </tr>\n    <tr>\n      <th>558</th>\n      <td>National State Bank of Metropolis</td>\n      <td>Metropolis</td>\n      <td>IL</td>\n      <td>3815</td>\n      <td>Banterra Bank of Marion</td>\n      <td>December 14, 2000</td>\n    </tr>\n    <tr>\n      <th>559</th>\n      <td>Bank of Honolulu</td>\n      <td>Honolulu</td>\n      <td>HI</td>\n      <td>21029</td>\n      <td>Bank of the Orient</td>\n      <td>October 13, 2000</td>\n    </tr>\n  </tbody>\n</table>\n<p>560 rows × 6 columns</p>\n</div>"
     },
     "metadata": {},
     "output_type": "execute_result",
     "execution_count": 6
    }
   ],
   "source": [
    "data = pd.read_html('http://www.fdic.gov/bank/individual/failed/banklist.html')\n",
    "data[0]"
   ],
   "metadata": {
    "collapsed": false,
    "pycharm": {
     "name": "#%%\n",
     "is_executing": false
    }
   }
  },
  {
   "cell_type": "markdown",
   "source": [
    "## SQL"
   ],
   "metadata": {
    "collapsed": false,
    "pycharm": {
     "name": "#%% md\n"
    }
   }
  },
  {
   "cell_type": "code",
   "execution_count": 7,
   "outputs": [],
   "source": [
    "from sqlalchemy import create_engine"
   ],
   "metadata": {
    "collapsed": false,
    "pycharm": {
     "name": "#%%\n",
     "is_executing": false
    }
   }
  },
  {
   "cell_type": "code",
   "execution_count": 8,
   "outputs": [],
   "source": [
    "engine = create_engine('sqlite:///:memory:')"
   ],
   "metadata": {
    "collapsed": false,
    "pycharm": {
     "name": "#%%\n",
     "is_executing": false
    }
   }
  },
  {
   "cell_type": "code",
   "execution_count": 9,
   "outputs": [],
   "source": [
    "df.to_sql('data', engine)"
   ],
   "metadata": {
    "collapsed": false,
    "pycharm": {
     "name": "#%%\n",
     "is_executing": false
    }
   }
  },
  {
   "cell_type": "code",
   "execution_count": 10,
   "outputs": [
    {
     "data": {
      "text/plain": "   index   a   b   c   d\n0      0   0   1   2   3\n1      1   4   5   6   7\n2      2   8   9  10  11\n3      3  12  13  14  15",
      "text/html": "<div>\n<style scoped>\n    .dataframe tbody tr th:only-of-type {\n        vertical-align: middle;\n    }\n\n    .dataframe tbody tr th {\n        vertical-align: top;\n    }\n\n    .dataframe thead th {\n        text-align: right;\n    }\n</style>\n<table border=\"1\" class=\"dataframe\">\n  <thead>\n    <tr style=\"text-align: right;\">\n      <th></th>\n      <th>index</th>\n      <th>a</th>\n      <th>b</th>\n      <th>c</th>\n      <th>d</th>\n    </tr>\n  </thead>\n  <tbody>\n    <tr>\n      <th>0</th>\n      <td>0</td>\n      <td>0</td>\n      <td>1</td>\n      <td>2</td>\n      <td>3</td>\n    </tr>\n    <tr>\n      <th>1</th>\n      <td>1</td>\n      <td>4</td>\n      <td>5</td>\n      <td>6</td>\n      <td>7</td>\n    </tr>\n    <tr>\n      <th>2</th>\n      <td>2</td>\n      <td>8</td>\n      <td>9</td>\n      <td>10</td>\n      <td>11</td>\n    </tr>\n    <tr>\n      <th>3</th>\n      <td>3</td>\n      <td>12</td>\n      <td>13</td>\n      <td>14</td>\n      <td>15</td>\n    </tr>\n  </tbody>\n</table>\n</div>"
     },
     "metadata": {},
     "output_type": "execute_result",
     "execution_count": 10
    }
   ],
   "source": [
    "sql_df = pd.read_sql('data', con=engine)\n",
    "sql_df"
   ],
   "metadata": {
    "collapsed": false,
    "pycharm": {
     "name": "#%%\n",
     "is_executing": false
    }
   }
  }
 ],
 "metadata": {
  "kernelspec": {
   "display_name": "Python 3",
   "language": "python",
   "name": "python3"
  },
  "language_info": {
   "codemirror_mode": {
    "name": "ipython",
    "version": 2
   },
   "file_extension": ".py",
   "mimetype": "text/x-python",
   "name": "python",
   "nbconvert_exporter": "python",
   "pygments_lexer": "ipython2",
   "version": "2.7.6"
  },
  "pycharm": {
   "stem_cell": {
    "cell_type": "raw",
    "source": [],
    "metadata": {
     "collapsed": false
    }
   }
  }
 },
 "nbformat": 4,
 "nbformat_minor": 0
}