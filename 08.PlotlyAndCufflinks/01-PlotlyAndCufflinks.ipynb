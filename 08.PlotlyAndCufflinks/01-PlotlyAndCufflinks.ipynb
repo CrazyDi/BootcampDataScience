{
 "cells": [
  {
   "cell_type": "markdown",
   "metadata": {
    "pycharm": {
     "name": "#%% md\n"
    }
   },
   "source": [
    "# Plotly и Cufflinks"
   ]
  },
  {
   "cell_type": "code",
   "execution_count": 1,
   "metadata": {
    "pycharm": {
     "is_executing": false
    }
   },
   "outputs": [],
   "source": [
    "import pandas as pd\n",
    "import numpy as np\n",
    "%matplotlib inline"
   ]
  },
  {
   "cell_type": "code",
   "execution_count": 2,
   "metadata": {
    "pycharm": {
     "is_executing": false,
     "name": "#%%\n"
    }
   },
   "outputs": [
    {
     "name": "stdout",
     "text": [
      "4.5.4\n"
     ],
     "output_type": "stream"
    }
   ],
   "source": [
    "from plotly import __version__\n",
    "from plotly.offline import download_plotlyjs, init_notebook_mode, plot, iplot\n",
    "\n",
    "print(__version__)"
   ]
  },
  {
   "cell_type": "code",
   "execution_count": 3,
   "metadata": {
    "pycharm": {
     "is_executing": false,
     "name": "#%%\n"
    }
   },
   "outputs": [],
   "source": [
    "import cufflinks as cf"
   ]
  },
  {
   "cell_type": "code",
   "execution_count": 4,
   "metadata": {
    "pycharm": {
     "is_executing": false,
     "name": "#%%\n"
    }
   },
   "outputs": [
    {
     "data": {
      "text/html": "        <script type=\"text/javascript\">\n        window.PlotlyConfig = {MathJaxConfig: 'local'};\n        if (window.MathJax) {MathJax.Hub.Config({SVG: {font: \"STIX-Web\"}});}\n        if (typeof require !== 'undefined') {\n        require.undef(\"plotly\");\n        requirejs.config({\n            paths: {\n                'plotly': ['https://cdn.plot.ly/plotly-latest.min']\n            }\n        });\n        require(['plotly'], function(Plotly) {\n            window._Plotly = Plotly;\n        });\n        }\n        </script>\n        "
     },
     "metadata": {},
     "output_type": "display_data"
    }
   ],
   "source": [
    "cf.go_offline()"
   ]
  },
  {
   "cell_type": "markdown",
   "metadata": {
    "pycharm": {
     "name": "#%% md\n"
    }
   },
   "source": [
    "## Данные"
   ]
  },
  {
   "cell_type": "code",
   "execution_count": 5,
   "metadata": {
    "pycharm": {
     "is_executing": false,
     "name": "#%%\n"
    }
   },
   "outputs": [
    {
     "data": {
      "text/plain": "          A         B         C         D\n0 -1.486307  0.991863 -0.375374  2.043669\n1 -2.185082  0.249503  0.567966  0.182476\n2 -2.960827  0.395009  0.467731  0.570004\n3  0.638070  0.618871  1.711581 -0.229357\n4  0.213778 -0.774795 -0.232770  0.756921",
      "text/html": "<div>\n<style scoped>\n    .dataframe tbody tr th:only-of-type {\n        vertical-align: middle;\n    }\n\n    .dataframe tbody tr th {\n        vertical-align: top;\n    }\n\n    .dataframe thead th {\n        text-align: right;\n    }\n</style>\n<table border=\"1\" class=\"dataframe\">\n  <thead>\n    <tr style=\"text-align: right;\">\n      <th></th>\n      <th>A</th>\n      <th>B</th>\n      <th>C</th>\n      <th>D</th>\n    </tr>\n  </thead>\n  <tbody>\n    <tr>\n      <th>0</th>\n      <td>-1.486307</td>\n      <td>0.991863</td>\n      <td>-0.375374</td>\n      <td>2.043669</td>\n    </tr>\n    <tr>\n      <th>1</th>\n      <td>-2.185082</td>\n      <td>0.249503</td>\n      <td>0.567966</td>\n      <td>0.182476</td>\n    </tr>\n    <tr>\n      <th>2</th>\n      <td>-2.960827</td>\n      <td>0.395009</td>\n      <td>0.467731</td>\n      <td>0.570004</td>\n    </tr>\n    <tr>\n      <th>3</th>\n      <td>0.638070</td>\n      <td>0.618871</td>\n      <td>1.711581</td>\n      <td>-0.229357</td>\n    </tr>\n    <tr>\n      <th>4</th>\n      <td>0.213778</td>\n      <td>-0.774795</td>\n      <td>-0.232770</td>\n      <td>0.756921</td>\n    </tr>\n  </tbody>\n</table>\n</div>"
     },
     "metadata": {},
     "output_type": "execute_result",
     "execution_count": 5
    }
   ],
   "source": [
    "df = pd.DataFrame(np.random.randn(100, 4), columns='A B C D'.split())\n",
    "df.head()"
   ]
  },
  {
   "cell_type": "code",
   "execution_count": 6,
   "metadata": {
    "pycharm": {
     "is_executing": false,
     "name": "#%%\n"
    }
   },
   "outputs": [
    {
     "data": {
      "text/plain": "  Category  Values\n0        A      32\n1        B      43\n2        C      50",
      "text/html": "<div>\n<style scoped>\n    .dataframe tbody tr th:only-of-type {\n        vertical-align: middle;\n    }\n\n    .dataframe tbody tr th {\n        vertical-align: top;\n    }\n\n    .dataframe thead th {\n        text-align: right;\n    }\n</style>\n<table border=\"1\" class=\"dataframe\">\n  <thead>\n    <tr style=\"text-align: right;\">\n      <th></th>\n      <th>Category</th>\n      <th>Values</th>\n    </tr>\n  </thead>\n  <tbody>\n    <tr>\n      <th>0</th>\n      <td>A</td>\n      <td>32</td>\n    </tr>\n    <tr>\n      <th>1</th>\n      <td>B</td>\n      <td>43</td>\n    </tr>\n    <tr>\n      <th>2</th>\n      <td>C</td>\n      <td>50</td>\n    </tr>\n  </tbody>\n</table>\n</div>"
     },
     "metadata": {},
     "output_type": "execute_result",
     "execution_count": 6
    }
   ],
   "source": [
    "df2 = pd.DataFrame({'Category': ['A', 'B', 'C'], 'Values': [32, 43, 50]})\n",
    "df2.head()"
   ]
  },
  {
   "cell_type": "markdown",
   "metadata": {
    "pycharm": {
     "name": "#%% md\n"
    }
   },
   "source": [
    "## Виды графиков"
   ]
  },
  {
   "cell_type": "code",
   "execution_count": 7,
   "metadata": {
    "pycharm": {
     "is_executing": false,
     "name": "#%%\n"
    }
   },
   "outputs": [
    {
     "data": {
      "text/html": "        <script type=\"text/javascript\">\n        window.PlotlyConfig = {MathJaxConfig: 'local'};\n        if (window.MathJax) {MathJax.Hub.Config({SVG: {font: \"STIX-Web\"}});}\n        if (typeof require !== 'undefined') {\n        require.undef(\"plotly\");\n        requirejs.config({\n            paths: {\n                'plotly': ['https://cdn.plot.ly/plotly-latest.min']\n            }\n        });\n        require(['plotly'], function(Plotly) {\n            window._Plotly = Plotly;\n        });\n        }\n        </script>\n        "
     },
     "metadata": {},
     "output_type": "display_data"
    }
   ],
   "source": [
    "init_notebook_mode(connected=True)"
   ]
  },
  {
   "cell_type": "markdown",
   "metadata": {
    "pycharm": {
     "name": "#%% md\n"
    }
   },
   "source": [
    "### Скаттерплот"
   ]
  },
  {
   "cell_type": "code",
   "execution_count": 8,
   "metadata": {
    "pycharm": {
     "is_executing": false,
     "name": "#%%\n"
    }
   },
   "outputs": [
    {
     "data": {
      "application/vnd.plotly.v1+json": {
       "config": {
        "linkText": "Export to plot.ly",
        "plotlyServerURL": "https://plot.ly",
        "showLink": true
       },
       "data": [
        {
         "line": {
          "color": "rgba(255, 153, 51, 1.0)",
          "dash": "solid",
          "shape": "linear",
          "width": 1.3
         },
         "marker": {
          "size": 10,
          "symbol": "circle"
         },
         "mode": "markers",
         "name": "B",
         "text": "",
         "type": "scatter",
         "x": [
          -1.4863073708975698,
          -2.1850824021195616,
          -2.960827272545752,
          0.638069862685476,
          0.21377793975387355,
          -0.8154978341789988,
          -1.5739883105017602,
          0.4318822775286287,
          -1.3265888287929182,
          1.259183517429503,
          -0.017407080654257518,
          -0.10281927824957425,
          0.05337750178968702,
          -0.6292896610597629,
          0.38616052190444494,
          -0.22605631512131022,
          -0.09853750276821739,
          -1.1066396351534582,
          0.9114796019739642,
          0.29518110596127883,
          0.5965871078261196,
          -0.6190242134296731,
          -0.9294887399068007,
          0.24055976556184552,
          0.05308689523824642,
          -0.32226287593468833,
          1.063935624998341,
          -0.5072921436705043,
          -1.5377735821424616,
          -0.685396102123712,
          -2.605179870972897,
          -0.014336078140034441,
          0.13052624885473935,
          -0.3793653369458108,
          0.6065077500095933,
          -0.763188427541439,
          2.170705302187318,
          -0.8878237136360704,
          0.30600965400701974,
          -1.0163183411750913,
          1.0624991809215645,
          -0.4412390260445293,
          0.3651556864264858,
          -1.486978745096095,
          1.664516514200354,
          1.1997710720009844,
          -2.0555831792245747,
          0.9235026440401792,
          0.07848950119542743,
          1.3431294743521662,
          3.2765097706920816,
          -0.4934295310273326,
          0.990094748628564,
          2.0134383679368852,
          -2.287636557492431,
          0.8224077368953896,
          -0.3560884397513596,
          -1.744011177010594,
          -0.034766326276481054,
          -0.7374693628800136,
          -1.140617878297122,
          -0.28734548744461696,
          0.5667681473808669,
          -0.9520658721364366,
          0.9596448650717668,
          0.3919613373221554,
          -0.9680655332483575,
          0.42334251965705855,
          1.772520654229283,
          0.650698170834495,
          -1.1317667464189085,
          -1.8459395957855504,
          0.8062363265030782,
          0.3147212847950096,
          -1.057789454250701,
          -0.29795494761001645,
          0.789773725362857,
          1.083507179451289,
          -1.9468646653134738,
          -0.21824193932452937,
          0.4675002253006263,
          1.605648784272931,
          -0.8821948592590849,
          -1.0917912230779365,
          0.06719803818297368,
          0.770564006511959,
          1.3408187755846943,
          1.7074842570992093,
          1.5703817547245793,
          0.29386034266401145,
          -0.06716747238653473,
          0.9434032958517293,
          -0.04607609878312643,
          -1.5422232108086,
          -0.7792537895554505,
          -0.3687631447341126,
          -0.09668785472371995,
          1.067454982834531,
          0.08877790370553766,
          1.0971434149579615
         ],
         "y": [
          0.991862700951286,
          0.24950253065649877,
          0.3950093976649536,
          0.6188708512930853,
          -0.7747954695629024,
          -0.6999267092916548,
          0.0767008924504014,
          1.1329314657450371,
          0.6433203381952936,
          1.6131660962513228,
          0.06043736850071907,
          0.8713454604033425,
          -0.18930552552586122,
          0.43833285799875565,
          -0.6995013195151322,
          -1.8064010468855245,
          0.687905900643732,
          1.396414503651976,
          -0.8072414603179552,
          1.0587564990166214,
          -0.3796720805805881,
          -0.3195073545466219,
          -1.3298790867118577,
          0.6457868122925032,
          -0.6441709957256099,
          -0.40827355746977784,
          -0.8355145027336962,
          0.8677656888788933,
          -0.30118120675530397,
          0.4963393424518228,
          1.8997241764226496,
          2.6281040905157247,
          1.4377596195562439,
          -1.8840417497279667,
          -0.4534505483577321,
          -0.6109510793091015,
          0.0151099174140034,
          0.6113033544272953,
          -1.0671475176105258,
          -1.347816683912141,
          0.05455733113361512,
          -0.4739243275402265,
          -0.45829014109480576,
          -0.726852510520777,
          -0.17788606157097492,
          -0.17897625981444226,
          0.685167733415189,
          -1.9724384236155548,
          0.7937847144227674,
          -1.1535059289831828,
          0.5102192179387394,
          0.8606104025042941,
          1.795271491052051,
          0.8545248489559998,
          0.8939539538337453,
          0.9961409783162299,
          -2.212550853061344,
          0.7806743317887066,
          1.1421746771338692,
          0.2881768847509344,
          -0.18142864879455858,
          -1.196135981429346,
          -0.9432708001793368,
          -1.4910858898960022,
          -2.1374718013605234,
          2.2207175524641616,
          0.03019455031206788,
          0.9877754416137221,
          1.044919815072245,
          -0.4359856415997237,
          -2.556134407655902,
          0.8257669498802955,
          -0.49672006283080633,
          -0.5433664670566228,
          -0.40402255151282734,
          -0.9041658119968088,
          0.48220006883816724,
          1.3853556377901446,
          0.6436047187928708,
          0.08846144335836506,
          -0.1682423067605211,
          0.17385203610914976,
          -0.5620543658393782,
          1.1000045334205817,
          0.8449228133014679,
          2.0693586894798575,
          0.556074393022577,
          -0.09675473988838523,
          -1.4876250381532938,
          -0.49795804936956967,
          -2.1141074948250784,
          0.6731424953480482,
          -0.5486912328010581,
          -1.9787097456859963,
          -0.45434678245835275,
          0.5868522472967778,
          0.09853414803666562,
          -0.49452835762931896,
          -2.116011155396429,
          -0.05396114288166204
         ]
        }
       ],
       "layout": {
        "legend": {
         "bgcolor": "#F5F6F9",
         "font": {
          "color": "#4D5663"
         }
        },
        "paper_bgcolor": "#F5F6F9",
        "plot_bgcolor": "#F5F6F9",
        "template": {
         "data": {
          "bar": [
           {
            "error_x": {
             "color": "#2a3f5f"
            },
            "error_y": {
             "color": "#2a3f5f"
            },
            "marker": {
             "line": {
              "color": "#E5ECF6",
              "width": 0.5
             }
            },
            "type": "bar"
           }
          ],
          "barpolar": [
           {
            "marker": {
             "line": {
              "color": "#E5ECF6",
              "width": 0.5
             }
            },
            "type": "barpolar"
           }
          ],
          "carpet": [
           {
            "aaxis": {
             "endlinecolor": "#2a3f5f",
             "gridcolor": "white",
             "linecolor": "white",
             "minorgridcolor": "white",
             "startlinecolor": "#2a3f5f"
            },
            "baxis": {
             "endlinecolor": "#2a3f5f",
             "gridcolor": "white",
             "linecolor": "white",
             "minorgridcolor": "white",
             "startlinecolor": "#2a3f5f"
            },
            "type": "carpet"
           }
          ],
          "choropleth": [
           {
            "colorbar": {
             "outlinewidth": 0,
             "ticks": ""
            },
            "type": "choropleth"
           }
          ],
          "contour": [
           {
            "colorbar": {
             "outlinewidth": 0,
             "ticks": ""
            },
            "colorscale": [
             [
              0.0,
              "#0d0887"
             ],
             [
              0.1111111111111111,
              "#46039f"
             ],
             [
              0.2222222222222222,
              "#7201a8"
             ],
             [
              0.3333333333333333,
              "#9c179e"
             ],
             [
              0.4444444444444444,
              "#bd3786"
             ],
             [
              0.5555555555555556,
              "#d8576b"
             ],
             [
              0.6666666666666666,
              "#ed7953"
             ],
             [
              0.7777777777777778,
              "#fb9f3a"
             ],
             [
              0.8888888888888888,
              "#fdca26"
             ],
             [
              1.0,
              "#f0f921"
             ]
            ],
            "type": "contour"
           }
          ],
          "contourcarpet": [
           {
            "colorbar": {
             "outlinewidth": 0,
             "ticks": ""
            },
            "type": "contourcarpet"
           }
          ],
          "heatmap": [
           {
            "colorbar": {
             "outlinewidth": 0,
             "ticks": ""
            },
            "colorscale": [
             [
              0.0,
              "#0d0887"
             ],
             [
              0.1111111111111111,
              "#46039f"
             ],
             [
              0.2222222222222222,
              "#7201a8"
             ],
             [
              0.3333333333333333,
              "#9c179e"
             ],
             [
              0.4444444444444444,
              "#bd3786"
             ],
             [
              0.5555555555555556,
              "#d8576b"
             ],
             [
              0.6666666666666666,
              "#ed7953"
             ],
             [
              0.7777777777777778,
              "#fb9f3a"
             ],
             [
              0.8888888888888888,
              "#fdca26"
             ],
             [
              1.0,
              "#f0f921"
             ]
            ],
            "type": "heatmap"
           }
          ],
          "heatmapgl": [
           {
            "colorbar": {
             "outlinewidth": 0,
             "ticks": ""
            },
            "colorscale": [
             [
              0.0,
              "#0d0887"
             ],
             [
              0.1111111111111111,
              "#46039f"
             ],
             [
              0.2222222222222222,
              "#7201a8"
             ],
             [
              0.3333333333333333,
              "#9c179e"
             ],
             [
              0.4444444444444444,
              "#bd3786"
             ],
             [
              0.5555555555555556,
              "#d8576b"
             ],
             [
              0.6666666666666666,
              "#ed7953"
             ],
             [
              0.7777777777777778,
              "#fb9f3a"
             ],
             [
              0.8888888888888888,
              "#fdca26"
             ],
             [
              1.0,
              "#f0f921"
             ]
            ],
            "type": "heatmapgl"
           }
          ],
          "histogram": [
           {
            "marker": {
             "colorbar": {
              "outlinewidth": 0,
              "ticks": ""
             }
            },
            "type": "histogram"
           }
          ],
          "histogram2d": [
           {
            "colorbar": {
             "outlinewidth": 0,
             "ticks": ""
            },
            "colorscale": [
             [
              0.0,
              "#0d0887"
             ],
             [
              0.1111111111111111,
              "#46039f"
             ],
             [
              0.2222222222222222,
              "#7201a8"
             ],
             [
              0.3333333333333333,
              "#9c179e"
             ],
             [
              0.4444444444444444,
              "#bd3786"
             ],
             [
              0.5555555555555556,
              "#d8576b"
             ],
             [
              0.6666666666666666,
              "#ed7953"
             ],
             [
              0.7777777777777778,
              "#fb9f3a"
             ],
             [
              0.8888888888888888,
              "#fdca26"
             ],
             [
              1.0,
              "#f0f921"
             ]
            ],
            "type": "histogram2d"
           }
          ],
          "histogram2dcontour": [
           {
            "colorbar": {
             "outlinewidth": 0,
             "ticks": ""
            },
            "colorscale": [
             [
              0.0,
              "#0d0887"
             ],
             [
              0.1111111111111111,
              "#46039f"
             ],
             [
              0.2222222222222222,
              "#7201a8"
             ],
             [
              0.3333333333333333,
              "#9c179e"
             ],
             [
              0.4444444444444444,
              "#bd3786"
             ],
             [
              0.5555555555555556,
              "#d8576b"
             ],
             [
              0.6666666666666666,
              "#ed7953"
             ],
             [
              0.7777777777777778,
              "#fb9f3a"
             ],
             [
              0.8888888888888888,
              "#fdca26"
             ],
             [
              1.0,
              "#f0f921"
             ]
            ],
            "type": "histogram2dcontour"
           }
          ],
          "mesh3d": [
           {
            "colorbar": {
             "outlinewidth": 0,
             "ticks": ""
            },
            "type": "mesh3d"
           }
          ],
          "parcoords": [
           {
            "line": {
             "colorbar": {
              "outlinewidth": 0,
              "ticks": ""
             }
            },
            "type": "parcoords"
           }
          ],
          "pie": [
           {
            "automargin": true,
            "type": "pie"
           }
          ],
          "scatter": [
           {
            "marker": {
             "colorbar": {
              "outlinewidth": 0,
              "ticks": ""
             }
            },
            "type": "scatter"
           }
          ],
          "scatter3d": [
           {
            "line": {
             "colorbar": {
              "outlinewidth": 0,
              "ticks": ""
             }
            },
            "marker": {
             "colorbar": {
              "outlinewidth": 0,
              "ticks": ""
             }
            },
            "type": "scatter3d"
           }
          ],
          "scattercarpet": [
           {
            "marker": {
             "colorbar": {
              "outlinewidth": 0,
              "ticks": ""
             }
            },
            "type": "scattercarpet"
           }
          ],
          "scattergeo": [
           {
            "marker": {
             "colorbar": {
              "outlinewidth": 0,
              "ticks": ""
             }
            },
            "type": "scattergeo"
           }
          ],
          "scattergl": [
           {
            "marker": {
             "colorbar": {
              "outlinewidth": 0,
              "ticks": ""
             }
            },
            "type": "scattergl"
           }
          ],
          "scattermapbox": [
           {
            "marker": {
             "colorbar": {
              "outlinewidth": 0,
              "ticks": ""
             }
            },
            "type": "scattermapbox"
           }
          ],
          "scatterpolar": [
           {
            "marker": {
             "colorbar": {
              "outlinewidth": 0,
              "ticks": ""
             }
            },
            "type": "scatterpolar"
           }
          ],
          "scatterpolargl": [
           {
            "marker": {
             "colorbar": {
              "outlinewidth": 0,
              "ticks": ""
             }
            },
            "type": "scatterpolargl"
           }
          ],
          "scatterternary": [
           {
            "marker": {
             "colorbar": {
              "outlinewidth": 0,
              "ticks": ""
             }
            },
            "type": "scatterternary"
           }
          ],
          "surface": [
           {
            "colorbar": {
             "outlinewidth": 0,
             "ticks": ""
            },
            "colorscale": [
             [
              0.0,
              "#0d0887"
             ],
             [
              0.1111111111111111,
              "#46039f"
             ],
             [
              0.2222222222222222,
              "#7201a8"
             ],
             [
              0.3333333333333333,
              "#9c179e"
             ],
             [
              0.4444444444444444,
              "#bd3786"
             ],
             [
              0.5555555555555556,
              "#d8576b"
             ],
             [
              0.6666666666666666,
              "#ed7953"
             ],
             [
              0.7777777777777778,
              "#fb9f3a"
             ],
             [
              0.8888888888888888,
              "#fdca26"
             ],
             [
              1.0,
              "#f0f921"
             ]
            ],
            "type": "surface"
           }
          ],
          "table": [
           {
            "cells": {
             "fill": {
              "color": "#EBF0F8"
             },
             "line": {
              "color": "white"
             }
            },
            "header": {
             "fill": {
              "color": "#C8D4E3"
             },
             "line": {
              "color": "white"
             }
            },
            "type": "table"
           }
          ]
         },
         "layout": {
          "annotationdefaults": {
           "arrowcolor": "#2a3f5f",
           "arrowhead": 0,
           "arrowwidth": 1
          },
          "coloraxis": {
           "colorbar": {
            "outlinewidth": 0,
            "ticks": ""
           }
          },
          "colorscale": {
           "diverging": [
            [
             0,
             "#8e0152"
            ],
            [
             0.1,
             "#c51b7d"
            ],
            [
             0.2,
             "#de77ae"
            ],
            [
             0.3,
             "#f1b6da"
            ],
            [
             0.4,
             "#fde0ef"
            ],
            [
             0.5,
             "#f7f7f7"
            ],
            [
             0.6,
             "#e6f5d0"
            ],
            [
             0.7,
             "#b8e186"
            ],
            [
             0.8,
             "#7fbc41"
            ],
            [
             0.9,
             "#4d9221"
            ],
            [
             1,
             "#276419"
            ]
           ],
           "sequential": [
            [
             0.0,
             "#0d0887"
            ],
            [
             0.1111111111111111,
             "#46039f"
            ],
            [
             0.2222222222222222,
             "#7201a8"
            ],
            [
             0.3333333333333333,
             "#9c179e"
            ],
            [
             0.4444444444444444,
             "#bd3786"
            ],
            [
             0.5555555555555556,
             "#d8576b"
            ],
            [
             0.6666666666666666,
             "#ed7953"
            ],
            [
             0.7777777777777778,
             "#fb9f3a"
            ],
            [
             0.8888888888888888,
             "#fdca26"
            ],
            [
             1.0,
             "#f0f921"
            ]
           ],
           "sequentialminus": [
            [
             0.0,
             "#0d0887"
            ],
            [
             0.1111111111111111,
             "#46039f"
            ],
            [
             0.2222222222222222,
             "#7201a8"
            ],
            [
             0.3333333333333333,
             "#9c179e"
            ],
            [
             0.4444444444444444,
             "#bd3786"
            ],
            [
             0.5555555555555556,
             "#d8576b"
            ],
            [
             0.6666666666666666,
             "#ed7953"
            ],
            [
             0.7777777777777778,
             "#fb9f3a"
            ],
            [
             0.8888888888888888,
             "#fdca26"
            ],
            [
             1.0,
             "#f0f921"
            ]
           ]
          },
          "colorway": [
           "#636efa",
           "#EF553B",
           "#00cc96",
           "#ab63fa",
           "#FFA15A",
           "#19d3f3",
           "#FF6692",
           "#B6E880",
           "#FF97FF",
           "#FECB52"
          ],
          "font": {
           "color": "#2a3f5f"
          },
          "geo": {
           "bgcolor": "white",
           "lakecolor": "white",
           "landcolor": "#E5ECF6",
           "showlakes": true,
           "showland": true,
           "subunitcolor": "white"
          },
          "hoverlabel": {
           "align": "left"
          },
          "hovermode": "closest",
          "mapbox": {
           "style": "light"
          },
          "paper_bgcolor": "white",
          "plot_bgcolor": "#E5ECF6",
          "polar": {
           "angularaxis": {
            "gridcolor": "white",
            "linecolor": "white",
            "ticks": ""
           },
           "bgcolor": "#E5ECF6",
           "radialaxis": {
            "gridcolor": "white",
            "linecolor": "white",
            "ticks": ""
           }
          },
          "scene": {
           "xaxis": {
            "backgroundcolor": "#E5ECF6",
            "gridcolor": "white",
            "gridwidth": 2,
            "linecolor": "white",
            "showbackground": true,
            "ticks": "",
            "zerolinecolor": "white"
           },
           "yaxis": {
            "backgroundcolor": "#E5ECF6",
            "gridcolor": "white",
            "gridwidth": 2,
            "linecolor": "white",
            "showbackground": true,
            "ticks": "",
            "zerolinecolor": "white"
           },
           "zaxis": {
            "backgroundcolor": "#E5ECF6",
            "gridcolor": "white",
            "gridwidth": 2,
            "linecolor": "white",
            "showbackground": true,
            "ticks": "",
            "zerolinecolor": "white"
           }
          },
          "shapedefaults": {
           "line": {
            "color": "#2a3f5f"
           }
          },
          "ternary": {
           "aaxis": {
            "gridcolor": "white",
            "linecolor": "white",
            "ticks": ""
           },
           "baxis": {
            "gridcolor": "white",
            "linecolor": "white",
            "ticks": ""
           },
           "bgcolor": "#E5ECF6",
           "caxis": {
            "gridcolor": "white",
            "linecolor": "white",
            "ticks": ""
           }
          },
          "title": {
           "x": 0.05
          },
          "xaxis": {
           "automargin": true,
           "gridcolor": "white",
           "linecolor": "white",
           "ticks": "",
           "title": {
            "standoff": 15
           },
           "zerolinecolor": "white",
           "zerolinewidth": 2
          },
          "yaxis": {
           "automargin": true,
           "gridcolor": "white",
           "linecolor": "white",
           "ticks": "",
           "title": {
            "standoff": 15
           },
           "zerolinecolor": "white",
           "zerolinewidth": 2
          }
         }
        },
        "title": {
         "font": {
          "color": "#4D5663"
         }
        },
        "xaxis": {
         "gridcolor": "#E1E5ED",
         "showgrid": true,
         "tickfont": {
          "color": "#4D5663"
         },
         "title": {
          "font": {
           "color": "#4D5663"
          },
          "text": ""
         },
         "zerolinecolor": "#E1E5ED"
        },
        "yaxis": {
         "gridcolor": "#E1E5ED",
         "showgrid": true,
         "tickfont": {
          "color": "#4D5663"
         },
         "title": {
          "font": {
           "color": "#4D5663"
          },
          "text": ""
         },
         "zerolinecolor": "#E1E5ED"
        }
       }
      },
      "text/html": "<div>\n        \n        \n            <div id=\"5de401ca-267f-4b1c-924c-25413e61c90c\" class=\"plotly-graph-div\" style=\"height:525px; width:100%;\"></div>\n            <script type=\"text/javascript\">\n                require([\"plotly\"], function(Plotly) {\n                    window.PLOTLYENV=window.PLOTLYENV || {};\n                    window.PLOTLYENV.BASE_URL='https://plot.ly';\n                    \n                if (document.getElementById(\"5de401ca-267f-4b1c-924c-25413e61c90c\")) {\n                    Plotly.newPlot(\n                        '5de401ca-267f-4b1c-924c-25413e61c90c',\n                        [{\"line\": {\"color\": \"rgba(255, 153, 51, 1.0)\", \"dash\": \"solid\", \"shape\": \"linear\", \"width\": 1.3}, \"marker\": {\"size\": 10, \"symbol\": \"circle\"}, \"mode\": \"markers\", \"name\": \"B\", \"text\": \"\", \"type\": \"scatter\", \"x\": [-1.4863073708975698, -2.1850824021195616, -2.960827272545752, 0.638069862685476, 0.21377793975387355, -0.8154978341789988, -1.5739883105017602, 0.4318822775286287, -1.3265888287929182, 1.259183517429503, -0.017407080654257518, -0.10281927824957425, 0.05337750178968702, -0.6292896610597629, 0.38616052190444494, -0.22605631512131022, -0.09853750276821739, -1.1066396351534582, 0.9114796019739642, 0.29518110596127883, 0.5965871078261196, -0.6190242134296731, -0.9294887399068007, 0.24055976556184552, 0.05308689523824642, -0.32226287593468833, 1.063935624998341, -0.5072921436705043, -1.5377735821424616, -0.685396102123712, -2.605179870972897, -0.014336078140034441, 0.13052624885473935, -0.3793653369458108, 0.6065077500095933, -0.763188427541439, 2.170705302187318, -0.8878237136360704, 0.30600965400701974, -1.0163183411750913, 1.0624991809215645, -0.4412390260445293, 0.3651556864264858, -1.486978745096095, 1.664516514200354, 1.1997710720009844, -2.0555831792245747, 0.9235026440401792, 0.07848950119542743, 1.3431294743521662, 3.2765097706920816, -0.4934295310273326, 0.990094748628564, 2.0134383679368852, -2.287636557492431, 0.8224077368953896, -0.3560884397513596, -1.744011177010594, -0.034766326276481054, -0.7374693628800136, -1.140617878297122, -0.28734548744461696, 0.5667681473808669, -0.9520658721364366, 0.9596448650717668, 0.3919613373221554, -0.9680655332483575, 0.42334251965705855, 1.772520654229283, 0.650698170834495, -1.1317667464189085, -1.8459395957855504, 0.8062363265030782, 0.3147212847950096, -1.057789454250701, -0.29795494761001645, 0.789773725362857, 1.083507179451289, -1.9468646653134738, -0.21824193932452937, 0.4675002253006263, 1.605648784272931, -0.8821948592590849, -1.0917912230779365, 0.06719803818297368, 0.770564006511959, 1.3408187755846943, 1.7074842570992093, 1.5703817547245793, 0.29386034266401145, -0.06716747238653473, 0.9434032958517293, -0.04607609878312643, -1.5422232108086, -0.7792537895554505, -0.3687631447341126, -0.09668785472371995, 1.067454982834531, 0.08877790370553766, 1.0971434149579615], \"y\": [0.991862700951286, 0.24950253065649877, 0.3950093976649536, 0.6188708512930853, -0.7747954695629024, -0.6999267092916548, 0.0767008924504014, 1.1329314657450371, 0.6433203381952936, 1.6131660962513228, 0.06043736850071907, 0.8713454604033425, -0.18930552552586122, 0.43833285799875565, -0.6995013195151322, -1.8064010468855245, 0.687905900643732, 1.396414503651976, -0.8072414603179552, 1.0587564990166214, -0.3796720805805881, -0.3195073545466219, -1.3298790867118577, 0.6457868122925032, -0.6441709957256099, -0.40827355746977784, -0.8355145027336962, 0.8677656888788933, -0.30118120675530397, 0.4963393424518228, 1.8997241764226496, 2.6281040905157247, 1.4377596195562439, -1.8840417497279667, -0.4534505483577321, -0.6109510793091015, 0.0151099174140034, 0.6113033544272953, -1.0671475176105258, -1.347816683912141, 0.05455733113361512, -0.4739243275402265, -0.45829014109480576, -0.726852510520777, -0.17788606157097492, -0.17897625981444226, 0.685167733415189, -1.9724384236155548, 0.7937847144227674, -1.1535059289831828, 0.5102192179387394, 0.8606104025042941, 1.795271491052051, 0.8545248489559998, 0.8939539538337453, 0.9961409783162299, -2.212550853061344, 0.7806743317887066, 1.1421746771338692, 0.2881768847509344, -0.18142864879455858, -1.196135981429346, -0.9432708001793368, -1.4910858898960022, -2.1374718013605234, 2.2207175524641616, 0.03019455031206788, 0.9877754416137221, 1.044919815072245, -0.4359856415997237, -2.556134407655902, 0.8257669498802955, -0.49672006283080633, -0.5433664670566228, -0.40402255151282734, -0.9041658119968088, 0.48220006883816724, 1.3853556377901446, 0.6436047187928708, 0.08846144335836506, -0.1682423067605211, 0.17385203610914976, -0.5620543658393782, 1.1000045334205817, 0.8449228133014679, 2.0693586894798575, 0.556074393022577, -0.09675473988838523, -1.4876250381532938, -0.49795804936956967, -2.1141074948250784, 0.6731424953480482, -0.5486912328010581, -1.9787097456859963, -0.45434678245835275, 0.5868522472967778, 0.09853414803666562, -0.49452835762931896, -2.116011155396429, -0.05396114288166204]}],\n                        {\"legend\": {\"bgcolor\": \"#F5F6F9\", \"font\": {\"color\": \"#4D5663\"}}, \"paper_bgcolor\": \"#F5F6F9\", \"plot_bgcolor\": \"#F5F6F9\", \"template\": {\"data\": {\"bar\": [{\"error_x\": {\"color\": \"#2a3f5f\"}, \"error_y\": {\"color\": \"#2a3f5f\"}, \"marker\": {\"line\": {\"color\": \"#E5ECF6\", \"width\": 0.5}}, \"type\": \"bar\"}], \"barpolar\": [{\"marker\": {\"line\": {\"color\": \"#E5ECF6\", \"width\": 0.5}}, \"type\": \"barpolar\"}], \"carpet\": [{\"aaxis\": {\"endlinecolor\": \"#2a3f5f\", \"gridcolor\": \"white\", \"linecolor\": \"white\", \"minorgridcolor\": \"white\", \"startlinecolor\": \"#2a3f5f\"}, \"baxis\": {\"endlinecolor\": \"#2a3f5f\", \"gridcolor\": \"white\", \"linecolor\": \"white\", \"minorgridcolor\": \"white\", \"startlinecolor\": \"#2a3f5f\"}, \"type\": \"carpet\"}], \"choropleth\": [{\"colorbar\": {\"outlinewidth\": 0, \"ticks\": \"\"}, \"type\": \"choropleth\"}], \"contour\": [{\"colorbar\": {\"outlinewidth\": 0, \"ticks\": \"\"}, \"colorscale\": [[0.0, \"#0d0887\"], [0.1111111111111111, \"#46039f\"], [0.2222222222222222, \"#7201a8\"], [0.3333333333333333, \"#9c179e\"], [0.4444444444444444, \"#bd3786\"], [0.5555555555555556, \"#d8576b\"], [0.6666666666666666, \"#ed7953\"], [0.7777777777777778, \"#fb9f3a\"], [0.8888888888888888, \"#fdca26\"], [1.0, \"#f0f921\"]], \"type\": \"contour\"}], \"contourcarpet\": [{\"colorbar\": {\"outlinewidth\": 0, \"ticks\": \"\"}, \"type\": \"contourcarpet\"}], \"heatmap\": [{\"colorbar\": {\"outlinewidth\": 0, \"ticks\": \"\"}, \"colorscale\": [[0.0, \"#0d0887\"], [0.1111111111111111, \"#46039f\"], [0.2222222222222222, \"#7201a8\"], [0.3333333333333333, \"#9c179e\"], [0.4444444444444444, \"#bd3786\"], [0.5555555555555556, \"#d8576b\"], [0.6666666666666666, \"#ed7953\"], [0.7777777777777778, \"#fb9f3a\"], [0.8888888888888888, \"#fdca26\"], [1.0, \"#f0f921\"]], \"type\": \"heatmap\"}], \"heatmapgl\": [{\"colorbar\": {\"outlinewidth\": 0, \"ticks\": \"\"}, \"colorscale\": [[0.0, \"#0d0887\"], [0.1111111111111111, \"#46039f\"], [0.2222222222222222, \"#7201a8\"], [0.3333333333333333, \"#9c179e\"], [0.4444444444444444, \"#bd3786\"], [0.5555555555555556, \"#d8576b\"], [0.6666666666666666, \"#ed7953\"], [0.7777777777777778, \"#fb9f3a\"], [0.8888888888888888, \"#fdca26\"], [1.0, \"#f0f921\"]], \"type\": \"heatmapgl\"}], \"histogram\": [{\"marker\": {\"colorbar\": {\"outlinewidth\": 0, \"ticks\": \"\"}}, \"type\": \"histogram\"}], \"histogram2d\": [{\"colorbar\": {\"outlinewidth\": 0, \"ticks\": \"\"}, \"colorscale\": [[0.0, \"#0d0887\"], [0.1111111111111111, \"#46039f\"], [0.2222222222222222, \"#7201a8\"], [0.3333333333333333, \"#9c179e\"], [0.4444444444444444, \"#bd3786\"], [0.5555555555555556, \"#d8576b\"], [0.6666666666666666, \"#ed7953\"], [0.7777777777777778, \"#fb9f3a\"], [0.8888888888888888, \"#fdca26\"], [1.0, \"#f0f921\"]], \"type\": \"histogram2d\"}], \"histogram2dcontour\": [{\"colorbar\": {\"outlinewidth\": 0, \"ticks\": \"\"}, \"colorscale\": [[0.0, \"#0d0887\"], [0.1111111111111111, \"#46039f\"], [0.2222222222222222, \"#7201a8\"], [0.3333333333333333, \"#9c179e\"], [0.4444444444444444, \"#bd3786\"], [0.5555555555555556, \"#d8576b\"], [0.6666666666666666, \"#ed7953\"], [0.7777777777777778, \"#fb9f3a\"], [0.8888888888888888, \"#fdca26\"], [1.0, \"#f0f921\"]], \"type\": \"histogram2dcontour\"}], \"mesh3d\": [{\"colorbar\": {\"outlinewidth\": 0, \"ticks\": \"\"}, \"type\": \"mesh3d\"}], \"parcoords\": [{\"line\": {\"colorbar\": {\"outlinewidth\": 0, \"ticks\": \"\"}}, \"type\": \"parcoords\"}], \"pie\": [{\"automargin\": true, \"type\": \"pie\"}], \"scatter\": [{\"marker\": {\"colorbar\": {\"outlinewidth\": 0, \"ticks\": \"\"}}, \"type\": \"scatter\"}], \"scatter3d\": [{\"line\": {\"colorbar\": {\"outlinewidth\": 0, \"ticks\": \"\"}}, \"marker\": {\"colorbar\": {\"outlinewidth\": 0, \"ticks\": \"\"}}, \"type\": \"scatter3d\"}], \"scattercarpet\": [{\"marker\": {\"colorbar\": {\"outlinewidth\": 0, \"ticks\": \"\"}}, \"type\": \"scattercarpet\"}], \"scattergeo\": [{\"marker\": {\"colorbar\": {\"outlinewidth\": 0, \"ticks\": \"\"}}, \"type\": \"scattergeo\"}], \"scattergl\": [{\"marker\": {\"colorbar\": {\"outlinewidth\": 0, \"ticks\": \"\"}}, \"type\": \"scattergl\"}], \"scattermapbox\": [{\"marker\": {\"colorbar\": {\"outlinewidth\": 0, \"ticks\": \"\"}}, \"type\": \"scattermapbox\"}], \"scatterpolar\": [{\"marker\": {\"colorbar\": {\"outlinewidth\": 0, \"ticks\": \"\"}}, \"type\": \"scatterpolar\"}], \"scatterpolargl\": [{\"marker\": {\"colorbar\": {\"outlinewidth\": 0, \"ticks\": \"\"}}, \"type\": \"scatterpolargl\"}], \"scatterternary\": [{\"marker\": {\"colorbar\": {\"outlinewidth\": 0, \"ticks\": \"\"}}, \"type\": \"scatterternary\"}], \"surface\": [{\"colorbar\": {\"outlinewidth\": 0, \"ticks\": \"\"}, \"colorscale\": [[0.0, \"#0d0887\"], [0.1111111111111111, \"#46039f\"], [0.2222222222222222, \"#7201a8\"], [0.3333333333333333, \"#9c179e\"], [0.4444444444444444, \"#bd3786\"], [0.5555555555555556, \"#d8576b\"], [0.6666666666666666, \"#ed7953\"], [0.7777777777777778, \"#fb9f3a\"], [0.8888888888888888, \"#fdca26\"], [1.0, \"#f0f921\"]], \"type\": \"surface\"}], \"table\": [{\"cells\": {\"fill\": {\"color\": \"#EBF0F8\"}, \"line\": {\"color\": \"white\"}}, \"header\": {\"fill\": {\"color\": \"#C8D4E3\"}, \"line\": {\"color\": \"white\"}}, \"type\": \"table\"}]}, \"layout\": {\"annotationdefaults\": {\"arrowcolor\": \"#2a3f5f\", \"arrowhead\": 0, \"arrowwidth\": 1}, \"coloraxis\": {\"colorbar\": {\"outlinewidth\": 0, \"ticks\": \"\"}}, \"colorscale\": {\"diverging\": [[0, \"#8e0152\"], [0.1, \"#c51b7d\"], [0.2, \"#de77ae\"], [0.3, \"#f1b6da\"], [0.4, \"#fde0ef\"], [0.5, \"#f7f7f7\"], [0.6, \"#e6f5d0\"], [0.7, \"#b8e186\"], [0.8, \"#7fbc41\"], [0.9, \"#4d9221\"], [1, \"#276419\"]], \"sequential\": [[0.0, \"#0d0887\"], [0.1111111111111111, \"#46039f\"], [0.2222222222222222, \"#7201a8\"], [0.3333333333333333, \"#9c179e\"], [0.4444444444444444, \"#bd3786\"], [0.5555555555555556, \"#d8576b\"], [0.6666666666666666, \"#ed7953\"], [0.7777777777777778, \"#fb9f3a\"], [0.8888888888888888, \"#fdca26\"], [1.0, \"#f0f921\"]], \"sequentialminus\": [[0.0, \"#0d0887\"], [0.1111111111111111, \"#46039f\"], [0.2222222222222222, \"#7201a8\"], [0.3333333333333333, \"#9c179e\"], [0.4444444444444444, \"#bd3786\"], [0.5555555555555556, \"#d8576b\"], [0.6666666666666666, \"#ed7953\"], [0.7777777777777778, \"#fb9f3a\"], [0.8888888888888888, \"#fdca26\"], [1.0, \"#f0f921\"]]}, \"colorway\": [\"#636efa\", \"#EF553B\", \"#00cc96\", \"#ab63fa\", \"#FFA15A\", \"#19d3f3\", \"#FF6692\", \"#B6E880\", \"#FF97FF\", \"#FECB52\"], \"font\": {\"color\": \"#2a3f5f\"}, \"geo\": {\"bgcolor\": \"white\", \"lakecolor\": \"white\", \"landcolor\": \"#E5ECF6\", \"showlakes\": true, \"showland\": true, \"subunitcolor\": \"white\"}, \"hoverlabel\": {\"align\": \"left\"}, \"hovermode\": \"closest\", \"mapbox\": {\"style\": \"light\"}, \"paper_bgcolor\": \"white\", \"plot_bgcolor\": \"#E5ECF6\", \"polar\": {\"angularaxis\": {\"gridcolor\": \"white\", \"linecolor\": \"white\", \"ticks\": \"\"}, \"bgcolor\": \"#E5ECF6\", \"radialaxis\": {\"gridcolor\": \"white\", \"linecolor\": \"white\", \"ticks\": \"\"}}, \"scene\": {\"xaxis\": {\"backgroundcolor\": \"#E5ECF6\", \"gridcolor\": \"white\", \"gridwidth\": 2, \"linecolor\": \"white\", \"showbackground\": true, \"ticks\": \"\", \"zerolinecolor\": \"white\"}, \"yaxis\": {\"backgroundcolor\": \"#E5ECF6\", \"gridcolor\": \"white\", \"gridwidth\": 2, \"linecolor\": \"white\", \"showbackground\": true, \"ticks\": \"\", \"zerolinecolor\": \"white\"}, \"zaxis\": {\"backgroundcolor\": \"#E5ECF6\", \"gridcolor\": \"white\", \"gridwidth\": 2, \"linecolor\": \"white\", \"showbackground\": true, \"ticks\": \"\", \"zerolinecolor\": \"white\"}}, \"shapedefaults\": {\"line\": {\"color\": \"#2a3f5f\"}}, \"ternary\": {\"aaxis\": {\"gridcolor\": \"white\", \"linecolor\": \"white\", \"ticks\": \"\"}, \"baxis\": {\"gridcolor\": \"white\", \"linecolor\": \"white\", \"ticks\": \"\"}, \"bgcolor\": \"#E5ECF6\", \"caxis\": {\"gridcolor\": \"white\", \"linecolor\": \"white\", \"ticks\": \"\"}}, \"title\": {\"x\": 0.05}, \"xaxis\": {\"automargin\": true, \"gridcolor\": \"white\", \"linecolor\": \"white\", \"ticks\": \"\", \"title\": {\"standoff\": 15}, \"zerolinecolor\": \"white\", \"zerolinewidth\": 2}, \"yaxis\": {\"automargin\": true, \"gridcolor\": \"white\", \"linecolor\": \"white\", \"ticks\": \"\", \"title\": {\"standoff\": 15}, \"zerolinecolor\": \"white\", \"zerolinewidth\": 2}}}, \"title\": {\"font\": {\"color\": \"#4D5663\"}}, \"xaxis\": {\"gridcolor\": \"#E1E5ED\", \"showgrid\": true, \"tickfont\": {\"color\": \"#4D5663\"}, \"title\": {\"font\": {\"color\": \"#4D5663\"}, \"text\": \"\"}, \"zerolinecolor\": \"#E1E5ED\"}, \"yaxis\": {\"gridcolor\": \"#E1E5ED\", \"showgrid\": true, \"tickfont\": {\"color\": \"#4D5663\"}, \"title\": {\"font\": {\"color\": \"#4D5663\"}, \"text\": \"\"}, \"zerolinecolor\": \"#E1E5ED\"}},\n                        {\"showLink\": true, \"linkText\": \"Export to plot.ly\", \"plotlyServerURL\": \"https://plot.ly\", \"responsive\": true}\n                    ).then(function(){\n                            \nvar gd = document.getElementById('5de401ca-267f-4b1c-924c-25413e61c90c');\nvar x = new MutationObserver(function (mutations, observer) {{\n        var display = window.getComputedStyle(gd).display;\n        if (!display || display === 'none') {{\n            console.log([gd, 'removed!']);\n            Plotly.purge(gd);\n            observer.disconnect();\n        }}\n}});\n\n// Listen for the removal of the full notebook cells\nvar notebookContainer = gd.closest('#notebook-container');\nif (notebookContainer) {{\n    x.observe(notebookContainer, {childList: true});\n}}\n\n// Listen for the clearing of the current output cell\nvar outputEl = gd.closest('.output');\nif (outputEl) {{\n    x.observe(outputEl, {childList: true});\n}}\n\n                        })\n                };\n                });\n            </script>\n        </div>"
     },
     "metadata": {},
     "output_type": "display_data"
    }
   ],
   "source": [
    "df.iplot(kind='scatter', x='A', y='B', mode='markers', size=10)"
   ]
  },
  {
   "cell_type": "markdown",
   "metadata": {
    "pycharm": {
     "name": "#%% md\n"
    }
   },
   "source": [
    "### Столбчатая диаграмма"
   ]
  },
  {
   "cell_type": "code",
   "execution_count": 9,
   "metadata": {
    "pycharm": {
     "is_executing": false,
     "name": "#%%\n"
    }
   },
   "outputs": [
    {
     "data": {
      "application/vnd.plotly.v1+json": {
       "config": {
        "linkText": "Export to plot.ly",
        "plotlyServerURL": "https://plot.ly",
        "showLink": true
       },
       "data": [
        {
         "marker": {
          "color": "rgba(255, 153, 51, 0.6)",
          "line": {
           "color": "rgba(255, 153, 51, 1.0)",
           "width": 1
          }
         },
         "name": "Values",
         "orientation": "v",
         "text": "",
         "type": "bar",
         "x": [
          "A",
          "B",
          "C"
         ],
         "y": [
          32,
          43,
          50
         ]
        }
       ],
       "layout": {
        "legend": {
         "bgcolor": "#F5F6F9",
         "font": {
          "color": "#4D5663"
         }
        },
        "paper_bgcolor": "#F5F6F9",
        "plot_bgcolor": "#F5F6F9",
        "template": {
         "data": {
          "bar": [
           {
            "error_x": {
             "color": "#2a3f5f"
            },
            "error_y": {
             "color": "#2a3f5f"
            },
            "marker": {
             "line": {
              "color": "#E5ECF6",
              "width": 0.5
             }
            },
            "type": "bar"
           }
          ],
          "barpolar": [
           {
            "marker": {
             "line": {
              "color": "#E5ECF6",
              "width": 0.5
             }
            },
            "type": "barpolar"
           }
          ],
          "carpet": [
           {
            "aaxis": {
             "endlinecolor": "#2a3f5f",
             "gridcolor": "white",
             "linecolor": "white",
             "minorgridcolor": "white",
             "startlinecolor": "#2a3f5f"
            },
            "baxis": {
             "endlinecolor": "#2a3f5f",
             "gridcolor": "white",
             "linecolor": "white",
             "minorgridcolor": "white",
             "startlinecolor": "#2a3f5f"
            },
            "type": "carpet"
           }
          ],
          "choropleth": [
           {
            "colorbar": {
             "outlinewidth": 0,
             "ticks": ""
            },
            "type": "choropleth"
           }
          ],
          "contour": [
           {
            "colorbar": {
             "outlinewidth": 0,
             "ticks": ""
            },
            "colorscale": [
             [
              0.0,
              "#0d0887"
             ],
             [
              0.1111111111111111,
              "#46039f"
             ],
             [
              0.2222222222222222,
              "#7201a8"
             ],
             [
              0.3333333333333333,
              "#9c179e"
             ],
             [
              0.4444444444444444,
              "#bd3786"
             ],
             [
              0.5555555555555556,
              "#d8576b"
             ],
             [
              0.6666666666666666,
              "#ed7953"
             ],
             [
              0.7777777777777778,
              "#fb9f3a"
             ],
             [
              0.8888888888888888,
              "#fdca26"
             ],
             [
              1.0,
              "#f0f921"
             ]
            ],
            "type": "contour"
           }
          ],
          "contourcarpet": [
           {
            "colorbar": {
             "outlinewidth": 0,
             "ticks": ""
            },
            "type": "contourcarpet"
           }
          ],
          "heatmap": [
           {
            "colorbar": {
             "outlinewidth": 0,
             "ticks": ""
            },
            "colorscale": [
             [
              0.0,
              "#0d0887"
             ],
             [
              0.1111111111111111,
              "#46039f"
             ],
             [
              0.2222222222222222,
              "#7201a8"
             ],
             [
              0.3333333333333333,
              "#9c179e"
             ],
             [
              0.4444444444444444,
              "#bd3786"
             ],
             [
              0.5555555555555556,
              "#d8576b"
             ],
             [
              0.6666666666666666,
              "#ed7953"
             ],
             [
              0.7777777777777778,
              "#fb9f3a"
             ],
             [
              0.8888888888888888,
              "#fdca26"
             ],
             [
              1.0,
              "#f0f921"
             ]
            ],
            "type": "heatmap"
           }
          ],
          "heatmapgl": [
           {
            "colorbar": {
             "outlinewidth": 0,
             "ticks": ""
            },
            "colorscale": [
             [
              0.0,
              "#0d0887"
             ],
             [
              0.1111111111111111,
              "#46039f"
             ],
             [
              0.2222222222222222,
              "#7201a8"
             ],
             [
              0.3333333333333333,
              "#9c179e"
             ],
             [
              0.4444444444444444,
              "#bd3786"
             ],
             [
              0.5555555555555556,
              "#d8576b"
             ],
             [
              0.6666666666666666,
              "#ed7953"
             ],
             [
              0.7777777777777778,
              "#fb9f3a"
             ],
             [
              0.8888888888888888,
              "#fdca26"
             ],
             [
              1.0,
              "#f0f921"
             ]
            ],
            "type": "heatmapgl"
           }
          ],
          "histogram": [
           {
            "marker": {
             "colorbar": {
              "outlinewidth": 0,
              "ticks": ""
             }
            },
            "type": "histogram"
           }
          ],
          "histogram2d": [
           {
            "colorbar": {
             "outlinewidth": 0,
             "ticks": ""
            },
            "colorscale": [
             [
              0.0,
              "#0d0887"
             ],
             [
              0.1111111111111111,
              "#46039f"
             ],
             [
              0.2222222222222222,
              "#7201a8"
             ],
             [
              0.3333333333333333,
              "#9c179e"
             ],
             [
              0.4444444444444444,
              "#bd3786"
             ],
             [
              0.5555555555555556,
              "#d8576b"
             ],
             [
              0.6666666666666666,
              "#ed7953"
             ],
             [
              0.7777777777777778,
              "#fb9f3a"
             ],
             [
              0.8888888888888888,
              "#fdca26"
             ],
             [
              1.0,
              "#f0f921"
             ]
            ],
            "type": "histogram2d"
           }
          ],
          "histogram2dcontour": [
           {
            "colorbar": {
             "outlinewidth": 0,
             "ticks": ""
            },
            "colorscale": [
             [
              0.0,
              "#0d0887"
             ],
             [
              0.1111111111111111,
              "#46039f"
             ],
             [
              0.2222222222222222,
              "#7201a8"
             ],
             [
              0.3333333333333333,
              "#9c179e"
             ],
             [
              0.4444444444444444,
              "#bd3786"
             ],
             [
              0.5555555555555556,
              "#d8576b"
             ],
             [
              0.6666666666666666,
              "#ed7953"
             ],
             [
              0.7777777777777778,
              "#fb9f3a"
             ],
             [
              0.8888888888888888,
              "#fdca26"
             ],
             [
              1.0,
              "#f0f921"
             ]
            ],
            "type": "histogram2dcontour"
           }
          ],
          "mesh3d": [
           {
            "colorbar": {
             "outlinewidth": 0,
             "ticks": ""
            },
            "type": "mesh3d"
           }
          ],
          "parcoords": [
           {
            "line": {
             "colorbar": {
              "outlinewidth": 0,
              "ticks": ""
             }
            },
            "type": "parcoords"
           }
          ],
          "pie": [
           {
            "automargin": true,
            "type": "pie"
           }
          ],
          "scatter": [
           {
            "marker": {
             "colorbar": {
              "outlinewidth": 0,
              "ticks": ""
             }
            },
            "type": "scatter"
           }
          ],
          "scatter3d": [
           {
            "line": {
             "colorbar": {
              "outlinewidth": 0,
              "ticks": ""
             }
            },
            "marker": {
             "colorbar": {
              "outlinewidth": 0,
              "ticks": ""
             }
            },
            "type": "scatter3d"
           }
          ],
          "scattercarpet": [
           {
            "marker": {
             "colorbar": {
              "outlinewidth": 0,
              "ticks": ""
             }
            },
            "type": "scattercarpet"
           }
          ],
          "scattergeo": [
           {
            "marker": {
             "colorbar": {
              "outlinewidth": 0,
              "ticks": ""
             }
            },
            "type": "scattergeo"
           }
          ],
          "scattergl": [
           {
            "marker": {
             "colorbar": {
              "outlinewidth": 0,
              "ticks": ""
             }
            },
            "type": "scattergl"
           }
          ],
          "scattermapbox": [
           {
            "marker": {
             "colorbar": {
              "outlinewidth": 0,
              "ticks": ""
             }
            },
            "type": "scattermapbox"
           }
          ],
          "scatterpolar": [
           {
            "marker": {
             "colorbar": {
              "outlinewidth": 0,
              "ticks": ""
             }
            },
            "type": "scatterpolar"
           }
          ],
          "scatterpolargl": [
           {
            "marker": {
             "colorbar": {
              "outlinewidth": 0,
              "ticks": ""
             }
            },
            "type": "scatterpolargl"
           }
          ],
          "scatterternary": [
           {
            "marker": {
             "colorbar": {
              "outlinewidth": 0,
              "ticks": ""
             }
            },
            "type": "scatterternary"
           }
          ],
          "surface": [
           {
            "colorbar": {
             "outlinewidth": 0,
             "ticks": ""
            },
            "colorscale": [
             [
              0.0,
              "#0d0887"
             ],
             [
              0.1111111111111111,
              "#46039f"
             ],
             [
              0.2222222222222222,
              "#7201a8"
             ],
             [
              0.3333333333333333,
              "#9c179e"
             ],
             [
              0.4444444444444444,
              "#bd3786"
             ],
             [
              0.5555555555555556,
              "#d8576b"
             ],
             [
              0.6666666666666666,
              "#ed7953"
             ],
             [
              0.7777777777777778,
              "#fb9f3a"
             ],
             [
              0.8888888888888888,
              "#fdca26"
             ],
             [
              1.0,
              "#f0f921"
             ]
            ],
            "type": "surface"
           }
          ],
          "table": [
           {
            "cells": {
             "fill": {
              "color": "#EBF0F8"
             },
             "line": {
              "color": "white"
             }
            },
            "header": {
             "fill": {
              "color": "#C8D4E3"
             },
             "line": {
              "color": "white"
             }
            },
            "type": "table"
           }
          ]
         },
         "layout": {
          "annotationdefaults": {
           "arrowcolor": "#2a3f5f",
           "arrowhead": 0,
           "arrowwidth": 1
          },
          "coloraxis": {
           "colorbar": {
            "outlinewidth": 0,
            "ticks": ""
           }
          },
          "colorscale": {
           "diverging": [
            [
             0,
             "#8e0152"
            ],
            [
             0.1,
             "#c51b7d"
            ],
            [
             0.2,
             "#de77ae"
            ],
            [
             0.3,
             "#f1b6da"
            ],
            [
             0.4,
             "#fde0ef"
            ],
            [
             0.5,
             "#f7f7f7"
            ],
            [
             0.6,
             "#e6f5d0"
            ],
            [
             0.7,
             "#b8e186"
            ],
            [
             0.8,
             "#7fbc41"
            ],
            [
             0.9,
             "#4d9221"
            ],
            [
             1,
             "#276419"
            ]
           ],
           "sequential": [
            [
             0.0,
             "#0d0887"
            ],
            [
             0.1111111111111111,
             "#46039f"
            ],
            [
             0.2222222222222222,
             "#7201a8"
            ],
            [
             0.3333333333333333,
             "#9c179e"
            ],
            [
             0.4444444444444444,
             "#bd3786"
            ],
            [
             0.5555555555555556,
             "#d8576b"
            ],
            [
             0.6666666666666666,
             "#ed7953"
            ],
            [
             0.7777777777777778,
             "#fb9f3a"
            ],
            [
             0.8888888888888888,
             "#fdca26"
            ],
            [
             1.0,
             "#f0f921"
            ]
           ],
           "sequentialminus": [
            [
             0.0,
             "#0d0887"
            ],
            [
             0.1111111111111111,
             "#46039f"
            ],
            [
             0.2222222222222222,
             "#7201a8"
            ],
            [
             0.3333333333333333,
             "#9c179e"
            ],
            [
             0.4444444444444444,
             "#bd3786"
            ],
            [
             0.5555555555555556,
             "#d8576b"
            ],
            [
             0.6666666666666666,
             "#ed7953"
            ],
            [
             0.7777777777777778,
             "#fb9f3a"
            ],
            [
             0.8888888888888888,
             "#fdca26"
            ],
            [
             1.0,
             "#f0f921"
            ]
           ]
          },
          "colorway": [
           "#636efa",
           "#EF553B",
           "#00cc96",
           "#ab63fa",
           "#FFA15A",
           "#19d3f3",
           "#FF6692",
           "#B6E880",
           "#FF97FF",
           "#FECB52"
          ],
          "font": {
           "color": "#2a3f5f"
          },
          "geo": {
           "bgcolor": "white",
           "lakecolor": "white",
           "landcolor": "#E5ECF6",
           "showlakes": true,
           "showland": true,
           "subunitcolor": "white"
          },
          "hoverlabel": {
           "align": "left"
          },
          "hovermode": "closest",
          "mapbox": {
           "style": "light"
          },
          "paper_bgcolor": "white",
          "plot_bgcolor": "#E5ECF6",
          "polar": {
           "angularaxis": {
            "gridcolor": "white",
            "linecolor": "white",
            "ticks": ""
           },
           "bgcolor": "#E5ECF6",
           "radialaxis": {
            "gridcolor": "white",
            "linecolor": "white",
            "ticks": ""
           }
          },
          "scene": {
           "xaxis": {
            "backgroundcolor": "#E5ECF6",
            "gridcolor": "white",
            "gridwidth": 2,
            "linecolor": "white",
            "showbackground": true,
            "ticks": "",
            "zerolinecolor": "white"
           },
           "yaxis": {
            "backgroundcolor": "#E5ECF6",
            "gridcolor": "white",
            "gridwidth": 2,
            "linecolor": "white",
            "showbackground": true,
            "ticks": "",
            "zerolinecolor": "white"
           },
           "zaxis": {
            "backgroundcolor": "#E5ECF6",
            "gridcolor": "white",
            "gridwidth": 2,
            "linecolor": "white",
            "showbackground": true,
            "ticks": "",
            "zerolinecolor": "white"
           }
          },
          "shapedefaults": {
           "line": {
            "color": "#2a3f5f"
           }
          },
          "ternary": {
           "aaxis": {
            "gridcolor": "white",
            "linecolor": "white",
            "ticks": ""
           },
           "baxis": {
            "gridcolor": "white",
            "linecolor": "white",
            "ticks": ""
           },
           "bgcolor": "#E5ECF6",
           "caxis": {
            "gridcolor": "white",
            "linecolor": "white",
            "ticks": ""
           }
          },
          "title": {
           "x": 0.05
          },
          "xaxis": {
           "automargin": true,
           "gridcolor": "white",
           "linecolor": "white",
           "ticks": "",
           "title": {
            "standoff": 15
           },
           "zerolinecolor": "white",
           "zerolinewidth": 2
          },
          "yaxis": {
           "automargin": true,
           "gridcolor": "white",
           "linecolor": "white",
           "ticks": "",
           "title": {
            "standoff": 15
           },
           "zerolinecolor": "white",
           "zerolinewidth": 2
          }
         }
        },
        "title": {
         "font": {
          "color": "#4D5663"
         }
        },
        "xaxis": {
         "gridcolor": "#E1E5ED",
         "showgrid": true,
         "tickfont": {
          "color": "#4D5663"
         },
         "title": {
          "font": {
           "color": "#4D5663"
          },
          "text": ""
         },
         "zerolinecolor": "#E1E5ED"
        },
        "yaxis": {
         "gridcolor": "#E1E5ED",
         "showgrid": true,
         "tickfont": {
          "color": "#4D5663"
         },
         "title": {
          "font": {
           "color": "#4D5663"
          },
          "text": ""
         },
         "zerolinecolor": "#E1E5ED"
        }
       }
      },
      "text/html": "<div>\n        \n        \n            <div id=\"635c55d6-0b92-418a-aabe-7fab7b4f70a5\" class=\"plotly-graph-div\" style=\"height:525px; width:100%;\"></div>\n            <script type=\"text/javascript\">\n                require([\"plotly\"], function(Plotly) {\n                    window.PLOTLYENV=window.PLOTLYENV || {};\n                    window.PLOTLYENV.BASE_URL='https://plot.ly';\n                    \n                if (document.getElementById(\"635c55d6-0b92-418a-aabe-7fab7b4f70a5\")) {\n                    Plotly.newPlot(\n                        '635c55d6-0b92-418a-aabe-7fab7b4f70a5',\n                        [{\"marker\": {\"color\": \"rgba(255, 153, 51, 0.6)\", \"line\": {\"color\": \"rgba(255, 153, 51, 1.0)\", \"width\": 1}}, \"name\": \"Values\", \"orientation\": \"v\", \"text\": \"\", \"type\": \"bar\", \"x\": [\"A\", \"B\", \"C\"], \"y\": [32, 43, 50]}],\n                        {\"legend\": {\"bgcolor\": \"#F5F6F9\", \"font\": {\"color\": \"#4D5663\"}}, \"paper_bgcolor\": \"#F5F6F9\", \"plot_bgcolor\": \"#F5F6F9\", \"template\": {\"data\": {\"bar\": [{\"error_x\": {\"color\": \"#2a3f5f\"}, \"error_y\": {\"color\": \"#2a3f5f\"}, \"marker\": {\"line\": {\"color\": \"#E5ECF6\", \"width\": 0.5}}, \"type\": \"bar\"}], \"barpolar\": [{\"marker\": {\"line\": {\"color\": \"#E5ECF6\", \"width\": 0.5}}, \"type\": \"barpolar\"}], \"carpet\": [{\"aaxis\": {\"endlinecolor\": \"#2a3f5f\", \"gridcolor\": \"white\", \"linecolor\": \"white\", \"minorgridcolor\": \"white\", \"startlinecolor\": \"#2a3f5f\"}, \"baxis\": {\"endlinecolor\": \"#2a3f5f\", \"gridcolor\": \"white\", \"linecolor\": \"white\", \"minorgridcolor\": \"white\", \"startlinecolor\": \"#2a3f5f\"}, \"type\": \"carpet\"}], \"choropleth\": [{\"colorbar\": {\"outlinewidth\": 0, \"ticks\": \"\"}, \"type\": \"choropleth\"}], \"contour\": [{\"colorbar\": {\"outlinewidth\": 0, \"ticks\": \"\"}, \"colorscale\": [[0.0, \"#0d0887\"], [0.1111111111111111, \"#46039f\"], [0.2222222222222222, \"#7201a8\"], [0.3333333333333333, \"#9c179e\"], [0.4444444444444444, \"#bd3786\"], [0.5555555555555556, \"#d8576b\"], [0.6666666666666666, \"#ed7953\"], [0.7777777777777778, \"#fb9f3a\"], [0.8888888888888888, \"#fdca26\"], [1.0, \"#f0f921\"]], \"type\": \"contour\"}], \"contourcarpet\": [{\"colorbar\": {\"outlinewidth\": 0, \"ticks\": \"\"}, \"type\": \"contourcarpet\"}], \"heatmap\": [{\"colorbar\": {\"outlinewidth\": 0, \"ticks\": \"\"}, \"colorscale\": [[0.0, \"#0d0887\"], [0.1111111111111111, \"#46039f\"], [0.2222222222222222, \"#7201a8\"], [0.3333333333333333, \"#9c179e\"], [0.4444444444444444, \"#bd3786\"], [0.5555555555555556, \"#d8576b\"], [0.6666666666666666, \"#ed7953\"], [0.7777777777777778, \"#fb9f3a\"], [0.8888888888888888, \"#fdca26\"], [1.0, \"#f0f921\"]], \"type\": \"heatmap\"}], \"heatmapgl\": [{\"colorbar\": {\"outlinewidth\": 0, \"ticks\": \"\"}, \"colorscale\": [[0.0, \"#0d0887\"], [0.1111111111111111, \"#46039f\"], [0.2222222222222222, \"#7201a8\"], [0.3333333333333333, \"#9c179e\"], [0.4444444444444444, \"#bd3786\"], [0.5555555555555556, \"#d8576b\"], [0.6666666666666666, \"#ed7953\"], [0.7777777777777778, \"#fb9f3a\"], [0.8888888888888888, \"#fdca26\"], [1.0, \"#f0f921\"]], \"type\": \"heatmapgl\"}], \"histogram\": [{\"marker\": {\"colorbar\": {\"outlinewidth\": 0, \"ticks\": \"\"}}, \"type\": \"histogram\"}], \"histogram2d\": [{\"colorbar\": {\"outlinewidth\": 0, \"ticks\": \"\"}, \"colorscale\": [[0.0, \"#0d0887\"], [0.1111111111111111, \"#46039f\"], [0.2222222222222222, \"#7201a8\"], [0.3333333333333333, \"#9c179e\"], [0.4444444444444444, \"#bd3786\"], [0.5555555555555556, \"#d8576b\"], [0.6666666666666666, \"#ed7953\"], [0.7777777777777778, \"#fb9f3a\"], [0.8888888888888888, \"#fdca26\"], [1.0, \"#f0f921\"]], \"type\": \"histogram2d\"}], \"histogram2dcontour\": [{\"colorbar\": {\"outlinewidth\": 0, \"ticks\": \"\"}, \"colorscale\": [[0.0, \"#0d0887\"], [0.1111111111111111, \"#46039f\"], [0.2222222222222222, \"#7201a8\"], [0.3333333333333333, \"#9c179e\"], [0.4444444444444444, \"#bd3786\"], [0.5555555555555556, \"#d8576b\"], [0.6666666666666666, \"#ed7953\"], [0.7777777777777778, \"#fb9f3a\"], [0.8888888888888888, \"#fdca26\"], [1.0, \"#f0f921\"]], \"type\": \"histogram2dcontour\"}], \"mesh3d\": [{\"colorbar\": {\"outlinewidth\": 0, \"ticks\": \"\"}, \"type\": \"mesh3d\"}], \"parcoords\": [{\"line\": {\"colorbar\": {\"outlinewidth\": 0, \"ticks\": \"\"}}, \"type\": \"parcoords\"}], \"pie\": [{\"automargin\": true, \"type\": \"pie\"}], \"scatter\": [{\"marker\": {\"colorbar\": {\"outlinewidth\": 0, \"ticks\": \"\"}}, \"type\": \"scatter\"}], \"scatter3d\": [{\"line\": {\"colorbar\": {\"outlinewidth\": 0, \"ticks\": \"\"}}, \"marker\": {\"colorbar\": {\"outlinewidth\": 0, \"ticks\": \"\"}}, \"type\": \"scatter3d\"}], \"scattercarpet\": [{\"marker\": {\"colorbar\": {\"outlinewidth\": 0, \"ticks\": \"\"}}, \"type\": \"scattercarpet\"}], \"scattergeo\": [{\"marker\": {\"colorbar\": {\"outlinewidth\": 0, \"ticks\": \"\"}}, \"type\": \"scattergeo\"}], \"scattergl\": [{\"marker\": {\"colorbar\": {\"outlinewidth\": 0, \"ticks\": \"\"}}, \"type\": \"scattergl\"}], \"scattermapbox\": [{\"marker\": {\"colorbar\": {\"outlinewidth\": 0, \"ticks\": \"\"}}, \"type\": \"scattermapbox\"}], \"scatterpolar\": [{\"marker\": {\"colorbar\": {\"outlinewidth\": 0, \"ticks\": \"\"}}, \"type\": \"scatterpolar\"}], \"scatterpolargl\": [{\"marker\": {\"colorbar\": {\"outlinewidth\": 0, \"ticks\": \"\"}}, \"type\": \"scatterpolargl\"}], \"scatterternary\": [{\"marker\": {\"colorbar\": {\"outlinewidth\": 0, \"ticks\": \"\"}}, \"type\": \"scatterternary\"}], \"surface\": [{\"colorbar\": {\"outlinewidth\": 0, \"ticks\": \"\"}, \"colorscale\": [[0.0, \"#0d0887\"], [0.1111111111111111, \"#46039f\"], [0.2222222222222222, \"#7201a8\"], [0.3333333333333333, \"#9c179e\"], [0.4444444444444444, \"#bd3786\"], [0.5555555555555556, \"#d8576b\"], [0.6666666666666666, \"#ed7953\"], [0.7777777777777778, \"#fb9f3a\"], [0.8888888888888888, \"#fdca26\"], [1.0, \"#f0f921\"]], \"type\": \"surface\"}], \"table\": [{\"cells\": {\"fill\": {\"color\": \"#EBF0F8\"}, \"line\": {\"color\": \"white\"}}, \"header\": {\"fill\": {\"color\": \"#C8D4E3\"}, \"line\": {\"color\": \"white\"}}, \"type\": \"table\"}]}, \"layout\": {\"annotationdefaults\": {\"arrowcolor\": \"#2a3f5f\", \"arrowhead\": 0, \"arrowwidth\": 1}, \"coloraxis\": {\"colorbar\": {\"outlinewidth\": 0, \"ticks\": \"\"}}, \"colorscale\": {\"diverging\": [[0, \"#8e0152\"], [0.1, \"#c51b7d\"], [0.2, \"#de77ae\"], [0.3, \"#f1b6da\"], [0.4, \"#fde0ef\"], [0.5, \"#f7f7f7\"], [0.6, \"#e6f5d0\"], [0.7, \"#b8e186\"], [0.8, \"#7fbc41\"], [0.9, \"#4d9221\"], [1, \"#276419\"]], \"sequential\": [[0.0, \"#0d0887\"], [0.1111111111111111, \"#46039f\"], [0.2222222222222222, \"#7201a8\"], [0.3333333333333333, \"#9c179e\"], [0.4444444444444444, \"#bd3786\"], [0.5555555555555556, \"#d8576b\"], [0.6666666666666666, \"#ed7953\"], [0.7777777777777778, \"#fb9f3a\"], [0.8888888888888888, \"#fdca26\"], [1.0, \"#f0f921\"]], \"sequentialminus\": [[0.0, \"#0d0887\"], [0.1111111111111111, \"#46039f\"], [0.2222222222222222, \"#7201a8\"], [0.3333333333333333, \"#9c179e\"], [0.4444444444444444, \"#bd3786\"], [0.5555555555555556, \"#d8576b\"], [0.6666666666666666, \"#ed7953\"], [0.7777777777777778, \"#fb9f3a\"], [0.8888888888888888, \"#fdca26\"], [1.0, \"#f0f921\"]]}, \"colorway\": [\"#636efa\", \"#EF553B\", \"#00cc96\", \"#ab63fa\", \"#FFA15A\", \"#19d3f3\", \"#FF6692\", \"#B6E880\", \"#FF97FF\", \"#FECB52\"], \"font\": {\"color\": \"#2a3f5f\"}, \"geo\": {\"bgcolor\": \"white\", \"lakecolor\": \"white\", \"landcolor\": \"#E5ECF6\", \"showlakes\": true, \"showland\": true, \"subunitcolor\": \"white\"}, \"hoverlabel\": {\"align\": \"left\"}, \"hovermode\": \"closest\", \"mapbox\": {\"style\": \"light\"}, \"paper_bgcolor\": \"white\", \"plot_bgcolor\": \"#E5ECF6\", \"polar\": {\"angularaxis\": {\"gridcolor\": \"white\", \"linecolor\": \"white\", \"ticks\": \"\"}, \"bgcolor\": \"#E5ECF6\", \"radialaxis\": {\"gridcolor\": \"white\", \"linecolor\": \"white\", \"ticks\": \"\"}}, \"scene\": {\"xaxis\": {\"backgroundcolor\": \"#E5ECF6\", \"gridcolor\": \"white\", \"gridwidth\": 2, \"linecolor\": \"white\", \"showbackground\": true, \"ticks\": \"\", \"zerolinecolor\": \"white\"}, \"yaxis\": {\"backgroundcolor\": \"#E5ECF6\", \"gridcolor\": \"white\", \"gridwidth\": 2, \"linecolor\": \"white\", \"showbackground\": true, \"ticks\": \"\", \"zerolinecolor\": \"white\"}, \"zaxis\": {\"backgroundcolor\": \"#E5ECF6\", \"gridcolor\": \"white\", \"gridwidth\": 2, \"linecolor\": \"white\", \"showbackground\": true, \"ticks\": \"\", \"zerolinecolor\": \"white\"}}, \"shapedefaults\": {\"line\": {\"color\": \"#2a3f5f\"}}, \"ternary\": {\"aaxis\": {\"gridcolor\": \"white\", \"linecolor\": \"white\", \"ticks\": \"\"}, \"baxis\": {\"gridcolor\": \"white\", \"linecolor\": \"white\", \"ticks\": \"\"}, \"bgcolor\": \"#E5ECF6\", \"caxis\": {\"gridcolor\": \"white\", \"linecolor\": \"white\", \"ticks\": \"\"}}, \"title\": {\"x\": 0.05}, \"xaxis\": {\"automargin\": true, \"gridcolor\": \"white\", \"linecolor\": \"white\", \"ticks\": \"\", \"title\": {\"standoff\": 15}, \"zerolinecolor\": \"white\", \"zerolinewidth\": 2}, \"yaxis\": {\"automargin\": true, \"gridcolor\": \"white\", \"linecolor\": \"white\", \"ticks\": \"\", \"title\": {\"standoff\": 15}, \"zerolinecolor\": \"white\", \"zerolinewidth\": 2}}}, \"title\": {\"font\": {\"color\": \"#4D5663\"}}, \"xaxis\": {\"gridcolor\": \"#E1E5ED\", \"showgrid\": true, \"tickfont\": {\"color\": \"#4D5663\"}, \"title\": {\"font\": {\"color\": \"#4D5663\"}, \"text\": \"\"}, \"zerolinecolor\": \"#E1E5ED\"}, \"yaxis\": {\"gridcolor\": \"#E1E5ED\", \"showgrid\": true, \"tickfont\": {\"color\": \"#4D5663\"}, \"title\": {\"font\": {\"color\": \"#4D5663\"}, \"text\": \"\"}, \"zerolinecolor\": \"#E1E5ED\"}},\n                        {\"showLink\": true, \"linkText\": \"Export to plot.ly\", \"plotlyServerURL\": \"https://plot.ly\", \"responsive\": true}\n                    ).then(function(){\n                            \nvar gd = document.getElementById('635c55d6-0b92-418a-aabe-7fab7b4f70a5');\nvar x = new MutationObserver(function (mutations, observer) {{\n        var display = window.getComputedStyle(gd).display;\n        if (!display || display === 'none') {{\n            console.log([gd, 'removed!']);\n            Plotly.purge(gd);\n            observer.disconnect();\n        }}\n}});\n\n// Listen for the removal of the full notebook cells\nvar notebookContainer = gd.closest('#notebook-container');\nif (notebookContainer) {{\n    x.observe(notebookContainer, {childList: true});\n}}\n\n// Listen for the clearing of the current output cell\nvar outputEl = gd.closest('.output');\nif (outputEl) {{\n    x.observe(outputEl, {childList: true});\n}}\n\n                        })\n                };\n                });\n            </script>\n        </div>"
     },
     "metadata": {},
     "output_type": "display_data"
    }
   ],
   "source": [
    "df2.iplot(kind='bar', x='Category', y='Values')"
   ]
  },
  {
   "cell_type": "code",
   "execution_count": 10,
   "metadata": {
    "pycharm": {
     "is_executing": false,
     "name": "#%%\n"
    }
   },
   "outputs": [
    {
     "data": {
      "application/vnd.plotly.v1+json": {
       "config": {
        "linkText": "Export to plot.ly",
        "plotlyServerURL": "https://plot.ly",
        "showLink": true
       },
       "data": [
        {
         "marker": {
          "color": "rgba(255, 153, 51, 0.6)",
          "line": {
           "color": "rgba(255, 153, 51, 1.0)",
           "width": 1
          }
         },
         "name": "A",
         "orientation": "v",
         "text": "",
         "type": "bar",
         "x": [
          0,
          1,
          2,
          3,
          4,
          5,
          6,
          7,
          8,
          9,
          10,
          11,
          12,
          13,
          14,
          15,
          16,
          17,
          18,
          19,
          20,
          21,
          22,
          23,
          24,
          25,
          26,
          27,
          28,
          29,
          30,
          31,
          32,
          33,
          34,
          35,
          36,
          37,
          38,
          39,
          40,
          41,
          42,
          43,
          44,
          45,
          46,
          47,
          48,
          49,
          50,
          51,
          52,
          53,
          54,
          55,
          56,
          57,
          58,
          59,
          60,
          61,
          62,
          63,
          64,
          65,
          66,
          67,
          68,
          69,
          70,
          71,
          72,
          73,
          74,
          75,
          76,
          77,
          78,
          79,
          80,
          81,
          82,
          83,
          84,
          85,
          86,
          87,
          88,
          89,
          90,
          91,
          92,
          93,
          94,
          95,
          96,
          97,
          98,
          99
         ],
         "y": [
          -1.4863073708975698,
          -2.1850824021195616,
          -2.960827272545752,
          0.638069862685476,
          0.21377793975387355,
          -0.8154978341789988,
          -1.5739883105017602,
          0.4318822775286287,
          -1.3265888287929182,
          1.259183517429503,
          -0.017407080654257518,
          -0.10281927824957425,
          0.05337750178968702,
          -0.6292896610597629,
          0.38616052190444494,
          -0.22605631512131022,
          -0.09853750276821739,
          -1.1066396351534582,
          0.9114796019739642,
          0.29518110596127883,
          0.5965871078261196,
          -0.6190242134296731,
          -0.9294887399068007,
          0.24055976556184552,
          0.05308689523824642,
          -0.32226287593468833,
          1.063935624998341,
          -0.5072921436705043,
          -1.5377735821424616,
          -0.685396102123712,
          -2.605179870972897,
          -0.014336078140034441,
          0.13052624885473935,
          -0.3793653369458108,
          0.6065077500095933,
          -0.763188427541439,
          2.170705302187318,
          -0.8878237136360704,
          0.30600965400701974,
          -1.0163183411750913,
          1.0624991809215645,
          -0.4412390260445293,
          0.3651556864264858,
          -1.486978745096095,
          1.664516514200354,
          1.1997710720009844,
          -2.0555831792245747,
          0.9235026440401792,
          0.07848950119542743,
          1.3431294743521662,
          3.2765097706920816,
          -0.4934295310273326,
          0.990094748628564,
          2.0134383679368852,
          -2.287636557492431,
          0.8224077368953896,
          -0.3560884397513596,
          -1.744011177010594,
          -0.034766326276481054,
          -0.7374693628800136,
          -1.140617878297122,
          -0.28734548744461696,
          0.5667681473808669,
          -0.9520658721364366,
          0.9596448650717668,
          0.3919613373221554,
          -0.9680655332483575,
          0.42334251965705855,
          1.772520654229283,
          0.650698170834495,
          -1.1317667464189085,
          -1.8459395957855504,
          0.8062363265030782,
          0.3147212847950096,
          -1.057789454250701,
          -0.29795494761001645,
          0.789773725362857,
          1.083507179451289,
          -1.9468646653134738,
          -0.21824193932452937,
          0.4675002253006263,
          1.605648784272931,
          -0.8821948592590849,
          -1.0917912230779365,
          0.06719803818297368,
          0.770564006511959,
          1.3408187755846943,
          1.7074842570992093,
          1.5703817547245793,
          0.29386034266401145,
          -0.06716747238653473,
          0.9434032958517293,
          -0.04607609878312643,
          -1.5422232108086,
          -0.7792537895554505,
          -0.3687631447341126,
          -0.09668785472371995,
          1.067454982834531,
          0.08877790370553766,
          1.0971434149579615
         ]
        },
        {
         "marker": {
          "color": "rgba(55, 128, 191, 0.6)",
          "line": {
           "color": "rgba(55, 128, 191, 1.0)",
           "width": 1
          }
         },
         "name": "B",
         "orientation": "v",
         "text": "",
         "type": "bar",
         "x": [
          0,
          1,
          2,
          3,
          4,
          5,
          6,
          7,
          8,
          9,
          10,
          11,
          12,
          13,
          14,
          15,
          16,
          17,
          18,
          19,
          20,
          21,
          22,
          23,
          24,
          25,
          26,
          27,
          28,
          29,
          30,
          31,
          32,
          33,
          34,
          35,
          36,
          37,
          38,
          39,
          40,
          41,
          42,
          43,
          44,
          45,
          46,
          47,
          48,
          49,
          50,
          51,
          52,
          53,
          54,
          55,
          56,
          57,
          58,
          59,
          60,
          61,
          62,
          63,
          64,
          65,
          66,
          67,
          68,
          69,
          70,
          71,
          72,
          73,
          74,
          75,
          76,
          77,
          78,
          79,
          80,
          81,
          82,
          83,
          84,
          85,
          86,
          87,
          88,
          89,
          90,
          91,
          92,
          93,
          94,
          95,
          96,
          97,
          98,
          99
         ],
         "y": [
          0.991862700951286,
          0.24950253065649877,
          0.3950093976649536,
          0.6188708512930853,
          -0.7747954695629024,
          -0.6999267092916548,
          0.0767008924504014,
          1.1329314657450371,
          0.6433203381952936,
          1.6131660962513228,
          0.06043736850071907,
          0.8713454604033425,
          -0.18930552552586122,
          0.43833285799875565,
          -0.6995013195151322,
          -1.8064010468855245,
          0.687905900643732,
          1.396414503651976,
          -0.8072414603179552,
          1.0587564990166214,
          -0.3796720805805881,
          -0.3195073545466219,
          -1.3298790867118577,
          0.6457868122925032,
          -0.6441709957256099,
          -0.40827355746977784,
          -0.8355145027336962,
          0.8677656888788933,
          -0.30118120675530397,
          0.4963393424518228,
          1.8997241764226496,
          2.6281040905157247,
          1.4377596195562439,
          -1.8840417497279667,
          -0.4534505483577321,
          -0.6109510793091015,
          0.0151099174140034,
          0.6113033544272953,
          -1.0671475176105258,
          -1.347816683912141,
          0.05455733113361512,
          -0.4739243275402265,
          -0.45829014109480576,
          -0.726852510520777,
          -0.17788606157097492,
          -0.17897625981444226,
          0.685167733415189,
          -1.9724384236155548,
          0.7937847144227674,
          -1.1535059289831828,
          0.5102192179387394,
          0.8606104025042941,
          1.795271491052051,
          0.8545248489559998,
          0.8939539538337453,
          0.9961409783162299,
          -2.212550853061344,
          0.7806743317887066,
          1.1421746771338692,
          0.2881768847509344,
          -0.18142864879455858,
          -1.196135981429346,
          -0.9432708001793368,
          -1.4910858898960022,
          -2.1374718013605234,
          2.2207175524641616,
          0.03019455031206788,
          0.9877754416137221,
          1.044919815072245,
          -0.4359856415997237,
          -2.556134407655902,
          0.8257669498802955,
          -0.49672006283080633,
          -0.5433664670566228,
          -0.40402255151282734,
          -0.9041658119968088,
          0.48220006883816724,
          1.3853556377901446,
          0.6436047187928708,
          0.08846144335836506,
          -0.1682423067605211,
          0.17385203610914976,
          -0.5620543658393782,
          1.1000045334205817,
          0.8449228133014679,
          2.0693586894798575,
          0.556074393022577,
          -0.09675473988838523,
          -1.4876250381532938,
          -0.49795804936956967,
          -2.1141074948250784,
          0.6731424953480482,
          -0.5486912328010581,
          -1.9787097456859963,
          -0.45434678245835275,
          0.5868522472967778,
          0.09853414803666562,
          -0.49452835762931896,
          -2.116011155396429,
          -0.05396114288166204
         ]
        },
        {
         "marker": {
          "color": "rgba(50, 171, 96, 0.6)",
          "line": {
           "color": "rgba(50, 171, 96, 1.0)",
           "width": 1
          }
         },
         "name": "C",
         "orientation": "v",
         "text": "",
         "type": "bar",
         "x": [
          0,
          1,
          2,
          3,
          4,
          5,
          6,
          7,
          8,
          9,
          10,
          11,
          12,
          13,
          14,
          15,
          16,
          17,
          18,
          19,
          20,
          21,
          22,
          23,
          24,
          25,
          26,
          27,
          28,
          29,
          30,
          31,
          32,
          33,
          34,
          35,
          36,
          37,
          38,
          39,
          40,
          41,
          42,
          43,
          44,
          45,
          46,
          47,
          48,
          49,
          50,
          51,
          52,
          53,
          54,
          55,
          56,
          57,
          58,
          59,
          60,
          61,
          62,
          63,
          64,
          65,
          66,
          67,
          68,
          69,
          70,
          71,
          72,
          73,
          74,
          75,
          76,
          77,
          78,
          79,
          80,
          81,
          82,
          83,
          84,
          85,
          86,
          87,
          88,
          89,
          90,
          91,
          92,
          93,
          94,
          95,
          96,
          97,
          98,
          99
         ],
         "y": [
          -0.3753741788856934,
          0.5679662611009498,
          0.4677313122351522,
          1.711581076417976,
          -0.23277048837939648,
          -1.3267012027130738,
          0.3739434057450148,
          -2.643571540323504,
          -1.145880614666761,
          1.1928955037375057,
          1.9863941652632737,
          0.573430062744424,
          0.8156376623031294,
          -0.2572022843431144,
          0.9042432883188274,
          0.3715434829837976,
          -2.0834161164323506,
          1.5953862925501323,
          -0.2238261581980897,
          -0.1216764324691142,
          0.2736288663987507,
          1.4356667621173613,
          -2.1949481488151847,
          -1.3236141120670448,
          -1.0735945971051435,
          -1.3663346326509864,
          -0.0185940426044395,
          1.8902953555195336,
          0.567126228448343,
          -0.5789037243795288,
          -0.5755340178660493,
          1.0550316165963012,
          1.0441029808292899,
          -0.11420736861863401,
          0.12524239868540765,
          2.3400605491663047,
          -0.5782934311304733,
          0.2108310203970129,
          0.4039331862171811,
          0.44360322247555956,
          -0.12085742117129346,
          -0.8439468871075504,
          -1.158756996162908,
          0.15430035399347133,
          -0.06386858016005441,
          -0.5074262422549175,
          0.11555993742750822,
          -0.5577283425727401,
          -0.47789084485793143,
          -1.6403711405172237,
          0.4827664013390895,
          1.8028155547633575,
          1.4001098054136305,
          0.3267302345742465,
          -0.4848670587721663,
          0.09227216079736342,
          0.07123892931472044,
          1.3481163362612534,
          1.0169867096972263,
          0.6170681768119419,
          0.22108609767698298,
          -0.7842927767017362,
          -1.915537043065621,
          0.328018803408384,
          -1.7278938381029623,
          0.43078382443629565,
          2.0481051229562257,
          -0.7956971542699457,
          0.5020823215935366,
          0.6949890081830239,
          0.5338802549188443,
          1.4392317783792197,
          -0.11039014255304978,
          0.8618715191435556,
          -1.2896289383655481,
          -0.02281907828284579,
          -1.3135449694462873,
          -0.4717030103235045,
          -0.8160617409124374,
          -1.1280099487793187,
          -1.6670501450748478,
          0.7607906281945472,
          0.2796867560346704,
          0.017180080705273514,
          -0.0949567224231892,
          0.00634285875947798,
          0.3046419492352927,
          -1.014498313219501,
          0.30306332735540786,
          1.0227713330043546,
          -0.0836722027615909,
          -0.12612606064856932,
          1.4807005920373766,
          -1.065714626827212,
          0.9040155977160081,
          1.4766809212757679,
          -0.5668708254940893,
          -1.5662672710340224,
          -1.5263870398107666,
          -0.2590630334259091
         ]
        },
        {
         "marker": {
          "color": "rgba(128, 0, 128, 0.6)",
          "line": {
           "color": "rgba(128, 0, 128, 1.0)",
           "width": 1
          }
         },
         "name": "D",
         "orientation": "v",
         "text": "",
         "type": "bar",
         "x": [
          0,
          1,
          2,
          3,
          4,
          5,
          6,
          7,
          8,
          9,
          10,
          11,
          12,
          13,
          14,
          15,
          16,
          17,
          18,
          19,
          20,
          21,
          22,
          23,
          24,
          25,
          26,
          27,
          28,
          29,
          30,
          31,
          32,
          33,
          34,
          35,
          36,
          37,
          38,
          39,
          40,
          41,
          42,
          43,
          44,
          45,
          46,
          47,
          48,
          49,
          50,
          51,
          52,
          53,
          54,
          55,
          56,
          57,
          58,
          59,
          60,
          61,
          62,
          63,
          64,
          65,
          66,
          67,
          68,
          69,
          70,
          71,
          72,
          73,
          74,
          75,
          76,
          77,
          78,
          79,
          80,
          81,
          82,
          83,
          84,
          85,
          86,
          87,
          88,
          89,
          90,
          91,
          92,
          93,
          94,
          95,
          96,
          97,
          98,
          99
         ],
         "y": [
          2.0436691209421562,
          0.1824761840116358,
          0.5700043679018382,
          -0.22935727746462556,
          0.7569207059020728,
          -0.14317016618902656,
          0.21129156018164277,
          -0.2616089926871364,
          1.4495406157464286,
          -0.9342860392352873,
          -0.09084447475739998,
          -1.565429635024042,
          -1.5406840105456636,
          -0.8559537704229165,
          -1.1114922404496523,
          0.5063532674496958,
          1.3487191387605066,
          1.956255565670463,
          1.8183720503917729,
          0.5786629868706473,
          -0.3604354290108231,
          0.2873145928066404,
          0.19750155695426078,
          -0.8480331396213573,
          0.417599115069566,
          1.8968061348373466,
          -0.8637792682058373,
          1.6257780581247228,
          -0.8623822878043705,
          0.4556310697362648,
          0.8648090566042301,
          0.7313030024535564,
          2.2412089911543616,
          0.47922271969325386,
          -2.2685243013314262,
          0.04906054663673767,
          -1.498944857376424,
          0.35060996571349773,
          -1.8836306877745341,
          -0.3262599784002874,
          -0.3782286761037799,
          -0.29946333506931067,
          0.7508740231319113,
          1.207476743985673,
          -0.7908941475885819,
          1.3645664408744624,
          -0.3369882440756289,
          0.31576705904068125,
          -0.7581710392004785,
          1.1629083090850254,
          0.349307505649559,
          0.5313594705841929,
          1.1053965751515706,
          -0.46012799965221596,
          1.9386489652387204,
          -0.6788483704507831,
          -2.1840554947861524,
          1.0198006550241243,
          0.31529091115930113,
          0.2241061424559845,
          -1.4119249854812994,
          0.67559656553888,
          -0.4316193782730557,
          -1.4418982123850834,
          -1.2244517549484644,
          -0.156905996972589,
          -0.7081191788451137,
          0.3311222601330798,
          -1.271135923083071,
          -1.6406037783928384,
          -0.7155308476950346,
          0.07123578116279788,
          -0.09593250888678026,
          -3.21697202555598,
          1.578719906595705,
          0.19945974802986063,
          0.7614590083524786,
          0.947436823350358,
          -0.15283764572543185,
          -0.746368577035718,
          -0.4578868834298999,
          0.7806486628818033,
          2.0089091630328966,
          -0.3005203339251017,
          0.41302694814666885,
          -0.4216556948739281,
          0.8077852759929154,
          0.6787555776336831,
          -0.6424320413366892,
          1.0769566754877857,
          0.9454046718505152,
          -0.416183530686335,
          0.7665667379007157,
          0.9349341829591532,
          0.33304764522565167,
          -1.0951765638605833,
          1.7175885746816932,
          2.0570025387997637,
          -1.5297582991982859,
          -0.42968195284927535
         ]
        }
       ],
       "layout": {
        "legend": {
         "bgcolor": "#F5F6F9",
         "font": {
          "color": "#4D5663"
         }
        },
        "paper_bgcolor": "#F5F6F9",
        "plot_bgcolor": "#F5F6F9",
        "template": {
         "data": {
          "bar": [
           {
            "error_x": {
             "color": "#2a3f5f"
            },
            "error_y": {
             "color": "#2a3f5f"
            },
            "marker": {
             "line": {
              "color": "#E5ECF6",
              "width": 0.5
             }
            },
            "type": "bar"
           }
          ],
          "barpolar": [
           {
            "marker": {
             "line": {
              "color": "#E5ECF6",
              "width": 0.5
             }
            },
            "type": "barpolar"
           }
          ],
          "carpet": [
           {
            "aaxis": {
             "endlinecolor": "#2a3f5f",
             "gridcolor": "white",
             "linecolor": "white",
             "minorgridcolor": "white",
             "startlinecolor": "#2a3f5f"
            },
            "baxis": {
             "endlinecolor": "#2a3f5f",
             "gridcolor": "white",
             "linecolor": "white",
             "minorgridcolor": "white",
             "startlinecolor": "#2a3f5f"
            },
            "type": "carpet"
           }
          ],
          "choropleth": [
           {
            "colorbar": {
             "outlinewidth": 0,
             "ticks": ""
            },
            "type": "choropleth"
           }
          ],
          "contour": [
           {
            "colorbar": {
             "outlinewidth": 0,
             "ticks": ""
            },
            "colorscale": [
             [
              0.0,
              "#0d0887"
             ],
             [
              0.1111111111111111,
              "#46039f"
             ],
             [
              0.2222222222222222,
              "#7201a8"
             ],
             [
              0.3333333333333333,
              "#9c179e"
             ],
             [
              0.4444444444444444,
              "#bd3786"
             ],
             [
              0.5555555555555556,
              "#d8576b"
             ],
             [
              0.6666666666666666,
              "#ed7953"
             ],
             [
              0.7777777777777778,
              "#fb9f3a"
             ],
             [
              0.8888888888888888,
              "#fdca26"
             ],
             [
              1.0,
              "#f0f921"
             ]
            ],
            "type": "contour"
           }
          ],
          "contourcarpet": [
           {
            "colorbar": {
             "outlinewidth": 0,
             "ticks": ""
            },
            "type": "contourcarpet"
           }
          ],
          "heatmap": [
           {
            "colorbar": {
             "outlinewidth": 0,
             "ticks": ""
            },
            "colorscale": [
             [
              0.0,
              "#0d0887"
             ],
             [
              0.1111111111111111,
              "#46039f"
             ],
             [
              0.2222222222222222,
              "#7201a8"
             ],
             [
              0.3333333333333333,
              "#9c179e"
             ],
             [
              0.4444444444444444,
              "#bd3786"
             ],
             [
              0.5555555555555556,
              "#d8576b"
             ],
             [
              0.6666666666666666,
              "#ed7953"
             ],
             [
              0.7777777777777778,
              "#fb9f3a"
             ],
             [
              0.8888888888888888,
              "#fdca26"
             ],
             [
              1.0,
              "#f0f921"
             ]
            ],
            "type": "heatmap"
           }
          ],
          "heatmapgl": [
           {
            "colorbar": {
             "outlinewidth": 0,
             "ticks": ""
            },
            "colorscale": [
             [
              0.0,
              "#0d0887"
             ],
             [
              0.1111111111111111,
              "#46039f"
             ],
             [
              0.2222222222222222,
              "#7201a8"
             ],
             [
              0.3333333333333333,
              "#9c179e"
             ],
             [
              0.4444444444444444,
              "#bd3786"
             ],
             [
              0.5555555555555556,
              "#d8576b"
             ],
             [
              0.6666666666666666,
              "#ed7953"
             ],
             [
              0.7777777777777778,
              "#fb9f3a"
             ],
             [
              0.8888888888888888,
              "#fdca26"
             ],
             [
              1.0,
              "#f0f921"
             ]
            ],
            "type": "heatmapgl"
           }
          ],
          "histogram": [
           {
            "marker": {
             "colorbar": {
              "outlinewidth": 0,
              "ticks": ""
             }
            },
            "type": "histogram"
           }
          ],
          "histogram2d": [
           {
            "colorbar": {
             "outlinewidth": 0,
             "ticks": ""
            },
            "colorscale": [
             [
              0.0,
              "#0d0887"
             ],
             [
              0.1111111111111111,
              "#46039f"
             ],
             [
              0.2222222222222222,
              "#7201a8"
             ],
             [
              0.3333333333333333,
              "#9c179e"
             ],
             [
              0.4444444444444444,
              "#bd3786"
             ],
             [
              0.5555555555555556,
              "#d8576b"
             ],
             [
              0.6666666666666666,
              "#ed7953"
             ],
             [
              0.7777777777777778,
              "#fb9f3a"
             ],
             [
              0.8888888888888888,
              "#fdca26"
             ],
             [
              1.0,
              "#f0f921"
             ]
            ],
            "type": "histogram2d"
           }
          ],
          "histogram2dcontour": [
           {
            "colorbar": {
             "outlinewidth": 0,
             "ticks": ""
            },
            "colorscale": [
             [
              0.0,
              "#0d0887"
             ],
             [
              0.1111111111111111,
              "#46039f"
             ],
             [
              0.2222222222222222,
              "#7201a8"
             ],
             [
              0.3333333333333333,
              "#9c179e"
             ],
             [
              0.4444444444444444,
              "#bd3786"
             ],
             [
              0.5555555555555556,
              "#d8576b"
             ],
             [
              0.6666666666666666,
              "#ed7953"
             ],
             [
              0.7777777777777778,
              "#fb9f3a"
             ],
             [
              0.8888888888888888,
              "#fdca26"
             ],
             [
              1.0,
              "#f0f921"
             ]
            ],
            "type": "histogram2dcontour"
           }
          ],
          "mesh3d": [
           {
            "colorbar": {
             "outlinewidth": 0,
             "ticks": ""
            },
            "type": "mesh3d"
           }
          ],
          "parcoords": [
           {
            "line": {
             "colorbar": {
              "outlinewidth": 0,
              "ticks": ""
             }
            },
            "type": "parcoords"
           }
          ],
          "pie": [
           {
            "automargin": true,
            "type": "pie"
           }
          ],
          "scatter": [
           {
            "marker": {
             "colorbar": {
              "outlinewidth": 0,
              "ticks": ""
             }
            },
            "type": "scatter"
           }
          ],
          "scatter3d": [
           {
            "line": {
             "colorbar": {
              "outlinewidth": 0,
              "ticks": ""
             }
            },
            "marker": {
             "colorbar": {
              "outlinewidth": 0,
              "ticks": ""
             }
            },
            "type": "scatter3d"
           }
          ],
          "scattercarpet": [
           {
            "marker": {
             "colorbar": {
              "outlinewidth": 0,
              "ticks": ""
             }
            },
            "type": "scattercarpet"
           }
          ],
          "scattergeo": [
           {
            "marker": {
             "colorbar": {
              "outlinewidth": 0,
              "ticks": ""
             }
            },
            "type": "scattergeo"
           }
          ],
          "scattergl": [
           {
            "marker": {
             "colorbar": {
              "outlinewidth": 0,
              "ticks": ""
             }
            },
            "type": "scattergl"
           }
          ],
          "scattermapbox": [
           {
            "marker": {
             "colorbar": {
              "outlinewidth": 0,
              "ticks": ""
             }
            },
            "type": "scattermapbox"
           }
          ],
          "scatterpolar": [
           {
            "marker": {
             "colorbar": {
              "outlinewidth": 0,
              "ticks": ""
             }
            },
            "type": "scatterpolar"
           }
          ],
          "scatterpolargl": [
           {
            "marker": {
             "colorbar": {
              "outlinewidth": 0,
              "ticks": ""
             }
            },
            "type": "scatterpolargl"
           }
          ],
          "scatterternary": [
           {
            "marker": {
             "colorbar": {
              "outlinewidth": 0,
              "ticks": ""
             }
            },
            "type": "scatterternary"
           }
          ],
          "surface": [
           {
            "colorbar": {
             "outlinewidth": 0,
             "ticks": ""
            },
            "colorscale": [
             [
              0.0,
              "#0d0887"
             ],
             [
              0.1111111111111111,
              "#46039f"
             ],
             [
              0.2222222222222222,
              "#7201a8"
             ],
             [
              0.3333333333333333,
              "#9c179e"
             ],
             [
              0.4444444444444444,
              "#bd3786"
             ],
             [
              0.5555555555555556,
              "#d8576b"
             ],
             [
              0.6666666666666666,
              "#ed7953"
             ],
             [
              0.7777777777777778,
              "#fb9f3a"
             ],
             [
              0.8888888888888888,
              "#fdca26"
             ],
             [
              1.0,
              "#f0f921"
             ]
            ],
            "type": "surface"
           }
          ],
          "table": [
           {
            "cells": {
             "fill": {
              "color": "#EBF0F8"
             },
             "line": {
              "color": "white"
             }
            },
            "header": {
             "fill": {
              "color": "#C8D4E3"
             },
             "line": {
              "color": "white"
             }
            },
            "type": "table"
           }
          ]
         },
         "layout": {
          "annotationdefaults": {
           "arrowcolor": "#2a3f5f",
           "arrowhead": 0,
           "arrowwidth": 1
          },
          "coloraxis": {
           "colorbar": {
            "outlinewidth": 0,
            "ticks": ""
           }
          },
          "colorscale": {
           "diverging": [
            [
             0,
             "#8e0152"
            ],
            [
             0.1,
             "#c51b7d"
            ],
            [
             0.2,
             "#de77ae"
            ],
            [
             0.3,
             "#f1b6da"
            ],
            [
             0.4,
             "#fde0ef"
            ],
            [
             0.5,
             "#f7f7f7"
            ],
            [
             0.6,
             "#e6f5d0"
            ],
            [
             0.7,
             "#b8e186"
            ],
            [
             0.8,
             "#7fbc41"
            ],
            [
             0.9,
             "#4d9221"
            ],
            [
             1,
             "#276419"
            ]
           ],
           "sequential": [
            [
             0.0,
             "#0d0887"
            ],
            [
             0.1111111111111111,
             "#46039f"
            ],
            [
             0.2222222222222222,
             "#7201a8"
            ],
            [
             0.3333333333333333,
             "#9c179e"
            ],
            [
             0.4444444444444444,
             "#bd3786"
            ],
            [
             0.5555555555555556,
             "#d8576b"
            ],
            [
             0.6666666666666666,
             "#ed7953"
            ],
            [
             0.7777777777777778,
             "#fb9f3a"
            ],
            [
             0.8888888888888888,
             "#fdca26"
            ],
            [
             1.0,
             "#f0f921"
            ]
           ],
           "sequentialminus": [
            [
             0.0,
             "#0d0887"
            ],
            [
             0.1111111111111111,
             "#46039f"
            ],
            [
             0.2222222222222222,
             "#7201a8"
            ],
            [
             0.3333333333333333,
             "#9c179e"
            ],
            [
             0.4444444444444444,
             "#bd3786"
            ],
            [
             0.5555555555555556,
             "#d8576b"
            ],
            [
             0.6666666666666666,
             "#ed7953"
            ],
            [
             0.7777777777777778,
             "#fb9f3a"
            ],
            [
             0.8888888888888888,
             "#fdca26"
            ],
            [
             1.0,
             "#f0f921"
            ]
           ]
          },
          "colorway": [
           "#636efa",
           "#EF553B",
           "#00cc96",
           "#ab63fa",
           "#FFA15A",
           "#19d3f3",
           "#FF6692",
           "#B6E880",
           "#FF97FF",
           "#FECB52"
          ],
          "font": {
           "color": "#2a3f5f"
          },
          "geo": {
           "bgcolor": "white",
           "lakecolor": "white",
           "landcolor": "#E5ECF6",
           "showlakes": true,
           "showland": true,
           "subunitcolor": "white"
          },
          "hoverlabel": {
           "align": "left"
          },
          "hovermode": "closest",
          "mapbox": {
           "style": "light"
          },
          "paper_bgcolor": "white",
          "plot_bgcolor": "#E5ECF6",
          "polar": {
           "angularaxis": {
            "gridcolor": "white",
            "linecolor": "white",
            "ticks": ""
           },
           "bgcolor": "#E5ECF6",
           "radialaxis": {
            "gridcolor": "white",
            "linecolor": "white",
            "ticks": ""
           }
          },
          "scene": {
           "xaxis": {
            "backgroundcolor": "#E5ECF6",
            "gridcolor": "white",
            "gridwidth": 2,
            "linecolor": "white",
            "showbackground": true,
            "ticks": "",
            "zerolinecolor": "white"
           },
           "yaxis": {
            "backgroundcolor": "#E5ECF6",
            "gridcolor": "white",
            "gridwidth": 2,
            "linecolor": "white",
            "showbackground": true,
            "ticks": "",
            "zerolinecolor": "white"
           },
           "zaxis": {
            "backgroundcolor": "#E5ECF6",
            "gridcolor": "white",
            "gridwidth": 2,
            "linecolor": "white",
            "showbackground": true,
            "ticks": "",
            "zerolinecolor": "white"
           }
          },
          "shapedefaults": {
           "line": {
            "color": "#2a3f5f"
           }
          },
          "ternary": {
           "aaxis": {
            "gridcolor": "white",
            "linecolor": "white",
            "ticks": ""
           },
           "baxis": {
            "gridcolor": "white",
            "linecolor": "white",
            "ticks": ""
           },
           "bgcolor": "#E5ECF6",
           "caxis": {
            "gridcolor": "white",
            "linecolor": "white",
            "ticks": ""
           }
          },
          "title": {
           "x": 0.05
          },
          "xaxis": {
           "automargin": true,
           "gridcolor": "white",
           "linecolor": "white",
           "ticks": "",
           "title": {
            "standoff": 15
           },
           "zerolinecolor": "white",
           "zerolinewidth": 2
          },
          "yaxis": {
           "automargin": true,
           "gridcolor": "white",
           "linecolor": "white",
           "ticks": "",
           "title": {
            "standoff": 15
           },
           "zerolinecolor": "white",
           "zerolinewidth": 2
          }
         }
        },
        "title": {
         "font": {
          "color": "#4D5663"
         }
        },
        "xaxis": {
         "gridcolor": "#E1E5ED",
         "showgrid": true,
         "tickfont": {
          "color": "#4D5663"
         },
         "title": {
          "font": {
           "color": "#4D5663"
          },
          "text": ""
         },
         "zerolinecolor": "#E1E5ED"
        },
        "yaxis": {
         "gridcolor": "#E1E5ED",
         "showgrid": true,
         "tickfont": {
          "color": "#4D5663"
         },
         "title": {
          "font": {
           "color": "#4D5663"
          },
          "text": ""
         },
         "zerolinecolor": "#E1E5ED"
        }
       }
      },
      "text/html": "<div>\n        \n        \n            <div id=\"4ebc4c64-cb6f-4f1c-80ab-f0a2621b09dc\" class=\"plotly-graph-div\" style=\"height:525px; width:100%;\"></div>\n            <script type=\"text/javascript\">\n                require([\"plotly\"], function(Plotly) {\n                    window.PLOTLYENV=window.PLOTLYENV || {};\n                    window.PLOTLYENV.BASE_URL='https://plot.ly';\n                    \n                if (document.getElementById(\"4ebc4c64-cb6f-4f1c-80ab-f0a2621b09dc\")) {\n                    Plotly.newPlot(\n                        '4ebc4c64-cb6f-4f1c-80ab-f0a2621b09dc',\n                        [{\"marker\": {\"color\": \"rgba(255, 153, 51, 0.6)\", \"line\": {\"color\": \"rgba(255, 153, 51, 1.0)\", \"width\": 1}}, \"name\": \"A\", \"orientation\": \"v\", \"text\": \"\", \"type\": \"bar\", \"x\": [0, 1, 2, 3, 4, 5, 6, 7, 8, 9, 10, 11, 12, 13, 14, 15, 16, 17, 18, 19, 20, 21, 22, 23, 24, 25, 26, 27, 28, 29, 30, 31, 32, 33, 34, 35, 36, 37, 38, 39, 40, 41, 42, 43, 44, 45, 46, 47, 48, 49, 50, 51, 52, 53, 54, 55, 56, 57, 58, 59, 60, 61, 62, 63, 64, 65, 66, 67, 68, 69, 70, 71, 72, 73, 74, 75, 76, 77, 78, 79, 80, 81, 82, 83, 84, 85, 86, 87, 88, 89, 90, 91, 92, 93, 94, 95, 96, 97, 98, 99], \"y\": [-1.4863073708975698, -2.1850824021195616, -2.960827272545752, 0.638069862685476, 0.21377793975387355, -0.8154978341789988, -1.5739883105017602, 0.4318822775286287, -1.3265888287929182, 1.259183517429503, -0.017407080654257518, -0.10281927824957425, 0.05337750178968702, -0.6292896610597629, 0.38616052190444494, -0.22605631512131022, -0.09853750276821739, -1.1066396351534582, 0.9114796019739642, 0.29518110596127883, 0.5965871078261196, -0.6190242134296731, -0.9294887399068007, 0.24055976556184552, 0.05308689523824642, -0.32226287593468833, 1.063935624998341, -0.5072921436705043, -1.5377735821424616, -0.685396102123712, -2.605179870972897, -0.014336078140034441, 0.13052624885473935, -0.3793653369458108, 0.6065077500095933, -0.763188427541439, 2.170705302187318, -0.8878237136360704, 0.30600965400701974, -1.0163183411750913, 1.0624991809215645, -0.4412390260445293, 0.3651556864264858, -1.486978745096095, 1.664516514200354, 1.1997710720009844, -2.0555831792245747, 0.9235026440401792, 0.07848950119542743, 1.3431294743521662, 3.2765097706920816, -0.4934295310273326, 0.990094748628564, 2.0134383679368852, -2.287636557492431, 0.8224077368953896, -0.3560884397513596, -1.744011177010594, -0.034766326276481054, -0.7374693628800136, -1.140617878297122, -0.28734548744461696, 0.5667681473808669, -0.9520658721364366, 0.9596448650717668, 0.3919613373221554, -0.9680655332483575, 0.42334251965705855, 1.772520654229283, 0.650698170834495, -1.1317667464189085, -1.8459395957855504, 0.8062363265030782, 0.3147212847950096, -1.057789454250701, -0.29795494761001645, 0.789773725362857, 1.083507179451289, -1.9468646653134738, -0.21824193932452937, 0.4675002253006263, 1.605648784272931, -0.8821948592590849, -1.0917912230779365, 0.06719803818297368, 0.770564006511959, 1.3408187755846943, 1.7074842570992093, 1.5703817547245793, 0.29386034266401145, -0.06716747238653473, 0.9434032958517293, -0.04607609878312643, -1.5422232108086, -0.7792537895554505, -0.3687631447341126, -0.09668785472371995, 1.067454982834531, 0.08877790370553766, 1.0971434149579615]}, {\"marker\": {\"color\": \"rgba(55, 128, 191, 0.6)\", \"line\": {\"color\": \"rgba(55, 128, 191, 1.0)\", \"width\": 1}}, \"name\": \"B\", \"orientation\": \"v\", \"text\": \"\", \"type\": \"bar\", \"x\": [0, 1, 2, 3, 4, 5, 6, 7, 8, 9, 10, 11, 12, 13, 14, 15, 16, 17, 18, 19, 20, 21, 22, 23, 24, 25, 26, 27, 28, 29, 30, 31, 32, 33, 34, 35, 36, 37, 38, 39, 40, 41, 42, 43, 44, 45, 46, 47, 48, 49, 50, 51, 52, 53, 54, 55, 56, 57, 58, 59, 60, 61, 62, 63, 64, 65, 66, 67, 68, 69, 70, 71, 72, 73, 74, 75, 76, 77, 78, 79, 80, 81, 82, 83, 84, 85, 86, 87, 88, 89, 90, 91, 92, 93, 94, 95, 96, 97, 98, 99], \"y\": [0.991862700951286, 0.24950253065649877, 0.3950093976649536, 0.6188708512930853, -0.7747954695629024, -0.6999267092916548, 0.0767008924504014, 1.1329314657450371, 0.6433203381952936, 1.6131660962513228, 0.06043736850071907, 0.8713454604033425, -0.18930552552586122, 0.43833285799875565, -0.6995013195151322, -1.8064010468855245, 0.687905900643732, 1.396414503651976, -0.8072414603179552, 1.0587564990166214, -0.3796720805805881, -0.3195073545466219, -1.3298790867118577, 0.6457868122925032, -0.6441709957256099, -0.40827355746977784, -0.8355145027336962, 0.8677656888788933, -0.30118120675530397, 0.4963393424518228, 1.8997241764226496, 2.6281040905157247, 1.4377596195562439, -1.8840417497279667, -0.4534505483577321, -0.6109510793091015, 0.0151099174140034, 0.6113033544272953, -1.0671475176105258, -1.347816683912141, 0.05455733113361512, -0.4739243275402265, -0.45829014109480576, -0.726852510520777, -0.17788606157097492, -0.17897625981444226, 0.685167733415189, -1.9724384236155548, 0.7937847144227674, -1.1535059289831828, 0.5102192179387394, 0.8606104025042941, 1.795271491052051, 0.8545248489559998, 0.8939539538337453, 0.9961409783162299, -2.212550853061344, 0.7806743317887066, 1.1421746771338692, 0.2881768847509344, -0.18142864879455858, -1.196135981429346, -0.9432708001793368, -1.4910858898960022, -2.1374718013605234, 2.2207175524641616, 0.03019455031206788, 0.9877754416137221, 1.044919815072245, -0.4359856415997237, -2.556134407655902, 0.8257669498802955, -0.49672006283080633, -0.5433664670566228, -0.40402255151282734, -0.9041658119968088, 0.48220006883816724, 1.3853556377901446, 0.6436047187928708, 0.08846144335836506, -0.1682423067605211, 0.17385203610914976, -0.5620543658393782, 1.1000045334205817, 0.8449228133014679, 2.0693586894798575, 0.556074393022577, -0.09675473988838523, -1.4876250381532938, -0.49795804936956967, -2.1141074948250784, 0.6731424953480482, -0.5486912328010581, -1.9787097456859963, -0.45434678245835275, 0.5868522472967778, 0.09853414803666562, -0.49452835762931896, -2.116011155396429, -0.05396114288166204]}, {\"marker\": {\"color\": \"rgba(50, 171, 96, 0.6)\", \"line\": {\"color\": \"rgba(50, 171, 96, 1.0)\", \"width\": 1}}, \"name\": \"C\", \"orientation\": \"v\", \"text\": \"\", \"type\": \"bar\", \"x\": [0, 1, 2, 3, 4, 5, 6, 7, 8, 9, 10, 11, 12, 13, 14, 15, 16, 17, 18, 19, 20, 21, 22, 23, 24, 25, 26, 27, 28, 29, 30, 31, 32, 33, 34, 35, 36, 37, 38, 39, 40, 41, 42, 43, 44, 45, 46, 47, 48, 49, 50, 51, 52, 53, 54, 55, 56, 57, 58, 59, 60, 61, 62, 63, 64, 65, 66, 67, 68, 69, 70, 71, 72, 73, 74, 75, 76, 77, 78, 79, 80, 81, 82, 83, 84, 85, 86, 87, 88, 89, 90, 91, 92, 93, 94, 95, 96, 97, 98, 99], \"y\": [-0.3753741788856934, 0.5679662611009498, 0.4677313122351522, 1.711581076417976, -0.23277048837939648, -1.3267012027130738, 0.3739434057450148, -2.643571540323504, -1.145880614666761, 1.1928955037375057, 1.9863941652632737, 0.573430062744424, 0.8156376623031294, -0.2572022843431144, 0.9042432883188274, 0.3715434829837976, -2.0834161164323506, 1.5953862925501323, -0.2238261581980897, -0.1216764324691142, 0.2736288663987507, 1.4356667621173613, -2.1949481488151847, -1.3236141120670448, -1.0735945971051435, -1.3663346326509864, -0.0185940426044395, 1.8902953555195336, 0.567126228448343, -0.5789037243795288, -0.5755340178660493, 1.0550316165963012, 1.0441029808292899, -0.11420736861863401, 0.12524239868540765, 2.3400605491663047, -0.5782934311304733, 0.2108310203970129, 0.4039331862171811, 0.44360322247555956, -0.12085742117129346, -0.8439468871075504, -1.158756996162908, 0.15430035399347133, -0.06386858016005441, -0.5074262422549175, 0.11555993742750822, -0.5577283425727401, -0.47789084485793143, -1.6403711405172237, 0.4827664013390895, 1.8028155547633575, 1.4001098054136305, 0.3267302345742465, -0.4848670587721663, 0.09227216079736342, 0.07123892931472044, 1.3481163362612534, 1.0169867096972263, 0.6170681768119419, 0.22108609767698298, -0.7842927767017362, -1.915537043065621, 0.328018803408384, -1.7278938381029623, 0.43078382443629565, 2.0481051229562257, -0.7956971542699457, 0.5020823215935366, 0.6949890081830239, 0.5338802549188443, 1.4392317783792197, -0.11039014255304978, 0.8618715191435556, -1.2896289383655481, -0.02281907828284579, -1.3135449694462873, -0.4717030103235045, -0.8160617409124374, -1.1280099487793187, -1.6670501450748478, 0.7607906281945472, 0.2796867560346704, 0.017180080705273514, -0.0949567224231892, 0.00634285875947798, 0.3046419492352927, -1.014498313219501, 0.30306332735540786, 1.0227713330043546, -0.0836722027615909, -0.12612606064856932, 1.4807005920373766, -1.065714626827212, 0.9040155977160081, 1.4766809212757679, -0.5668708254940893, -1.5662672710340224, -1.5263870398107666, -0.2590630334259091]}, {\"marker\": {\"color\": \"rgba(128, 0, 128, 0.6)\", \"line\": {\"color\": \"rgba(128, 0, 128, 1.0)\", \"width\": 1}}, \"name\": \"D\", \"orientation\": \"v\", \"text\": \"\", \"type\": \"bar\", \"x\": [0, 1, 2, 3, 4, 5, 6, 7, 8, 9, 10, 11, 12, 13, 14, 15, 16, 17, 18, 19, 20, 21, 22, 23, 24, 25, 26, 27, 28, 29, 30, 31, 32, 33, 34, 35, 36, 37, 38, 39, 40, 41, 42, 43, 44, 45, 46, 47, 48, 49, 50, 51, 52, 53, 54, 55, 56, 57, 58, 59, 60, 61, 62, 63, 64, 65, 66, 67, 68, 69, 70, 71, 72, 73, 74, 75, 76, 77, 78, 79, 80, 81, 82, 83, 84, 85, 86, 87, 88, 89, 90, 91, 92, 93, 94, 95, 96, 97, 98, 99], \"y\": [2.0436691209421562, 0.1824761840116358, 0.5700043679018382, -0.22935727746462556, 0.7569207059020728, -0.14317016618902656, 0.21129156018164277, -0.2616089926871364, 1.4495406157464286, -0.9342860392352873, -0.09084447475739998, -1.565429635024042, -1.5406840105456636, -0.8559537704229165, -1.1114922404496523, 0.5063532674496958, 1.3487191387605066, 1.956255565670463, 1.8183720503917729, 0.5786629868706473, -0.3604354290108231, 0.2873145928066404, 0.19750155695426078, -0.8480331396213573, 0.417599115069566, 1.8968061348373466, -0.8637792682058373, 1.6257780581247228, -0.8623822878043705, 0.4556310697362648, 0.8648090566042301, 0.7313030024535564, 2.2412089911543616, 0.47922271969325386, -2.2685243013314262, 0.04906054663673767, -1.498944857376424, 0.35060996571349773, -1.8836306877745341, -0.3262599784002874, -0.3782286761037799, -0.29946333506931067, 0.7508740231319113, 1.207476743985673, -0.7908941475885819, 1.3645664408744624, -0.3369882440756289, 0.31576705904068125, -0.7581710392004785, 1.1629083090850254, 0.349307505649559, 0.5313594705841929, 1.1053965751515706, -0.46012799965221596, 1.9386489652387204, -0.6788483704507831, -2.1840554947861524, 1.0198006550241243, 0.31529091115930113, 0.2241061424559845, -1.4119249854812994, 0.67559656553888, -0.4316193782730557, -1.4418982123850834, -1.2244517549484644, -0.156905996972589, -0.7081191788451137, 0.3311222601330798, -1.271135923083071, -1.6406037783928384, -0.7155308476950346, 0.07123578116279788, -0.09593250888678026, -3.21697202555598, 1.578719906595705, 0.19945974802986063, 0.7614590083524786, 0.947436823350358, -0.15283764572543185, -0.746368577035718, -0.4578868834298999, 0.7806486628818033, 2.0089091630328966, -0.3005203339251017, 0.41302694814666885, -0.4216556948739281, 0.8077852759929154, 0.6787555776336831, -0.6424320413366892, 1.0769566754877857, 0.9454046718505152, -0.416183530686335, 0.7665667379007157, 0.9349341829591532, 0.33304764522565167, -1.0951765638605833, 1.7175885746816932, 2.0570025387997637, -1.5297582991982859, -0.42968195284927535]}],\n                        {\"legend\": {\"bgcolor\": \"#F5F6F9\", \"font\": {\"color\": \"#4D5663\"}}, \"paper_bgcolor\": \"#F5F6F9\", \"plot_bgcolor\": \"#F5F6F9\", \"template\": {\"data\": {\"bar\": [{\"error_x\": {\"color\": \"#2a3f5f\"}, \"error_y\": {\"color\": \"#2a3f5f\"}, \"marker\": {\"line\": {\"color\": \"#E5ECF6\", \"width\": 0.5}}, \"type\": \"bar\"}], \"barpolar\": [{\"marker\": {\"line\": {\"color\": \"#E5ECF6\", \"width\": 0.5}}, \"type\": \"barpolar\"}], \"carpet\": [{\"aaxis\": {\"endlinecolor\": \"#2a3f5f\", \"gridcolor\": \"white\", \"linecolor\": \"white\", \"minorgridcolor\": \"white\", \"startlinecolor\": \"#2a3f5f\"}, \"baxis\": {\"endlinecolor\": \"#2a3f5f\", \"gridcolor\": \"white\", \"linecolor\": \"white\", \"minorgridcolor\": \"white\", \"startlinecolor\": \"#2a3f5f\"}, \"type\": \"carpet\"}], \"choropleth\": [{\"colorbar\": {\"outlinewidth\": 0, \"ticks\": \"\"}, \"type\": \"choropleth\"}], \"contour\": [{\"colorbar\": {\"outlinewidth\": 0, \"ticks\": \"\"}, \"colorscale\": [[0.0, \"#0d0887\"], [0.1111111111111111, \"#46039f\"], [0.2222222222222222, \"#7201a8\"], [0.3333333333333333, \"#9c179e\"], [0.4444444444444444, \"#bd3786\"], [0.5555555555555556, \"#d8576b\"], [0.6666666666666666, \"#ed7953\"], [0.7777777777777778, \"#fb9f3a\"], [0.8888888888888888, \"#fdca26\"], [1.0, \"#f0f921\"]], \"type\": \"contour\"}], \"contourcarpet\": [{\"colorbar\": {\"outlinewidth\": 0, \"ticks\": \"\"}, \"type\": \"contourcarpet\"}], \"heatmap\": [{\"colorbar\": {\"outlinewidth\": 0, \"ticks\": \"\"}, \"colorscale\": [[0.0, \"#0d0887\"], [0.1111111111111111, \"#46039f\"], [0.2222222222222222, \"#7201a8\"], [0.3333333333333333, \"#9c179e\"], [0.4444444444444444, \"#bd3786\"], [0.5555555555555556, \"#d8576b\"], [0.6666666666666666, \"#ed7953\"], [0.7777777777777778, \"#fb9f3a\"], [0.8888888888888888, \"#fdca26\"], [1.0, \"#f0f921\"]], \"type\": \"heatmap\"}], \"heatmapgl\": [{\"colorbar\": {\"outlinewidth\": 0, \"ticks\": \"\"}, \"colorscale\": [[0.0, \"#0d0887\"], [0.1111111111111111, \"#46039f\"], [0.2222222222222222, \"#7201a8\"], [0.3333333333333333, \"#9c179e\"], [0.4444444444444444, \"#bd3786\"], [0.5555555555555556, \"#d8576b\"], [0.6666666666666666, \"#ed7953\"], [0.7777777777777778, \"#fb9f3a\"], [0.8888888888888888, \"#fdca26\"], [1.0, \"#f0f921\"]], \"type\": \"heatmapgl\"}], \"histogram\": [{\"marker\": {\"colorbar\": {\"outlinewidth\": 0, \"ticks\": \"\"}}, \"type\": \"histogram\"}], \"histogram2d\": [{\"colorbar\": {\"outlinewidth\": 0, \"ticks\": \"\"}, \"colorscale\": [[0.0, \"#0d0887\"], [0.1111111111111111, \"#46039f\"], [0.2222222222222222, \"#7201a8\"], [0.3333333333333333, \"#9c179e\"], [0.4444444444444444, \"#bd3786\"], [0.5555555555555556, \"#d8576b\"], [0.6666666666666666, \"#ed7953\"], [0.7777777777777778, \"#fb9f3a\"], [0.8888888888888888, \"#fdca26\"], [1.0, \"#f0f921\"]], \"type\": \"histogram2d\"}], \"histogram2dcontour\": [{\"colorbar\": {\"outlinewidth\": 0, \"ticks\": \"\"}, \"colorscale\": [[0.0, \"#0d0887\"], [0.1111111111111111, \"#46039f\"], [0.2222222222222222, \"#7201a8\"], [0.3333333333333333, \"#9c179e\"], [0.4444444444444444, \"#bd3786\"], [0.5555555555555556, \"#d8576b\"], [0.6666666666666666, \"#ed7953\"], [0.7777777777777778, \"#fb9f3a\"], [0.8888888888888888, \"#fdca26\"], [1.0, \"#f0f921\"]], \"type\": \"histogram2dcontour\"}], \"mesh3d\": [{\"colorbar\": {\"outlinewidth\": 0, \"ticks\": \"\"}, \"type\": \"mesh3d\"}], \"parcoords\": [{\"line\": {\"colorbar\": {\"outlinewidth\": 0, \"ticks\": \"\"}}, \"type\": \"parcoords\"}], \"pie\": [{\"automargin\": true, \"type\": \"pie\"}], \"scatter\": [{\"marker\": {\"colorbar\": {\"outlinewidth\": 0, \"ticks\": \"\"}}, \"type\": \"scatter\"}], \"scatter3d\": [{\"line\": {\"colorbar\": {\"outlinewidth\": 0, \"ticks\": \"\"}}, \"marker\": {\"colorbar\": {\"outlinewidth\": 0, \"ticks\": \"\"}}, \"type\": \"scatter3d\"}], \"scattercarpet\": [{\"marker\": {\"colorbar\": {\"outlinewidth\": 0, \"ticks\": \"\"}}, \"type\": \"scattercarpet\"}], \"scattergeo\": [{\"marker\": {\"colorbar\": {\"outlinewidth\": 0, \"ticks\": \"\"}}, \"type\": \"scattergeo\"}], \"scattergl\": [{\"marker\": {\"colorbar\": {\"outlinewidth\": 0, \"ticks\": \"\"}}, \"type\": \"scattergl\"}], \"scattermapbox\": [{\"marker\": {\"colorbar\": {\"outlinewidth\": 0, \"ticks\": \"\"}}, \"type\": \"scattermapbox\"}], \"scatterpolar\": [{\"marker\": {\"colorbar\": {\"outlinewidth\": 0, \"ticks\": \"\"}}, \"type\": \"scatterpolar\"}], \"scatterpolargl\": [{\"marker\": {\"colorbar\": {\"outlinewidth\": 0, \"ticks\": \"\"}}, \"type\": \"scatterpolargl\"}], \"scatterternary\": [{\"marker\": {\"colorbar\": {\"outlinewidth\": 0, \"ticks\": \"\"}}, \"type\": \"scatterternary\"}], \"surface\": [{\"colorbar\": {\"outlinewidth\": 0, \"ticks\": \"\"}, \"colorscale\": [[0.0, \"#0d0887\"], [0.1111111111111111, \"#46039f\"], [0.2222222222222222, \"#7201a8\"], [0.3333333333333333, \"#9c179e\"], [0.4444444444444444, \"#bd3786\"], [0.5555555555555556, \"#d8576b\"], [0.6666666666666666, \"#ed7953\"], [0.7777777777777778, \"#fb9f3a\"], [0.8888888888888888, \"#fdca26\"], [1.0, \"#f0f921\"]], \"type\": \"surface\"}], \"table\": [{\"cells\": {\"fill\": {\"color\": \"#EBF0F8\"}, \"line\": {\"color\": \"white\"}}, \"header\": {\"fill\": {\"color\": \"#C8D4E3\"}, \"line\": {\"color\": \"white\"}}, \"type\": \"table\"}]}, \"layout\": {\"annotationdefaults\": {\"arrowcolor\": \"#2a3f5f\", \"arrowhead\": 0, \"arrowwidth\": 1}, \"coloraxis\": {\"colorbar\": {\"outlinewidth\": 0, \"ticks\": \"\"}}, \"colorscale\": {\"diverging\": [[0, \"#8e0152\"], [0.1, \"#c51b7d\"], [0.2, \"#de77ae\"], [0.3, \"#f1b6da\"], [0.4, \"#fde0ef\"], [0.5, \"#f7f7f7\"], [0.6, \"#e6f5d0\"], [0.7, \"#b8e186\"], [0.8, \"#7fbc41\"], [0.9, \"#4d9221\"], [1, \"#276419\"]], \"sequential\": [[0.0, \"#0d0887\"], [0.1111111111111111, \"#46039f\"], [0.2222222222222222, \"#7201a8\"], [0.3333333333333333, \"#9c179e\"], [0.4444444444444444, \"#bd3786\"], [0.5555555555555556, \"#d8576b\"], [0.6666666666666666, \"#ed7953\"], [0.7777777777777778, \"#fb9f3a\"], [0.8888888888888888, \"#fdca26\"], [1.0, \"#f0f921\"]], \"sequentialminus\": [[0.0, \"#0d0887\"], [0.1111111111111111, \"#46039f\"], [0.2222222222222222, \"#7201a8\"], [0.3333333333333333, \"#9c179e\"], [0.4444444444444444, \"#bd3786\"], [0.5555555555555556, \"#d8576b\"], [0.6666666666666666, \"#ed7953\"], [0.7777777777777778, \"#fb9f3a\"], [0.8888888888888888, \"#fdca26\"], [1.0, \"#f0f921\"]]}, \"colorway\": [\"#636efa\", \"#EF553B\", \"#00cc96\", \"#ab63fa\", \"#FFA15A\", \"#19d3f3\", \"#FF6692\", \"#B6E880\", \"#FF97FF\", \"#FECB52\"], \"font\": {\"color\": \"#2a3f5f\"}, \"geo\": {\"bgcolor\": \"white\", \"lakecolor\": \"white\", \"landcolor\": \"#E5ECF6\", \"showlakes\": true, \"showland\": true, \"subunitcolor\": \"white\"}, \"hoverlabel\": {\"align\": \"left\"}, \"hovermode\": \"closest\", \"mapbox\": {\"style\": \"light\"}, \"paper_bgcolor\": \"white\", \"plot_bgcolor\": \"#E5ECF6\", \"polar\": {\"angularaxis\": {\"gridcolor\": \"white\", \"linecolor\": \"white\", \"ticks\": \"\"}, \"bgcolor\": \"#E5ECF6\", \"radialaxis\": {\"gridcolor\": \"white\", \"linecolor\": \"white\", \"ticks\": \"\"}}, \"scene\": {\"xaxis\": {\"backgroundcolor\": \"#E5ECF6\", \"gridcolor\": \"white\", \"gridwidth\": 2, \"linecolor\": \"white\", \"showbackground\": true, \"ticks\": \"\", \"zerolinecolor\": \"white\"}, \"yaxis\": {\"backgroundcolor\": \"#E5ECF6\", \"gridcolor\": \"white\", \"gridwidth\": 2, \"linecolor\": \"white\", \"showbackground\": true, \"ticks\": \"\", \"zerolinecolor\": \"white\"}, \"zaxis\": {\"backgroundcolor\": \"#E5ECF6\", \"gridcolor\": \"white\", \"gridwidth\": 2, \"linecolor\": \"white\", \"showbackground\": true, \"ticks\": \"\", \"zerolinecolor\": \"white\"}}, \"shapedefaults\": {\"line\": {\"color\": \"#2a3f5f\"}}, \"ternary\": {\"aaxis\": {\"gridcolor\": \"white\", \"linecolor\": \"white\", \"ticks\": \"\"}, \"baxis\": {\"gridcolor\": \"white\", \"linecolor\": \"white\", \"ticks\": \"\"}, \"bgcolor\": \"#E5ECF6\", \"caxis\": {\"gridcolor\": \"white\", \"linecolor\": \"white\", \"ticks\": \"\"}}, \"title\": {\"x\": 0.05}, \"xaxis\": {\"automargin\": true, \"gridcolor\": \"white\", \"linecolor\": \"white\", \"ticks\": \"\", \"title\": {\"standoff\": 15}, \"zerolinecolor\": \"white\", \"zerolinewidth\": 2}, \"yaxis\": {\"automargin\": true, \"gridcolor\": \"white\", \"linecolor\": \"white\", \"ticks\": \"\", \"title\": {\"standoff\": 15}, \"zerolinecolor\": \"white\", \"zerolinewidth\": 2}}}, \"title\": {\"font\": {\"color\": \"#4D5663\"}}, \"xaxis\": {\"gridcolor\": \"#E1E5ED\", \"showgrid\": true, \"tickfont\": {\"color\": \"#4D5663\"}, \"title\": {\"font\": {\"color\": \"#4D5663\"}, \"text\": \"\"}, \"zerolinecolor\": \"#E1E5ED\"}, \"yaxis\": {\"gridcolor\": \"#E1E5ED\", \"showgrid\": true, \"tickfont\": {\"color\": \"#4D5663\"}, \"title\": {\"font\": {\"color\": \"#4D5663\"}, \"text\": \"\"}, \"zerolinecolor\": \"#E1E5ED\"}},\n                        {\"showLink\": true, \"linkText\": \"Export to plot.ly\", \"plotlyServerURL\": \"https://plot.ly\", \"responsive\": true}\n                    ).then(function(){\n                            \nvar gd = document.getElementById('4ebc4c64-cb6f-4f1c-80ab-f0a2621b09dc');\nvar x = new MutationObserver(function (mutations, observer) {{\n        var display = window.getComputedStyle(gd).display;\n        if (!display || display === 'none') {{\n            console.log([gd, 'removed!']);\n            Plotly.purge(gd);\n            observer.disconnect();\n        }}\n}});\n\n// Listen for the removal of the full notebook cells\nvar notebookContainer = gd.closest('#notebook-container');\nif (notebookContainer) {{\n    x.observe(notebookContainer, {childList: true});\n}}\n\n// Listen for the clearing of the current output cell\nvar outputEl = gd.closest('.output');\nif (outputEl) {{\n    x.observe(outputEl, {childList: true});\n}}\n\n                        })\n                };\n                });\n            </script>\n        </div>"
     },
     "metadata": {},
     "output_type": "display_data"
    }
   ],
   "source": [
    "df.iplot(kind='bar')"
   ]
  },
  {
   "cell_type": "markdown",
   "metadata": {
    "pycharm": {
     "name": "#%% md\n"
    }
   },
   "source": [
    "### Боксплот"
   ]
  },
  {
   "cell_type": "code",
   "execution_count": 11,
   "metadata": {
    "pycharm": {
     "is_executing": false,
     "name": "#%%\n"
    }
   },
   "outputs": [
    {
     "data": {
      "application/vnd.plotly.v1+json": {
       "config": {
        "linkText": "Export to plot.ly",
        "plotlyServerURL": "https://plot.ly",
        "showLink": true
       },
       "data": [
        {
         "boxpoints": false,
         "line": {
          "width": 1.3
         },
         "marker": {
          "color": "rgba(255, 153, 51, 1.0)"
         },
         "name": "A",
         "orientation": "v",
         "type": "box",
         "y": [
          -1.4863073708975698,
          -2.1850824021195616,
          -2.960827272545752,
          0.638069862685476,
          0.21377793975387355,
          -0.8154978341789988,
          -1.5739883105017602,
          0.4318822775286287,
          -1.3265888287929182,
          1.259183517429503,
          -0.017407080654257518,
          -0.10281927824957425,
          0.05337750178968702,
          -0.6292896610597629,
          0.38616052190444494,
          -0.22605631512131022,
          -0.09853750276821739,
          -1.1066396351534582,
          0.9114796019739642,
          0.29518110596127883,
          0.5965871078261196,
          -0.6190242134296731,
          -0.9294887399068007,
          0.24055976556184552,
          0.05308689523824642,
          -0.32226287593468833,
          1.063935624998341,
          -0.5072921436705043,
          -1.5377735821424616,
          -0.685396102123712,
          -2.605179870972897,
          -0.014336078140034441,
          0.13052624885473935,
          -0.3793653369458108,
          0.6065077500095933,
          -0.763188427541439,
          2.170705302187318,
          -0.8878237136360704,
          0.30600965400701974,
          -1.0163183411750913,
          1.0624991809215645,
          -0.4412390260445293,
          0.3651556864264858,
          -1.486978745096095,
          1.664516514200354,
          1.1997710720009844,
          -2.0555831792245747,
          0.9235026440401792,
          0.07848950119542743,
          1.3431294743521662,
          3.2765097706920816,
          -0.4934295310273326,
          0.990094748628564,
          2.0134383679368852,
          -2.287636557492431,
          0.8224077368953896,
          -0.3560884397513596,
          -1.744011177010594,
          -0.034766326276481054,
          -0.7374693628800136,
          -1.140617878297122,
          -0.28734548744461696,
          0.5667681473808669,
          -0.9520658721364366,
          0.9596448650717668,
          0.3919613373221554,
          -0.9680655332483575,
          0.42334251965705855,
          1.772520654229283,
          0.650698170834495,
          -1.1317667464189085,
          -1.8459395957855504,
          0.8062363265030782,
          0.3147212847950096,
          -1.057789454250701,
          -0.29795494761001645,
          0.789773725362857,
          1.083507179451289,
          -1.9468646653134738,
          -0.21824193932452937,
          0.4675002253006263,
          1.605648784272931,
          -0.8821948592590849,
          -1.0917912230779365,
          0.06719803818297368,
          0.770564006511959,
          1.3408187755846943,
          1.7074842570992093,
          1.5703817547245793,
          0.29386034266401145,
          -0.06716747238653473,
          0.9434032958517293,
          -0.04607609878312643,
          -1.5422232108086,
          -0.7792537895554505,
          -0.3687631447341126,
          -0.09668785472371995,
          1.067454982834531,
          0.08877790370553766,
          1.0971434149579615
         ]
        },
        {
         "boxpoints": false,
         "line": {
          "width": 1.3
         },
         "marker": {
          "color": "rgba(55, 128, 191, 1.0)"
         },
         "name": "B",
         "orientation": "v",
         "type": "box",
         "y": [
          0.991862700951286,
          0.24950253065649877,
          0.3950093976649536,
          0.6188708512930853,
          -0.7747954695629024,
          -0.6999267092916548,
          0.0767008924504014,
          1.1329314657450371,
          0.6433203381952936,
          1.6131660962513228,
          0.06043736850071907,
          0.8713454604033425,
          -0.18930552552586122,
          0.43833285799875565,
          -0.6995013195151322,
          -1.8064010468855245,
          0.687905900643732,
          1.396414503651976,
          -0.8072414603179552,
          1.0587564990166214,
          -0.3796720805805881,
          -0.3195073545466219,
          -1.3298790867118577,
          0.6457868122925032,
          -0.6441709957256099,
          -0.40827355746977784,
          -0.8355145027336962,
          0.8677656888788933,
          -0.30118120675530397,
          0.4963393424518228,
          1.8997241764226496,
          2.6281040905157247,
          1.4377596195562439,
          -1.8840417497279667,
          -0.4534505483577321,
          -0.6109510793091015,
          0.0151099174140034,
          0.6113033544272953,
          -1.0671475176105258,
          -1.347816683912141,
          0.05455733113361512,
          -0.4739243275402265,
          -0.45829014109480576,
          -0.726852510520777,
          -0.17788606157097492,
          -0.17897625981444226,
          0.685167733415189,
          -1.9724384236155548,
          0.7937847144227674,
          -1.1535059289831828,
          0.5102192179387394,
          0.8606104025042941,
          1.795271491052051,
          0.8545248489559998,
          0.8939539538337453,
          0.9961409783162299,
          -2.212550853061344,
          0.7806743317887066,
          1.1421746771338692,
          0.2881768847509344,
          -0.18142864879455858,
          -1.196135981429346,
          -0.9432708001793368,
          -1.4910858898960022,
          -2.1374718013605234,
          2.2207175524641616,
          0.03019455031206788,
          0.9877754416137221,
          1.044919815072245,
          -0.4359856415997237,
          -2.556134407655902,
          0.8257669498802955,
          -0.49672006283080633,
          -0.5433664670566228,
          -0.40402255151282734,
          -0.9041658119968088,
          0.48220006883816724,
          1.3853556377901446,
          0.6436047187928708,
          0.08846144335836506,
          -0.1682423067605211,
          0.17385203610914976,
          -0.5620543658393782,
          1.1000045334205817,
          0.8449228133014679,
          2.0693586894798575,
          0.556074393022577,
          -0.09675473988838523,
          -1.4876250381532938,
          -0.49795804936956967,
          -2.1141074948250784,
          0.6731424953480482,
          -0.5486912328010581,
          -1.9787097456859963,
          -0.45434678245835275,
          0.5868522472967778,
          0.09853414803666562,
          -0.49452835762931896,
          -2.116011155396429,
          -0.05396114288166204
         ]
        },
        {
         "boxpoints": false,
         "line": {
          "width": 1.3
         },
         "marker": {
          "color": "rgba(50, 171, 96, 1.0)"
         },
         "name": "C",
         "orientation": "v",
         "type": "box",
         "y": [
          -0.3753741788856934,
          0.5679662611009498,
          0.4677313122351522,
          1.711581076417976,
          -0.23277048837939648,
          -1.3267012027130738,
          0.3739434057450148,
          -2.643571540323504,
          -1.145880614666761,
          1.1928955037375057,
          1.9863941652632737,
          0.573430062744424,
          0.8156376623031294,
          -0.2572022843431144,
          0.9042432883188274,
          0.3715434829837976,
          -2.0834161164323506,
          1.5953862925501323,
          -0.2238261581980897,
          -0.1216764324691142,
          0.2736288663987507,
          1.4356667621173613,
          -2.1949481488151847,
          -1.3236141120670448,
          -1.0735945971051435,
          -1.3663346326509864,
          -0.0185940426044395,
          1.8902953555195336,
          0.567126228448343,
          -0.5789037243795288,
          -0.5755340178660493,
          1.0550316165963012,
          1.0441029808292899,
          -0.11420736861863401,
          0.12524239868540765,
          2.3400605491663047,
          -0.5782934311304733,
          0.2108310203970129,
          0.4039331862171811,
          0.44360322247555956,
          -0.12085742117129346,
          -0.8439468871075504,
          -1.158756996162908,
          0.15430035399347133,
          -0.06386858016005441,
          -0.5074262422549175,
          0.11555993742750822,
          -0.5577283425727401,
          -0.47789084485793143,
          -1.6403711405172237,
          0.4827664013390895,
          1.8028155547633575,
          1.4001098054136305,
          0.3267302345742465,
          -0.4848670587721663,
          0.09227216079736342,
          0.07123892931472044,
          1.3481163362612534,
          1.0169867096972263,
          0.6170681768119419,
          0.22108609767698298,
          -0.7842927767017362,
          -1.915537043065621,
          0.328018803408384,
          -1.7278938381029623,
          0.43078382443629565,
          2.0481051229562257,
          -0.7956971542699457,
          0.5020823215935366,
          0.6949890081830239,
          0.5338802549188443,
          1.4392317783792197,
          -0.11039014255304978,
          0.8618715191435556,
          -1.2896289383655481,
          -0.02281907828284579,
          -1.3135449694462873,
          -0.4717030103235045,
          -0.8160617409124374,
          -1.1280099487793187,
          -1.6670501450748478,
          0.7607906281945472,
          0.2796867560346704,
          0.017180080705273514,
          -0.0949567224231892,
          0.00634285875947798,
          0.3046419492352927,
          -1.014498313219501,
          0.30306332735540786,
          1.0227713330043546,
          -0.0836722027615909,
          -0.12612606064856932,
          1.4807005920373766,
          -1.065714626827212,
          0.9040155977160081,
          1.4766809212757679,
          -0.5668708254940893,
          -1.5662672710340224,
          -1.5263870398107666,
          -0.2590630334259091
         ]
        },
        {
         "boxpoints": false,
         "line": {
          "width": 1.3
         },
         "marker": {
          "color": "rgba(128, 0, 128, 1.0)"
         },
         "name": "D",
         "orientation": "v",
         "type": "box",
         "y": [
          2.0436691209421562,
          0.1824761840116358,
          0.5700043679018382,
          -0.22935727746462556,
          0.7569207059020728,
          -0.14317016618902656,
          0.21129156018164277,
          -0.2616089926871364,
          1.4495406157464286,
          -0.9342860392352873,
          -0.09084447475739998,
          -1.565429635024042,
          -1.5406840105456636,
          -0.8559537704229165,
          -1.1114922404496523,
          0.5063532674496958,
          1.3487191387605066,
          1.956255565670463,
          1.8183720503917729,
          0.5786629868706473,
          -0.3604354290108231,
          0.2873145928066404,
          0.19750155695426078,
          -0.8480331396213573,
          0.417599115069566,
          1.8968061348373466,
          -0.8637792682058373,
          1.6257780581247228,
          -0.8623822878043705,
          0.4556310697362648,
          0.8648090566042301,
          0.7313030024535564,
          2.2412089911543616,
          0.47922271969325386,
          -2.2685243013314262,
          0.04906054663673767,
          -1.498944857376424,
          0.35060996571349773,
          -1.8836306877745341,
          -0.3262599784002874,
          -0.3782286761037799,
          -0.29946333506931067,
          0.7508740231319113,
          1.207476743985673,
          -0.7908941475885819,
          1.3645664408744624,
          -0.3369882440756289,
          0.31576705904068125,
          -0.7581710392004785,
          1.1629083090850254,
          0.349307505649559,
          0.5313594705841929,
          1.1053965751515706,
          -0.46012799965221596,
          1.9386489652387204,
          -0.6788483704507831,
          -2.1840554947861524,
          1.0198006550241243,
          0.31529091115930113,
          0.2241061424559845,
          -1.4119249854812994,
          0.67559656553888,
          -0.4316193782730557,
          -1.4418982123850834,
          -1.2244517549484644,
          -0.156905996972589,
          -0.7081191788451137,
          0.3311222601330798,
          -1.271135923083071,
          -1.6406037783928384,
          -0.7155308476950346,
          0.07123578116279788,
          -0.09593250888678026,
          -3.21697202555598,
          1.578719906595705,
          0.19945974802986063,
          0.7614590083524786,
          0.947436823350358,
          -0.15283764572543185,
          -0.746368577035718,
          -0.4578868834298999,
          0.7806486628818033,
          2.0089091630328966,
          -0.3005203339251017,
          0.41302694814666885,
          -0.4216556948739281,
          0.8077852759929154,
          0.6787555776336831,
          -0.6424320413366892,
          1.0769566754877857,
          0.9454046718505152,
          -0.416183530686335,
          0.7665667379007157,
          0.9349341829591532,
          0.33304764522565167,
          -1.0951765638605833,
          1.7175885746816932,
          2.0570025387997637,
          -1.5297582991982859,
          -0.42968195284927535
         ]
        }
       ],
       "layout": {
        "legend": {
         "bgcolor": "#F5F6F9",
         "font": {
          "color": "#4D5663"
         }
        },
        "paper_bgcolor": "#F5F6F9",
        "plot_bgcolor": "#F5F6F9",
        "template": {
         "data": {
          "bar": [
           {
            "error_x": {
             "color": "#2a3f5f"
            },
            "error_y": {
             "color": "#2a3f5f"
            },
            "marker": {
             "line": {
              "color": "#E5ECF6",
              "width": 0.5
             }
            },
            "type": "bar"
           }
          ],
          "barpolar": [
           {
            "marker": {
             "line": {
              "color": "#E5ECF6",
              "width": 0.5
             }
            },
            "type": "barpolar"
           }
          ],
          "carpet": [
           {
            "aaxis": {
             "endlinecolor": "#2a3f5f",
             "gridcolor": "white",
             "linecolor": "white",
             "minorgridcolor": "white",
             "startlinecolor": "#2a3f5f"
            },
            "baxis": {
             "endlinecolor": "#2a3f5f",
             "gridcolor": "white",
             "linecolor": "white",
             "minorgridcolor": "white",
             "startlinecolor": "#2a3f5f"
            },
            "type": "carpet"
           }
          ],
          "choropleth": [
           {
            "colorbar": {
             "outlinewidth": 0,
             "ticks": ""
            },
            "type": "choropleth"
           }
          ],
          "contour": [
           {
            "colorbar": {
             "outlinewidth": 0,
             "ticks": ""
            },
            "colorscale": [
             [
              0.0,
              "#0d0887"
             ],
             [
              0.1111111111111111,
              "#46039f"
             ],
             [
              0.2222222222222222,
              "#7201a8"
             ],
             [
              0.3333333333333333,
              "#9c179e"
             ],
             [
              0.4444444444444444,
              "#bd3786"
             ],
             [
              0.5555555555555556,
              "#d8576b"
             ],
             [
              0.6666666666666666,
              "#ed7953"
             ],
             [
              0.7777777777777778,
              "#fb9f3a"
             ],
             [
              0.8888888888888888,
              "#fdca26"
             ],
             [
              1.0,
              "#f0f921"
             ]
            ],
            "type": "contour"
           }
          ],
          "contourcarpet": [
           {
            "colorbar": {
             "outlinewidth": 0,
             "ticks": ""
            },
            "type": "contourcarpet"
           }
          ],
          "heatmap": [
           {
            "colorbar": {
             "outlinewidth": 0,
             "ticks": ""
            },
            "colorscale": [
             [
              0.0,
              "#0d0887"
             ],
             [
              0.1111111111111111,
              "#46039f"
             ],
             [
              0.2222222222222222,
              "#7201a8"
             ],
             [
              0.3333333333333333,
              "#9c179e"
             ],
             [
              0.4444444444444444,
              "#bd3786"
             ],
             [
              0.5555555555555556,
              "#d8576b"
             ],
             [
              0.6666666666666666,
              "#ed7953"
             ],
             [
              0.7777777777777778,
              "#fb9f3a"
             ],
             [
              0.8888888888888888,
              "#fdca26"
             ],
             [
              1.0,
              "#f0f921"
             ]
            ],
            "type": "heatmap"
           }
          ],
          "heatmapgl": [
           {
            "colorbar": {
             "outlinewidth": 0,
             "ticks": ""
            },
            "colorscale": [
             [
              0.0,
              "#0d0887"
             ],
             [
              0.1111111111111111,
              "#46039f"
             ],
             [
              0.2222222222222222,
              "#7201a8"
             ],
             [
              0.3333333333333333,
              "#9c179e"
             ],
             [
              0.4444444444444444,
              "#bd3786"
             ],
             [
              0.5555555555555556,
              "#d8576b"
             ],
             [
              0.6666666666666666,
              "#ed7953"
             ],
             [
              0.7777777777777778,
              "#fb9f3a"
             ],
             [
              0.8888888888888888,
              "#fdca26"
             ],
             [
              1.0,
              "#f0f921"
             ]
            ],
            "type": "heatmapgl"
           }
          ],
          "histogram": [
           {
            "marker": {
             "colorbar": {
              "outlinewidth": 0,
              "ticks": ""
             }
            },
            "type": "histogram"
           }
          ],
          "histogram2d": [
           {
            "colorbar": {
             "outlinewidth": 0,
             "ticks": ""
            },
            "colorscale": [
             [
              0.0,
              "#0d0887"
             ],
             [
              0.1111111111111111,
              "#46039f"
             ],
             [
              0.2222222222222222,
              "#7201a8"
             ],
             [
              0.3333333333333333,
              "#9c179e"
             ],
             [
              0.4444444444444444,
              "#bd3786"
             ],
             [
              0.5555555555555556,
              "#d8576b"
             ],
             [
              0.6666666666666666,
              "#ed7953"
             ],
             [
              0.7777777777777778,
              "#fb9f3a"
             ],
             [
              0.8888888888888888,
              "#fdca26"
             ],
             [
              1.0,
              "#f0f921"
             ]
            ],
            "type": "histogram2d"
           }
          ],
          "histogram2dcontour": [
           {
            "colorbar": {
             "outlinewidth": 0,
             "ticks": ""
            },
            "colorscale": [
             [
              0.0,
              "#0d0887"
             ],
             [
              0.1111111111111111,
              "#46039f"
             ],
             [
              0.2222222222222222,
              "#7201a8"
             ],
             [
              0.3333333333333333,
              "#9c179e"
             ],
             [
              0.4444444444444444,
              "#bd3786"
             ],
             [
              0.5555555555555556,
              "#d8576b"
             ],
             [
              0.6666666666666666,
              "#ed7953"
             ],
             [
              0.7777777777777778,
              "#fb9f3a"
             ],
             [
              0.8888888888888888,
              "#fdca26"
             ],
             [
              1.0,
              "#f0f921"
             ]
            ],
            "type": "histogram2dcontour"
           }
          ],
          "mesh3d": [
           {
            "colorbar": {
             "outlinewidth": 0,
             "ticks": ""
            },
            "type": "mesh3d"
           }
          ],
          "parcoords": [
           {
            "line": {
             "colorbar": {
              "outlinewidth": 0,
              "ticks": ""
             }
            },
            "type": "parcoords"
           }
          ],
          "pie": [
           {
            "automargin": true,
            "type": "pie"
           }
          ],
          "scatter": [
           {
            "marker": {
             "colorbar": {
              "outlinewidth": 0,
              "ticks": ""
             }
            },
            "type": "scatter"
           }
          ],
          "scatter3d": [
           {
            "line": {
             "colorbar": {
              "outlinewidth": 0,
              "ticks": ""
             }
            },
            "marker": {
             "colorbar": {
              "outlinewidth": 0,
              "ticks": ""
             }
            },
            "type": "scatter3d"
           }
          ],
          "scattercarpet": [
           {
            "marker": {
             "colorbar": {
              "outlinewidth": 0,
              "ticks": ""
             }
            },
            "type": "scattercarpet"
           }
          ],
          "scattergeo": [
           {
            "marker": {
             "colorbar": {
              "outlinewidth": 0,
              "ticks": ""
             }
            },
            "type": "scattergeo"
           }
          ],
          "scattergl": [
           {
            "marker": {
             "colorbar": {
              "outlinewidth": 0,
              "ticks": ""
             }
            },
            "type": "scattergl"
           }
          ],
          "scattermapbox": [
           {
            "marker": {
             "colorbar": {
              "outlinewidth": 0,
              "ticks": ""
             }
            },
            "type": "scattermapbox"
           }
          ],
          "scatterpolar": [
           {
            "marker": {
             "colorbar": {
              "outlinewidth": 0,
              "ticks": ""
             }
            },
            "type": "scatterpolar"
           }
          ],
          "scatterpolargl": [
           {
            "marker": {
             "colorbar": {
              "outlinewidth": 0,
              "ticks": ""
             }
            },
            "type": "scatterpolargl"
           }
          ],
          "scatterternary": [
           {
            "marker": {
             "colorbar": {
              "outlinewidth": 0,
              "ticks": ""
             }
            },
            "type": "scatterternary"
           }
          ],
          "surface": [
           {
            "colorbar": {
             "outlinewidth": 0,
             "ticks": ""
            },
            "colorscale": [
             [
              0.0,
              "#0d0887"
             ],
             [
              0.1111111111111111,
              "#46039f"
             ],
             [
              0.2222222222222222,
              "#7201a8"
             ],
             [
              0.3333333333333333,
              "#9c179e"
             ],
             [
              0.4444444444444444,
              "#bd3786"
             ],
             [
              0.5555555555555556,
              "#d8576b"
             ],
             [
              0.6666666666666666,
              "#ed7953"
             ],
             [
              0.7777777777777778,
              "#fb9f3a"
             ],
             [
              0.8888888888888888,
              "#fdca26"
             ],
             [
              1.0,
              "#f0f921"
             ]
            ],
            "type": "surface"
           }
          ],
          "table": [
           {
            "cells": {
             "fill": {
              "color": "#EBF0F8"
             },
             "line": {
              "color": "white"
             }
            },
            "header": {
             "fill": {
              "color": "#C8D4E3"
             },
             "line": {
              "color": "white"
             }
            },
            "type": "table"
           }
          ]
         },
         "layout": {
          "annotationdefaults": {
           "arrowcolor": "#2a3f5f",
           "arrowhead": 0,
           "arrowwidth": 1
          },
          "coloraxis": {
           "colorbar": {
            "outlinewidth": 0,
            "ticks": ""
           }
          },
          "colorscale": {
           "diverging": [
            [
             0,
             "#8e0152"
            ],
            [
             0.1,
             "#c51b7d"
            ],
            [
             0.2,
             "#de77ae"
            ],
            [
             0.3,
             "#f1b6da"
            ],
            [
             0.4,
             "#fde0ef"
            ],
            [
             0.5,
             "#f7f7f7"
            ],
            [
             0.6,
             "#e6f5d0"
            ],
            [
             0.7,
             "#b8e186"
            ],
            [
             0.8,
             "#7fbc41"
            ],
            [
             0.9,
             "#4d9221"
            ],
            [
             1,
             "#276419"
            ]
           ],
           "sequential": [
            [
             0.0,
             "#0d0887"
            ],
            [
             0.1111111111111111,
             "#46039f"
            ],
            [
             0.2222222222222222,
             "#7201a8"
            ],
            [
             0.3333333333333333,
             "#9c179e"
            ],
            [
             0.4444444444444444,
             "#bd3786"
            ],
            [
             0.5555555555555556,
             "#d8576b"
            ],
            [
             0.6666666666666666,
             "#ed7953"
            ],
            [
             0.7777777777777778,
             "#fb9f3a"
            ],
            [
             0.8888888888888888,
             "#fdca26"
            ],
            [
             1.0,
             "#f0f921"
            ]
           ],
           "sequentialminus": [
            [
             0.0,
             "#0d0887"
            ],
            [
             0.1111111111111111,
             "#46039f"
            ],
            [
             0.2222222222222222,
             "#7201a8"
            ],
            [
             0.3333333333333333,
             "#9c179e"
            ],
            [
             0.4444444444444444,
             "#bd3786"
            ],
            [
             0.5555555555555556,
             "#d8576b"
            ],
            [
             0.6666666666666666,
             "#ed7953"
            ],
            [
             0.7777777777777778,
             "#fb9f3a"
            ],
            [
             0.8888888888888888,
             "#fdca26"
            ],
            [
             1.0,
             "#f0f921"
            ]
           ]
          },
          "colorway": [
           "#636efa",
           "#EF553B",
           "#00cc96",
           "#ab63fa",
           "#FFA15A",
           "#19d3f3",
           "#FF6692",
           "#B6E880",
           "#FF97FF",
           "#FECB52"
          ],
          "font": {
           "color": "#2a3f5f"
          },
          "geo": {
           "bgcolor": "white",
           "lakecolor": "white",
           "landcolor": "#E5ECF6",
           "showlakes": true,
           "showland": true,
           "subunitcolor": "white"
          },
          "hoverlabel": {
           "align": "left"
          },
          "hovermode": "closest",
          "mapbox": {
           "style": "light"
          },
          "paper_bgcolor": "white",
          "plot_bgcolor": "#E5ECF6",
          "polar": {
           "angularaxis": {
            "gridcolor": "white",
            "linecolor": "white",
            "ticks": ""
           },
           "bgcolor": "#E5ECF6",
           "radialaxis": {
            "gridcolor": "white",
            "linecolor": "white",
            "ticks": ""
           }
          },
          "scene": {
           "xaxis": {
            "backgroundcolor": "#E5ECF6",
            "gridcolor": "white",
            "gridwidth": 2,
            "linecolor": "white",
            "showbackground": true,
            "ticks": "",
            "zerolinecolor": "white"
           },
           "yaxis": {
            "backgroundcolor": "#E5ECF6",
            "gridcolor": "white",
            "gridwidth": 2,
            "linecolor": "white",
            "showbackground": true,
            "ticks": "",
            "zerolinecolor": "white"
           },
           "zaxis": {
            "backgroundcolor": "#E5ECF6",
            "gridcolor": "white",
            "gridwidth": 2,
            "linecolor": "white",
            "showbackground": true,
            "ticks": "",
            "zerolinecolor": "white"
           }
          },
          "shapedefaults": {
           "line": {
            "color": "#2a3f5f"
           }
          },
          "ternary": {
           "aaxis": {
            "gridcolor": "white",
            "linecolor": "white",
            "ticks": ""
           },
           "baxis": {
            "gridcolor": "white",
            "linecolor": "white",
            "ticks": ""
           },
           "bgcolor": "#E5ECF6",
           "caxis": {
            "gridcolor": "white",
            "linecolor": "white",
            "ticks": ""
           }
          },
          "title": {
           "x": 0.05
          },
          "xaxis": {
           "automargin": true,
           "gridcolor": "white",
           "linecolor": "white",
           "ticks": "",
           "title": {
            "standoff": 15
           },
           "zerolinecolor": "white",
           "zerolinewidth": 2
          },
          "yaxis": {
           "automargin": true,
           "gridcolor": "white",
           "linecolor": "white",
           "ticks": "",
           "title": {
            "standoff": 15
           },
           "zerolinecolor": "white",
           "zerolinewidth": 2
          }
         }
        },
        "title": {
         "font": {
          "color": "#4D5663"
         }
        },
        "xaxis": {
         "gridcolor": "#E1E5ED",
         "showgrid": true,
         "tickfont": {
          "color": "#4D5663"
         },
         "title": {
          "font": {
           "color": "#4D5663"
          },
          "text": ""
         },
         "zerolinecolor": "#E1E5ED"
        },
        "yaxis": {
         "gridcolor": "#E1E5ED",
         "showgrid": true,
         "tickfont": {
          "color": "#4D5663"
         },
         "title": {
          "font": {
           "color": "#4D5663"
          },
          "text": ""
         },
         "zerolinecolor": "#E1E5ED"
        }
       }
      },
      "text/html": "<div>\n        \n        \n            <div id=\"042b1f4d-e949-4286-a059-f19971392880\" class=\"plotly-graph-div\" style=\"height:525px; width:100%;\"></div>\n            <script type=\"text/javascript\">\n                require([\"plotly\"], function(Plotly) {\n                    window.PLOTLYENV=window.PLOTLYENV || {};\n                    window.PLOTLYENV.BASE_URL='https://plot.ly';\n                    \n                if (document.getElementById(\"042b1f4d-e949-4286-a059-f19971392880\")) {\n                    Plotly.newPlot(\n                        '042b1f4d-e949-4286-a059-f19971392880',\n                        [{\"boxpoints\": false, \"line\": {\"width\": 1.3}, \"marker\": {\"color\": \"rgba(255, 153, 51, 1.0)\"}, \"name\": \"A\", \"orientation\": \"v\", \"type\": \"box\", \"y\": [-1.4863073708975698, -2.1850824021195616, -2.960827272545752, 0.638069862685476, 0.21377793975387355, -0.8154978341789988, -1.5739883105017602, 0.4318822775286287, -1.3265888287929182, 1.259183517429503, -0.017407080654257518, -0.10281927824957425, 0.05337750178968702, -0.6292896610597629, 0.38616052190444494, -0.22605631512131022, -0.09853750276821739, -1.1066396351534582, 0.9114796019739642, 0.29518110596127883, 0.5965871078261196, -0.6190242134296731, -0.9294887399068007, 0.24055976556184552, 0.05308689523824642, -0.32226287593468833, 1.063935624998341, -0.5072921436705043, -1.5377735821424616, -0.685396102123712, -2.605179870972897, -0.014336078140034441, 0.13052624885473935, -0.3793653369458108, 0.6065077500095933, -0.763188427541439, 2.170705302187318, -0.8878237136360704, 0.30600965400701974, -1.0163183411750913, 1.0624991809215645, -0.4412390260445293, 0.3651556864264858, -1.486978745096095, 1.664516514200354, 1.1997710720009844, -2.0555831792245747, 0.9235026440401792, 0.07848950119542743, 1.3431294743521662, 3.2765097706920816, -0.4934295310273326, 0.990094748628564, 2.0134383679368852, -2.287636557492431, 0.8224077368953896, -0.3560884397513596, -1.744011177010594, -0.034766326276481054, -0.7374693628800136, -1.140617878297122, -0.28734548744461696, 0.5667681473808669, -0.9520658721364366, 0.9596448650717668, 0.3919613373221554, -0.9680655332483575, 0.42334251965705855, 1.772520654229283, 0.650698170834495, -1.1317667464189085, -1.8459395957855504, 0.8062363265030782, 0.3147212847950096, -1.057789454250701, -0.29795494761001645, 0.789773725362857, 1.083507179451289, -1.9468646653134738, -0.21824193932452937, 0.4675002253006263, 1.605648784272931, -0.8821948592590849, -1.0917912230779365, 0.06719803818297368, 0.770564006511959, 1.3408187755846943, 1.7074842570992093, 1.5703817547245793, 0.29386034266401145, -0.06716747238653473, 0.9434032958517293, -0.04607609878312643, -1.5422232108086, -0.7792537895554505, -0.3687631447341126, -0.09668785472371995, 1.067454982834531, 0.08877790370553766, 1.0971434149579615]}, {\"boxpoints\": false, \"line\": {\"width\": 1.3}, \"marker\": {\"color\": \"rgba(55, 128, 191, 1.0)\"}, \"name\": \"B\", \"orientation\": \"v\", \"type\": \"box\", \"y\": [0.991862700951286, 0.24950253065649877, 0.3950093976649536, 0.6188708512930853, -0.7747954695629024, -0.6999267092916548, 0.0767008924504014, 1.1329314657450371, 0.6433203381952936, 1.6131660962513228, 0.06043736850071907, 0.8713454604033425, -0.18930552552586122, 0.43833285799875565, -0.6995013195151322, -1.8064010468855245, 0.687905900643732, 1.396414503651976, -0.8072414603179552, 1.0587564990166214, -0.3796720805805881, -0.3195073545466219, -1.3298790867118577, 0.6457868122925032, -0.6441709957256099, -0.40827355746977784, -0.8355145027336962, 0.8677656888788933, -0.30118120675530397, 0.4963393424518228, 1.8997241764226496, 2.6281040905157247, 1.4377596195562439, -1.8840417497279667, -0.4534505483577321, -0.6109510793091015, 0.0151099174140034, 0.6113033544272953, -1.0671475176105258, -1.347816683912141, 0.05455733113361512, -0.4739243275402265, -0.45829014109480576, -0.726852510520777, -0.17788606157097492, -0.17897625981444226, 0.685167733415189, -1.9724384236155548, 0.7937847144227674, -1.1535059289831828, 0.5102192179387394, 0.8606104025042941, 1.795271491052051, 0.8545248489559998, 0.8939539538337453, 0.9961409783162299, -2.212550853061344, 0.7806743317887066, 1.1421746771338692, 0.2881768847509344, -0.18142864879455858, -1.196135981429346, -0.9432708001793368, -1.4910858898960022, -2.1374718013605234, 2.2207175524641616, 0.03019455031206788, 0.9877754416137221, 1.044919815072245, -0.4359856415997237, -2.556134407655902, 0.8257669498802955, -0.49672006283080633, -0.5433664670566228, -0.40402255151282734, -0.9041658119968088, 0.48220006883816724, 1.3853556377901446, 0.6436047187928708, 0.08846144335836506, -0.1682423067605211, 0.17385203610914976, -0.5620543658393782, 1.1000045334205817, 0.8449228133014679, 2.0693586894798575, 0.556074393022577, -0.09675473988838523, -1.4876250381532938, -0.49795804936956967, -2.1141074948250784, 0.6731424953480482, -0.5486912328010581, -1.9787097456859963, -0.45434678245835275, 0.5868522472967778, 0.09853414803666562, -0.49452835762931896, -2.116011155396429, -0.05396114288166204]}, {\"boxpoints\": false, \"line\": {\"width\": 1.3}, \"marker\": {\"color\": \"rgba(50, 171, 96, 1.0)\"}, \"name\": \"C\", \"orientation\": \"v\", \"type\": \"box\", \"y\": [-0.3753741788856934, 0.5679662611009498, 0.4677313122351522, 1.711581076417976, -0.23277048837939648, -1.3267012027130738, 0.3739434057450148, -2.643571540323504, -1.145880614666761, 1.1928955037375057, 1.9863941652632737, 0.573430062744424, 0.8156376623031294, -0.2572022843431144, 0.9042432883188274, 0.3715434829837976, -2.0834161164323506, 1.5953862925501323, -0.2238261581980897, -0.1216764324691142, 0.2736288663987507, 1.4356667621173613, -2.1949481488151847, -1.3236141120670448, -1.0735945971051435, -1.3663346326509864, -0.0185940426044395, 1.8902953555195336, 0.567126228448343, -0.5789037243795288, -0.5755340178660493, 1.0550316165963012, 1.0441029808292899, -0.11420736861863401, 0.12524239868540765, 2.3400605491663047, -0.5782934311304733, 0.2108310203970129, 0.4039331862171811, 0.44360322247555956, -0.12085742117129346, -0.8439468871075504, -1.158756996162908, 0.15430035399347133, -0.06386858016005441, -0.5074262422549175, 0.11555993742750822, -0.5577283425727401, -0.47789084485793143, -1.6403711405172237, 0.4827664013390895, 1.8028155547633575, 1.4001098054136305, 0.3267302345742465, -0.4848670587721663, 0.09227216079736342, 0.07123892931472044, 1.3481163362612534, 1.0169867096972263, 0.6170681768119419, 0.22108609767698298, -0.7842927767017362, -1.915537043065621, 0.328018803408384, -1.7278938381029623, 0.43078382443629565, 2.0481051229562257, -0.7956971542699457, 0.5020823215935366, 0.6949890081830239, 0.5338802549188443, 1.4392317783792197, -0.11039014255304978, 0.8618715191435556, -1.2896289383655481, -0.02281907828284579, -1.3135449694462873, -0.4717030103235045, -0.8160617409124374, -1.1280099487793187, -1.6670501450748478, 0.7607906281945472, 0.2796867560346704, 0.017180080705273514, -0.0949567224231892, 0.00634285875947798, 0.3046419492352927, -1.014498313219501, 0.30306332735540786, 1.0227713330043546, -0.0836722027615909, -0.12612606064856932, 1.4807005920373766, -1.065714626827212, 0.9040155977160081, 1.4766809212757679, -0.5668708254940893, -1.5662672710340224, -1.5263870398107666, -0.2590630334259091]}, {\"boxpoints\": false, \"line\": {\"width\": 1.3}, \"marker\": {\"color\": \"rgba(128, 0, 128, 1.0)\"}, \"name\": \"D\", \"orientation\": \"v\", \"type\": \"box\", \"y\": [2.0436691209421562, 0.1824761840116358, 0.5700043679018382, -0.22935727746462556, 0.7569207059020728, -0.14317016618902656, 0.21129156018164277, -0.2616089926871364, 1.4495406157464286, -0.9342860392352873, -0.09084447475739998, -1.565429635024042, -1.5406840105456636, -0.8559537704229165, -1.1114922404496523, 0.5063532674496958, 1.3487191387605066, 1.956255565670463, 1.8183720503917729, 0.5786629868706473, -0.3604354290108231, 0.2873145928066404, 0.19750155695426078, -0.8480331396213573, 0.417599115069566, 1.8968061348373466, -0.8637792682058373, 1.6257780581247228, -0.8623822878043705, 0.4556310697362648, 0.8648090566042301, 0.7313030024535564, 2.2412089911543616, 0.47922271969325386, -2.2685243013314262, 0.04906054663673767, -1.498944857376424, 0.35060996571349773, -1.8836306877745341, -0.3262599784002874, -0.3782286761037799, -0.29946333506931067, 0.7508740231319113, 1.207476743985673, -0.7908941475885819, 1.3645664408744624, -0.3369882440756289, 0.31576705904068125, -0.7581710392004785, 1.1629083090850254, 0.349307505649559, 0.5313594705841929, 1.1053965751515706, -0.46012799965221596, 1.9386489652387204, -0.6788483704507831, -2.1840554947861524, 1.0198006550241243, 0.31529091115930113, 0.2241061424559845, -1.4119249854812994, 0.67559656553888, -0.4316193782730557, -1.4418982123850834, -1.2244517549484644, -0.156905996972589, -0.7081191788451137, 0.3311222601330798, -1.271135923083071, -1.6406037783928384, -0.7155308476950346, 0.07123578116279788, -0.09593250888678026, -3.21697202555598, 1.578719906595705, 0.19945974802986063, 0.7614590083524786, 0.947436823350358, -0.15283764572543185, -0.746368577035718, -0.4578868834298999, 0.7806486628818033, 2.0089091630328966, -0.3005203339251017, 0.41302694814666885, -0.4216556948739281, 0.8077852759929154, 0.6787555776336831, -0.6424320413366892, 1.0769566754877857, 0.9454046718505152, -0.416183530686335, 0.7665667379007157, 0.9349341829591532, 0.33304764522565167, -1.0951765638605833, 1.7175885746816932, 2.0570025387997637, -1.5297582991982859, -0.42968195284927535]}],\n                        {\"legend\": {\"bgcolor\": \"#F5F6F9\", \"font\": {\"color\": \"#4D5663\"}}, \"paper_bgcolor\": \"#F5F6F9\", \"plot_bgcolor\": \"#F5F6F9\", \"template\": {\"data\": {\"bar\": [{\"error_x\": {\"color\": \"#2a3f5f\"}, \"error_y\": {\"color\": \"#2a3f5f\"}, \"marker\": {\"line\": {\"color\": \"#E5ECF6\", \"width\": 0.5}}, \"type\": \"bar\"}], \"barpolar\": [{\"marker\": {\"line\": {\"color\": \"#E5ECF6\", \"width\": 0.5}}, \"type\": \"barpolar\"}], \"carpet\": [{\"aaxis\": {\"endlinecolor\": \"#2a3f5f\", \"gridcolor\": \"white\", \"linecolor\": \"white\", \"minorgridcolor\": \"white\", \"startlinecolor\": \"#2a3f5f\"}, \"baxis\": {\"endlinecolor\": \"#2a3f5f\", \"gridcolor\": \"white\", \"linecolor\": \"white\", \"minorgridcolor\": \"white\", \"startlinecolor\": \"#2a3f5f\"}, \"type\": \"carpet\"}], \"choropleth\": [{\"colorbar\": {\"outlinewidth\": 0, \"ticks\": \"\"}, \"type\": \"choropleth\"}], \"contour\": [{\"colorbar\": {\"outlinewidth\": 0, \"ticks\": \"\"}, \"colorscale\": [[0.0, \"#0d0887\"], [0.1111111111111111, \"#46039f\"], [0.2222222222222222, \"#7201a8\"], [0.3333333333333333, \"#9c179e\"], [0.4444444444444444, \"#bd3786\"], [0.5555555555555556, \"#d8576b\"], [0.6666666666666666, \"#ed7953\"], [0.7777777777777778, \"#fb9f3a\"], [0.8888888888888888, \"#fdca26\"], [1.0, \"#f0f921\"]], \"type\": \"contour\"}], \"contourcarpet\": [{\"colorbar\": {\"outlinewidth\": 0, \"ticks\": \"\"}, \"type\": \"contourcarpet\"}], \"heatmap\": [{\"colorbar\": {\"outlinewidth\": 0, \"ticks\": \"\"}, \"colorscale\": [[0.0, \"#0d0887\"], [0.1111111111111111, \"#46039f\"], [0.2222222222222222, \"#7201a8\"], [0.3333333333333333, \"#9c179e\"], [0.4444444444444444, \"#bd3786\"], [0.5555555555555556, \"#d8576b\"], [0.6666666666666666, \"#ed7953\"], [0.7777777777777778, \"#fb9f3a\"], [0.8888888888888888, \"#fdca26\"], [1.0, \"#f0f921\"]], \"type\": \"heatmap\"}], \"heatmapgl\": [{\"colorbar\": {\"outlinewidth\": 0, \"ticks\": \"\"}, \"colorscale\": [[0.0, \"#0d0887\"], [0.1111111111111111, \"#46039f\"], [0.2222222222222222, \"#7201a8\"], [0.3333333333333333, \"#9c179e\"], [0.4444444444444444, \"#bd3786\"], [0.5555555555555556, \"#d8576b\"], [0.6666666666666666, \"#ed7953\"], [0.7777777777777778, \"#fb9f3a\"], [0.8888888888888888, \"#fdca26\"], [1.0, \"#f0f921\"]], \"type\": \"heatmapgl\"}], \"histogram\": [{\"marker\": {\"colorbar\": {\"outlinewidth\": 0, \"ticks\": \"\"}}, \"type\": \"histogram\"}], \"histogram2d\": [{\"colorbar\": {\"outlinewidth\": 0, \"ticks\": \"\"}, \"colorscale\": [[0.0, \"#0d0887\"], [0.1111111111111111, \"#46039f\"], [0.2222222222222222, \"#7201a8\"], [0.3333333333333333, \"#9c179e\"], [0.4444444444444444, \"#bd3786\"], [0.5555555555555556, \"#d8576b\"], [0.6666666666666666, \"#ed7953\"], [0.7777777777777778, \"#fb9f3a\"], [0.8888888888888888, \"#fdca26\"], [1.0, \"#f0f921\"]], \"type\": \"histogram2d\"}], \"histogram2dcontour\": [{\"colorbar\": {\"outlinewidth\": 0, \"ticks\": \"\"}, \"colorscale\": [[0.0, \"#0d0887\"], [0.1111111111111111, \"#46039f\"], [0.2222222222222222, \"#7201a8\"], [0.3333333333333333, \"#9c179e\"], [0.4444444444444444, \"#bd3786\"], [0.5555555555555556, \"#d8576b\"], [0.6666666666666666, \"#ed7953\"], [0.7777777777777778, \"#fb9f3a\"], [0.8888888888888888, \"#fdca26\"], [1.0, \"#f0f921\"]], \"type\": \"histogram2dcontour\"}], \"mesh3d\": [{\"colorbar\": {\"outlinewidth\": 0, \"ticks\": \"\"}, \"type\": \"mesh3d\"}], \"parcoords\": [{\"line\": {\"colorbar\": {\"outlinewidth\": 0, \"ticks\": \"\"}}, \"type\": \"parcoords\"}], \"pie\": [{\"automargin\": true, \"type\": \"pie\"}], \"scatter\": [{\"marker\": {\"colorbar\": {\"outlinewidth\": 0, \"ticks\": \"\"}}, \"type\": \"scatter\"}], \"scatter3d\": [{\"line\": {\"colorbar\": {\"outlinewidth\": 0, \"ticks\": \"\"}}, \"marker\": {\"colorbar\": {\"outlinewidth\": 0, \"ticks\": \"\"}}, \"type\": \"scatter3d\"}], \"scattercarpet\": [{\"marker\": {\"colorbar\": {\"outlinewidth\": 0, \"ticks\": \"\"}}, \"type\": \"scattercarpet\"}], \"scattergeo\": [{\"marker\": {\"colorbar\": {\"outlinewidth\": 0, \"ticks\": \"\"}}, \"type\": \"scattergeo\"}], \"scattergl\": [{\"marker\": {\"colorbar\": {\"outlinewidth\": 0, \"ticks\": \"\"}}, \"type\": \"scattergl\"}], \"scattermapbox\": [{\"marker\": {\"colorbar\": {\"outlinewidth\": 0, \"ticks\": \"\"}}, \"type\": \"scattermapbox\"}], \"scatterpolar\": [{\"marker\": {\"colorbar\": {\"outlinewidth\": 0, \"ticks\": \"\"}}, \"type\": \"scatterpolar\"}], \"scatterpolargl\": [{\"marker\": {\"colorbar\": {\"outlinewidth\": 0, \"ticks\": \"\"}}, \"type\": \"scatterpolargl\"}], \"scatterternary\": [{\"marker\": {\"colorbar\": {\"outlinewidth\": 0, \"ticks\": \"\"}}, \"type\": \"scatterternary\"}], \"surface\": [{\"colorbar\": {\"outlinewidth\": 0, \"ticks\": \"\"}, \"colorscale\": [[0.0, \"#0d0887\"], [0.1111111111111111, \"#46039f\"], [0.2222222222222222, \"#7201a8\"], [0.3333333333333333, \"#9c179e\"], [0.4444444444444444, \"#bd3786\"], [0.5555555555555556, \"#d8576b\"], [0.6666666666666666, \"#ed7953\"], [0.7777777777777778, \"#fb9f3a\"], [0.8888888888888888, \"#fdca26\"], [1.0, \"#f0f921\"]], \"type\": \"surface\"}], \"table\": [{\"cells\": {\"fill\": {\"color\": \"#EBF0F8\"}, \"line\": {\"color\": \"white\"}}, \"header\": {\"fill\": {\"color\": \"#C8D4E3\"}, \"line\": {\"color\": \"white\"}}, \"type\": \"table\"}]}, \"layout\": {\"annotationdefaults\": {\"arrowcolor\": \"#2a3f5f\", \"arrowhead\": 0, \"arrowwidth\": 1}, \"coloraxis\": {\"colorbar\": {\"outlinewidth\": 0, \"ticks\": \"\"}}, \"colorscale\": {\"diverging\": [[0, \"#8e0152\"], [0.1, \"#c51b7d\"], [0.2, \"#de77ae\"], [0.3, \"#f1b6da\"], [0.4, \"#fde0ef\"], [0.5, \"#f7f7f7\"], [0.6, \"#e6f5d0\"], [0.7, \"#b8e186\"], [0.8, \"#7fbc41\"], [0.9, \"#4d9221\"], [1, \"#276419\"]], \"sequential\": [[0.0, \"#0d0887\"], [0.1111111111111111, \"#46039f\"], [0.2222222222222222, \"#7201a8\"], [0.3333333333333333, \"#9c179e\"], [0.4444444444444444, \"#bd3786\"], [0.5555555555555556, \"#d8576b\"], [0.6666666666666666, \"#ed7953\"], [0.7777777777777778, \"#fb9f3a\"], [0.8888888888888888, \"#fdca26\"], [1.0, \"#f0f921\"]], \"sequentialminus\": [[0.0, \"#0d0887\"], [0.1111111111111111, \"#46039f\"], [0.2222222222222222, \"#7201a8\"], [0.3333333333333333, \"#9c179e\"], [0.4444444444444444, \"#bd3786\"], [0.5555555555555556, \"#d8576b\"], [0.6666666666666666, \"#ed7953\"], [0.7777777777777778, \"#fb9f3a\"], [0.8888888888888888, \"#fdca26\"], [1.0, \"#f0f921\"]]}, \"colorway\": [\"#636efa\", \"#EF553B\", \"#00cc96\", \"#ab63fa\", \"#FFA15A\", \"#19d3f3\", \"#FF6692\", \"#B6E880\", \"#FF97FF\", \"#FECB52\"], \"font\": {\"color\": \"#2a3f5f\"}, \"geo\": {\"bgcolor\": \"white\", \"lakecolor\": \"white\", \"landcolor\": \"#E5ECF6\", \"showlakes\": true, \"showland\": true, \"subunitcolor\": \"white\"}, \"hoverlabel\": {\"align\": \"left\"}, \"hovermode\": \"closest\", \"mapbox\": {\"style\": \"light\"}, \"paper_bgcolor\": \"white\", \"plot_bgcolor\": \"#E5ECF6\", \"polar\": {\"angularaxis\": {\"gridcolor\": \"white\", \"linecolor\": \"white\", \"ticks\": \"\"}, \"bgcolor\": \"#E5ECF6\", \"radialaxis\": {\"gridcolor\": \"white\", \"linecolor\": \"white\", \"ticks\": \"\"}}, \"scene\": {\"xaxis\": {\"backgroundcolor\": \"#E5ECF6\", \"gridcolor\": \"white\", \"gridwidth\": 2, \"linecolor\": \"white\", \"showbackground\": true, \"ticks\": \"\", \"zerolinecolor\": \"white\"}, \"yaxis\": {\"backgroundcolor\": \"#E5ECF6\", \"gridcolor\": \"white\", \"gridwidth\": 2, \"linecolor\": \"white\", \"showbackground\": true, \"ticks\": \"\", \"zerolinecolor\": \"white\"}, \"zaxis\": {\"backgroundcolor\": \"#E5ECF6\", \"gridcolor\": \"white\", \"gridwidth\": 2, \"linecolor\": \"white\", \"showbackground\": true, \"ticks\": \"\", \"zerolinecolor\": \"white\"}}, \"shapedefaults\": {\"line\": {\"color\": \"#2a3f5f\"}}, \"ternary\": {\"aaxis\": {\"gridcolor\": \"white\", \"linecolor\": \"white\", \"ticks\": \"\"}, \"baxis\": {\"gridcolor\": \"white\", \"linecolor\": \"white\", \"ticks\": \"\"}, \"bgcolor\": \"#E5ECF6\", \"caxis\": {\"gridcolor\": \"white\", \"linecolor\": \"white\", \"ticks\": \"\"}}, \"title\": {\"x\": 0.05}, \"xaxis\": {\"automargin\": true, \"gridcolor\": \"white\", \"linecolor\": \"white\", \"ticks\": \"\", \"title\": {\"standoff\": 15}, \"zerolinecolor\": \"white\", \"zerolinewidth\": 2}, \"yaxis\": {\"automargin\": true, \"gridcolor\": \"white\", \"linecolor\": \"white\", \"ticks\": \"\", \"title\": {\"standoff\": 15}, \"zerolinecolor\": \"white\", \"zerolinewidth\": 2}}}, \"title\": {\"font\": {\"color\": \"#4D5663\"}}, \"xaxis\": {\"gridcolor\": \"#E1E5ED\", \"showgrid\": true, \"tickfont\": {\"color\": \"#4D5663\"}, \"title\": {\"font\": {\"color\": \"#4D5663\"}, \"text\": \"\"}, \"zerolinecolor\": \"#E1E5ED\"}, \"yaxis\": {\"gridcolor\": \"#E1E5ED\", \"showgrid\": true, \"tickfont\": {\"color\": \"#4D5663\"}, \"title\": {\"font\": {\"color\": \"#4D5663\"}, \"text\": \"\"}, \"zerolinecolor\": \"#E1E5ED\"}},\n                        {\"showLink\": true, \"linkText\": \"Export to plot.ly\", \"plotlyServerURL\": \"https://plot.ly\", \"responsive\": true}\n                    ).then(function(){\n                            \nvar gd = document.getElementById('042b1f4d-e949-4286-a059-f19971392880');\nvar x = new MutationObserver(function (mutations, observer) {{\n        var display = window.getComputedStyle(gd).display;\n        if (!display || display === 'none') {{\n            console.log([gd, 'removed!']);\n            Plotly.purge(gd);\n            observer.disconnect();\n        }}\n}});\n\n// Listen for the removal of the full notebook cells\nvar notebookContainer = gd.closest('#notebook-container');\nif (notebookContainer) {{\n    x.observe(notebookContainer, {childList: true});\n}}\n\n// Listen for the clearing of the current output cell\nvar outputEl = gd.closest('.output');\nif (outputEl) {{\n    x.observe(outputEl, {childList: true});\n}}\n\n                        })\n                };\n                });\n            </script>\n        </div>"
     },
     "metadata": {},
     "output_type": "display_data"
    }
   ],
   "source": [
    "df.iplot(kind='box')"
   ]
  },
  {
   "cell_type": "markdown",
   "metadata": {
    "pycharm": {
     "name": "#%% md\n"
    }
   },
   "source": [
    "### 3D интерфейс"
   ]
  },
  {
   "cell_type": "code",
   "execution_count": 12,
   "metadata": {
    "pycharm": {
     "is_executing": false,
     "name": "#%%\n"
    }
   },
   "outputs": [
    {
     "data": {
      "application/vnd.plotly.v1+json": {
       "config": {
        "linkText": "Export to plot.ly",
        "plotlyServerURL": "https://plot.ly",
        "showLink": true
       },
       "data": [
        {
         "colorscale": [
          [
           0.0,
           "rgb(165,0,38)"
          ],
          [
           0.1,
           "rgb(215,48,39)"
          ],
          [
           0.2,
           "rgb(244,109,67)"
          ],
          [
           0.3,
           "rgb(253,174,97)"
          ],
          [
           0.4,
           "rgb(254,224,144)"
          ],
          [
           0.5,
           "rgb(255,255,191)"
          ],
          [
           0.6,
           "rgb(224,243,248)"
          ],
          [
           0.7,
           "rgb(171,217,233)"
          ],
          [
           0.8,
           "rgb(116,173,209)"
          ],
          [
           0.9,
           "rgb(69,117,180)"
          ],
          [
           1.0,
           "rgb(49,54,149)"
          ]
         ],
         "type": "surface",
         "x": [
          0,
          1,
          2,
          3,
          4
         ],
         "y": [
          "x",
          "y",
          "z"
         ],
         "z": [
          [
           1,
           2,
           3,
           4,
           5
          ],
          [
           10,
           20,
           30,
           20,
           10
          ],
          [
           5,
           4,
           3,
           2,
           1
          ]
         ]
        }
       ],
       "layout": {
        "legend": {
         "bgcolor": "#F5F6F9",
         "font": {
          "color": "#4D5663"
         }
        },
        "paper_bgcolor": "#F5F6F9",
        "plot_bgcolor": "#F5F6F9",
        "template": {
         "data": {
          "bar": [
           {
            "error_x": {
             "color": "#2a3f5f"
            },
            "error_y": {
             "color": "#2a3f5f"
            },
            "marker": {
             "line": {
              "color": "#E5ECF6",
              "width": 0.5
             }
            },
            "type": "bar"
           }
          ],
          "barpolar": [
           {
            "marker": {
             "line": {
              "color": "#E5ECF6",
              "width": 0.5
             }
            },
            "type": "barpolar"
           }
          ],
          "carpet": [
           {
            "aaxis": {
             "endlinecolor": "#2a3f5f",
             "gridcolor": "white",
             "linecolor": "white",
             "minorgridcolor": "white",
             "startlinecolor": "#2a3f5f"
            },
            "baxis": {
             "endlinecolor": "#2a3f5f",
             "gridcolor": "white",
             "linecolor": "white",
             "minorgridcolor": "white",
             "startlinecolor": "#2a3f5f"
            },
            "type": "carpet"
           }
          ],
          "choropleth": [
           {
            "colorbar": {
             "outlinewidth": 0,
             "ticks": ""
            },
            "type": "choropleth"
           }
          ],
          "contour": [
           {
            "colorbar": {
             "outlinewidth": 0,
             "ticks": ""
            },
            "colorscale": [
             [
              0.0,
              "#0d0887"
             ],
             [
              0.1111111111111111,
              "#46039f"
             ],
             [
              0.2222222222222222,
              "#7201a8"
             ],
             [
              0.3333333333333333,
              "#9c179e"
             ],
             [
              0.4444444444444444,
              "#bd3786"
             ],
             [
              0.5555555555555556,
              "#d8576b"
             ],
             [
              0.6666666666666666,
              "#ed7953"
             ],
             [
              0.7777777777777778,
              "#fb9f3a"
             ],
             [
              0.8888888888888888,
              "#fdca26"
             ],
             [
              1.0,
              "#f0f921"
             ]
            ],
            "type": "contour"
           }
          ],
          "contourcarpet": [
           {
            "colorbar": {
             "outlinewidth": 0,
             "ticks": ""
            },
            "type": "contourcarpet"
           }
          ],
          "heatmap": [
           {
            "colorbar": {
             "outlinewidth": 0,
             "ticks": ""
            },
            "colorscale": [
             [
              0.0,
              "#0d0887"
             ],
             [
              0.1111111111111111,
              "#46039f"
             ],
             [
              0.2222222222222222,
              "#7201a8"
             ],
             [
              0.3333333333333333,
              "#9c179e"
             ],
             [
              0.4444444444444444,
              "#bd3786"
             ],
             [
              0.5555555555555556,
              "#d8576b"
             ],
             [
              0.6666666666666666,
              "#ed7953"
             ],
             [
              0.7777777777777778,
              "#fb9f3a"
             ],
             [
              0.8888888888888888,
              "#fdca26"
             ],
             [
              1.0,
              "#f0f921"
             ]
            ],
            "type": "heatmap"
           }
          ],
          "heatmapgl": [
           {
            "colorbar": {
             "outlinewidth": 0,
             "ticks": ""
            },
            "colorscale": [
             [
              0.0,
              "#0d0887"
             ],
             [
              0.1111111111111111,
              "#46039f"
             ],
             [
              0.2222222222222222,
              "#7201a8"
             ],
             [
              0.3333333333333333,
              "#9c179e"
             ],
             [
              0.4444444444444444,
              "#bd3786"
             ],
             [
              0.5555555555555556,
              "#d8576b"
             ],
             [
              0.6666666666666666,
              "#ed7953"
             ],
             [
              0.7777777777777778,
              "#fb9f3a"
             ],
             [
              0.8888888888888888,
              "#fdca26"
             ],
             [
              1.0,
              "#f0f921"
             ]
            ],
            "type": "heatmapgl"
           }
          ],
          "histogram": [
           {
            "marker": {
             "colorbar": {
              "outlinewidth": 0,
              "ticks": ""
             }
            },
            "type": "histogram"
           }
          ],
          "histogram2d": [
           {
            "colorbar": {
             "outlinewidth": 0,
             "ticks": ""
            },
            "colorscale": [
             [
              0.0,
              "#0d0887"
             ],
             [
              0.1111111111111111,
              "#46039f"
             ],
             [
              0.2222222222222222,
              "#7201a8"
             ],
             [
              0.3333333333333333,
              "#9c179e"
             ],
             [
              0.4444444444444444,
              "#bd3786"
             ],
             [
              0.5555555555555556,
              "#d8576b"
             ],
             [
              0.6666666666666666,
              "#ed7953"
             ],
             [
              0.7777777777777778,
              "#fb9f3a"
             ],
             [
              0.8888888888888888,
              "#fdca26"
             ],
             [
              1.0,
              "#f0f921"
             ]
            ],
            "type": "histogram2d"
           }
          ],
          "histogram2dcontour": [
           {
            "colorbar": {
             "outlinewidth": 0,
             "ticks": ""
            },
            "colorscale": [
             [
              0.0,
              "#0d0887"
             ],
             [
              0.1111111111111111,
              "#46039f"
             ],
             [
              0.2222222222222222,
              "#7201a8"
             ],
             [
              0.3333333333333333,
              "#9c179e"
             ],
             [
              0.4444444444444444,
              "#bd3786"
             ],
             [
              0.5555555555555556,
              "#d8576b"
             ],
             [
              0.6666666666666666,
              "#ed7953"
             ],
             [
              0.7777777777777778,
              "#fb9f3a"
             ],
             [
              0.8888888888888888,
              "#fdca26"
             ],
             [
              1.0,
              "#f0f921"
             ]
            ],
            "type": "histogram2dcontour"
           }
          ],
          "mesh3d": [
           {
            "colorbar": {
             "outlinewidth": 0,
             "ticks": ""
            },
            "type": "mesh3d"
           }
          ],
          "parcoords": [
           {
            "line": {
             "colorbar": {
              "outlinewidth": 0,
              "ticks": ""
             }
            },
            "type": "parcoords"
           }
          ],
          "pie": [
           {
            "automargin": true,
            "type": "pie"
           }
          ],
          "scatter": [
           {
            "marker": {
             "colorbar": {
              "outlinewidth": 0,
              "ticks": ""
             }
            },
            "type": "scatter"
           }
          ],
          "scatter3d": [
           {
            "line": {
             "colorbar": {
              "outlinewidth": 0,
              "ticks": ""
             }
            },
            "marker": {
             "colorbar": {
              "outlinewidth": 0,
              "ticks": ""
             }
            },
            "type": "scatter3d"
           }
          ],
          "scattercarpet": [
           {
            "marker": {
             "colorbar": {
              "outlinewidth": 0,
              "ticks": ""
             }
            },
            "type": "scattercarpet"
           }
          ],
          "scattergeo": [
           {
            "marker": {
             "colorbar": {
              "outlinewidth": 0,
              "ticks": ""
             }
            },
            "type": "scattergeo"
           }
          ],
          "scattergl": [
           {
            "marker": {
             "colorbar": {
              "outlinewidth": 0,
              "ticks": ""
             }
            },
            "type": "scattergl"
           }
          ],
          "scattermapbox": [
           {
            "marker": {
             "colorbar": {
              "outlinewidth": 0,
              "ticks": ""
             }
            },
            "type": "scattermapbox"
           }
          ],
          "scatterpolar": [
           {
            "marker": {
             "colorbar": {
              "outlinewidth": 0,
              "ticks": ""
             }
            },
            "type": "scatterpolar"
           }
          ],
          "scatterpolargl": [
           {
            "marker": {
             "colorbar": {
              "outlinewidth": 0,
              "ticks": ""
             }
            },
            "type": "scatterpolargl"
           }
          ],
          "scatterternary": [
           {
            "marker": {
             "colorbar": {
              "outlinewidth": 0,
              "ticks": ""
             }
            },
            "type": "scatterternary"
           }
          ],
          "surface": [
           {
            "colorbar": {
             "outlinewidth": 0,
             "ticks": ""
            },
            "colorscale": [
             [
              0.0,
              "#0d0887"
             ],
             [
              0.1111111111111111,
              "#46039f"
             ],
             [
              0.2222222222222222,
              "#7201a8"
             ],
             [
              0.3333333333333333,
              "#9c179e"
             ],
             [
              0.4444444444444444,
              "#bd3786"
             ],
             [
              0.5555555555555556,
              "#d8576b"
             ],
             [
              0.6666666666666666,
              "#ed7953"
             ],
             [
              0.7777777777777778,
              "#fb9f3a"
             ],
             [
              0.8888888888888888,
              "#fdca26"
             ],
             [
              1.0,
              "#f0f921"
             ]
            ],
            "type": "surface"
           }
          ],
          "table": [
           {
            "cells": {
             "fill": {
              "color": "#EBF0F8"
             },
             "line": {
              "color": "white"
             }
            },
            "header": {
             "fill": {
              "color": "#C8D4E3"
             },
             "line": {
              "color": "white"
             }
            },
            "type": "table"
           }
          ]
         },
         "layout": {
          "annotationdefaults": {
           "arrowcolor": "#2a3f5f",
           "arrowhead": 0,
           "arrowwidth": 1
          },
          "coloraxis": {
           "colorbar": {
            "outlinewidth": 0,
            "ticks": ""
           }
          },
          "colorscale": {
           "diverging": [
            [
             0,
             "#8e0152"
            ],
            [
             0.1,
             "#c51b7d"
            ],
            [
             0.2,
             "#de77ae"
            ],
            [
             0.3,
             "#f1b6da"
            ],
            [
             0.4,
             "#fde0ef"
            ],
            [
             0.5,
             "#f7f7f7"
            ],
            [
             0.6,
             "#e6f5d0"
            ],
            [
             0.7,
             "#b8e186"
            ],
            [
             0.8,
             "#7fbc41"
            ],
            [
             0.9,
             "#4d9221"
            ],
            [
             1,
             "#276419"
            ]
           ],
           "sequential": [
            [
             0.0,
             "#0d0887"
            ],
            [
             0.1111111111111111,
             "#46039f"
            ],
            [
             0.2222222222222222,
             "#7201a8"
            ],
            [
             0.3333333333333333,
             "#9c179e"
            ],
            [
             0.4444444444444444,
             "#bd3786"
            ],
            [
             0.5555555555555556,
             "#d8576b"
            ],
            [
             0.6666666666666666,
             "#ed7953"
            ],
            [
             0.7777777777777778,
             "#fb9f3a"
            ],
            [
             0.8888888888888888,
             "#fdca26"
            ],
            [
             1.0,
             "#f0f921"
            ]
           ],
           "sequentialminus": [
            [
             0.0,
             "#0d0887"
            ],
            [
             0.1111111111111111,
             "#46039f"
            ],
            [
             0.2222222222222222,
             "#7201a8"
            ],
            [
             0.3333333333333333,
             "#9c179e"
            ],
            [
             0.4444444444444444,
             "#bd3786"
            ],
            [
             0.5555555555555556,
             "#d8576b"
            ],
            [
             0.6666666666666666,
             "#ed7953"
            ],
            [
             0.7777777777777778,
             "#fb9f3a"
            ],
            [
             0.8888888888888888,
             "#fdca26"
            ],
            [
             1.0,
             "#f0f921"
            ]
           ]
          },
          "colorway": [
           "#636efa",
           "#EF553B",
           "#00cc96",
           "#ab63fa",
           "#FFA15A",
           "#19d3f3",
           "#FF6692",
           "#B6E880",
           "#FF97FF",
           "#FECB52"
          ],
          "font": {
           "color": "#2a3f5f"
          },
          "geo": {
           "bgcolor": "white",
           "lakecolor": "white",
           "landcolor": "#E5ECF6",
           "showlakes": true,
           "showland": true,
           "subunitcolor": "white"
          },
          "hoverlabel": {
           "align": "left"
          },
          "hovermode": "closest",
          "mapbox": {
           "style": "light"
          },
          "paper_bgcolor": "white",
          "plot_bgcolor": "#E5ECF6",
          "polar": {
           "angularaxis": {
            "gridcolor": "white",
            "linecolor": "white",
            "ticks": ""
           },
           "bgcolor": "#E5ECF6",
           "radialaxis": {
            "gridcolor": "white",
            "linecolor": "white",
            "ticks": ""
           }
          },
          "scene": {
           "xaxis": {
            "backgroundcolor": "#E5ECF6",
            "gridcolor": "white",
            "gridwidth": 2,
            "linecolor": "white",
            "showbackground": true,
            "ticks": "",
            "zerolinecolor": "white"
           },
           "yaxis": {
            "backgroundcolor": "#E5ECF6",
            "gridcolor": "white",
            "gridwidth": 2,
            "linecolor": "white",
            "showbackground": true,
            "ticks": "",
            "zerolinecolor": "white"
           },
           "zaxis": {
            "backgroundcolor": "#E5ECF6",
            "gridcolor": "white",
            "gridwidth": 2,
            "linecolor": "white",
            "showbackground": true,
            "ticks": "",
            "zerolinecolor": "white"
           }
          },
          "shapedefaults": {
           "line": {
            "color": "#2a3f5f"
           }
          },
          "ternary": {
           "aaxis": {
            "gridcolor": "white",
            "linecolor": "white",
            "ticks": ""
           },
           "baxis": {
            "gridcolor": "white",
            "linecolor": "white",
            "ticks": ""
           },
           "bgcolor": "#E5ECF6",
           "caxis": {
            "gridcolor": "white",
            "linecolor": "white",
            "ticks": ""
           }
          },
          "title": {
           "x": 0.05
          },
          "xaxis": {
           "automargin": true,
           "gridcolor": "white",
           "linecolor": "white",
           "ticks": "",
           "title": {
            "standoff": 15
           },
           "zerolinecolor": "white",
           "zerolinewidth": 2
          },
          "yaxis": {
           "automargin": true,
           "gridcolor": "white",
           "linecolor": "white",
           "ticks": "",
           "title": {
            "standoff": 15
           },
           "zerolinecolor": "white",
           "zerolinewidth": 2
          }
         }
        },
        "title": {
         "font": {
          "color": "#4D5663"
         }
        },
        "xaxis": {
         "gridcolor": "#E1E5ED",
         "showgrid": true,
         "tickfont": {
          "color": "#4D5663"
         },
         "title": {
          "font": {
           "color": "#4D5663"
          },
          "text": ""
         },
         "zerolinecolor": "#E1E5ED"
        },
        "yaxis": {
         "gridcolor": "#E1E5ED",
         "showgrid": true,
         "tickfont": {
          "color": "#4D5663"
         },
         "title": {
          "font": {
           "color": "#4D5663"
          },
          "text": ""
         },
         "zerolinecolor": "#E1E5ED"
        }
       }
      },
      "text/html": "<div>\n        \n        \n            <div id=\"8ee2fbe1-81bf-45d3-a614-43fb9e0e8614\" class=\"plotly-graph-div\" style=\"height:525px; width:100%;\"></div>\n            <script type=\"text/javascript\">\n                require([\"plotly\"], function(Plotly) {\n                    window.PLOTLYENV=window.PLOTLYENV || {};\n                    window.PLOTLYENV.BASE_URL='https://plot.ly';\n                    \n                if (document.getElementById(\"8ee2fbe1-81bf-45d3-a614-43fb9e0e8614\")) {\n                    Plotly.newPlot(\n                        '8ee2fbe1-81bf-45d3-a614-43fb9e0e8614',\n                        [{\"colorscale\": [[0.0, \"rgb(165,0,38)\"], [0.1, \"rgb(215,48,39)\"], [0.2, \"rgb(244,109,67)\"], [0.3, \"rgb(253,174,97)\"], [0.4, \"rgb(254,224,144)\"], [0.5, \"rgb(255,255,191)\"], [0.6, \"rgb(224,243,248)\"], [0.7, \"rgb(171,217,233)\"], [0.8, \"rgb(116,173,209)\"], [0.9, \"rgb(69,117,180)\"], [1.0, \"rgb(49,54,149)\"]], \"type\": \"surface\", \"x\": [0, 1, 2, 3, 4], \"y\": [\"x\", \"y\", \"z\"], \"z\": [[1, 2, 3, 4, 5], [10, 20, 30, 20, 10], [5, 4, 3, 2, 1]]}],\n                        {\"legend\": {\"bgcolor\": \"#F5F6F9\", \"font\": {\"color\": \"#4D5663\"}}, \"paper_bgcolor\": \"#F5F6F9\", \"plot_bgcolor\": \"#F5F6F9\", \"template\": {\"data\": {\"bar\": [{\"error_x\": {\"color\": \"#2a3f5f\"}, \"error_y\": {\"color\": \"#2a3f5f\"}, \"marker\": {\"line\": {\"color\": \"#E5ECF6\", \"width\": 0.5}}, \"type\": \"bar\"}], \"barpolar\": [{\"marker\": {\"line\": {\"color\": \"#E5ECF6\", \"width\": 0.5}}, \"type\": \"barpolar\"}], \"carpet\": [{\"aaxis\": {\"endlinecolor\": \"#2a3f5f\", \"gridcolor\": \"white\", \"linecolor\": \"white\", \"minorgridcolor\": \"white\", \"startlinecolor\": \"#2a3f5f\"}, \"baxis\": {\"endlinecolor\": \"#2a3f5f\", \"gridcolor\": \"white\", \"linecolor\": \"white\", \"minorgridcolor\": \"white\", \"startlinecolor\": \"#2a3f5f\"}, \"type\": \"carpet\"}], \"choropleth\": [{\"colorbar\": {\"outlinewidth\": 0, \"ticks\": \"\"}, \"type\": \"choropleth\"}], \"contour\": [{\"colorbar\": {\"outlinewidth\": 0, \"ticks\": \"\"}, \"colorscale\": [[0.0, \"#0d0887\"], [0.1111111111111111, \"#46039f\"], [0.2222222222222222, \"#7201a8\"], [0.3333333333333333, \"#9c179e\"], [0.4444444444444444, \"#bd3786\"], [0.5555555555555556, \"#d8576b\"], [0.6666666666666666, \"#ed7953\"], [0.7777777777777778, \"#fb9f3a\"], [0.8888888888888888, \"#fdca26\"], [1.0, \"#f0f921\"]], \"type\": \"contour\"}], \"contourcarpet\": [{\"colorbar\": {\"outlinewidth\": 0, \"ticks\": \"\"}, \"type\": \"contourcarpet\"}], \"heatmap\": [{\"colorbar\": {\"outlinewidth\": 0, \"ticks\": \"\"}, \"colorscale\": [[0.0, \"#0d0887\"], [0.1111111111111111, \"#46039f\"], [0.2222222222222222, \"#7201a8\"], [0.3333333333333333, \"#9c179e\"], [0.4444444444444444, \"#bd3786\"], [0.5555555555555556, \"#d8576b\"], [0.6666666666666666, \"#ed7953\"], [0.7777777777777778, \"#fb9f3a\"], [0.8888888888888888, \"#fdca26\"], [1.0, \"#f0f921\"]], \"type\": \"heatmap\"}], \"heatmapgl\": [{\"colorbar\": {\"outlinewidth\": 0, \"ticks\": \"\"}, \"colorscale\": [[0.0, \"#0d0887\"], [0.1111111111111111, \"#46039f\"], [0.2222222222222222, \"#7201a8\"], [0.3333333333333333, \"#9c179e\"], [0.4444444444444444, \"#bd3786\"], [0.5555555555555556, \"#d8576b\"], [0.6666666666666666, \"#ed7953\"], [0.7777777777777778, \"#fb9f3a\"], [0.8888888888888888, \"#fdca26\"], [1.0, \"#f0f921\"]], \"type\": \"heatmapgl\"}], \"histogram\": [{\"marker\": {\"colorbar\": {\"outlinewidth\": 0, \"ticks\": \"\"}}, \"type\": \"histogram\"}], \"histogram2d\": [{\"colorbar\": {\"outlinewidth\": 0, \"ticks\": \"\"}, \"colorscale\": [[0.0, \"#0d0887\"], [0.1111111111111111, \"#46039f\"], [0.2222222222222222, \"#7201a8\"], [0.3333333333333333, \"#9c179e\"], [0.4444444444444444, \"#bd3786\"], [0.5555555555555556, \"#d8576b\"], [0.6666666666666666, \"#ed7953\"], [0.7777777777777778, \"#fb9f3a\"], [0.8888888888888888, \"#fdca26\"], [1.0, \"#f0f921\"]], \"type\": \"histogram2d\"}], \"histogram2dcontour\": [{\"colorbar\": {\"outlinewidth\": 0, \"ticks\": \"\"}, \"colorscale\": [[0.0, \"#0d0887\"], [0.1111111111111111, \"#46039f\"], [0.2222222222222222, \"#7201a8\"], [0.3333333333333333, \"#9c179e\"], [0.4444444444444444, \"#bd3786\"], [0.5555555555555556, \"#d8576b\"], [0.6666666666666666, \"#ed7953\"], [0.7777777777777778, \"#fb9f3a\"], [0.8888888888888888, \"#fdca26\"], [1.0, \"#f0f921\"]], \"type\": \"histogram2dcontour\"}], \"mesh3d\": [{\"colorbar\": {\"outlinewidth\": 0, \"ticks\": \"\"}, \"type\": \"mesh3d\"}], \"parcoords\": [{\"line\": {\"colorbar\": {\"outlinewidth\": 0, \"ticks\": \"\"}}, \"type\": \"parcoords\"}], \"pie\": [{\"automargin\": true, \"type\": \"pie\"}], \"scatter\": [{\"marker\": {\"colorbar\": {\"outlinewidth\": 0, \"ticks\": \"\"}}, \"type\": \"scatter\"}], \"scatter3d\": [{\"line\": {\"colorbar\": {\"outlinewidth\": 0, \"ticks\": \"\"}}, \"marker\": {\"colorbar\": {\"outlinewidth\": 0, \"ticks\": \"\"}}, \"type\": \"scatter3d\"}], \"scattercarpet\": [{\"marker\": {\"colorbar\": {\"outlinewidth\": 0, \"ticks\": \"\"}}, \"type\": \"scattercarpet\"}], \"scattergeo\": [{\"marker\": {\"colorbar\": {\"outlinewidth\": 0, \"ticks\": \"\"}}, \"type\": \"scattergeo\"}], \"scattergl\": [{\"marker\": {\"colorbar\": {\"outlinewidth\": 0, \"ticks\": \"\"}}, \"type\": \"scattergl\"}], \"scattermapbox\": [{\"marker\": {\"colorbar\": {\"outlinewidth\": 0, \"ticks\": \"\"}}, \"type\": \"scattermapbox\"}], \"scatterpolar\": [{\"marker\": {\"colorbar\": {\"outlinewidth\": 0, \"ticks\": \"\"}}, \"type\": \"scatterpolar\"}], \"scatterpolargl\": [{\"marker\": {\"colorbar\": {\"outlinewidth\": 0, \"ticks\": \"\"}}, \"type\": \"scatterpolargl\"}], \"scatterternary\": [{\"marker\": {\"colorbar\": {\"outlinewidth\": 0, \"ticks\": \"\"}}, \"type\": \"scatterternary\"}], \"surface\": [{\"colorbar\": {\"outlinewidth\": 0, \"ticks\": \"\"}, \"colorscale\": [[0.0, \"#0d0887\"], [0.1111111111111111, \"#46039f\"], [0.2222222222222222, \"#7201a8\"], [0.3333333333333333, \"#9c179e\"], [0.4444444444444444, \"#bd3786\"], [0.5555555555555556, \"#d8576b\"], [0.6666666666666666, \"#ed7953\"], [0.7777777777777778, \"#fb9f3a\"], [0.8888888888888888, \"#fdca26\"], [1.0, \"#f0f921\"]], \"type\": \"surface\"}], \"table\": [{\"cells\": {\"fill\": {\"color\": \"#EBF0F8\"}, \"line\": {\"color\": \"white\"}}, \"header\": {\"fill\": {\"color\": \"#C8D4E3\"}, \"line\": {\"color\": \"white\"}}, \"type\": \"table\"}]}, \"layout\": {\"annotationdefaults\": {\"arrowcolor\": \"#2a3f5f\", \"arrowhead\": 0, \"arrowwidth\": 1}, \"coloraxis\": {\"colorbar\": {\"outlinewidth\": 0, \"ticks\": \"\"}}, \"colorscale\": {\"diverging\": [[0, \"#8e0152\"], [0.1, \"#c51b7d\"], [0.2, \"#de77ae\"], [0.3, \"#f1b6da\"], [0.4, \"#fde0ef\"], [0.5, \"#f7f7f7\"], [0.6, \"#e6f5d0\"], [0.7, \"#b8e186\"], [0.8, \"#7fbc41\"], [0.9, \"#4d9221\"], [1, \"#276419\"]], \"sequential\": [[0.0, \"#0d0887\"], [0.1111111111111111, \"#46039f\"], [0.2222222222222222, \"#7201a8\"], [0.3333333333333333, \"#9c179e\"], [0.4444444444444444, \"#bd3786\"], [0.5555555555555556, \"#d8576b\"], [0.6666666666666666, \"#ed7953\"], [0.7777777777777778, \"#fb9f3a\"], [0.8888888888888888, \"#fdca26\"], [1.0, \"#f0f921\"]], \"sequentialminus\": [[0.0, \"#0d0887\"], [0.1111111111111111, \"#46039f\"], [0.2222222222222222, \"#7201a8\"], [0.3333333333333333, \"#9c179e\"], [0.4444444444444444, \"#bd3786\"], [0.5555555555555556, \"#d8576b\"], [0.6666666666666666, \"#ed7953\"], [0.7777777777777778, \"#fb9f3a\"], [0.8888888888888888, \"#fdca26\"], [1.0, \"#f0f921\"]]}, \"colorway\": [\"#636efa\", \"#EF553B\", \"#00cc96\", \"#ab63fa\", \"#FFA15A\", \"#19d3f3\", \"#FF6692\", \"#B6E880\", \"#FF97FF\", \"#FECB52\"], \"font\": {\"color\": \"#2a3f5f\"}, \"geo\": {\"bgcolor\": \"white\", \"lakecolor\": \"white\", \"landcolor\": \"#E5ECF6\", \"showlakes\": true, \"showland\": true, \"subunitcolor\": \"white\"}, \"hoverlabel\": {\"align\": \"left\"}, \"hovermode\": \"closest\", \"mapbox\": {\"style\": \"light\"}, \"paper_bgcolor\": \"white\", \"plot_bgcolor\": \"#E5ECF6\", \"polar\": {\"angularaxis\": {\"gridcolor\": \"white\", \"linecolor\": \"white\", \"ticks\": \"\"}, \"bgcolor\": \"#E5ECF6\", \"radialaxis\": {\"gridcolor\": \"white\", \"linecolor\": \"white\", \"ticks\": \"\"}}, \"scene\": {\"xaxis\": {\"backgroundcolor\": \"#E5ECF6\", \"gridcolor\": \"white\", \"gridwidth\": 2, \"linecolor\": \"white\", \"showbackground\": true, \"ticks\": \"\", \"zerolinecolor\": \"white\"}, \"yaxis\": {\"backgroundcolor\": \"#E5ECF6\", \"gridcolor\": \"white\", \"gridwidth\": 2, \"linecolor\": \"white\", \"showbackground\": true, \"ticks\": \"\", \"zerolinecolor\": \"white\"}, \"zaxis\": {\"backgroundcolor\": \"#E5ECF6\", \"gridcolor\": \"white\", \"gridwidth\": 2, \"linecolor\": \"white\", \"showbackground\": true, \"ticks\": \"\", \"zerolinecolor\": \"white\"}}, \"shapedefaults\": {\"line\": {\"color\": \"#2a3f5f\"}}, \"ternary\": {\"aaxis\": {\"gridcolor\": \"white\", \"linecolor\": \"white\", \"ticks\": \"\"}, \"baxis\": {\"gridcolor\": \"white\", \"linecolor\": \"white\", \"ticks\": \"\"}, \"bgcolor\": \"#E5ECF6\", \"caxis\": {\"gridcolor\": \"white\", \"linecolor\": \"white\", \"ticks\": \"\"}}, \"title\": {\"x\": 0.05}, \"xaxis\": {\"automargin\": true, \"gridcolor\": \"white\", \"linecolor\": \"white\", \"ticks\": \"\", \"title\": {\"standoff\": 15}, \"zerolinecolor\": \"white\", \"zerolinewidth\": 2}, \"yaxis\": {\"automargin\": true, \"gridcolor\": \"white\", \"linecolor\": \"white\", \"ticks\": \"\", \"title\": {\"standoff\": 15}, \"zerolinecolor\": \"white\", \"zerolinewidth\": 2}}}, \"title\": {\"font\": {\"color\": \"#4D5663\"}}, \"xaxis\": {\"gridcolor\": \"#E1E5ED\", \"showgrid\": true, \"tickfont\": {\"color\": \"#4D5663\"}, \"title\": {\"font\": {\"color\": \"#4D5663\"}, \"text\": \"\"}, \"zerolinecolor\": \"#E1E5ED\"}, \"yaxis\": {\"gridcolor\": \"#E1E5ED\", \"showgrid\": true, \"tickfont\": {\"color\": \"#4D5663\"}, \"title\": {\"font\": {\"color\": \"#4D5663\"}, \"text\": \"\"}, \"zerolinecolor\": \"#E1E5ED\"}},\n                        {\"showLink\": true, \"linkText\": \"Export to plot.ly\", \"plotlyServerURL\": \"https://plot.ly\", \"responsive\": true}\n                    ).then(function(){\n                            \nvar gd = document.getElementById('8ee2fbe1-81bf-45d3-a614-43fb9e0e8614');\nvar x = new MutationObserver(function (mutations, observer) {{\n        var display = window.getComputedStyle(gd).display;\n        if (!display || display === 'none') {{\n            console.log([gd, 'removed!']);\n            Plotly.purge(gd);\n            observer.disconnect();\n        }}\n}});\n\n// Listen for the removal of the full notebook cells\nvar notebookContainer = gd.closest('#notebook-container');\nif (notebookContainer) {{\n    x.observe(notebookContainer, {childList: true});\n}}\n\n// Listen for the clearing of the current output cell\nvar outputEl = gd.closest('.output');\nif (outputEl) {{\n    x.observe(outputEl, {childList: true});\n}}\n\n                        })\n                };\n                });\n            </script>\n        </div>"
     },
     "metadata": {},
     "output_type": "display_data"
    }
   ],
   "source": [
    "df3 = pd.DataFrame({'x': [1, 2, 3, 4, 5], 'y':[10, 20, 30, 20, 10], 'z': [5, 4, 3, 2, 1]})\n",
    "df3.iplot(kind='surface', colorscale='rdylbu')"
   ]
  },
  {
   "cell_type": "markdown",
   "metadata": {
    "pycharm": {
     "name": "#%% md\n",
     "is_executing": false
    }
   },
   "source": [
    "### Линейная диаграмма"
   ]
  },
  {
   "cell_type": "code",
   "execution_count": 13,
   "outputs": [
    {
     "name": "stderr",
     "text": [
      "d:\\projects\\bootcampdatascience\\venv\\lib\\site-packages\\cufflinks\\plotlytools.py:849: FutureWarning:\n",
      "\n",
      "The pandas.np module is deprecated and will be removed from pandas in a future version. Import numpy directly instead\n",
      "\n",
      "d:\\projects\\bootcampdatascience\\venv\\lib\\site-packages\\cufflinks\\plotlytools.py:850: FutureWarning:\n",
      "\n",
      "The pandas.np module is deprecated and will be removed from pandas in a future version. Import numpy directly instead\n",
      "\n"
     ],
     "output_type": "stream"
    },
    {
     "data": {
      "application/vnd.plotly.v1+json": {
       "config": {
        "linkText": "Export to plot.ly",
        "plotlyServerURL": "https://plot.ly",
        "showLink": true
       },
       "data": [
        {
         "line": {
          "color": "rgba(255, 153, 51, 1.0)",
          "dash": "solid",
          "shape": "linear",
          "width": 1.3
         },
         "mode": "lines",
         "name": "A",
         "text": "",
         "type": "scatter",
         "x": [
          0,
          1,
          2,
          3,
          4,
          5,
          6,
          7,
          8,
          9,
          10,
          11,
          12,
          13,
          14,
          15,
          16,
          17,
          18,
          19,
          20,
          21,
          22,
          23,
          24,
          25,
          26,
          27,
          28,
          29,
          30,
          31,
          32,
          33,
          34,
          35,
          36,
          37,
          38,
          39,
          40,
          41,
          42,
          43,
          44,
          45,
          46,
          47,
          48,
          49,
          50,
          51,
          52,
          53,
          54,
          55,
          56,
          57,
          58,
          59,
          60,
          61,
          62,
          63,
          64,
          65,
          66,
          67,
          68,
          69,
          70,
          71,
          72,
          73,
          74,
          75,
          76,
          77,
          78,
          79,
          80,
          81,
          82,
          83,
          84,
          85,
          86,
          87,
          88,
          89,
          90,
          91,
          92,
          93,
          94,
          95,
          96,
          97,
          98,
          99
         ],
         "y": [
          -1.4863073708975698,
          -2.1850824021195616,
          -2.960827272545752,
          0.638069862685476,
          0.21377793975387355,
          -0.8154978341789988,
          -1.5739883105017602,
          0.4318822775286287,
          -1.3265888287929182,
          1.259183517429503,
          -0.017407080654257518,
          -0.10281927824957425,
          0.05337750178968702,
          -0.6292896610597629,
          0.38616052190444494,
          -0.22605631512131022,
          -0.09853750276821739,
          -1.1066396351534582,
          0.9114796019739642,
          0.29518110596127883,
          0.5965871078261196,
          -0.6190242134296731,
          -0.9294887399068007,
          0.24055976556184552,
          0.05308689523824642,
          -0.32226287593468833,
          1.063935624998341,
          -0.5072921436705043,
          -1.5377735821424616,
          -0.685396102123712,
          -2.605179870972897,
          -0.014336078140034441,
          0.13052624885473935,
          -0.3793653369458108,
          0.6065077500095933,
          -0.763188427541439,
          2.170705302187318,
          -0.8878237136360704,
          0.30600965400701974,
          -1.0163183411750913,
          1.0624991809215645,
          -0.4412390260445293,
          0.3651556864264858,
          -1.486978745096095,
          1.664516514200354,
          1.1997710720009844,
          -2.0555831792245747,
          0.9235026440401792,
          0.07848950119542743,
          1.3431294743521662,
          3.2765097706920816,
          -0.4934295310273326,
          0.990094748628564,
          2.0134383679368852,
          -2.287636557492431,
          0.8224077368953896,
          -0.3560884397513596,
          -1.744011177010594,
          -0.034766326276481054,
          -0.7374693628800136,
          -1.140617878297122,
          -0.28734548744461696,
          0.5667681473808669,
          -0.9520658721364366,
          0.9596448650717668,
          0.3919613373221554,
          -0.9680655332483575,
          0.42334251965705855,
          1.772520654229283,
          0.650698170834495,
          -1.1317667464189085,
          -1.8459395957855504,
          0.8062363265030782,
          0.3147212847950096,
          -1.057789454250701,
          -0.29795494761001645,
          0.789773725362857,
          1.083507179451289,
          -1.9468646653134738,
          -0.21824193932452937,
          0.4675002253006263,
          1.605648784272931,
          -0.8821948592590849,
          -1.0917912230779365,
          0.06719803818297368,
          0.770564006511959,
          1.3408187755846943,
          1.7074842570992093,
          1.5703817547245793,
          0.29386034266401145,
          -0.06716747238653473,
          0.9434032958517293,
          -0.04607609878312643,
          -1.5422232108086,
          -0.7792537895554505,
          -0.3687631447341126,
          -0.09668785472371995,
          1.067454982834531,
          0.08877790370553766,
          1.0971434149579615
         ]
        },
        {
         "line": {
          "color": "rgba(55, 128, 191, 1.0)",
          "dash": "solid",
          "shape": "linear",
          "width": 1.3
         },
         "mode": "lines",
         "name": "B",
         "text": "",
         "type": "scatter",
         "x": [
          0,
          1,
          2,
          3,
          4,
          5,
          6,
          7,
          8,
          9,
          10,
          11,
          12,
          13,
          14,
          15,
          16,
          17,
          18,
          19,
          20,
          21,
          22,
          23,
          24,
          25,
          26,
          27,
          28,
          29,
          30,
          31,
          32,
          33,
          34,
          35,
          36,
          37,
          38,
          39,
          40,
          41,
          42,
          43,
          44,
          45,
          46,
          47,
          48,
          49,
          50,
          51,
          52,
          53,
          54,
          55,
          56,
          57,
          58,
          59,
          60,
          61,
          62,
          63,
          64,
          65,
          66,
          67,
          68,
          69,
          70,
          71,
          72,
          73,
          74,
          75,
          76,
          77,
          78,
          79,
          80,
          81,
          82,
          83,
          84,
          85,
          86,
          87,
          88,
          89,
          90,
          91,
          92,
          93,
          94,
          95,
          96,
          97,
          98,
          99
         ],
         "y": [
          0.991862700951286,
          0.24950253065649877,
          0.3950093976649536,
          0.6188708512930853,
          -0.7747954695629024,
          -0.6999267092916548,
          0.0767008924504014,
          1.1329314657450371,
          0.6433203381952936,
          1.6131660962513228,
          0.06043736850071907,
          0.8713454604033425,
          -0.18930552552586122,
          0.43833285799875565,
          -0.6995013195151322,
          -1.8064010468855245,
          0.687905900643732,
          1.396414503651976,
          -0.8072414603179552,
          1.0587564990166214,
          -0.3796720805805881,
          -0.3195073545466219,
          -1.3298790867118577,
          0.6457868122925032,
          -0.6441709957256099,
          -0.40827355746977784,
          -0.8355145027336962,
          0.8677656888788933,
          -0.30118120675530397,
          0.4963393424518228,
          1.8997241764226496,
          2.6281040905157247,
          1.4377596195562439,
          -1.8840417497279667,
          -0.4534505483577321,
          -0.6109510793091015,
          0.0151099174140034,
          0.6113033544272953,
          -1.0671475176105258,
          -1.347816683912141,
          0.05455733113361512,
          -0.4739243275402265,
          -0.45829014109480576,
          -0.726852510520777,
          -0.17788606157097492,
          -0.17897625981444226,
          0.685167733415189,
          -1.9724384236155548,
          0.7937847144227674,
          -1.1535059289831828,
          0.5102192179387394,
          0.8606104025042941,
          1.795271491052051,
          0.8545248489559998,
          0.8939539538337453,
          0.9961409783162299,
          -2.212550853061344,
          0.7806743317887066,
          1.1421746771338692,
          0.2881768847509344,
          -0.18142864879455858,
          -1.196135981429346,
          -0.9432708001793368,
          -1.4910858898960022,
          -2.1374718013605234,
          2.2207175524641616,
          0.03019455031206788,
          0.9877754416137221,
          1.044919815072245,
          -0.4359856415997237,
          -2.556134407655902,
          0.8257669498802955,
          -0.49672006283080633,
          -0.5433664670566228,
          -0.40402255151282734,
          -0.9041658119968088,
          0.48220006883816724,
          1.3853556377901446,
          0.6436047187928708,
          0.08846144335836506,
          -0.1682423067605211,
          0.17385203610914976,
          -0.5620543658393782,
          1.1000045334205817,
          0.8449228133014679,
          2.0693586894798575,
          0.556074393022577,
          -0.09675473988838523,
          -1.4876250381532938,
          -0.49795804936956967,
          -2.1141074948250784,
          0.6731424953480482,
          -0.5486912328010581,
          -1.9787097456859963,
          -0.45434678245835275,
          0.5868522472967778,
          0.09853414803666562,
          -0.49452835762931896,
          -2.116011155396429,
          -0.05396114288166204
         ]
        },
        {
         "connectgaps": false,
         "fill": "tozeroy",
         "line": {
          "color": "green",
          "dash": "solid",
          "shape": "linear",
          "width": 0.5
         },
         "mode": "lines",
         "name": "Spread",
         "showlegend": false,
         "type": "scatter",
         "x": [
          0,
          1,
          2,
          3,
          4,
          5,
          6,
          7,
          8,
          9,
          10,
          11,
          12,
          13,
          14,
          15,
          16,
          17,
          18,
          19,
          20,
          21,
          22,
          23,
          24,
          25,
          26,
          27,
          28,
          29,
          30,
          31,
          32,
          33,
          34,
          35,
          36,
          37,
          38,
          39,
          40,
          41,
          42,
          43,
          44,
          45,
          46,
          47,
          48,
          49,
          50,
          51,
          52,
          53,
          54,
          55,
          56,
          57,
          58,
          59,
          60,
          61,
          62,
          63,
          64,
          65,
          66,
          67,
          68,
          69,
          70,
          71,
          72,
          73,
          74,
          75,
          76,
          77,
          78,
          79,
          80,
          81,
          82,
          83,
          84,
          85,
          86,
          87,
          88,
          89,
          90,
          91,
          92,
          93,
          94,
          95,
          96,
          97,
          98,
          99
         ],
         "xaxis": "x2",
         "y": [
          "",
          "",
          "",
          0.019199011392390775,
          0.988573409316776,
          "",
          "",
          "",
          "",
          "",
          "",
          "",
          0.24268302731554825,
          "",
          1.0856618414195771,
          1.5803447317642143,
          "",
          "",
          1.7187210622919193,
          "",
          0.9762591884067077,
          "",
          0.40039034680505703,
          "",
          0.6972578909638563,
          0.0860106815350895,
          1.8994501277320373,
          "",
          "",
          "",
          "",
          "",
          "",
          1.504676412782156,
          1.0599582983673255,
          "",
          2.155595384773315,
          "",
          1.3731571716175455,
          0.3314983427370497,
          1.0079418497879493,
          0.032685301495697205,
          0.8234458275212916,
          "",
          1.842402575771329,
          1.3787473318154266,
          "",
          2.895941067655734,
          "",
          2.496635403335349,
          2.7662905527533423,
          "",
          "",
          1.1589135189808855,
          "",
          "",
          1.8564624133099845,
          "",
          "",
          "",
          "",
          0.908790493984729,
          1.5100389475602038,
          0.5390200177595657,
          3.0971166664322904,
          "",
          "",
          "",
          0.7276008391570381,
          1.0866838124342186,
          1.4243676612369935,
          "",
          1.3029563893338845,
          0.8580877518516324,
          "",
          0.6062108643867923,
          0.3075736565246897,
          "",
          "",
          "",
          0.6357425320611474,
          1.4317967481637812,
          "",
          "",
          "",
          "",
          0.7847443825621173,
          1.8042389969875945,
          3.0580067928778734,
          0.7918183920335811,
          2.0469400224385437,
          0.2702608005036812,
          0.5026151340179317,
          0.4364865348773963,
          "",
          "",
          "",
          1.56198334046385,
          2.2047890591019668,
          1.1511045578396235
         ],
         "yaxis": "y2"
        },
        {
         "connectgaps": false,
         "fill": "tozeroy",
         "line": {
          "color": "red",
          "dash": "solid",
          "shape": "linear",
          "width": 0.5
         },
         "mode": "lines",
         "name": "Spread",
         "showlegend": false,
         "type": "scatter",
         "x": [
          0,
          1,
          2,
          3,
          4,
          5,
          6,
          7,
          8,
          9,
          10,
          11,
          12,
          13,
          14,
          15,
          16,
          17,
          18,
          19,
          20,
          21,
          22,
          23,
          24,
          25,
          26,
          27,
          28,
          29,
          30,
          31,
          32,
          33,
          34,
          35,
          36,
          37,
          38,
          39,
          40,
          41,
          42,
          43,
          44,
          45,
          46,
          47,
          48,
          49,
          50,
          51,
          52,
          53,
          54,
          55,
          56,
          57,
          58,
          59,
          60,
          61,
          62,
          63,
          64,
          65,
          66,
          67,
          68,
          69,
          70,
          71,
          72,
          73,
          74,
          75,
          76,
          77,
          78,
          79,
          80,
          81,
          82,
          83,
          84,
          85,
          86,
          87,
          88,
          89,
          90,
          91,
          92,
          93,
          94,
          95,
          96,
          97,
          98,
          99
         ],
         "xaxis": "x2",
         "y": [
          -2.4781700718488557,
          -2.4345849327760605,
          -3.3558366702107056,
          "",
          "",
          -0.115571124887344,
          -1.6506892029521616,
          -0.7010491882164085,
          -1.9699091669882116,
          -0.3539825788218198,
          -0.07784444915497658,
          -0.9741647386529168,
          "",
          -1.0676225190585185,
          "",
          "",
          -0.7864434034119494,
          -2.5030541388054344,
          "",
          -0.7635753930553426,
          "",
          -0.2995168588830512,
          "",
          -0.4052270467306577,
          "",
          "",
          "",
          -1.3750578325493976,
          -1.2365923753871577,
          -1.1817354445755348,
          -4.504904047395547,
          -2.6424401686557593,
          -1.3072333707015045,
          "",
          "",
          -0.15223734823233748,
          "",
          -1.4991270680633657,
          "",
          "",
          "",
          "",
          "",
          -0.7601262345753179,
          "",
          "",
          -2.7407509126397636,
          "",
          -0.71529521322734,
          "",
          "",
          -1.3540399335316267,
          -0.8051767424234871,
          "",
          -3.181590511326176,
          -0.17373324142084035,
          "",
          -2.5246855087993003,
          -1.1769410034103502,
          -1.025646247630948,
          -0.9591892295025634,
          "",
          "",
          "",
          "",
          -1.8287562151420063,
          -0.9982600835604254,
          -0.5644329219566635,
          "",
          "",
          "",
          -2.671706545665846,
          "",
          "",
          -0.6537669027378736,
          "",
          "",
          -0.30184845833885565,
          -2.5904693841063446,
          -0.30670338268289443,
          "",
          "",
          -0.32014049341970674,
          -2.191795756498518,
          -0.7777247751184942,
          -1.2987946829678985,
          "",
          "",
          "",
          "",
          "",
          "",
          "",
          "",
          -0.3249070070970978,
          -0.9556153920308903,
          -0.19522200276038557,
          "",
          "",
          ""
         ],
         "yaxis": "y2"
        }
       ],
       "layout": {
        "hovermode": "x",
        "legend": {
         "bgcolor": "#F5F6F9",
         "font": {
          "color": "#4D5663"
         }
        },
        "paper_bgcolor": "#F5F6F9",
        "plot_bgcolor": "#F5F6F9",
        "template": {
         "data": {
          "bar": [
           {
            "error_x": {
             "color": "#2a3f5f"
            },
            "error_y": {
             "color": "#2a3f5f"
            },
            "marker": {
             "line": {
              "color": "#E5ECF6",
              "width": 0.5
             }
            },
            "type": "bar"
           }
          ],
          "barpolar": [
           {
            "marker": {
             "line": {
              "color": "#E5ECF6",
              "width": 0.5
             }
            },
            "type": "barpolar"
           }
          ],
          "carpet": [
           {
            "aaxis": {
             "endlinecolor": "#2a3f5f",
             "gridcolor": "white",
             "linecolor": "white",
             "minorgridcolor": "white",
             "startlinecolor": "#2a3f5f"
            },
            "baxis": {
             "endlinecolor": "#2a3f5f",
             "gridcolor": "white",
             "linecolor": "white",
             "minorgridcolor": "white",
             "startlinecolor": "#2a3f5f"
            },
            "type": "carpet"
           }
          ],
          "choropleth": [
           {
            "colorbar": {
             "outlinewidth": 0,
             "ticks": ""
            },
            "type": "choropleth"
           }
          ],
          "contour": [
           {
            "colorbar": {
             "outlinewidth": 0,
             "ticks": ""
            },
            "colorscale": [
             [
              0.0,
              "#0d0887"
             ],
             [
              0.1111111111111111,
              "#46039f"
             ],
             [
              0.2222222222222222,
              "#7201a8"
             ],
             [
              0.3333333333333333,
              "#9c179e"
             ],
             [
              0.4444444444444444,
              "#bd3786"
             ],
             [
              0.5555555555555556,
              "#d8576b"
             ],
             [
              0.6666666666666666,
              "#ed7953"
             ],
             [
              0.7777777777777778,
              "#fb9f3a"
             ],
             [
              0.8888888888888888,
              "#fdca26"
             ],
             [
              1.0,
              "#f0f921"
             ]
            ],
            "type": "contour"
           }
          ],
          "contourcarpet": [
           {
            "colorbar": {
             "outlinewidth": 0,
             "ticks": ""
            },
            "type": "contourcarpet"
           }
          ],
          "heatmap": [
           {
            "colorbar": {
             "outlinewidth": 0,
             "ticks": ""
            },
            "colorscale": [
             [
              0.0,
              "#0d0887"
             ],
             [
              0.1111111111111111,
              "#46039f"
             ],
             [
              0.2222222222222222,
              "#7201a8"
             ],
             [
              0.3333333333333333,
              "#9c179e"
             ],
             [
              0.4444444444444444,
              "#bd3786"
             ],
             [
              0.5555555555555556,
              "#d8576b"
             ],
             [
              0.6666666666666666,
              "#ed7953"
             ],
             [
              0.7777777777777778,
              "#fb9f3a"
             ],
             [
              0.8888888888888888,
              "#fdca26"
             ],
             [
              1.0,
              "#f0f921"
             ]
            ],
            "type": "heatmap"
           }
          ],
          "heatmapgl": [
           {
            "colorbar": {
             "outlinewidth": 0,
             "ticks": ""
            },
            "colorscale": [
             [
              0.0,
              "#0d0887"
             ],
             [
              0.1111111111111111,
              "#46039f"
             ],
             [
              0.2222222222222222,
              "#7201a8"
             ],
             [
              0.3333333333333333,
              "#9c179e"
             ],
             [
              0.4444444444444444,
              "#bd3786"
             ],
             [
              0.5555555555555556,
              "#d8576b"
             ],
             [
              0.6666666666666666,
              "#ed7953"
             ],
             [
              0.7777777777777778,
              "#fb9f3a"
             ],
             [
              0.8888888888888888,
              "#fdca26"
             ],
             [
              1.0,
              "#f0f921"
             ]
            ],
            "type": "heatmapgl"
           }
          ],
          "histogram": [
           {
            "marker": {
             "colorbar": {
              "outlinewidth": 0,
              "ticks": ""
             }
            },
            "type": "histogram"
           }
          ],
          "histogram2d": [
           {
            "colorbar": {
             "outlinewidth": 0,
             "ticks": ""
            },
            "colorscale": [
             [
              0.0,
              "#0d0887"
             ],
             [
              0.1111111111111111,
              "#46039f"
             ],
             [
              0.2222222222222222,
              "#7201a8"
             ],
             [
              0.3333333333333333,
              "#9c179e"
             ],
             [
              0.4444444444444444,
              "#bd3786"
             ],
             [
              0.5555555555555556,
              "#d8576b"
             ],
             [
              0.6666666666666666,
              "#ed7953"
             ],
             [
              0.7777777777777778,
              "#fb9f3a"
             ],
             [
              0.8888888888888888,
              "#fdca26"
             ],
             [
              1.0,
              "#f0f921"
             ]
            ],
            "type": "histogram2d"
           }
          ],
          "histogram2dcontour": [
           {
            "colorbar": {
             "outlinewidth": 0,
             "ticks": ""
            },
            "colorscale": [
             [
              0.0,
              "#0d0887"
             ],
             [
              0.1111111111111111,
              "#46039f"
             ],
             [
              0.2222222222222222,
              "#7201a8"
             ],
             [
              0.3333333333333333,
              "#9c179e"
             ],
             [
              0.4444444444444444,
              "#bd3786"
             ],
             [
              0.5555555555555556,
              "#d8576b"
             ],
             [
              0.6666666666666666,
              "#ed7953"
             ],
             [
              0.7777777777777778,
              "#fb9f3a"
             ],
             [
              0.8888888888888888,
              "#fdca26"
             ],
             [
              1.0,
              "#f0f921"
             ]
            ],
            "type": "histogram2dcontour"
           }
          ],
          "mesh3d": [
           {
            "colorbar": {
             "outlinewidth": 0,
             "ticks": ""
            },
            "type": "mesh3d"
           }
          ],
          "parcoords": [
           {
            "line": {
             "colorbar": {
              "outlinewidth": 0,
              "ticks": ""
             }
            },
            "type": "parcoords"
           }
          ],
          "pie": [
           {
            "automargin": true,
            "type": "pie"
           }
          ],
          "scatter": [
           {
            "marker": {
             "colorbar": {
              "outlinewidth": 0,
              "ticks": ""
             }
            },
            "type": "scatter"
           }
          ],
          "scatter3d": [
           {
            "line": {
             "colorbar": {
              "outlinewidth": 0,
              "ticks": ""
             }
            },
            "marker": {
             "colorbar": {
              "outlinewidth": 0,
              "ticks": ""
             }
            },
            "type": "scatter3d"
           }
          ],
          "scattercarpet": [
           {
            "marker": {
             "colorbar": {
              "outlinewidth": 0,
              "ticks": ""
             }
            },
            "type": "scattercarpet"
           }
          ],
          "scattergeo": [
           {
            "marker": {
             "colorbar": {
              "outlinewidth": 0,
              "ticks": ""
             }
            },
            "type": "scattergeo"
           }
          ],
          "scattergl": [
           {
            "marker": {
             "colorbar": {
              "outlinewidth": 0,
              "ticks": ""
             }
            },
            "type": "scattergl"
           }
          ],
          "scattermapbox": [
           {
            "marker": {
             "colorbar": {
              "outlinewidth": 0,
              "ticks": ""
             }
            },
            "type": "scattermapbox"
           }
          ],
          "scatterpolar": [
           {
            "marker": {
             "colorbar": {
              "outlinewidth": 0,
              "ticks": ""
             }
            },
            "type": "scatterpolar"
           }
          ],
          "scatterpolargl": [
           {
            "marker": {
             "colorbar": {
              "outlinewidth": 0,
              "ticks": ""
             }
            },
            "type": "scatterpolargl"
           }
          ],
          "scatterternary": [
           {
            "marker": {
             "colorbar": {
              "outlinewidth": 0,
              "ticks": ""
             }
            },
            "type": "scatterternary"
           }
          ],
          "surface": [
           {
            "colorbar": {
             "outlinewidth": 0,
             "ticks": ""
            },
            "colorscale": [
             [
              0.0,
              "#0d0887"
             ],
             [
              0.1111111111111111,
              "#46039f"
             ],
             [
              0.2222222222222222,
              "#7201a8"
             ],
             [
              0.3333333333333333,
              "#9c179e"
             ],
             [
              0.4444444444444444,
              "#bd3786"
             ],
             [
              0.5555555555555556,
              "#d8576b"
             ],
             [
              0.6666666666666666,
              "#ed7953"
             ],
             [
              0.7777777777777778,
              "#fb9f3a"
             ],
             [
              0.8888888888888888,
              "#fdca26"
             ],
             [
              1.0,
              "#f0f921"
             ]
            ],
            "type": "surface"
           }
          ],
          "table": [
           {
            "cells": {
             "fill": {
              "color": "#EBF0F8"
             },
             "line": {
              "color": "white"
             }
            },
            "header": {
             "fill": {
              "color": "#C8D4E3"
             },
             "line": {
              "color": "white"
             }
            },
            "type": "table"
           }
          ]
         },
         "layout": {
          "annotationdefaults": {
           "arrowcolor": "#2a3f5f",
           "arrowhead": 0,
           "arrowwidth": 1
          },
          "coloraxis": {
           "colorbar": {
            "outlinewidth": 0,
            "ticks": ""
           }
          },
          "colorscale": {
           "diverging": [
            [
             0,
             "#8e0152"
            ],
            [
             0.1,
             "#c51b7d"
            ],
            [
             0.2,
             "#de77ae"
            ],
            [
             0.3,
             "#f1b6da"
            ],
            [
             0.4,
             "#fde0ef"
            ],
            [
             0.5,
             "#f7f7f7"
            ],
            [
             0.6,
             "#e6f5d0"
            ],
            [
             0.7,
             "#b8e186"
            ],
            [
             0.8,
             "#7fbc41"
            ],
            [
             0.9,
             "#4d9221"
            ],
            [
             1,
             "#276419"
            ]
           ],
           "sequential": [
            [
             0.0,
             "#0d0887"
            ],
            [
             0.1111111111111111,
             "#46039f"
            ],
            [
             0.2222222222222222,
             "#7201a8"
            ],
            [
             0.3333333333333333,
             "#9c179e"
            ],
            [
             0.4444444444444444,
             "#bd3786"
            ],
            [
             0.5555555555555556,
             "#d8576b"
            ],
            [
             0.6666666666666666,
             "#ed7953"
            ],
            [
             0.7777777777777778,
             "#fb9f3a"
            ],
            [
             0.8888888888888888,
             "#fdca26"
            ],
            [
             1.0,
             "#f0f921"
            ]
           ],
           "sequentialminus": [
            [
             0.0,
             "#0d0887"
            ],
            [
             0.1111111111111111,
             "#46039f"
            ],
            [
             0.2222222222222222,
             "#7201a8"
            ],
            [
             0.3333333333333333,
             "#9c179e"
            ],
            [
             0.4444444444444444,
             "#bd3786"
            ],
            [
             0.5555555555555556,
             "#d8576b"
            ],
            [
             0.6666666666666666,
             "#ed7953"
            ],
            [
             0.7777777777777778,
             "#fb9f3a"
            ],
            [
             0.8888888888888888,
             "#fdca26"
            ],
            [
             1.0,
             "#f0f921"
            ]
           ]
          },
          "colorway": [
           "#636efa",
           "#EF553B",
           "#00cc96",
           "#ab63fa",
           "#FFA15A",
           "#19d3f3",
           "#FF6692",
           "#B6E880",
           "#FF97FF",
           "#FECB52"
          ],
          "font": {
           "color": "#2a3f5f"
          },
          "geo": {
           "bgcolor": "white",
           "lakecolor": "white",
           "landcolor": "#E5ECF6",
           "showlakes": true,
           "showland": true,
           "subunitcolor": "white"
          },
          "hoverlabel": {
           "align": "left"
          },
          "hovermode": "closest",
          "mapbox": {
           "style": "light"
          },
          "paper_bgcolor": "white",
          "plot_bgcolor": "#E5ECF6",
          "polar": {
           "angularaxis": {
            "gridcolor": "white",
            "linecolor": "white",
            "ticks": ""
           },
           "bgcolor": "#E5ECF6",
           "radialaxis": {
            "gridcolor": "white",
            "linecolor": "white",
            "ticks": ""
           }
          },
          "scene": {
           "xaxis": {
            "backgroundcolor": "#E5ECF6",
            "gridcolor": "white",
            "gridwidth": 2,
            "linecolor": "white",
            "showbackground": true,
            "ticks": "",
            "zerolinecolor": "white"
           },
           "yaxis": {
            "backgroundcolor": "#E5ECF6",
            "gridcolor": "white",
            "gridwidth": 2,
            "linecolor": "white",
            "showbackground": true,
            "ticks": "",
            "zerolinecolor": "white"
           },
           "zaxis": {
            "backgroundcolor": "#E5ECF6",
            "gridcolor": "white",
            "gridwidth": 2,
            "linecolor": "white",
            "showbackground": true,
            "ticks": "",
            "zerolinecolor": "white"
           }
          },
          "shapedefaults": {
           "line": {
            "color": "#2a3f5f"
           }
          },
          "ternary": {
           "aaxis": {
            "gridcolor": "white",
            "linecolor": "white",
            "ticks": ""
           },
           "baxis": {
            "gridcolor": "white",
            "linecolor": "white",
            "ticks": ""
           },
           "bgcolor": "#E5ECF6",
           "caxis": {
            "gridcolor": "white",
            "linecolor": "white",
            "ticks": ""
           }
          },
          "title": {
           "x": 0.05
          },
          "xaxis": {
           "automargin": true,
           "gridcolor": "white",
           "linecolor": "white",
           "ticks": "",
           "title": {
            "standoff": 15
           },
           "zerolinecolor": "white",
           "zerolinewidth": 2
          },
          "yaxis": {
           "automargin": true,
           "gridcolor": "white",
           "linecolor": "white",
           "ticks": "",
           "title": {
            "standoff": 15
           },
           "zerolinecolor": "white",
           "zerolinewidth": 2
          }
         }
        },
        "title": {
         "font": {
          "color": "#4D5663"
         }
        },
        "xaxis": {
         "gridcolor": "#E1E5ED",
         "showgrid": true,
         "tickfont": {
          "color": "#4D5663"
         },
         "title": {
          "font": {
           "color": "#4D5663"
          },
          "text": ""
         },
         "zerolinecolor": "#E1E5ED"
        },
        "xaxis2": {
         "anchor": "y2",
         "gridcolor": "#E1E5ED",
         "showgrid": true,
         "showticklabels": false,
         "tickfont": {
          "color": "#4D5663"
         },
         "title": {
          "font": {
           "color": "#4D5663"
          },
          "text": ""
         },
         "zerolinecolor": "#E1E5ED"
        },
        "yaxis": {
         "domain": [
          0.3,
          1
         ],
         "gridcolor": "#E1E5ED",
         "showgrid": true,
         "tickfont": {
          "color": "#4D5663"
         },
         "title": {
          "font": {
           "color": "#4D5663"
          },
          "text": ""
         },
         "zerolinecolor": "#E1E5ED"
        },
        "yaxis2": {
         "domain": [
          0,
          0.25
         ],
         "gridcolor": "#E1E5ED",
         "showgrid": true,
         "tickfont": {
          "color": "#4D5663"
         },
         "title": {
          "font": {
           "color": "#4D5663"
          },
          "text": "Spread"
         },
         "zerolinecolor": "#E1E5ED"
        }
       }
      },
      "text/html": "<div>\n        \n        \n            <div id=\"f060c031-5219-41ea-8c06-02286c693178\" class=\"plotly-graph-div\" style=\"height:525px; width:100%;\"></div>\n            <script type=\"text/javascript\">\n                require([\"plotly\"], function(Plotly) {\n                    window.PLOTLYENV=window.PLOTLYENV || {};\n                    window.PLOTLYENV.BASE_URL='https://plot.ly';\n                    \n                if (document.getElementById(\"f060c031-5219-41ea-8c06-02286c693178\")) {\n                    Plotly.newPlot(\n                        'f060c031-5219-41ea-8c06-02286c693178',\n                        [{\"line\": {\"color\": \"rgba(255, 153, 51, 1.0)\", \"dash\": \"solid\", \"shape\": \"linear\", \"width\": 1.3}, \"mode\": \"lines\", \"name\": \"A\", \"text\": \"\", \"type\": \"scatter\", \"x\": [0, 1, 2, 3, 4, 5, 6, 7, 8, 9, 10, 11, 12, 13, 14, 15, 16, 17, 18, 19, 20, 21, 22, 23, 24, 25, 26, 27, 28, 29, 30, 31, 32, 33, 34, 35, 36, 37, 38, 39, 40, 41, 42, 43, 44, 45, 46, 47, 48, 49, 50, 51, 52, 53, 54, 55, 56, 57, 58, 59, 60, 61, 62, 63, 64, 65, 66, 67, 68, 69, 70, 71, 72, 73, 74, 75, 76, 77, 78, 79, 80, 81, 82, 83, 84, 85, 86, 87, 88, 89, 90, 91, 92, 93, 94, 95, 96, 97, 98, 99], \"y\": [-1.4863073708975698, -2.1850824021195616, -2.960827272545752, 0.638069862685476, 0.21377793975387355, -0.8154978341789988, -1.5739883105017602, 0.4318822775286287, -1.3265888287929182, 1.259183517429503, -0.017407080654257518, -0.10281927824957425, 0.05337750178968702, -0.6292896610597629, 0.38616052190444494, -0.22605631512131022, -0.09853750276821739, -1.1066396351534582, 0.9114796019739642, 0.29518110596127883, 0.5965871078261196, -0.6190242134296731, -0.9294887399068007, 0.24055976556184552, 0.05308689523824642, -0.32226287593468833, 1.063935624998341, -0.5072921436705043, -1.5377735821424616, -0.685396102123712, -2.605179870972897, -0.014336078140034441, 0.13052624885473935, -0.3793653369458108, 0.6065077500095933, -0.763188427541439, 2.170705302187318, -0.8878237136360704, 0.30600965400701974, -1.0163183411750913, 1.0624991809215645, -0.4412390260445293, 0.3651556864264858, -1.486978745096095, 1.664516514200354, 1.1997710720009844, -2.0555831792245747, 0.9235026440401792, 0.07848950119542743, 1.3431294743521662, 3.2765097706920816, -0.4934295310273326, 0.990094748628564, 2.0134383679368852, -2.287636557492431, 0.8224077368953896, -0.3560884397513596, -1.744011177010594, -0.034766326276481054, -0.7374693628800136, -1.140617878297122, -0.28734548744461696, 0.5667681473808669, -0.9520658721364366, 0.9596448650717668, 0.3919613373221554, -0.9680655332483575, 0.42334251965705855, 1.772520654229283, 0.650698170834495, -1.1317667464189085, -1.8459395957855504, 0.8062363265030782, 0.3147212847950096, -1.057789454250701, -0.29795494761001645, 0.789773725362857, 1.083507179451289, -1.9468646653134738, -0.21824193932452937, 0.4675002253006263, 1.605648784272931, -0.8821948592590849, -1.0917912230779365, 0.06719803818297368, 0.770564006511959, 1.3408187755846943, 1.7074842570992093, 1.5703817547245793, 0.29386034266401145, -0.06716747238653473, 0.9434032958517293, -0.04607609878312643, -1.5422232108086, -0.7792537895554505, -0.3687631447341126, -0.09668785472371995, 1.067454982834531, 0.08877790370553766, 1.0971434149579615]}, {\"line\": {\"color\": \"rgba(55, 128, 191, 1.0)\", \"dash\": \"solid\", \"shape\": \"linear\", \"width\": 1.3}, \"mode\": \"lines\", \"name\": \"B\", \"text\": \"\", \"type\": \"scatter\", \"x\": [0, 1, 2, 3, 4, 5, 6, 7, 8, 9, 10, 11, 12, 13, 14, 15, 16, 17, 18, 19, 20, 21, 22, 23, 24, 25, 26, 27, 28, 29, 30, 31, 32, 33, 34, 35, 36, 37, 38, 39, 40, 41, 42, 43, 44, 45, 46, 47, 48, 49, 50, 51, 52, 53, 54, 55, 56, 57, 58, 59, 60, 61, 62, 63, 64, 65, 66, 67, 68, 69, 70, 71, 72, 73, 74, 75, 76, 77, 78, 79, 80, 81, 82, 83, 84, 85, 86, 87, 88, 89, 90, 91, 92, 93, 94, 95, 96, 97, 98, 99], \"y\": [0.991862700951286, 0.24950253065649877, 0.3950093976649536, 0.6188708512930853, -0.7747954695629024, -0.6999267092916548, 0.0767008924504014, 1.1329314657450371, 0.6433203381952936, 1.6131660962513228, 0.06043736850071907, 0.8713454604033425, -0.18930552552586122, 0.43833285799875565, -0.6995013195151322, -1.8064010468855245, 0.687905900643732, 1.396414503651976, -0.8072414603179552, 1.0587564990166214, -0.3796720805805881, -0.3195073545466219, -1.3298790867118577, 0.6457868122925032, -0.6441709957256099, -0.40827355746977784, -0.8355145027336962, 0.8677656888788933, -0.30118120675530397, 0.4963393424518228, 1.8997241764226496, 2.6281040905157247, 1.4377596195562439, -1.8840417497279667, -0.4534505483577321, -0.6109510793091015, 0.0151099174140034, 0.6113033544272953, -1.0671475176105258, -1.347816683912141, 0.05455733113361512, -0.4739243275402265, -0.45829014109480576, -0.726852510520777, -0.17788606157097492, -0.17897625981444226, 0.685167733415189, -1.9724384236155548, 0.7937847144227674, -1.1535059289831828, 0.5102192179387394, 0.8606104025042941, 1.795271491052051, 0.8545248489559998, 0.8939539538337453, 0.9961409783162299, -2.212550853061344, 0.7806743317887066, 1.1421746771338692, 0.2881768847509344, -0.18142864879455858, -1.196135981429346, -0.9432708001793368, -1.4910858898960022, -2.1374718013605234, 2.2207175524641616, 0.03019455031206788, 0.9877754416137221, 1.044919815072245, -0.4359856415997237, -2.556134407655902, 0.8257669498802955, -0.49672006283080633, -0.5433664670566228, -0.40402255151282734, -0.9041658119968088, 0.48220006883816724, 1.3853556377901446, 0.6436047187928708, 0.08846144335836506, -0.1682423067605211, 0.17385203610914976, -0.5620543658393782, 1.1000045334205817, 0.8449228133014679, 2.0693586894798575, 0.556074393022577, -0.09675473988838523, -1.4876250381532938, -0.49795804936956967, -2.1141074948250784, 0.6731424953480482, -0.5486912328010581, -1.9787097456859963, -0.45434678245835275, 0.5868522472967778, 0.09853414803666562, -0.49452835762931896, -2.116011155396429, -0.05396114288166204]}, {\"connectgaps\": false, \"fill\": \"tozeroy\", \"line\": {\"color\": \"green\", \"dash\": \"solid\", \"shape\": \"linear\", \"width\": 0.5}, \"mode\": \"lines\", \"name\": \"Spread\", \"showlegend\": false, \"type\": \"scatter\", \"x\": [0, 1, 2, 3, 4, 5, 6, 7, 8, 9, 10, 11, 12, 13, 14, 15, 16, 17, 18, 19, 20, 21, 22, 23, 24, 25, 26, 27, 28, 29, 30, 31, 32, 33, 34, 35, 36, 37, 38, 39, 40, 41, 42, 43, 44, 45, 46, 47, 48, 49, 50, 51, 52, 53, 54, 55, 56, 57, 58, 59, 60, 61, 62, 63, 64, 65, 66, 67, 68, 69, 70, 71, 72, 73, 74, 75, 76, 77, 78, 79, 80, 81, 82, 83, 84, 85, 86, 87, 88, 89, 90, 91, 92, 93, 94, 95, 96, 97, 98, 99], \"xaxis\": \"x2\", \"y\": [\"\", \"\", \"\", 0.019199011392390775, 0.988573409316776, \"\", \"\", \"\", \"\", \"\", \"\", \"\", 0.24268302731554825, \"\", 1.0856618414195771, 1.5803447317642143, \"\", \"\", 1.7187210622919193, \"\", 0.9762591884067077, \"\", 0.40039034680505703, \"\", 0.6972578909638563, 0.0860106815350895, 1.8994501277320373, \"\", \"\", \"\", \"\", \"\", \"\", 1.504676412782156, 1.0599582983673255, \"\", 2.155595384773315, \"\", 1.3731571716175455, 0.3314983427370497, 1.0079418497879493, 0.032685301495697205, 0.8234458275212916, \"\", 1.842402575771329, 1.3787473318154266, \"\", 2.895941067655734, \"\", 2.496635403335349, 2.7662905527533423, \"\", \"\", 1.1589135189808855, \"\", \"\", 1.8564624133099845, \"\", \"\", \"\", \"\", 0.908790493984729, 1.5100389475602038, 0.5390200177595657, 3.0971166664322904, \"\", \"\", \"\", 0.7276008391570381, 1.0866838124342186, 1.4243676612369935, \"\", 1.3029563893338845, 0.8580877518516324, \"\", 0.6062108643867923, 0.3075736565246897, \"\", \"\", \"\", 0.6357425320611474, 1.4317967481637812, \"\", \"\", \"\", \"\", 0.7847443825621173, 1.8042389969875945, 3.0580067928778734, 0.7918183920335811, 2.0469400224385437, 0.2702608005036812, 0.5026151340179317, 0.4364865348773963, \"\", \"\", \"\", 1.56198334046385, 2.2047890591019668, 1.1511045578396235], \"yaxis\": \"y2\"}, {\"connectgaps\": false, \"fill\": \"tozeroy\", \"line\": {\"color\": \"red\", \"dash\": \"solid\", \"shape\": \"linear\", \"width\": 0.5}, \"mode\": \"lines\", \"name\": \"Spread\", \"showlegend\": false, \"type\": \"scatter\", \"x\": [0, 1, 2, 3, 4, 5, 6, 7, 8, 9, 10, 11, 12, 13, 14, 15, 16, 17, 18, 19, 20, 21, 22, 23, 24, 25, 26, 27, 28, 29, 30, 31, 32, 33, 34, 35, 36, 37, 38, 39, 40, 41, 42, 43, 44, 45, 46, 47, 48, 49, 50, 51, 52, 53, 54, 55, 56, 57, 58, 59, 60, 61, 62, 63, 64, 65, 66, 67, 68, 69, 70, 71, 72, 73, 74, 75, 76, 77, 78, 79, 80, 81, 82, 83, 84, 85, 86, 87, 88, 89, 90, 91, 92, 93, 94, 95, 96, 97, 98, 99], \"xaxis\": \"x2\", \"y\": [-2.4781700718488557, -2.4345849327760605, -3.3558366702107056, \"\", \"\", -0.115571124887344, -1.6506892029521616, -0.7010491882164085, -1.9699091669882116, -0.3539825788218198, -0.07784444915497658, -0.9741647386529168, \"\", -1.0676225190585185, \"\", \"\", -0.7864434034119494, -2.5030541388054344, \"\", -0.7635753930553426, \"\", -0.2995168588830512, \"\", -0.4052270467306577, \"\", \"\", \"\", -1.3750578325493976, -1.2365923753871577, -1.1817354445755348, -4.504904047395547, -2.6424401686557593, -1.3072333707015045, \"\", \"\", -0.15223734823233748, \"\", -1.4991270680633657, \"\", \"\", \"\", \"\", \"\", -0.7601262345753179, \"\", \"\", -2.7407509126397636, \"\", -0.71529521322734, \"\", \"\", -1.3540399335316267, -0.8051767424234871, \"\", -3.181590511326176, -0.17373324142084035, \"\", -2.5246855087993003, -1.1769410034103502, -1.025646247630948, -0.9591892295025634, \"\", \"\", \"\", \"\", -1.8287562151420063, -0.9982600835604254, -0.5644329219566635, \"\", \"\", \"\", -2.671706545665846, \"\", \"\", -0.6537669027378736, \"\", \"\", -0.30184845833885565, -2.5904693841063446, -0.30670338268289443, \"\", \"\", -0.32014049341970674, -2.191795756498518, -0.7777247751184942, -1.2987946829678985, \"\", \"\", \"\", \"\", \"\", \"\", \"\", \"\", -0.3249070070970978, -0.9556153920308903, -0.19522200276038557, \"\", \"\", \"\"], \"yaxis\": \"y2\"}],\n                        {\"hovermode\": \"x\", \"legend\": {\"bgcolor\": \"#F5F6F9\", \"font\": {\"color\": \"#4D5663\"}}, \"paper_bgcolor\": \"#F5F6F9\", \"plot_bgcolor\": \"#F5F6F9\", \"template\": {\"data\": {\"bar\": [{\"error_x\": {\"color\": \"#2a3f5f\"}, \"error_y\": {\"color\": \"#2a3f5f\"}, \"marker\": {\"line\": {\"color\": \"#E5ECF6\", \"width\": 0.5}}, \"type\": \"bar\"}], \"barpolar\": [{\"marker\": {\"line\": {\"color\": \"#E5ECF6\", \"width\": 0.5}}, \"type\": \"barpolar\"}], \"carpet\": [{\"aaxis\": {\"endlinecolor\": \"#2a3f5f\", \"gridcolor\": \"white\", \"linecolor\": \"white\", \"minorgridcolor\": \"white\", \"startlinecolor\": \"#2a3f5f\"}, \"baxis\": {\"endlinecolor\": \"#2a3f5f\", \"gridcolor\": \"white\", \"linecolor\": \"white\", \"minorgridcolor\": \"white\", \"startlinecolor\": \"#2a3f5f\"}, \"type\": \"carpet\"}], \"choropleth\": [{\"colorbar\": {\"outlinewidth\": 0, \"ticks\": \"\"}, \"type\": \"choropleth\"}], \"contour\": [{\"colorbar\": {\"outlinewidth\": 0, \"ticks\": \"\"}, \"colorscale\": [[0.0, \"#0d0887\"], [0.1111111111111111, \"#46039f\"], [0.2222222222222222, \"#7201a8\"], [0.3333333333333333, \"#9c179e\"], [0.4444444444444444, \"#bd3786\"], [0.5555555555555556, \"#d8576b\"], [0.6666666666666666, \"#ed7953\"], [0.7777777777777778, \"#fb9f3a\"], [0.8888888888888888, \"#fdca26\"], [1.0, \"#f0f921\"]], \"type\": \"contour\"}], \"contourcarpet\": [{\"colorbar\": {\"outlinewidth\": 0, \"ticks\": \"\"}, \"type\": \"contourcarpet\"}], \"heatmap\": [{\"colorbar\": {\"outlinewidth\": 0, \"ticks\": \"\"}, \"colorscale\": [[0.0, \"#0d0887\"], [0.1111111111111111, \"#46039f\"], [0.2222222222222222, \"#7201a8\"], [0.3333333333333333, \"#9c179e\"], [0.4444444444444444, \"#bd3786\"], [0.5555555555555556, \"#d8576b\"], [0.6666666666666666, \"#ed7953\"], [0.7777777777777778, \"#fb9f3a\"], [0.8888888888888888, \"#fdca26\"], [1.0, \"#f0f921\"]], \"type\": \"heatmap\"}], \"heatmapgl\": [{\"colorbar\": {\"outlinewidth\": 0, \"ticks\": \"\"}, \"colorscale\": [[0.0, \"#0d0887\"], [0.1111111111111111, \"#46039f\"], [0.2222222222222222, \"#7201a8\"], [0.3333333333333333, \"#9c179e\"], [0.4444444444444444, \"#bd3786\"], [0.5555555555555556, \"#d8576b\"], [0.6666666666666666, \"#ed7953\"], [0.7777777777777778, \"#fb9f3a\"], [0.8888888888888888, \"#fdca26\"], [1.0, \"#f0f921\"]], \"type\": \"heatmapgl\"}], \"histogram\": [{\"marker\": {\"colorbar\": {\"outlinewidth\": 0, \"ticks\": \"\"}}, \"type\": \"histogram\"}], \"histogram2d\": [{\"colorbar\": {\"outlinewidth\": 0, \"ticks\": \"\"}, \"colorscale\": [[0.0, \"#0d0887\"], [0.1111111111111111, \"#46039f\"], [0.2222222222222222, \"#7201a8\"], [0.3333333333333333, \"#9c179e\"], [0.4444444444444444, \"#bd3786\"], [0.5555555555555556, \"#d8576b\"], [0.6666666666666666, \"#ed7953\"], [0.7777777777777778, \"#fb9f3a\"], [0.8888888888888888, \"#fdca26\"], [1.0, \"#f0f921\"]], \"type\": \"histogram2d\"}], \"histogram2dcontour\": [{\"colorbar\": {\"outlinewidth\": 0, \"ticks\": \"\"}, \"colorscale\": [[0.0, \"#0d0887\"], [0.1111111111111111, \"#46039f\"], [0.2222222222222222, \"#7201a8\"], [0.3333333333333333, \"#9c179e\"], [0.4444444444444444, \"#bd3786\"], [0.5555555555555556, \"#d8576b\"], [0.6666666666666666, \"#ed7953\"], [0.7777777777777778, \"#fb9f3a\"], [0.8888888888888888, \"#fdca26\"], [1.0, \"#f0f921\"]], \"type\": \"histogram2dcontour\"}], \"mesh3d\": [{\"colorbar\": {\"outlinewidth\": 0, \"ticks\": \"\"}, \"type\": \"mesh3d\"}], \"parcoords\": [{\"line\": {\"colorbar\": {\"outlinewidth\": 0, \"ticks\": \"\"}}, \"type\": \"parcoords\"}], \"pie\": [{\"automargin\": true, \"type\": \"pie\"}], \"scatter\": [{\"marker\": {\"colorbar\": {\"outlinewidth\": 0, \"ticks\": \"\"}}, \"type\": \"scatter\"}], \"scatter3d\": [{\"line\": {\"colorbar\": {\"outlinewidth\": 0, \"ticks\": \"\"}}, \"marker\": {\"colorbar\": {\"outlinewidth\": 0, \"ticks\": \"\"}}, \"type\": \"scatter3d\"}], \"scattercarpet\": [{\"marker\": {\"colorbar\": {\"outlinewidth\": 0, \"ticks\": \"\"}}, \"type\": \"scattercarpet\"}], \"scattergeo\": [{\"marker\": {\"colorbar\": {\"outlinewidth\": 0, \"ticks\": \"\"}}, \"type\": \"scattergeo\"}], \"scattergl\": [{\"marker\": {\"colorbar\": {\"outlinewidth\": 0, \"ticks\": \"\"}}, \"type\": \"scattergl\"}], \"scattermapbox\": [{\"marker\": {\"colorbar\": {\"outlinewidth\": 0, \"ticks\": \"\"}}, \"type\": \"scattermapbox\"}], \"scatterpolar\": [{\"marker\": {\"colorbar\": {\"outlinewidth\": 0, \"ticks\": \"\"}}, \"type\": \"scatterpolar\"}], \"scatterpolargl\": [{\"marker\": {\"colorbar\": {\"outlinewidth\": 0, \"ticks\": \"\"}}, \"type\": \"scatterpolargl\"}], \"scatterternary\": [{\"marker\": {\"colorbar\": {\"outlinewidth\": 0, \"ticks\": \"\"}}, \"type\": \"scatterternary\"}], \"surface\": [{\"colorbar\": {\"outlinewidth\": 0, \"ticks\": \"\"}, \"colorscale\": [[0.0, \"#0d0887\"], [0.1111111111111111, \"#46039f\"], [0.2222222222222222, \"#7201a8\"], [0.3333333333333333, \"#9c179e\"], [0.4444444444444444, \"#bd3786\"], [0.5555555555555556, \"#d8576b\"], [0.6666666666666666, \"#ed7953\"], [0.7777777777777778, \"#fb9f3a\"], [0.8888888888888888, \"#fdca26\"], [1.0, \"#f0f921\"]], \"type\": \"surface\"}], \"table\": [{\"cells\": {\"fill\": {\"color\": \"#EBF0F8\"}, \"line\": {\"color\": \"white\"}}, \"header\": {\"fill\": {\"color\": \"#C8D4E3\"}, \"line\": {\"color\": \"white\"}}, \"type\": \"table\"}]}, \"layout\": {\"annotationdefaults\": {\"arrowcolor\": \"#2a3f5f\", \"arrowhead\": 0, \"arrowwidth\": 1}, \"coloraxis\": {\"colorbar\": {\"outlinewidth\": 0, \"ticks\": \"\"}}, \"colorscale\": {\"diverging\": [[0, \"#8e0152\"], [0.1, \"#c51b7d\"], [0.2, \"#de77ae\"], [0.3, \"#f1b6da\"], [0.4, \"#fde0ef\"], [0.5, \"#f7f7f7\"], [0.6, \"#e6f5d0\"], [0.7, \"#b8e186\"], [0.8, \"#7fbc41\"], [0.9, \"#4d9221\"], [1, \"#276419\"]], \"sequential\": [[0.0, \"#0d0887\"], [0.1111111111111111, \"#46039f\"], [0.2222222222222222, \"#7201a8\"], [0.3333333333333333, \"#9c179e\"], [0.4444444444444444, \"#bd3786\"], [0.5555555555555556, \"#d8576b\"], [0.6666666666666666, \"#ed7953\"], [0.7777777777777778, \"#fb9f3a\"], [0.8888888888888888, \"#fdca26\"], [1.0, \"#f0f921\"]], \"sequentialminus\": [[0.0, \"#0d0887\"], [0.1111111111111111, \"#46039f\"], [0.2222222222222222, \"#7201a8\"], [0.3333333333333333, \"#9c179e\"], [0.4444444444444444, \"#bd3786\"], [0.5555555555555556, \"#d8576b\"], [0.6666666666666666, \"#ed7953\"], [0.7777777777777778, \"#fb9f3a\"], [0.8888888888888888, \"#fdca26\"], [1.0, \"#f0f921\"]]}, \"colorway\": [\"#636efa\", \"#EF553B\", \"#00cc96\", \"#ab63fa\", \"#FFA15A\", \"#19d3f3\", \"#FF6692\", \"#B6E880\", \"#FF97FF\", \"#FECB52\"], \"font\": {\"color\": \"#2a3f5f\"}, \"geo\": {\"bgcolor\": \"white\", \"lakecolor\": \"white\", \"landcolor\": \"#E5ECF6\", \"showlakes\": true, \"showland\": true, \"subunitcolor\": \"white\"}, \"hoverlabel\": {\"align\": \"left\"}, \"hovermode\": \"closest\", \"mapbox\": {\"style\": \"light\"}, \"paper_bgcolor\": \"white\", \"plot_bgcolor\": \"#E5ECF6\", \"polar\": {\"angularaxis\": {\"gridcolor\": \"white\", \"linecolor\": \"white\", \"ticks\": \"\"}, \"bgcolor\": \"#E5ECF6\", \"radialaxis\": {\"gridcolor\": \"white\", \"linecolor\": \"white\", \"ticks\": \"\"}}, \"scene\": {\"xaxis\": {\"backgroundcolor\": \"#E5ECF6\", \"gridcolor\": \"white\", \"gridwidth\": 2, \"linecolor\": \"white\", \"showbackground\": true, \"ticks\": \"\", \"zerolinecolor\": \"white\"}, \"yaxis\": {\"backgroundcolor\": \"#E5ECF6\", \"gridcolor\": \"white\", \"gridwidth\": 2, \"linecolor\": \"white\", \"showbackground\": true, \"ticks\": \"\", \"zerolinecolor\": \"white\"}, \"zaxis\": {\"backgroundcolor\": \"#E5ECF6\", \"gridcolor\": \"white\", \"gridwidth\": 2, \"linecolor\": \"white\", \"showbackground\": true, \"ticks\": \"\", \"zerolinecolor\": \"white\"}}, \"shapedefaults\": {\"line\": {\"color\": \"#2a3f5f\"}}, \"ternary\": {\"aaxis\": {\"gridcolor\": \"white\", \"linecolor\": \"white\", \"ticks\": \"\"}, \"baxis\": {\"gridcolor\": \"white\", \"linecolor\": \"white\", \"ticks\": \"\"}, \"bgcolor\": \"#E5ECF6\", \"caxis\": {\"gridcolor\": \"white\", \"linecolor\": \"white\", \"ticks\": \"\"}}, \"title\": {\"x\": 0.05}, \"xaxis\": {\"automargin\": true, \"gridcolor\": \"white\", \"linecolor\": \"white\", \"ticks\": \"\", \"title\": {\"standoff\": 15}, \"zerolinecolor\": \"white\", \"zerolinewidth\": 2}, \"yaxis\": {\"automargin\": true, \"gridcolor\": \"white\", \"linecolor\": \"white\", \"ticks\": \"\", \"title\": {\"standoff\": 15}, \"zerolinecolor\": \"white\", \"zerolinewidth\": 2}}}, \"title\": {\"font\": {\"color\": \"#4D5663\"}}, \"xaxis\": {\"gridcolor\": \"#E1E5ED\", \"showgrid\": true, \"tickfont\": {\"color\": \"#4D5663\"}, \"title\": {\"font\": {\"color\": \"#4D5663\"}, \"text\": \"\"}, \"zerolinecolor\": \"#E1E5ED\"}, \"xaxis2\": {\"anchor\": \"y2\", \"gridcolor\": \"#E1E5ED\", \"showgrid\": true, \"showticklabels\": false, \"tickfont\": {\"color\": \"#4D5663\"}, \"title\": {\"font\": {\"color\": \"#4D5663\"}, \"text\": \"\"}, \"zerolinecolor\": \"#E1E5ED\"}, \"yaxis\": {\"domain\": [0.3, 1], \"gridcolor\": \"#E1E5ED\", \"showgrid\": true, \"tickfont\": {\"color\": \"#4D5663\"}, \"title\": {\"font\": {\"color\": \"#4D5663\"}, \"text\": \"\"}, \"zerolinecolor\": \"#E1E5ED\"}, \"yaxis2\": {\"domain\": [0, 0.25], \"gridcolor\": \"#E1E5ED\", \"showgrid\": true, \"tickfont\": {\"color\": \"#4D5663\"}, \"title\": {\"font\": {\"color\": \"#4D5663\"}, \"text\": \"Spread\"}, \"zerolinecolor\": \"#E1E5ED\"}},\n                        {\"showLink\": true, \"linkText\": \"Export to plot.ly\", \"plotlyServerURL\": \"https://plot.ly\", \"responsive\": true}\n                    ).then(function(){\n                            \nvar gd = document.getElementById('f060c031-5219-41ea-8c06-02286c693178');\nvar x = new MutationObserver(function (mutations, observer) {{\n        var display = window.getComputedStyle(gd).display;\n        if (!display || display === 'none') {{\n            console.log([gd, 'removed!']);\n            Plotly.purge(gd);\n            observer.disconnect();\n        }}\n}});\n\n// Listen for the removal of the full notebook cells\nvar notebookContainer = gd.closest('#notebook-container');\nif (notebookContainer) {{\n    x.observe(notebookContainer, {childList: true});\n}}\n\n// Listen for the clearing of the current output cell\nvar outputEl = gd.closest('.output');\nif (outputEl) {{\n    x.observe(outputEl, {childList: true});\n}}\n\n                        })\n                };\n                });\n            </script>\n        </div>"
     },
     "metadata": {},
     "output_type": "display_data"
    }
   ],
   "source": [
    "df[['A', 'B']].iplot(kind='spread')"
   ],
   "metadata": {
    "collapsed": false,
    "pycharm": {
     "name": "#%%\n",
     "is_executing": false
    }
   }
  },
  {
   "cell_type": "markdown",
   "source": [
    "### Гистограмма"
   ],
   "metadata": {
    "collapsed": false,
    "pycharm": {
     "name": "#%% md\n"
    }
   }
  },
  {
   "cell_type": "code",
   "execution_count": 14,
   "outputs": [
    {
     "data": {
      "application/vnd.plotly.v1+json": {
       "config": {
        "linkText": "Export to plot.ly",
        "plotlyServerURL": "https://plot.ly",
        "showLink": true
       },
       "data": [
        {
         "histfunc": "count",
         "histnorm": "",
         "marker": {
          "color": "rgba(255, 153, 51, 1.0)",
          "line": {
           "color": "#4D5663",
           "width": 1.3
          }
         },
         "name": "A",
         "nbinsx": 25,
         "opacity": 0.8,
         "orientation": "v",
         "type": "histogram",
         "x": [
          -1.4863073708975698,
          -2.1850824021195616,
          -2.960827272545752,
          0.638069862685476,
          0.21377793975387355,
          -0.8154978341789988,
          -1.5739883105017602,
          0.4318822775286287,
          -1.3265888287929182,
          1.259183517429503,
          -0.017407080654257518,
          -0.10281927824957425,
          0.05337750178968702,
          -0.6292896610597629,
          0.38616052190444494,
          -0.22605631512131022,
          -0.09853750276821739,
          -1.1066396351534582,
          0.9114796019739642,
          0.29518110596127883,
          0.5965871078261196,
          -0.6190242134296731,
          -0.9294887399068007,
          0.24055976556184552,
          0.05308689523824642,
          -0.32226287593468833,
          1.063935624998341,
          -0.5072921436705043,
          -1.5377735821424616,
          -0.685396102123712,
          -2.605179870972897,
          -0.014336078140034441,
          0.13052624885473935,
          -0.3793653369458108,
          0.6065077500095933,
          -0.763188427541439,
          2.170705302187318,
          -0.8878237136360704,
          0.30600965400701974,
          -1.0163183411750913,
          1.0624991809215645,
          -0.4412390260445293,
          0.3651556864264858,
          -1.486978745096095,
          1.664516514200354,
          1.1997710720009844,
          -2.0555831792245747,
          0.9235026440401792,
          0.07848950119542743,
          1.3431294743521662,
          3.2765097706920816,
          -0.4934295310273326,
          0.990094748628564,
          2.0134383679368852,
          -2.287636557492431,
          0.8224077368953896,
          -0.3560884397513596,
          -1.744011177010594,
          -0.034766326276481054,
          -0.7374693628800136,
          -1.140617878297122,
          -0.28734548744461696,
          0.5667681473808669,
          -0.9520658721364366,
          0.9596448650717668,
          0.3919613373221554,
          -0.9680655332483575,
          0.42334251965705855,
          1.772520654229283,
          0.650698170834495,
          -1.1317667464189085,
          -1.8459395957855504,
          0.8062363265030782,
          0.3147212847950096,
          -1.057789454250701,
          -0.29795494761001645,
          0.789773725362857,
          1.083507179451289,
          -1.9468646653134738,
          -0.21824193932452937,
          0.4675002253006263,
          1.605648784272931,
          -0.8821948592590849,
          -1.0917912230779365,
          0.06719803818297368,
          0.770564006511959,
          1.3408187755846943,
          1.7074842570992093,
          1.5703817547245793,
          0.29386034266401145,
          -0.06716747238653473,
          0.9434032958517293,
          -0.04607609878312643,
          -1.5422232108086,
          -0.7792537895554505,
          -0.3687631447341126,
          -0.09668785472371995,
          1.067454982834531,
          0.08877790370553766,
          1.0971434149579615
         ]
        }
       ],
       "layout": {
        "barmode": "overlay",
        "legend": {
         "bgcolor": "#F5F6F9",
         "font": {
          "color": "#4D5663"
         }
        },
        "paper_bgcolor": "#F5F6F9",
        "plot_bgcolor": "#F5F6F9",
        "template": {
         "data": {
          "bar": [
           {
            "error_x": {
             "color": "#2a3f5f"
            },
            "error_y": {
             "color": "#2a3f5f"
            },
            "marker": {
             "line": {
              "color": "#E5ECF6",
              "width": 0.5
             }
            },
            "type": "bar"
           }
          ],
          "barpolar": [
           {
            "marker": {
             "line": {
              "color": "#E5ECF6",
              "width": 0.5
             }
            },
            "type": "barpolar"
           }
          ],
          "carpet": [
           {
            "aaxis": {
             "endlinecolor": "#2a3f5f",
             "gridcolor": "white",
             "linecolor": "white",
             "minorgridcolor": "white",
             "startlinecolor": "#2a3f5f"
            },
            "baxis": {
             "endlinecolor": "#2a3f5f",
             "gridcolor": "white",
             "linecolor": "white",
             "minorgridcolor": "white",
             "startlinecolor": "#2a3f5f"
            },
            "type": "carpet"
           }
          ],
          "choropleth": [
           {
            "colorbar": {
             "outlinewidth": 0,
             "ticks": ""
            },
            "type": "choropleth"
           }
          ],
          "contour": [
           {
            "colorbar": {
             "outlinewidth": 0,
             "ticks": ""
            },
            "colorscale": [
             [
              0.0,
              "#0d0887"
             ],
             [
              0.1111111111111111,
              "#46039f"
             ],
             [
              0.2222222222222222,
              "#7201a8"
             ],
             [
              0.3333333333333333,
              "#9c179e"
             ],
             [
              0.4444444444444444,
              "#bd3786"
             ],
             [
              0.5555555555555556,
              "#d8576b"
             ],
             [
              0.6666666666666666,
              "#ed7953"
             ],
             [
              0.7777777777777778,
              "#fb9f3a"
             ],
             [
              0.8888888888888888,
              "#fdca26"
             ],
             [
              1.0,
              "#f0f921"
             ]
            ],
            "type": "contour"
           }
          ],
          "contourcarpet": [
           {
            "colorbar": {
             "outlinewidth": 0,
             "ticks": ""
            },
            "type": "contourcarpet"
           }
          ],
          "heatmap": [
           {
            "colorbar": {
             "outlinewidth": 0,
             "ticks": ""
            },
            "colorscale": [
             [
              0.0,
              "#0d0887"
             ],
             [
              0.1111111111111111,
              "#46039f"
             ],
             [
              0.2222222222222222,
              "#7201a8"
             ],
             [
              0.3333333333333333,
              "#9c179e"
             ],
             [
              0.4444444444444444,
              "#bd3786"
             ],
             [
              0.5555555555555556,
              "#d8576b"
             ],
             [
              0.6666666666666666,
              "#ed7953"
             ],
             [
              0.7777777777777778,
              "#fb9f3a"
             ],
             [
              0.8888888888888888,
              "#fdca26"
             ],
             [
              1.0,
              "#f0f921"
             ]
            ],
            "type": "heatmap"
           }
          ],
          "heatmapgl": [
           {
            "colorbar": {
             "outlinewidth": 0,
             "ticks": ""
            },
            "colorscale": [
             [
              0.0,
              "#0d0887"
             ],
             [
              0.1111111111111111,
              "#46039f"
             ],
             [
              0.2222222222222222,
              "#7201a8"
             ],
             [
              0.3333333333333333,
              "#9c179e"
             ],
             [
              0.4444444444444444,
              "#bd3786"
             ],
             [
              0.5555555555555556,
              "#d8576b"
             ],
             [
              0.6666666666666666,
              "#ed7953"
             ],
             [
              0.7777777777777778,
              "#fb9f3a"
             ],
             [
              0.8888888888888888,
              "#fdca26"
             ],
             [
              1.0,
              "#f0f921"
             ]
            ],
            "type": "heatmapgl"
           }
          ],
          "histogram": [
           {
            "marker": {
             "colorbar": {
              "outlinewidth": 0,
              "ticks": ""
             }
            },
            "type": "histogram"
           }
          ],
          "histogram2d": [
           {
            "colorbar": {
             "outlinewidth": 0,
             "ticks": ""
            },
            "colorscale": [
             [
              0.0,
              "#0d0887"
             ],
             [
              0.1111111111111111,
              "#46039f"
             ],
             [
              0.2222222222222222,
              "#7201a8"
             ],
             [
              0.3333333333333333,
              "#9c179e"
             ],
             [
              0.4444444444444444,
              "#bd3786"
             ],
             [
              0.5555555555555556,
              "#d8576b"
             ],
             [
              0.6666666666666666,
              "#ed7953"
             ],
             [
              0.7777777777777778,
              "#fb9f3a"
             ],
             [
              0.8888888888888888,
              "#fdca26"
             ],
             [
              1.0,
              "#f0f921"
             ]
            ],
            "type": "histogram2d"
           }
          ],
          "histogram2dcontour": [
           {
            "colorbar": {
             "outlinewidth": 0,
             "ticks": ""
            },
            "colorscale": [
             [
              0.0,
              "#0d0887"
             ],
             [
              0.1111111111111111,
              "#46039f"
             ],
             [
              0.2222222222222222,
              "#7201a8"
             ],
             [
              0.3333333333333333,
              "#9c179e"
             ],
             [
              0.4444444444444444,
              "#bd3786"
             ],
             [
              0.5555555555555556,
              "#d8576b"
             ],
             [
              0.6666666666666666,
              "#ed7953"
             ],
             [
              0.7777777777777778,
              "#fb9f3a"
             ],
             [
              0.8888888888888888,
              "#fdca26"
             ],
             [
              1.0,
              "#f0f921"
             ]
            ],
            "type": "histogram2dcontour"
           }
          ],
          "mesh3d": [
           {
            "colorbar": {
             "outlinewidth": 0,
             "ticks": ""
            },
            "type": "mesh3d"
           }
          ],
          "parcoords": [
           {
            "line": {
             "colorbar": {
              "outlinewidth": 0,
              "ticks": ""
             }
            },
            "type": "parcoords"
           }
          ],
          "pie": [
           {
            "automargin": true,
            "type": "pie"
           }
          ],
          "scatter": [
           {
            "marker": {
             "colorbar": {
              "outlinewidth": 0,
              "ticks": ""
             }
            },
            "type": "scatter"
           }
          ],
          "scatter3d": [
           {
            "line": {
             "colorbar": {
              "outlinewidth": 0,
              "ticks": ""
             }
            },
            "marker": {
             "colorbar": {
              "outlinewidth": 0,
              "ticks": ""
             }
            },
            "type": "scatter3d"
           }
          ],
          "scattercarpet": [
           {
            "marker": {
             "colorbar": {
              "outlinewidth": 0,
              "ticks": ""
             }
            },
            "type": "scattercarpet"
           }
          ],
          "scattergeo": [
           {
            "marker": {
             "colorbar": {
              "outlinewidth": 0,
              "ticks": ""
             }
            },
            "type": "scattergeo"
           }
          ],
          "scattergl": [
           {
            "marker": {
             "colorbar": {
              "outlinewidth": 0,
              "ticks": ""
             }
            },
            "type": "scattergl"
           }
          ],
          "scattermapbox": [
           {
            "marker": {
             "colorbar": {
              "outlinewidth": 0,
              "ticks": ""
             }
            },
            "type": "scattermapbox"
           }
          ],
          "scatterpolar": [
           {
            "marker": {
             "colorbar": {
              "outlinewidth": 0,
              "ticks": ""
             }
            },
            "type": "scatterpolar"
           }
          ],
          "scatterpolargl": [
           {
            "marker": {
             "colorbar": {
              "outlinewidth": 0,
              "ticks": ""
             }
            },
            "type": "scatterpolargl"
           }
          ],
          "scatterternary": [
           {
            "marker": {
             "colorbar": {
              "outlinewidth": 0,
              "ticks": ""
             }
            },
            "type": "scatterternary"
           }
          ],
          "surface": [
           {
            "colorbar": {
             "outlinewidth": 0,
             "ticks": ""
            },
            "colorscale": [
             [
              0.0,
              "#0d0887"
             ],
             [
              0.1111111111111111,
              "#46039f"
             ],
             [
              0.2222222222222222,
              "#7201a8"
             ],
             [
              0.3333333333333333,
              "#9c179e"
             ],
             [
              0.4444444444444444,
              "#bd3786"
             ],
             [
              0.5555555555555556,
              "#d8576b"
             ],
             [
              0.6666666666666666,
              "#ed7953"
             ],
             [
              0.7777777777777778,
              "#fb9f3a"
             ],
             [
              0.8888888888888888,
              "#fdca26"
             ],
             [
              1.0,
              "#f0f921"
             ]
            ],
            "type": "surface"
           }
          ],
          "table": [
           {
            "cells": {
             "fill": {
              "color": "#EBF0F8"
             },
             "line": {
              "color": "white"
             }
            },
            "header": {
             "fill": {
              "color": "#C8D4E3"
             },
             "line": {
              "color": "white"
             }
            },
            "type": "table"
           }
          ]
         },
         "layout": {
          "annotationdefaults": {
           "arrowcolor": "#2a3f5f",
           "arrowhead": 0,
           "arrowwidth": 1
          },
          "coloraxis": {
           "colorbar": {
            "outlinewidth": 0,
            "ticks": ""
           }
          },
          "colorscale": {
           "diverging": [
            [
             0,
             "#8e0152"
            ],
            [
             0.1,
             "#c51b7d"
            ],
            [
             0.2,
             "#de77ae"
            ],
            [
             0.3,
             "#f1b6da"
            ],
            [
             0.4,
             "#fde0ef"
            ],
            [
             0.5,
             "#f7f7f7"
            ],
            [
             0.6,
             "#e6f5d0"
            ],
            [
             0.7,
             "#b8e186"
            ],
            [
             0.8,
             "#7fbc41"
            ],
            [
             0.9,
             "#4d9221"
            ],
            [
             1,
             "#276419"
            ]
           ],
           "sequential": [
            [
             0.0,
             "#0d0887"
            ],
            [
             0.1111111111111111,
             "#46039f"
            ],
            [
             0.2222222222222222,
             "#7201a8"
            ],
            [
             0.3333333333333333,
             "#9c179e"
            ],
            [
             0.4444444444444444,
             "#bd3786"
            ],
            [
             0.5555555555555556,
             "#d8576b"
            ],
            [
             0.6666666666666666,
             "#ed7953"
            ],
            [
             0.7777777777777778,
             "#fb9f3a"
            ],
            [
             0.8888888888888888,
             "#fdca26"
            ],
            [
             1.0,
             "#f0f921"
            ]
           ],
           "sequentialminus": [
            [
             0.0,
             "#0d0887"
            ],
            [
             0.1111111111111111,
             "#46039f"
            ],
            [
             0.2222222222222222,
             "#7201a8"
            ],
            [
             0.3333333333333333,
             "#9c179e"
            ],
            [
             0.4444444444444444,
             "#bd3786"
            ],
            [
             0.5555555555555556,
             "#d8576b"
            ],
            [
             0.6666666666666666,
             "#ed7953"
            ],
            [
             0.7777777777777778,
             "#fb9f3a"
            ],
            [
             0.8888888888888888,
             "#fdca26"
            ],
            [
             1.0,
             "#f0f921"
            ]
           ]
          },
          "colorway": [
           "#636efa",
           "#EF553B",
           "#00cc96",
           "#ab63fa",
           "#FFA15A",
           "#19d3f3",
           "#FF6692",
           "#B6E880",
           "#FF97FF",
           "#FECB52"
          ],
          "font": {
           "color": "#2a3f5f"
          },
          "geo": {
           "bgcolor": "white",
           "lakecolor": "white",
           "landcolor": "#E5ECF6",
           "showlakes": true,
           "showland": true,
           "subunitcolor": "white"
          },
          "hoverlabel": {
           "align": "left"
          },
          "hovermode": "closest",
          "mapbox": {
           "style": "light"
          },
          "paper_bgcolor": "white",
          "plot_bgcolor": "#E5ECF6",
          "polar": {
           "angularaxis": {
            "gridcolor": "white",
            "linecolor": "white",
            "ticks": ""
           },
           "bgcolor": "#E5ECF6",
           "radialaxis": {
            "gridcolor": "white",
            "linecolor": "white",
            "ticks": ""
           }
          },
          "scene": {
           "xaxis": {
            "backgroundcolor": "#E5ECF6",
            "gridcolor": "white",
            "gridwidth": 2,
            "linecolor": "white",
            "showbackground": true,
            "ticks": "",
            "zerolinecolor": "white"
           },
           "yaxis": {
            "backgroundcolor": "#E5ECF6",
            "gridcolor": "white",
            "gridwidth": 2,
            "linecolor": "white",
            "showbackground": true,
            "ticks": "",
            "zerolinecolor": "white"
           },
           "zaxis": {
            "backgroundcolor": "#E5ECF6",
            "gridcolor": "white",
            "gridwidth": 2,
            "linecolor": "white",
            "showbackground": true,
            "ticks": "",
            "zerolinecolor": "white"
           }
          },
          "shapedefaults": {
           "line": {
            "color": "#2a3f5f"
           }
          },
          "ternary": {
           "aaxis": {
            "gridcolor": "white",
            "linecolor": "white",
            "ticks": ""
           },
           "baxis": {
            "gridcolor": "white",
            "linecolor": "white",
            "ticks": ""
           },
           "bgcolor": "#E5ECF6",
           "caxis": {
            "gridcolor": "white",
            "linecolor": "white",
            "ticks": ""
           }
          },
          "title": {
           "x": 0.05
          },
          "xaxis": {
           "automargin": true,
           "gridcolor": "white",
           "linecolor": "white",
           "ticks": "",
           "title": {
            "standoff": 15
           },
           "zerolinecolor": "white",
           "zerolinewidth": 2
          },
          "yaxis": {
           "automargin": true,
           "gridcolor": "white",
           "linecolor": "white",
           "ticks": "",
           "title": {
            "standoff": 15
           },
           "zerolinecolor": "white",
           "zerolinewidth": 2
          }
         }
        },
        "title": {
         "font": {
          "color": "#4D5663"
         }
        },
        "xaxis": {
         "gridcolor": "#E1E5ED",
         "showgrid": true,
         "tickfont": {
          "color": "#4D5663"
         },
         "title": {
          "font": {
           "color": "#4D5663"
          },
          "text": ""
         },
         "zerolinecolor": "#E1E5ED"
        },
        "yaxis": {
         "gridcolor": "#E1E5ED",
         "showgrid": true,
         "tickfont": {
          "color": "#4D5663"
         },
         "title": {
          "font": {
           "color": "#4D5663"
          },
          "text": ""
         },
         "zerolinecolor": "#E1E5ED"
        }
       }
      },
      "text/html": "<div>\n        \n        \n            <div id=\"e320a411-81ba-486b-8ab2-b3e3bfe4c736\" class=\"plotly-graph-div\" style=\"height:525px; width:100%;\"></div>\n            <script type=\"text/javascript\">\n                require([\"plotly\"], function(Plotly) {\n                    window.PLOTLYENV=window.PLOTLYENV || {};\n                    window.PLOTLYENV.BASE_URL='https://plot.ly';\n                    \n                if (document.getElementById(\"e320a411-81ba-486b-8ab2-b3e3bfe4c736\")) {\n                    Plotly.newPlot(\n                        'e320a411-81ba-486b-8ab2-b3e3bfe4c736',\n                        [{\"histfunc\": \"count\", \"histnorm\": \"\", \"marker\": {\"color\": \"rgba(255, 153, 51, 1.0)\", \"line\": {\"color\": \"#4D5663\", \"width\": 1.3}}, \"name\": \"A\", \"nbinsx\": 25, \"opacity\": 0.8, \"orientation\": \"v\", \"type\": \"histogram\", \"x\": [-1.4863073708975698, -2.1850824021195616, -2.960827272545752, 0.638069862685476, 0.21377793975387355, -0.8154978341789988, -1.5739883105017602, 0.4318822775286287, -1.3265888287929182, 1.259183517429503, -0.017407080654257518, -0.10281927824957425, 0.05337750178968702, -0.6292896610597629, 0.38616052190444494, -0.22605631512131022, -0.09853750276821739, -1.1066396351534582, 0.9114796019739642, 0.29518110596127883, 0.5965871078261196, -0.6190242134296731, -0.9294887399068007, 0.24055976556184552, 0.05308689523824642, -0.32226287593468833, 1.063935624998341, -0.5072921436705043, -1.5377735821424616, -0.685396102123712, -2.605179870972897, -0.014336078140034441, 0.13052624885473935, -0.3793653369458108, 0.6065077500095933, -0.763188427541439, 2.170705302187318, -0.8878237136360704, 0.30600965400701974, -1.0163183411750913, 1.0624991809215645, -0.4412390260445293, 0.3651556864264858, -1.486978745096095, 1.664516514200354, 1.1997710720009844, -2.0555831792245747, 0.9235026440401792, 0.07848950119542743, 1.3431294743521662, 3.2765097706920816, -0.4934295310273326, 0.990094748628564, 2.0134383679368852, -2.287636557492431, 0.8224077368953896, -0.3560884397513596, -1.744011177010594, -0.034766326276481054, -0.7374693628800136, -1.140617878297122, -0.28734548744461696, 0.5667681473808669, -0.9520658721364366, 0.9596448650717668, 0.3919613373221554, -0.9680655332483575, 0.42334251965705855, 1.772520654229283, 0.650698170834495, -1.1317667464189085, -1.8459395957855504, 0.8062363265030782, 0.3147212847950096, -1.057789454250701, -0.29795494761001645, 0.789773725362857, 1.083507179451289, -1.9468646653134738, -0.21824193932452937, 0.4675002253006263, 1.605648784272931, -0.8821948592590849, -1.0917912230779365, 0.06719803818297368, 0.770564006511959, 1.3408187755846943, 1.7074842570992093, 1.5703817547245793, 0.29386034266401145, -0.06716747238653473, 0.9434032958517293, -0.04607609878312643, -1.5422232108086, -0.7792537895554505, -0.3687631447341126, -0.09668785472371995, 1.067454982834531, 0.08877790370553766, 1.0971434149579615]}],\n                        {\"barmode\": \"overlay\", \"legend\": {\"bgcolor\": \"#F5F6F9\", \"font\": {\"color\": \"#4D5663\"}}, \"paper_bgcolor\": \"#F5F6F9\", \"plot_bgcolor\": \"#F5F6F9\", \"template\": {\"data\": {\"bar\": [{\"error_x\": {\"color\": \"#2a3f5f\"}, \"error_y\": {\"color\": \"#2a3f5f\"}, \"marker\": {\"line\": {\"color\": \"#E5ECF6\", \"width\": 0.5}}, \"type\": \"bar\"}], \"barpolar\": [{\"marker\": {\"line\": {\"color\": \"#E5ECF6\", \"width\": 0.5}}, \"type\": \"barpolar\"}], \"carpet\": [{\"aaxis\": {\"endlinecolor\": \"#2a3f5f\", \"gridcolor\": \"white\", \"linecolor\": \"white\", \"minorgridcolor\": \"white\", \"startlinecolor\": \"#2a3f5f\"}, \"baxis\": {\"endlinecolor\": \"#2a3f5f\", \"gridcolor\": \"white\", \"linecolor\": \"white\", \"minorgridcolor\": \"white\", \"startlinecolor\": \"#2a3f5f\"}, \"type\": \"carpet\"}], \"choropleth\": [{\"colorbar\": {\"outlinewidth\": 0, \"ticks\": \"\"}, \"type\": \"choropleth\"}], \"contour\": [{\"colorbar\": {\"outlinewidth\": 0, \"ticks\": \"\"}, \"colorscale\": [[0.0, \"#0d0887\"], [0.1111111111111111, \"#46039f\"], [0.2222222222222222, \"#7201a8\"], [0.3333333333333333, \"#9c179e\"], [0.4444444444444444, \"#bd3786\"], [0.5555555555555556, \"#d8576b\"], [0.6666666666666666, \"#ed7953\"], [0.7777777777777778, \"#fb9f3a\"], [0.8888888888888888, \"#fdca26\"], [1.0, \"#f0f921\"]], \"type\": \"contour\"}], \"contourcarpet\": [{\"colorbar\": {\"outlinewidth\": 0, \"ticks\": \"\"}, \"type\": \"contourcarpet\"}], \"heatmap\": [{\"colorbar\": {\"outlinewidth\": 0, \"ticks\": \"\"}, \"colorscale\": [[0.0, \"#0d0887\"], [0.1111111111111111, \"#46039f\"], [0.2222222222222222, \"#7201a8\"], [0.3333333333333333, \"#9c179e\"], [0.4444444444444444, \"#bd3786\"], [0.5555555555555556, \"#d8576b\"], [0.6666666666666666, \"#ed7953\"], [0.7777777777777778, \"#fb9f3a\"], [0.8888888888888888, \"#fdca26\"], [1.0, \"#f0f921\"]], \"type\": \"heatmap\"}], \"heatmapgl\": [{\"colorbar\": {\"outlinewidth\": 0, \"ticks\": \"\"}, \"colorscale\": [[0.0, \"#0d0887\"], [0.1111111111111111, \"#46039f\"], [0.2222222222222222, \"#7201a8\"], [0.3333333333333333, \"#9c179e\"], [0.4444444444444444, \"#bd3786\"], [0.5555555555555556, \"#d8576b\"], [0.6666666666666666, \"#ed7953\"], [0.7777777777777778, \"#fb9f3a\"], [0.8888888888888888, \"#fdca26\"], [1.0, \"#f0f921\"]], \"type\": \"heatmapgl\"}], \"histogram\": [{\"marker\": {\"colorbar\": {\"outlinewidth\": 0, \"ticks\": \"\"}}, \"type\": \"histogram\"}], \"histogram2d\": [{\"colorbar\": {\"outlinewidth\": 0, \"ticks\": \"\"}, \"colorscale\": [[0.0, \"#0d0887\"], [0.1111111111111111, \"#46039f\"], [0.2222222222222222, \"#7201a8\"], [0.3333333333333333, \"#9c179e\"], [0.4444444444444444, \"#bd3786\"], [0.5555555555555556, \"#d8576b\"], [0.6666666666666666, \"#ed7953\"], [0.7777777777777778, \"#fb9f3a\"], [0.8888888888888888, \"#fdca26\"], [1.0, \"#f0f921\"]], \"type\": \"histogram2d\"}], \"histogram2dcontour\": [{\"colorbar\": {\"outlinewidth\": 0, \"ticks\": \"\"}, \"colorscale\": [[0.0, \"#0d0887\"], [0.1111111111111111, \"#46039f\"], [0.2222222222222222, \"#7201a8\"], [0.3333333333333333, \"#9c179e\"], [0.4444444444444444, \"#bd3786\"], [0.5555555555555556, \"#d8576b\"], [0.6666666666666666, \"#ed7953\"], [0.7777777777777778, \"#fb9f3a\"], [0.8888888888888888, \"#fdca26\"], [1.0, \"#f0f921\"]], \"type\": \"histogram2dcontour\"}], \"mesh3d\": [{\"colorbar\": {\"outlinewidth\": 0, \"ticks\": \"\"}, \"type\": \"mesh3d\"}], \"parcoords\": [{\"line\": {\"colorbar\": {\"outlinewidth\": 0, \"ticks\": \"\"}}, \"type\": \"parcoords\"}], \"pie\": [{\"automargin\": true, \"type\": \"pie\"}], \"scatter\": [{\"marker\": {\"colorbar\": {\"outlinewidth\": 0, \"ticks\": \"\"}}, \"type\": \"scatter\"}], \"scatter3d\": [{\"line\": {\"colorbar\": {\"outlinewidth\": 0, \"ticks\": \"\"}}, \"marker\": {\"colorbar\": {\"outlinewidth\": 0, \"ticks\": \"\"}}, \"type\": \"scatter3d\"}], \"scattercarpet\": [{\"marker\": {\"colorbar\": {\"outlinewidth\": 0, \"ticks\": \"\"}}, \"type\": \"scattercarpet\"}], \"scattergeo\": [{\"marker\": {\"colorbar\": {\"outlinewidth\": 0, \"ticks\": \"\"}}, \"type\": \"scattergeo\"}], \"scattergl\": [{\"marker\": {\"colorbar\": {\"outlinewidth\": 0, \"ticks\": \"\"}}, \"type\": \"scattergl\"}], \"scattermapbox\": [{\"marker\": {\"colorbar\": {\"outlinewidth\": 0, \"ticks\": \"\"}}, \"type\": \"scattermapbox\"}], \"scatterpolar\": [{\"marker\": {\"colorbar\": {\"outlinewidth\": 0, \"ticks\": \"\"}}, \"type\": \"scatterpolar\"}], \"scatterpolargl\": [{\"marker\": {\"colorbar\": {\"outlinewidth\": 0, \"ticks\": \"\"}}, \"type\": \"scatterpolargl\"}], \"scatterternary\": [{\"marker\": {\"colorbar\": {\"outlinewidth\": 0, \"ticks\": \"\"}}, \"type\": \"scatterternary\"}], \"surface\": [{\"colorbar\": {\"outlinewidth\": 0, \"ticks\": \"\"}, \"colorscale\": [[0.0, \"#0d0887\"], [0.1111111111111111, \"#46039f\"], [0.2222222222222222, \"#7201a8\"], [0.3333333333333333, \"#9c179e\"], [0.4444444444444444, \"#bd3786\"], [0.5555555555555556, \"#d8576b\"], [0.6666666666666666, \"#ed7953\"], [0.7777777777777778, \"#fb9f3a\"], [0.8888888888888888, \"#fdca26\"], [1.0, \"#f0f921\"]], \"type\": \"surface\"}], \"table\": [{\"cells\": {\"fill\": {\"color\": \"#EBF0F8\"}, \"line\": {\"color\": \"white\"}}, \"header\": {\"fill\": {\"color\": \"#C8D4E3\"}, \"line\": {\"color\": \"white\"}}, \"type\": \"table\"}]}, \"layout\": {\"annotationdefaults\": {\"arrowcolor\": \"#2a3f5f\", \"arrowhead\": 0, \"arrowwidth\": 1}, \"coloraxis\": {\"colorbar\": {\"outlinewidth\": 0, \"ticks\": \"\"}}, \"colorscale\": {\"diverging\": [[0, \"#8e0152\"], [0.1, \"#c51b7d\"], [0.2, \"#de77ae\"], [0.3, \"#f1b6da\"], [0.4, \"#fde0ef\"], [0.5, \"#f7f7f7\"], [0.6, \"#e6f5d0\"], [0.7, \"#b8e186\"], [0.8, \"#7fbc41\"], [0.9, \"#4d9221\"], [1, \"#276419\"]], \"sequential\": [[0.0, \"#0d0887\"], [0.1111111111111111, \"#46039f\"], [0.2222222222222222, \"#7201a8\"], [0.3333333333333333, \"#9c179e\"], [0.4444444444444444, \"#bd3786\"], [0.5555555555555556, \"#d8576b\"], [0.6666666666666666, \"#ed7953\"], [0.7777777777777778, \"#fb9f3a\"], [0.8888888888888888, \"#fdca26\"], [1.0, \"#f0f921\"]], \"sequentialminus\": [[0.0, \"#0d0887\"], [0.1111111111111111, \"#46039f\"], [0.2222222222222222, \"#7201a8\"], [0.3333333333333333, \"#9c179e\"], [0.4444444444444444, \"#bd3786\"], [0.5555555555555556, \"#d8576b\"], [0.6666666666666666, \"#ed7953\"], [0.7777777777777778, \"#fb9f3a\"], [0.8888888888888888, \"#fdca26\"], [1.0, \"#f0f921\"]]}, \"colorway\": [\"#636efa\", \"#EF553B\", \"#00cc96\", \"#ab63fa\", \"#FFA15A\", \"#19d3f3\", \"#FF6692\", \"#B6E880\", \"#FF97FF\", \"#FECB52\"], \"font\": {\"color\": \"#2a3f5f\"}, \"geo\": {\"bgcolor\": \"white\", \"lakecolor\": \"white\", \"landcolor\": \"#E5ECF6\", \"showlakes\": true, \"showland\": true, \"subunitcolor\": \"white\"}, \"hoverlabel\": {\"align\": \"left\"}, \"hovermode\": \"closest\", \"mapbox\": {\"style\": \"light\"}, \"paper_bgcolor\": \"white\", \"plot_bgcolor\": \"#E5ECF6\", \"polar\": {\"angularaxis\": {\"gridcolor\": \"white\", \"linecolor\": \"white\", \"ticks\": \"\"}, \"bgcolor\": \"#E5ECF6\", \"radialaxis\": {\"gridcolor\": \"white\", \"linecolor\": \"white\", \"ticks\": \"\"}}, \"scene\": {\"xaxis\": {\"backgroundcolor\": \"#E5ECF6\", \"gridcolor\": \"white\", \"gridwidth\": 2, \"linecolor\": \"white\", \"showbackground\": true, \"ticks\": \"\", \"zerolinecolor\": \"white\"}, \"yaxis\": {\"backgroundcolor\": \"#E5ECF6\", \"gridcolor\": \"white\", \"gridwidth\": 2, \"linecolor\": \"white\", \"showbackground\": true, \"ticks\": \"\", \"zerolinecolor\": \"white\"}, \"zaxis\": {\"backgroundcolor\": \"#E5ECF6\", \"gridcolor\": \"white\", \"gridwidth\": 2, \"linecolor\": \"white\", \"showbackground\": true, \"ticks\": \"\", \"zerolinecolor\": \"white\"}}, \"shapedefaults\": {\"line\": {\"color\": \"#2a3f5f\"}}, \"ternary\": {\"aaxis\": {\"gridcolor\": \"white\", \"linecolor\": \"white\", \"ticks\": \"\"}, \"baxis\": {\"gridcolor\": \"white\", \"linecolor\": \"white\", \"ticks\": \"\"}, \"bgcolor\": \"#E5ECF6\", \"caxis\": {\"gridcolor\": \"white\", \"linecolor\": \"white\", \"ticks\": \"\"}}, \"title\": {\"x\": 0.05}, \"xaxis\": {\"automargin\": true, \"gridcolor\": \"white\", \"linecolor\": \"white\", \"ticks\": \"\", \"title\": {\"standoff\": 15}, \"zerolinecolor\": \"white\", \"zerolinewidth\": 2}, \"yaxis\": {\"automargin\": true, \"gridcolor\": \"white\", \"linecolor\": \"white\", \"ticks\": \"\", \"title\": {\"standoff\": 15}, \"zerolinecolor\": \"white\", \"zerolinewidth\": 2}}}, \"title\": {\"font\": {\"color\": \"#4D5663\"}}, \"xaxis\": {\"gridcolor\": \"#E1E5ED\", \"showgrid\": true, \"tickfont\": {\"color\": \"#4D5663\"}, \"title\": {\"font\": {\"color\": \"#4D5663\"}, \"text\": \"\"}, \"zerolinecolor\": \"#E1E5ED\"}, \"yaxis\": {\"gridcolor\": \"#E1E5ED\", \"showgrid\": true, \"tickfont\": {\"color\": \"#4D5663\"}, \"title\": {\"font\": {\"color\": \"#4D5663\"}, \"text\": \"\"}, \"zerolinecolor\": \"#E1E5ED\"}},\n                        {\"showLink\": true, \"linkText\": \"Export to plot.ly\", \"plotlyServerURL\": \"https://plot.ly\", \"responsive\": true}\n                    ).then(function(){\n                            \nvar gd = document.getElementById('e320a411-81ba-486b-8ab2-b3e3bfe4c736');\nvar x = new MutationObserver(function (mutations, observer) {{\n        var display = window.getComputedStyle(gd).display;\n        if (!display || display === 'none') {{\n            console.log([gd, 'removed!']);\n            Plotly.purge(gd);\n            observer.disconnect();\n        }}\n}});\n\n// Listen for the removal of the full notebook cells\nvar notebookContainer = gd.closest('#notebook-container');\nif (notebookContainer) {{\n    x.observe(notebookContainer, {childList: true});\n}}\n\n// Listen for the clearing of the current output cell\nvar outputEl = gd.closest('.output');\nif (outputEl) {{\n    x.observe(outputEl, {childList: true});\n}}\n\n                        })\n                };\n                });\n            </script>\n        </div>"
     },
     "metadata": {},
     "output_type": "display_data"
    }
   ],
   "source": [
    "df['A'].iplot(kind='hist', bins=25)"
   ],
   "metadata": {
    "collapsed": false,
    "pycharm": {
     "name": "#%%\n",
     "is_executing": false
    }
   }
  },
  {
   "cell_type": "markdown",
   "source": [
    "### Пузырчатая диаграмма"
   ],
   "metadata": {
    "collapsed": false,
    "pycharm": {
     "name": "#%% md\n"
    }
   }
  },
  {
   "cell_type": "code",
   "execution_count": 15,
   "outputs": [
    {
     "data": {
      "application/vnd.plotly.v1+json": {
       "config": {
        "linkText": "Export to plot.ly",
        "plotlyServerURL": "https://plot.ly",
        "showLink": true
       },
       "data": [
        {
         "marker": {
          "color": [
           "rgb(255, 153, 51)",
           "rgb(55, 128, 191)",
           "rgb(50, 171, 96)",
           "rgb(128, 0, 128)",
           "rgb(219, 64, 82)",
           "rgb(0, 128, 128)",
           "rgb(255, 255, 51)",
           "rgb(128, 128, 0)",
           "rgb(251, 128, 114)",
           "rgb(128, 177, 211)"
          ],
          "line": {
           "width": 1.3
          },
          "size": [
           57,
           76,
           74,
           99,
           60,
           38,
           72,
           12,
           42,
           88,
           104,
           76,
           81,
           59,
           83,
           72,
           23,
           97,
           60,
           62,
           70,
           93,
           21,
           38,
           43,
           37,
           64,
           102,
           76,
           53,
           53,
           86,
           85,
           62,
           67,
           112,
           53,
           69,
           73,
           73,
           62,
           48,
           41,
           68,
           63,
           54,
           67,
           53,
           55,
           32,
           74,
           101,
           93,
           71,
           55,
           66,
           66,
           92,
           85,
           77,
           69,
           49,
           26,
           71,
           30,
           73,
           106,
           49,
           75,
           78,
           75,
           93,
           62,
           82,
           39,
           64,
           38,
           55,
           48,
           42,
           31,
           80,
           70,
           65,
           63,
           65,
           71,
           44,
           71,
           85,
           63,
           62,
           94,
           43,
           83,
           94,
           53,
           33,
           34,
           59
          ],
          "symbol": "circle"
         },
         "mode": "markers",
         "text": "",
         "type": "scatter",
         "x": [
          -1.4863073708975698,
          -2.1850824021195616,
          -2.960827272545752,
          0.638069862685476,
          0.21377793975387355,
          -0.8154978341789988,
          -1.5739883105017602,
          0.4318822775286287,
          -1.3265888287929182,
          1.259183517429503,
          -0.017407080654257518,
          -0.10281927824957425,
          0.05337750178968702,
          -0.6292896610597629,
          0.38616052190444494,
          -0.22605631512131022,
          -0.09853750276821739,
          -1.1066396351534582,
          0.9114796019739642,
          0.29518110596127883,
          0.5965871078261196,
          -0.6190242134296731,
          -0.9294887399068007,
          0.24055976556184552,
          0.05308689523824642,
          -0.32226287593468833,
          1.063935624998341,
          -0.5072921436705043,
          -1.5377735821424616,
          -0.685396102123712,
          -2.605179870972897,
          -0.014336078140034441,
          0.13052624885473935,
          -0.3793653369458108,
          0.6065077500095933,
          -0.763188427541439,
          2.170705302187318,
          -0.8878237136360704,
          0.30600965400701974,
          -1.0163183411750913,
          1.0624991809215645,
          -0.4412390260445293,
          0.3651556864264858,
          -1.486978745096095,
          1.664516514200354,
          1.1997710720009844,
          -2.0555831792245747,
          0.9235026440401792,
          0.07848950119542743,
          1.3431294743521662,
          3.2765097706920816,
          -0.4934295310273326,
          0.990094748628564,
          2.0134383679368852,
          -2.287636557492431,
          0.8224077368953896,
          -0.3560884397513596,
          -1.744011177010594,
          -0.034766326276481054,
          -0.7374693628800136,
          -1.140617878297122,
          -0.28734548744461696,
          0.5667681473808669,
          -0.9520658721364366,
          0.9596448650717668,
          0.3919613373221554,
          -0.9680655332483575,
          0.42334251965705855,
          1.772520654229283,
          0.650698170834495,
          -1.1317667464189085,
          -1.8459395957855504,
          0.8062363265030782,
          0.3147212847950096,
          -1.057789454250701,
          -0.29795494761001645,
          0.789773725362857,
          1.083507179451289,
          -1.9468646653134738,
          -0.21824193932452937,
          0.4675002253006263,
          1.605648784272931,
          -0.8821948592590849,
          -1.0917912230779365,
          0.06719803818297368,
          0.770564006511959,
          1.3408187755846943,
          1.7074842570992093,
          1.5703817547245793,
          0.29386034266401145,
          -0.06716747238653473,
          0.9434032958517293,
          -0.04607609878312643,
          -1.5422232108086,
          -0.7792537895554505,
          -0.3687631447341126,
          -0.09668785472371995,
          1.067454982834531,
          0.08877790370553766,
          1.0971434149579615
         ],
         "y": [
          0.991862700951286,
          0.24950253065649877,
          0.3950093976649536,
          0.6188708512930853,
          -0.7747954695629024,
          -0.6999267092916548,
          0.0767008924504014,
          1.1329314657450371,
          0.6433203381952936,
          1.6131660962513228,
          0.06043736850071907,
          0.8713454604033425,
          -0.18930552552586122,
          0.43833285799875565,
          -0.6995013195151322,
          -1.8064010468855245,
          0.687905900643732,
          1.396414503651976,
          -0.8072414603179552,
          1.0587564990166214,
          -0.3796720805805881,
          -0.3195073545466219,
          -1.3298790867118577,
          0.6457868122925032,
          -0.6441709957256099,
          -0.40827355746977784,
          -0.8355145027336962,
          0.8677656888788933,
          -0.30118120675530397,
          0.4963393424518228,
          1.8997241764226496,
          2.6281040905157247,
          1.4377596195562439,
          -1.8840417497279667,
          -0.4534505483577321,
          -0.6109510793091015,
          0.0151099174140034,
          0.6113033544272953,
          -1.0671475176105258,
          -1.347816683912141,
          0.05455733113361512,
          -0.4739243275402265,
          -0.45829014109480576,
          -0.726852510520777,
          -0.17788606157097492,
          -0.17897625981444226,
          0.685167733415189,
          -1.9724384236155548,
          0.7937847144227674,
          -1.1535059289831828,
          0.5102192179387394,
          0.8606104025042941,
          1.795271491052051,
          0.8545248489559998,
          0.8939539538337453,
          0.9961409783162299,
          -2.212550853061344,
          0.7806743317887066,
          1.1421746771338692,
          0.2881768847509344,
          -0.18142864879455858,
          -1.196135981429346,
          -0.9432708001793368,
          -1.4910858898960022,
          -2.1374718013605234,
          2.2207175524641616,
          0.03019455031206788,
          0.9877754416137221,
          1.044919815072245,
          -0.4359856415997237,
          -2.556134407655902,
          0.8257669498802955,
          -0.49672006283080633,
          -0.5433664670566228,
          -0.40402255151282734,
          -0.9041658119968088,
          0.48220006883816724,
          1.3853556377901446,
          0.6436047187928708,
          0.08846144335836506,
          -0.1682423067605211,
          0.17385203610914976,
          -0.5620543658393782,
          1.1000045334205817,
          0.8449228133014679,
          2.0693586894798575,
          0.556074393022577,
          -0.09675473988838523,
          -1.4876250381532938,
          -0.49795804936956967,
          -2.1141074948250784,
          0.6731424953480482,
          -0.5486912328010581,
          -1.9787097456859963,
          -0.45434678245835275,
          0.5868522472967778,
          0.09853414803666562,
          -0.49452835762931896,
          -2.116011155396429,
          -0.05396114288166204
         ]
        }
       ],
       "layout": {
        "legend": {
         "bgcolor": "#F5F6F9",
         "font": {
          "color": "#4D5663"
         }
        },
        "paper_bgcolor": "#F5F6F9",
        "plot_bgcolor": "#F5F6F9",
        "template": {
         "data": {
          "bar": [
           {
            "error_x": {
             "color": "#2a3f5f"
            },
            "error_y": {
             "color": "#2a3f5f"
            },
            "marker": {
             "line": {
              "color": "#E5ECF6",
              "width": 0.5
             }
            },
            "type": "bar"
           }
          ],
          "barpolar": [
           {
            "marker": {
             "line": {
              "color": "#E5ECF6",
              "width": 0.5
             }
            },
            "type": "barpolar"
           }
          ],
          "carpet": [
           {
            "aaxis": {
             "endlinecolor": "#2a3f5f",
             "gridcolor": "white",
             "linecolor": "white",
             "minorgridcolor": "white",
             "startlinecolor": "#2a3f5f"
            },
            "baxis": {
             "endlinecolor": "#2a3f5f",
             "gridcolor": "white",
             "linecolor": "white",
             "minorgridcolor": "white",
             "startlinecolor": "#2a3f5f"
            },
            "type": "carpet"
           }
          ],
          "choropleth": [
           {
            "colorbar": {
             "outlinewidth": 0,
             "ticks": ""
            },
            "type": "choropleth"
           }
          ],
          "contour": [
           {
            "colorbar": {
             "outlinewidth": 0,
             "ticks": ""
            },
            "colorscale": [
             [
              0.0,
              "#0d0887"
             ],
             [
              0.1111111111111111,
              "#46039f"
             ],
             [
              0.2222222222222222,
              "#7201a8"
             ],
             [
              0.3333333333333333,
              "#9c179e"
             ],
             [
              0.4444444444444444,
              "#bd3786"
             ],
             [
              0.5555555555555556,
              "#d8576b"
             ],
             [
              0.6666666666666666,
              "#ed7953"
             ],
             [
              0.7777777777777778,
              "#fb9f3a"
             ],
             [
              0.8888888888888888,
              "#fdca26"
             ],
             [
              1.0,
              "#f0f921"
             ]
            ],
            "type": "contour"
           }
          ],
          "contourcarpet": [
           {
            "colorbar": {
             "outlinewidth": 0,
             "ticks": ""
            },
            "type": "contourcarpet"
           }
          ],
          "heatmap": [
           {
            "colorbar": {
             "outlinewidth": 0,
             "ticks": ""
            },
            "colorscale": [
             [
              0.0,
              "#0d0887"
             ],
             [
              0.1111111111111111,
              "#46039f"
             ],
             [
              0.2222222222222222,
              "#7201a8"
             ],
             [
              0.3333333333333333,
              "#9c179e"
             ],
             [
              0.4444444444444444,
              "#bd3786"
             ],
             [
              0.5555555555555556,
              "#d8576b"
             ],
             [
              0.6666666666666666,
              "#ed7953"
             ],
             [
              0.7777777777777778,
              "#fb9f3a"
             ],
             [
              0.8888888888888888,
              "#fdca26"
             ],
             [
              1.0,
              "#f0f921"
             ]
            ],
            "type": "heatmap"
           }
          ],
          "heatmapgl": [
           {
            "colorbar": {
             "outlinewidth": 0,
             "ticks": ""
            },
            "colorscale": [
             [
              0.0,
              "#0d0887"
             ],
             [
              0.1111111111111111,
              "#46039f"
             ],
             [
              0.2222222222222222,
              "#7201a8"
             ],
             [
              0.3333333333333333,
              "#9c179e"
             ],
             [
              0.4444444444444444,
              "#bd3786"
             ],
             [
              0.5555555555555556,
              "#d8576b"
             ],
             [
              0.6666666666666666,
              "#ed7953"
             ],
             [
              0.7777777777777778,
              "#fb9f3a"
             ],
             [
              0.8888888888888888,
              "#fdca26"
             ],
             [
              1.0,
              "#f0f921"
             ]
            ],
            "type": "heatmapgl"
           }
          ],
          "histogram": [
           {
            "marker": {
             "colorbar": {
              "outlinewidth": 0,
              "ticks": ""
             }
            },
            "type": "histogram"
           }
          ],
          "histogram2d": [
           {
            "colorbar": {
             "outlinewidth": 0,
             "ticks": ""
            },
            "colorscale": [
             [
              0.0,
              "#0d0887"
             ],
             [
              0.1111111111111111,
              "#46039f"
             ],
             [
              0.2222222222222222,
              "#7201a8"
             ],
             [
              0.3333333333333333,
              "#9c179e"
             ],
             [
              0.4444444444444444,
              "#bd3786"
             ],
             [
              0.5555555555555556,
              "#d8576b"
             ],
             [
              0.6666666666666666,
              "#ed7953"
             ],
             [
              0.7777777777777778,
              "#fb9f3a"
             ],
             [
              0.8888888888888888,
              "#fdca26"
             ],
             [
              1.0,
              "#f0f921"
             ]
            ],
            "type": "histogram2d"
           }
          ],
          "histogram2dcontour": [
           {
            "colorbar": {
             "outlinewidth": 0,
             "ticks": ""
            },
            "colorscale": [
             [
              0.0,
              "#0d0887"
             ],
             [
              0.1111111111111111,
              "#46039f"
             ],
             [
              0.2222222222222222,
              "#7201a8"
             ],
             [
              0.3333333333333333,
              "#9c179e"
             ],
             [
              0.4444444444444444,
              "#bd3786"
             ],
             [
              0.5555555555555556,
              "#d8576b"
             ],
             [
              0.6666666666666666,
              "#ed7953"
             ],
             [
              0.7777777777777778,
              "#fb9f3a"
             ],
             [
              0.8888888888888888,
              "#fdca26"
             ],
             [
              1.0,
              "#f0f921"
             ]
            ],
            "type": "histogram2dcontour"
           }
          ],
          "mesh3d": [
           {
            "colorbar": {
             "outlinewidth": 0,
             "ticks": ""
            },
            "type": "mesh3d"
           }
          ],
          "parcoords": [
           {
            "line": {
             "colorbar": {
              "outlinewidth": 0,
              "ticks": ""
             }
            },
            "type": "parcoords"
           }
          ],
          "pie": [
           {
            "automargin": true,
            "type": "pie"
           }
          ],
          "scatter": [
           {
            "marker": {
             "colorbar": {
              "outlinewidth": 0,
              "ticks": ""
             }
            },
            "type": "scatter"
           }
          ],
          "scatter3d": [
           {
            "line": {
             "colorbar": {
              "outlinewidth": 0,
              "ticks": ""
             }
            },
            "marker": {
             "colorbar": {
              "outlinewidth": 0,
              "ticks": ""
             }
            },
            "type": "scatter3d"
           }
          ],
          "scattercarpet": [
           {
            "marker": {
             "colorbar": {
              "outlinewidth": 0,
              "ticks": ""
             }
            },
            "type": "scattercarpet"
           }
          ],
          "scattergeo": [
           {
            "marker": {
             "colorbar": {
              "outlinewidth": 0,
              "ticks": ""
             }
            },
            "type": "scattergeo"
           }
          ],
          "scattergl": [
           {
            "marker": {
             "colorbar": {
              "outlinewidth": 0,
              "ticks": ""
             }
            },
            "type": "scattergl"
           }
          ],
          "scattermapbox": [
           {
            "marker": {
             "colorbar": {
              "outlinewidth": 0,
              "ticks": ""
             }
            },
            "type": "scattermapbox"
           }
          ],
          "scatterpolar": [
           {
            "marker": {
             "colorbar": {
              "outlinewidth": 0,
              "ticks": ""
             }
            },
            "type": "scatterpolar"
           }
          ],
          "scatterpolargl": [
           {
            "marker": {
             "colorbar": {
              "outlinewidth": 0,
              "ticks": ""
             }
            },
            "type": "scatterpolargl"
           }
          ],
          "scatterternary": [
           {
            "marker": {
             "colorbar": {
              "outlinewidth": 0,
              "ticks": ""
             }
            },
            "type": "scatterternary"
           }
          ],
          "surface": [
           {
            "colorbar": {
             "outlinewidth": 0,
             "ticks": ""
            },
            "colorscale": [
             [
              0.0,
              "#0d0887"
             ],
             [
              0.1111111111111111,
              "#46039f"
             ],
             [
              0.2222222222222222,
              "#7201a8"
             ],
             [
              0.3333333333333333,
              "#9c179e"
             ],
             [
              0.4444444444444444,
              "#bd3786"
             ],
             [
              0.5555555555555556,
              "#d8576b"
             ],
             [
              0.6666666666666666,
              "#ed7953"
             ],
             [
              0.7777777777777778,
              "#fb9f3a"
             ],
             [
              0.8888888888888888,
              "#fdca26"
             ],
             [
              1.0,
              "#f0f921"
             ]
            ],
            "type": "surface"
           }
          ],
          "table": [
           {
            "cells": {
             "fill": {
              "color": "#EBF0F8"
             },
             "line": {
              "color": "white"
             }
            },
            "header": {
             "fill": {
              "color": "#C8D4E3"
             },
             "line": {
              "color": "white"
             }
            },
            "type": "table"
           }
          ]
         },
         "layout": {
          "annotationdefaults": {
           "arrowcolor": "#2a3f5f",
           "arrowhead": 0,
           "arrowwidth": 1
          },
          "coloraxis": {
           "colorbar": {
            "outlinewidth": 0,
            "ticks": ""
           }
          },
          "colorscale": {
           "diverging": [
            [
             0,
             "#8e0152"
            ],
            [
             0.1,
             "#c51b7d"
            ],
            [
             0.2,
             "#de77ae"
            ],
            [
             0.3,
             "#f1b6da"
            ],
            [
             0.4,
             "#fde0ef"
            ],
            [
             0.5,
             "#f7f7f7"
            ],
            [
             0.6,
             "#e6f5d0"
            ],
            [
             0.7,
             "#b8e186"
            ],
            [
             0.8,
             "#7fbc41"
            ],
            [
             0.9,
             "#4d9221"
            ],
            [
             1,
             "#276419"
            ]
           ],
           "sequential": [
            [
             0.0,
             "#0d0887"
            ],
            [
             0.1111111111111111,
             "#46039f"
            ],
            [
             0.2222222222222222,
             "#7201a8"
            ],
            [
             0.3333333333333333,
             "#9c179e"
            ],
            [
             0.4444444444444444,
             "#bd3786"
            ],
            [
             0.5555555555555556,
             "#d8576b"
            ],
            [
             0.6666666666666666,
             "#ed7953"
            ],
            [
             0.7777777777777778,
             "#fb9f3a"
            ],
            [
             0.8888888888888888,
             "#fdca26"
            ],
            [
             1.0,
             "#f0f921"
            ]
           ],
           "sequentialminus": [
            [
             0.0,
             "#0d0887"
            ],
            [
             0.1111111111111111,
             "#46039f"
            ],
            [
             0.2222222222222222,
             "#7201a8"
            ],
            [
             0.3333333333333333,
             "#9c179e"
            ],
            [
             0.4444444444444444,
             "#bd3786"
            ],
            [
             0.5555555555555556,
             "#d8576b"
            ],
            [
             0.6666666666666666,
             "#ed7953"
            ],
            [
             0.7777777777777778,
             "#fb9f3a"
            ],
            [
             0.8888888888888888,
             "#fdca26"
            ],
            [
             1.0,
             "#f0f921"
            ]
           ]
          },
          "colorway": [
           "#636efa",
           "#EF553B",
           "#00cc96",
           "#ab63fa",
           "#FFA15A",
           "#19d3f3",
           "#FF6692",
           "#B6E880",
           "#FF97FF",
           "#FECB52"
          ],
          "font": {
           "color": "#2a3f5f"
          },
          "geo": {
           "bgcolor": "white",
           "lakecolor": "white",
           "landcolor": "#E5ECF6",
           "showlakes": true,
           "showland": true,
           "subunitcolor": "white"
          },
          "hoverlabel": {
           "align": "left"
          },
          "hovermode": "closest",
          "mapbox": {
           "style": "light"
          },
          "paper_bgcolor": "white",
          "plot_bgcolor": "#E5ECF6",
          "polar": {
           "angularaxis": {
            "gridcolor": "white",
            "linecolor": "white",
            "ticks": ""
           },
           "bgcolor": "#E5ECF6",
           "radialaxis": {
            "gridcolor": "white",
            "linecolor": "white",
            "ticks": ""
           }
          },
          "scene": {
           "xaxis": {
            "backgroundcolor": "#E5ECF6",
            "gridcolor": "white",
            "gridwidth": 2,
            "linecolor": "white",
            "showbackground": true,
            "ticks": "",
            "zerolinecolor": "white"
           },
           "yaxis": {
            "backgroundcolor": "#E5ECF6",
            "gridcolor": "white",
            "gridwidth": 2,
            "linecolor": "white",
            "showbackground": true,
            "ticks": "",
            "zerolinecolor": "white"
           },
           "zaxis": {
            "backgroundcolor": "#E5ECF6",
            "gridcolor": "white",
            "gridwidth": 2,
            "linecolor": "white",
            "showbackground": true,
            "ticks": "",
            "zerolinecolor": "white"
           }
          },
          "shapedefaults": {
           "line": {
            "color": "#2a3f5f"
           }
          },
          "ternary": {
           "aaxis": {
            "gridcolor": "white",
            "linecolor": "white",
            "ticks": ""
           },
           "baxis": {
            "gridcolor": "white",
            "linecolor": "white",
            "ticks": ""
           },
           "bgcolor": "#E5ECF6",
           "caxis": {
            "gridcolor": "white",
            "linecolor": "white",
            "ticks": ""
           }
          },
          "title": {
           "x": 0.05
          },
          "xaxis": {
           "automargin": true,
           "gridcolor": "white",
           "linecolor": "white",
           "ticks": "",
           "title": {
            "standoff": 15
           },
           "zerolinecolor": "white",
           "zerolinewidth": 2
          },
          "yaxis": {
           "automargin": true,
           "gridcolor": "white",
           "linecolor": "white",
           "ticks": "",
           "title": {
            "standoff": 15
           },
           "zerolinecolor": "white",
           "zerolinewidth": 2
          }
         }
        },
        "title": {
         "font": {
          "color": "#4D5663"
         }
        },
        "xaxis": {
         "gridcolor": "#E1E5ED",
         "showgrid": true,
         "tickfont": {
          "color": "#4D5663"
         },
         "title": {
          "font": {
           "color": "#4D5663"
          },
          "text": ""
         },
         "zerolinecolor": "#E1E5ED"
        },
        "yaxis": {
         "gridcolor": "#E1E5ED",
         "showgrid": true,
         "tickfont": {
          "color": "#4D5663"
         },
         "title": {
          "font": {
           "color": "#4D5663"
          },
          "text": ""
         },
         "zerolinecolor": "#E1E5ED"
        }
       }
      },
      "text/html": "<div>\n        \n        \n            <div id=\"c07eebb5-efdf-4fdd-b9fc-16515762d8fe\" class=\"plotly-graph-div\" style=\"height:525px; width:100%;\"></div>\n            <script type=\"text/javascript\">\n                require([\"plotly\"], function(Plotly) {\n                    window.PLOTLYENV=window.PLOTLYENV || {};\n                    window.PLOTLYENV.BASE_URL='https://plot.ly';\n                    \n                if (document.getElementById(\"c07eebb5-efdf-4fdd-b9fc-16515762d8fe\")) {\n                    Plotly.newPlot(\n                        'c07eebb5-efdf-4fdd-b9fc-16515762d8fe',\n                        [{\"marker\": {\"color\": [\"rgb(255, 153, 51)\", \"rgb(55, 128, 191)\", \"rgb(50, 171, 96)\", \"rgb(128, 0, 128)\", \"rgb(219, 64, 82)\", \"rgb(0, 128, 128)\", \"rgb(255, 255, 51)\", \"rgb(128, 128, 0)\", \"rgb(251, 128, 114)\", \"rgb(128, 177, 211)\"], \"line\": {\"width\": 1.3}, \"size\": [57, 76, 74, 99, 60, 38, 72, 12, 42, 88, 104, 76, 81, 59, 83, 72, 23, 97, 60, 62, 70, 93, 21, 38, 43, 37, 64, 102, 76, 53, 53, 86, 85, 62, 67, 112, 53, 69, 73, 73, 62, 48, 41, 68, 63, 54, 67, 53, 55, 32, 74, 101, 93, 71, 55, 66, 66, 92, 85, 77, 69, 49, 26, 71, 30, 73, 106, 49, 75, 78, 75, 93, 62, 82, 39, 64, 38, 55, 48, 42, 31, 80, 70, 65, 63, 65, 71, 44, 71, 85, 63, 62, 94, 43, 83, 94, 53, 33, 34, 59], \"symbol\": \"circle\"}, \"mode\": \"markers\", \"text\": \"\", \"type\": \"scatter\", \"x\": [-1.4863073708975698, -2.1850824021195616, -2.960827272545752, 0.638069862685476, 0.21377793975387355, -0.8154978341789988, -1.5739883105017602, 0.4318822775286287, -1.3265888287929182, 1.259183517429503, -0.017407080654257518, -0.10281927824957425, 0.05337750178968702, -0.6292896610597629, 0.38616052190444494, -0.22605631512131022, -0.09853750276821739, -1.1066396351534582, 0.9114796019739642, 0.29518110596127883, 0.5965871078261196, -0.6190242134296731, -0.9294887399068007, 0.24055976556184552, 0.05308689523824642, -0.32226287593468833, 1.063935624998341, -0.5072921436705043, -1.5377735821424616, -0.685396102123712, -2.605179870972897, -0.014336078140034441, 0.13052624885473935, -0.3793653369458108, 0.6065077500095933, -0.763188427541439, 2.170705302187318, -0.8878237136360704, 0.30600965400701974, -1.0163183411750913, 1.0624991809215645, -0.4412390260445293, 0.3651556864264858, -1.486978745096095, 1.664516514200354, 1.1997710720009844, -2.0555831792245747, 0.9235026440401792, 0.07848950119542743, 1.3431294743521662, 3.2765097706920816, -0.4934295310273326, 0.990094748628564, 2.0134383679368852, -2.287636557492431, 0.8224077368953896, -0.3560884397513596, -1.744011177010594, -0.034766326276481054, -0.7374693628800136, -1.140617878297122, -0.28734548744461696, 0.5667681473808669, -0.9520658721364366, 0.9596448650717668, 0.3919613373221554, -0.9680655332483575, 0.42334251965705855, 1.772520654229283, 0.650698170834495, -1.1317667464189085, -1.8459395957855504, 0.8062363265030782, 0.3147212847950096, -1.057789454250701, -0.29795494761001645, 0.789773725362857, 1.083507179451289, -1.9468646653134738, -0.21824193932452937, 0.4675002253006263, 1.605648784272931, -0.8821948592590849, -1.0917912230779365, 0.06719803818297368, 0.770564006511959, 1.3408187755846943, 1.7074842570992093, 1.5703817547245793, 0.29386034266401145, -0.06716747238653473, 0.9434032958517293, -0.04607609878312643, -1.5422232108086, -0.7792537895554505, -0.3687631447341126, -0.09668785472371995, 1.067454982834531, 0.08877790370553766, 1.0971434149579615], \"y\": [0.991862700951286, 0.24950253065649877, 0.3950093976649536, 0.6188708512930853, -0.7747954695629024, -0.6999267092916548, 0.0767008924504014, 1.1329314657450371, 0.6433203381952936, 1.6131660962513228, 0.06043736850071907, 0.8713454604033425, -0.18930552552586122, 0.43833285799875565, -0.6995013195151322, -1.8064010468855245, 0.687905900643732, 1.396414503651976, -0.8072414603179552, 1.0587564990166214, -0.3796720805805881, -0.3195073545466219, -1.3298790867118577, 0.6457868122925032, -0.6441709957256099, -0.40827355746977784, -0.8355145027336962, 0.8677656888788933, -0.30118120675530397, 0.4963393424518228, 1.8997241764226496, 2.6281040905157247, 1.4377596195562439, -1.8840417497279667, -0.4534505483577321, -0.6109510793091015, 0.0151099174140034, 0.6113033544272953, -1.0671475176105258, -1.347816683912141, 0.05455733113361512, -0.4739243275402265, -0.45829014109480576, -0.726852510520777, -0.17788606157097492, -0.17897625981444226, 0.685167733415189, -1.9724384236155548, 0.7937847144227674, -1.1535059289831828, 0.5102192179387394, 0.8606104025042941, 1.795271491052051, 0.8545248489559998, 0.8939539538337453, 0.9961409783162299, -2.212550853061344, 0.7806743317887066, 1.1421746771338692, 0.2881768847509344, -0.18142864879455858, -1.196135981429346, -0.9432708001793368, -1.4910858898960022, -2.1374718013605234, 2.2207175524641616, 0.03019455031206788, 0.9877754416137221, 1.044919815072245, -0.4359856415997237, -2.556134407655902, 0.8257669498802955, -0.49672006283080633, -0.5433664670566228, -0.40402255151282734, -0.9041658119968088, 0.48220006883816724, 1.3853556377901446, 0.6436047187928708, 0.08846144335836506, -0.1682423067605211, 0.17385203610914976, -0.5620543658393782, 1.1000045334205817, 0.8449228133014679, 2.0693586894798575, 0.556074393022577, -0.09675473988838523, -1.4876250381532938, -0.49795804936956967, -2.1141074948250784, 0.6731424953480482, -0.5486912328010581, -1.9787097456859963, -0.45434678245835275, 0.5868522472967778, 0.09853414803666562, -0.49452835762931896, -2.116011155396429, -0.05396114288166204]}],\n                        {\"legend\": {\"bgcolor\": \"#F5F6F9\", \"font\": {\"color\": \"#4D5663\"}}, \"paper_bgcolor\": \"#F5F6F9\", \"plot_bgcolor\": \"#F5F6F9\", \"template\": {\"data\": {\"bar\": [{\"error_x\": {\"color\": \"#2a3f5f\"}, \"error_y\": {\"color\": \"#2a3f5f\"}, \"marker\": {\"line\": {\"color\": \"#E5ECF6\", \"width\": 0.5}}, \"type\": \"bar\"}], \"barpolar\": [{\"marker\": {\"line\": {\"color\": \"#E5ECF6\", \"width\": 0.5}}, \"type\": \"barpolar\"}], \"carpet\": [{\"aaxis\": {\"endlinecolor\": \"#2a3f5f\", \"gridcolor\": \"white\", \"linecolor\": \"white\", \"minorgridcolor\": \"white\", \"startlinecolor\": \"#2a3f5f\"}, \"baxis\": {\"endlinecolor\": \"#2a3f5f\", \"gridcolor\": \"white\", \"linecolor\": \"white\", \"minorgridcolor\": \"white\", \"startlinecolor\": \"#2a3f5f\"}, \"type\": \"carpet\"}], \"choropleth\": [{\"colorbar\": {\"outlinewidth\": 0, \"ticks\": \"\"}, \"type\": \"choropleth\"}], \"contour\": [{\"colorbar\": {\"outlinewidth\": 0, \"ticks\": \"\"}, \"colorscale\": [[0.0, \"#0d0887\"], [0.1111111111111111, \"#46039f\"], [0.2222222222222222, \"#7201a8\"], [0.3333333333333333, \"#9c179e\"], [0.4444444444444444, \"#bd3786\"], [0.5555555555555556, \"#d8576b\"], [0.6666666666666666, \"#ed7953\"], [0.7777777777777778, \"#fb9f3a\"], [0.8888888888888888, \"#fdca26\"], [1.0, \"#f0f921\"]], \"type\": \"contour\"}], \"contourcarpet\": [{\"colorbar\": {\"outlinewidth\": 0, \"ticks\": \"\"}, \"type\": \"contourcarpet\"}], \"heatmap\": [{\"colorbar\": {\"outlinewidth\": 0, \"ticks\": \"\"}, \"colorscale\": [[0.0, \"#0d0887\"], [0.1111111111111111, \"#46039f\"], [0.2222222222222222, \"#7201a8\"], [0.3333333333333333, \"#9c179e\"], [0.4444444444444444, \"#bd3786\"], [0.5555555555555556, \"#d8576b\"], [0.6666666666666666, \"#ed7953\"], [0.7777777777777778, \"#fb9f3a\"], [0.8888888888888888, \"#fdca26\"], [1.0, \"#f0f921\"]], \"type\": \"heatmap\"}], \"heatmapgl\": [{\"colorbar\": {\"outlinewidth\": 0, \"ticks\": \"\"}, \"colorscale\": [[0.0, \"#0d0887\"], [0.1111111111111111, \"#46039f\"], [0.2222222222222222, \"#7201a8\"], [0.3333333333333333, \"#9c179e\"], [0.4444444444444444, \"#bd3786\"], [0.5555555555555556, \"#d8576b\"], [0.6666666666666666, \"#ed7953\"], [0.7777777777777778, \"#fb9f3a\"], [0.8888888888888888, \"#fdca26\"], [1.0, \"#f0f921\"]], \"type\": \"heatmapgl\"}], \"histogram\": [{\"marker\": {\"colorbar\": {\"outlinewidth\": 0, \"ticks\": \"\"}}, \"type\": \"histogram\"}], \"histogram2d\": [{\"colorbar\": {\"outlinewidth\": 0, \"ticks\": \"\"}, \"colorscale\": [[0.0, \"#0d0887\"], [0.1111111111111111, \"#46039f\"], [0.2222222222222222, \"#7201a8\"], [0.3333333333333333, \"#9c179e\"], [0.4444444444444444, \"#bd3786\"], [0.5555555555555556, \"#d8576b\"], [0.6666666666666666, \"#ed7953\"], [0.7777777777777778, \"#fb9f3a\"], [0.8888888888888888, \"#fdca26\"], [1.0, \"#f0f921\"]], \"type\": \"histogram2d\"}], \"histogram2dcontour\": [{\"colorbar\": {\"outlinewidth\": 0, \"ticks\": \"\"}, \"colorscale\": [[0.0, \"#0d0887\"], [0.1111111111111111, \"#46039f\"], [0.2222222222222222, \"#7201a8\"], [0.3333333333333333, \"#9c179e\"], [0.4444444444444444, \"#bd3786\"], [0.5555555555555556, \"#d8576b\"], [0.6666666666666666, \"#ed7953\"], [0.7777777777777778, \"#fb9f3a\"], [0.8888888888888888, \"#fdca26\"], [1.0, \"#f0f921\"]], \"type\": \"histogram2dcontour\"}], \"mesh3d\": [{\"colorbar\": {\"outlinewidth\": 0, \"ticks\": \"\"}, \"type\": \"mesh3d\"}], \"parcoords\": [{\"line\": {\"colorbar\": {\"outlinewidth\": 0, \"ticks\": \"\"}}, \"type\": \"parcoords\"}], \"pie\": [{\"automargin\": true, \"type\": \"pie\"}], \"scatter\": [{\"marker\": {\"colorbar\": {\"outlinewidth\": 0, \"ticks\": \"\"}}, \"type\": \"scatter\"}], \"scatter3d\": [{\"line\": {\"colorbar\": {\"outlinewidth\": 0, \"ticks\": \"\"}}, \"marker\": {\"colorbar\": {\"outlinewidth\": 0, \"ticks\": \"\"}}, \"type\": \"scatter3d\"}], \"scattercarpet\": [{\"marker\": {\"colorbar\": {\"outlinewidth\": 0, \"ticks\": \"\"}}, \"type\": \"scattercarpet\"}], \"scattergeo\": [{\"marker\": {\"colorbar\": {\"outlinewidth\": 0, \"ticks\": \"\"}}, \"type\": \"scattergeo\"}], \"scattergl\": [{\"marker\": {\"colorbar\": {\"outlinewidth\": 0, \"ticks\": \"\"}}, \"type\": \"scattergl\"}], \"scattermapbox\": [{\"marker\": {\"colorbar\": {\"outlinewidth\": 0, \"ticks\": \"\"}}, \"type\": \"scattermapbox\"}], \"scatterpolar\": [{\"marker\": {\"colorbar\": {\"outlinewidth\": 0, \"ticks\": \"\"}}, \"type\": \"scatterpolar\"}], \"scatterpolargl\": [{\"marker\": {\"colorbar\": {\"outlinewidth\": 0, \"ticks\": \"\"}}, \"type\": \"scatterpolargl\"}], \"scatterternary\": [{\"marker\": {\"colorbar\": {\"outlinewidth\": 0, \"ticks\": \"\"}}, \"type\": \"scatterternary\"}], \"surface\": [{\"colorbar\": {\"outlinewidth\": 0, \"ticks\": \"\"}, \"colorscale\": [[0.0, \"#0d0887\"], [0.1111111111111111, \"#46039f\"], [0.2222222222222222, \"#7201a8\"], [0.3333333333333333, \"#9c179e\"], [0.4444444444444444, \"#bd3786\"], [0.5555555555555556, \"#d8576b\"], [0.6666666666666666, \"#ed7953\"], [0.7777777777777778, \"#fb9f3a\"], [0.8888888888888888, \"#fdca26\"], [1.0, \"#f0f921\"]], \"type\": \"surface\"}], \"table\": [{\"cells\": {\"fill\": {\"color\": \"#EBF0F8\"}, \"line\": {\"color\": \"white\"}}, \"header\": {\"fill\": {\"color\": \"#C8D4E3\"}, \"line\": {\"color\": \"white\"}}, \"type\": \"table\"}]}, \"layout\": {\"annotationdefaults\": {\"arrowcolor\": \"#2a3f5f\", \"arrowhead\": 0, \"arrowwidth\": 1}, \"coloraxis\": {\"colorbar\": {\"outlinewidth\": 0, \"ticks\": \"\"}}, \"colorscale\": {\"diverging\": [[0, \"#8e0152\"], [0.1, \"#c51b7d\"], [0.2, \"#de77ae\"], [0.3, \"#f1b6da\"], [0.4, \"#fde0ef\"], [0.5, \"#f7f7f7\"], [0.6, \"#e6f5d0\"], [0.7, \"#b8e186\"], [0.8, \"#7fbc41\"], [0.9, \"#4d9221\"], [1, \"#276419\"]], \"sequential\": [[0.0, \"#0d0887\"], [0.1111111111111111, \"#46039f\"], [0.2222222222222222, \"#7201a8\"], [0.3333333333333333, \"#9c179e\"], [0.4444444444444444, \"#bd3786\"], [0.5555555555555556, \"#d8576b\"], [0.6666666666666666, \"#ed7953\"], [0.7777777777777778, \"#fb9f3a\"], [0.8888888888888888, \"#fdca26\"], [1.0, \"#f0f921\"]], \"sequentialminus\": [[0.0, \"#0d0887\"], [0.1111111111111111, \"#46039f\"], [0.2222222222222222, \"#7201a8\"], [0.3333333333333333, \"#9c179e\"], [0.4444444444444444, \"#bd3786\"], [0.5555555555555556, \"#d8576b\"], [0.6666666666666666, \"#ed7953\"], [0.7777777777777778, \"#fb9f3a\"], [0.8888888888888888, \"#fdca26\"], [1.0, \"#f0f921\"]]}, \"colorway\": [\"#636efa\", \"#EF553B\", \"#00cc96\", \"#ab63fa\", \"#FFA15A\", \"#19d3f3\", \"#FF6692\", \"#B6E880\", \"#FF97FF\", \"#FECB52\"], \"font\": {\"color\": \"#2a3f5f\"}, \"geo\": {\"bgcolor\": \"white\", \"lakecolor\": \"white\", \"landcolor\": \"#E5ECF6\", \"showlakes\": true, \"showland\": true, \"subunitcolor\": \"white\"}, \"hoverlabel\": {\"align\": \"left\"}, \"hovermode\": \"closest\", \"mapbox\": {\"style\": \"light\"}, \"paper_bgcolor\": \"white\", \"plot_bgcolor\": \"#E5ECF6\", \"polar\": {\"angularaxis\": {\"gridcolor\": \"white\", \"linecolor\": \"white\", \"ticks\": \"\"}, \"bgcolor\": \"#E5ECF6\", \"radialaxis\": {\"gridcolor\": \"white\", \"linecolor\": \"white\", \"ticks\": \"\"}}, \"scene\": {\"xaxis\": {\"backgroundcolor\": \"#E5ECF6\", \"gridcolor\": \"white\", \"gridwidth\": 2, \"linecolor\": \"white\", \"showbackground\": true, \"ticks\": \"\", \"zerolinecolor\": \"white\"}, \"yaxis\": {\"backgroundcolor\": \"#E5ECF6\", \"gridcolor\": \"white\", \"gridwidth\": 2, \"linecolor\": \"white\", \"showbackground\": true, \"ticks\": \"\", \"zerolinecolor\": \"white\"}, \"zaxis\": {\"backgroundcolor\": \"#E5ECF6\", \"gridcolor\": \"white\", \"gridwidth\": 2, \"linecolor\": \"white\", \"showbackground\": true, \"ticks\": \"\", \"zerolinecolor\": \"white\"}}, \"shapedefaults\": {\"line\": {\"color\": \"#2a3f5f\"}}, \"ternary\": {\"aaxis\": {\"gridcolor\": \"white\", \"linecolor\": \"white\", \"ticks\": \"\"}, \"baxis\": {\"gridcolor\": \"white\", \"linecolor\": \"white\", \"ticks\": \"\"}, \"bgcolor\": \"#E5ECF6\", \"caxis\": {\"gridcolor\": \"white\", \"linecolor\": \"white\", \"ticks\": \"\"}}, \"title\": {\"x\": 0.05}, \"xaxis\": {\"automargin\": true, \"gridcolor\": \"white\", \"linecolor\": \"white\", \"ticks\": \"\", \"title\": {\"standoff\": 15}, \"zerolinecolor\": \"white\", \"zerolinewidth\": 2}, \"yaxis\": {\"automargin\": true, \"gridcolor\": \"white\", \"linecolor\": \"white\", \"ticks\": \"\", \"title\": {\"standoff\": 15}, \"zerolinecolor\": \"white\", \"zerolinewidth\": 2}}}, \"title\": {\"font\": {\"color\": \"#4D5663\"}}, \"xaxis\": {\"gridcolor\": \"#E1E5ED\", \"showgrid\": true, \"tickfont\": {\"color\": \"#4D5663\"}, \"title\": {\"font\": {\"color\": \"#4D5663\"}, \"text\": \"\"}, \"zerolinecolor\": \"#E1E5ED\"}, \"yaxis\": {\"gridcolor\": \"#E1E5ED\", \"showgrid\": true, \"tickfont\": {\"color\": \"#4D5663\"}, \"title\": {\"font\": {\"color\": \"#4D5663\"}, \"text\": \"\"}, \"zerolinecolor\": \"#E1E5ED\"}},\n                        {\"showLink\": true, \"linkText\": \"Export to plot.ly\", \"plotlyServerURL\": \"https://plot.ly\", \"responsive\": true}\n                    ).then(function(){\n                            \nvar gd = document.getElementById('c07eebb5-efdf-4fdd-b9fc-16515762d8fe');\nvar x = new MutationObserver(function (mutations, observer) {{\n        var display = window.getComputedStyle(gd).display;\n        if (!display || display === 'none') {{\n            console.log([gd, 'removed!']);\n            Plotly.purge(gd);\n            observer.disconnect();\n        }}\n}});\n\n// Listen for the removal of the full notebook cells\nvar notebookContainer = gd.closest('#notebook-container');\nif (notebookContainer) {{\n    x.observe(notebookContainer, {childList: true});\n}}\n\n// Listen for the clearing of the current output cell\nvar outputEl = gd.closest('.output');\nif (outputEl) {{\n    x.observe(outputEl, {childList: true});\n}}\n\n                        })\n                };\n                });\n            </script>\n        </div>"
     },
     "metadata": {},
     "output_type": "display_data"
    }
   ],
   "source": [
    "df.iplot(kind='bubble', x='A', y='B', size='C')"
   ],
   "metadata": {
    "collapsed": false,
    "pycharm": {
     "name": "#%%\n",
     "is_executing": false
    }
   }
  },
  {
   "cell_type": "markdown",
   "source": [
    "### scatter_matrix"
   ],
   "metadata": {
    "collapsed": false,
    "pycharm": {
     "name": "#%% md\n"
    }
   }
  },
  {
   "cell_type": "code",
   "execution_count": 16,
   "outputs": [
    {
     "data": {
      "application/vnd.plotly.v1+json": {
       "config": {
        "linkText": "Export to plot.ly",
        "plotlyServerURL": "https://plot.ly",
        "showLink": true
       },
       "data": [
        {
         "histfunc": "count",
         "histnorm": "",
         "marker": {
          "color": "rgba(255, 153, 51, 1.0)",
          "line": {
           "color": "#4D5663",
           "width": 1.3
          }
         },
         "name": "A",
         "nbinsx": 10,
         "opacity": 0.8,
         "orientation": "v",
         "type": "histogram",
         "x": [
          -1.4863073708975698,
          -2.1850824021195616,
          -2.960827272545752,
          0.638069862685476,
          0.21377793975387355,
          -0.8154978341789988,
          -1.5739883105017602,
          0.4318822775286287,
          -1.3265888287929182,
          1.259183517429503,
          -0.017407080654257518,
          -0.10281927824957425,
          0.05337750178968702,
          -0.6292896610597629,
          0.38616052190444494,
          -0.22605631512131022,
          -0.09853750276821739,
          -1.1066396351534582,
          0.9114796019739642,
          0.29518110596127883,
          0.5965871078261196,
          -0.6190242134296731,
          -0.9294887399068007,
          0.24055976556184552,
          0.05308689523824642,
          -0.32226287593468833,
          1.063935624998341,
          -0.5072921436705043,
          -1.5377735821424616,
          -0.685396102123712,
          -2.605179870972897,
          -0.014336078140034441,
          0.13052624885473935,
          -0.3793653369458108,
          0.6065077500095933,
          -0.763188427541439,
          2.170705302187318,
          -0.8878237136360704,
          0.30600965400701974,
          -1.0163183411750913,
          1.0624991809215645,
          -0.4412390260445293,
          0.3651556864264858,
          -1.486978745096095,
          1.664516514200354,
          1.1997710720009844,
          -2.0555831792245747,
          0.9235026440401792,
          0.07848950119542743,
          1.3431294743521662,
          3.2765097706920816,
          -0.4934295310273326,
          0.990094748628564,
          2.0134383679368852,
          -2.287636557492431,
          0.8224077368953896,
          -0.3560884397513596,
          -1.744011177010594,
          -0.034766326276481054,
          -0.7374693628800136,
          -1.140617878297122,
          -0.28734548744461696,
          0.5667681473808669,
          -0.9520658721364366,
          0.9596448650717668,
          0.3919613373221554,
          -0.9680655332483575,
          0.42334251965705855,
          1.772520654229283,
          0.650698170834495,
          -1.1317667464189085,
          -1.8459395957855504,
          0.8062363265030782,
          0.3147212847950096,
          -1.057789454250701,
          -0.29795494761001645,
          0.789773725362857,
          1.083507179451289,
          -1.9468646653134738,
          -0.21824193932452937,
          0.4675002253006263,
          1.605648784272931,
          -0.8821948592590849,
          -1.0917912230779365,
          0.06719803818297368,
          0.770564006511959,
          1.3408187755846943,
          1.7074842570992093,
          1.5703817547245793,
          0.29386034266401145,
          -0.06716747238653473,
          0.9434032958517293,
          -0.04607609878312643,
          -1.5422232108086,
          -0.7792537895554505,
          -0.3687631447341126,
          -0.09668785472371995,
          1.067454982834531,
          0.08877790370553766,
          1.0971434149579615
         ],
         "xaxis": "x",
         "yaxis": "y"
        },
        {
         "line": {
          "color": "rgba(128, 128, 128, 1.0)",
          "dash": "solid",
          "shape": "linear",
          "width": 1.3
         },
         "marker": {
          "size": 2,
          "symbol": "circle"
         },
         "mode": "markers",
         "name": "A",
         "text": "",
         "type": "scatter",
         "x": [
          0.991862700951286,
          0.24950253065649877,
          0.3950093976649536,
          0.6188708512930853,
          -0.7747954695629024,
          -0.6999267092916548,
          0.0767008924504014,
          1.1329314657450371,
          0.6433203381952936,
          1.6131660962513228,
          0.06043736850071907,
          0.8713454604033425,
          -0.18930552552586122,
          0.43833285799875565,
          -0.6995013195151322,
          -1.8064010468855245,
          0.687905900643732,
          1.396414503651976,
          -0.8072414603179552,
          1.0587564990166214,
          -0.3796720805805881,
          -0.3195073545466219,
          -1.3298790867118577,
          0.6457868122925032,
          -0.6441709957256099,
          -0.40827355746977784,
          -0.8355145027336962,
          0.8677656888788933,
          -0.30118120675530397,
          0.4963393424518228,
          1.8997241764226496,
          2.6281040905157247,
          1.4377596195562439,
          -1.8840417497279667,
          -0.4534505483577321,
          -0.6109510793091015,
          0.0151099174140034,
          0.6113033544272953,
          -1.0671475176105258,
          -1.347816683912141,
          0.05455733113361512,
          -0.4739243275402265,
          -0.45829014109480576,
          -0.726852510520777,
          -0.17788606157097492,
          -0.17897625981444226,
          0.685167733415189,
          -1.9724384236155548,
          0.7937847144227674,
          -1.1535059289831828,
          0.5102192179387394,
          0.8606104025042941,
          1.795271491052051,
          0.8545248489559998,
          0.8939539538337453,
          0.9961409783162299,
          -2.212550853061344,
          0.7806743317887066,
          1.1421746771338692,
          0.2881768847509344,
          -0.18142864879455858,
          -1.196135981429346,
          -0.9432708001793368,
          -1.4910858898960022,
          -2.1374718013605234,
          2.2207175524641616,
          0.03019455031206788,
          0.9877754416137221,
          1.044919815072245,
          -0.4359856415997237,
          -2.556134407655902,
          0.8257669498802955,
          -0.49672006283080633,
          -0.5433664670566228,
          -0.40402255151282734,
          -0.9041658119968088,
          0.48220006883816724,
          1.3853556377901446,
          0.6436047187928708,
          0.08846144335836506,
          -0.1682423067605211,
          0.17385203610914976,
          -0.5620543658393782,
          1.1000045334205817,
          0.8449228133014679,
          2.0693586894798575,
          0.556074393022577,
          -0.09675473988838523,
          -1.4876250381532938,
          -0.49795804936956967,
          -2.1141074948250784,
          0.6731424953480482,
          -0.5486912328010581,
          -1.9787097456859963,
          -0.45434678245835275,
          0.5868522472967778,
          0.09853414803666562,
          -0.49452835762931896,
          -2.116011155396429,
          -0.05396114288166204
         ],
         "xaxis": "x2",
         "y": [
          -1.4863073708975698,
          -2.1850824021195616,
          -2.960827272545752,
          0.638069862685476,
          0.21377793975387355,
          -0.8154978341789988,
          -1.5739883105017602,
          0.4318822775286287,
          -1.3265888287929182,
          1.259183517429503,
          -0.017407080654257518,
          -0.10281927824957425,
          0.05337750178968702,
          -0.6292896610597629,
          0.38616052190444494,
          -0.22605631512131022,
          -0.09853750276821739,
          -1.1066396351534582,
          0.9114796019739642,
          0.29518110596127883,
          0.5965871078261196,
          -0.6190242134296731,
          -0.9294887399068007,
          0.24055976556184552,
          0.05308689523824642,
          -0.32226287593468833,
          1.063935624998341,
          -0.5072921436705043,
          -1.5377735821424616,
          -0.685396102123712,
          -2.605179870972897,
          -0.014336078140034441,
          0.13052624885473935,
          -0.3793653369458108,
          0.6065077500095933,
          -0.763188427541439,
          2.170705302187318,
          -0.8878237136360704,
          0.30600965400701974,
          -1.0163183411750913,
          1.0624991809215645,
          -0.4412390260445293,
          0.3651556864264858,
          -1.486978745096095,
          1.664516514200354,
          1.1997710720009844,
          -2.0555831792245747,
          0.9235026440401792,
          0.07848950119542743,
          1.3431294743521662,
          3.2765097706920816,
          -0.4934295310273326,
          0.990094748628564,
          2.0134383679368852,
          -2.287636557492431,
          0.8224077368953896,
          -0.3560884397513596,
          -1.744011177010594,
          -0.034766326276481054,
          -0.7374693628800136,
          -1.140617878297122,
          -0.28734548744461696,
          0.5667681473808669,
          -0.9520658721364366,
          0.9596448650717668,
          0.3919613373221554,
          -0.9680655332483575,
          0.42334251965705855,
          1.772520654229283,
          0.650698170834495,
          -1.1317667464189085,
          -1.8459395957855504,
          0.8062363265030782,
          0.3147212847950096,
          -1.057789454250701,
          -0.29795494761001645,
          0.789773725362857,
          1.083507179451289,
          -1.9468646653134738,
          -0.21824193932452937,
          0.4675002253006263,
          1.605648784272931,
          -0.8821948592590849,
          -1.0917912230779365,
          0.06719803818297368,
          0.770564006511959,
          1.3408187755846943,
          1.7074842570992093,
          1.5703817547245793,
          0.29386034266401145,
          -0.06716747238653473,
          0.9434032958517293,
          -0.04607609878312643,
          -1.5422232108086,
          -0.7792537895554505,
          -0.3687631447341126,
          -0.09668785472371995,
          1.067454982834531,
          0.08877790370553766,
          1.0971434149579615
         ],
         "yaxis": "y2"
        },
        {
         "line": {
          "color": "rgba(128, 128, 128, 1.0)",
          "dash": "solid",
          "shape": "linear",
          "width": 1.3
         },
         "marker": {
          "size": 2,
          "symbol": "circle"
         },
         "mode": "markers",
         "name": "A",
         "text": "",
         "type": "scatter",
         "x": [
          -0.3753741788856934,
          0.5679662611009498,
          0.4677313122351522,
          1.711581076417976,
          -0.23277048837939648,
          -1.3267012027130738,
          0.3739434057450148,
          -2.643571540323504,
          -1.145880614666761,
          1.1928955037375057,
          1.9863941652632737,
          0.573430062744424,
          0.8156376623031294,
          -0.2572022843431144,
          0.9042432883188274,
          0.3715434829837976,
          -2.0834161164323506,
          1.5953862925501323,
          -0.2238261581980897,
          -0.1216764324691142,
          0.2736288663987507,
          1.4356667621173613,
          -2.1949481488151847,
          -1.3236141120670448,
          -1.0735945971051435,
          -1.3663346326509864,
          -0.0185940426044395,
          1.8902953555195336,
          0.567126228448343,
          -0.5789037243795288,
          -0.5755340178660493,
          1.0550316165963012,
          1.0441029808292899,
          -0.11420736861863401,
          0.12524239868540765,
          2.3400605491663047,
          -0.5782934311304733,
          0.2108310203970129,
          0.4039331862171811,
          0.44360322247555956,
          -0.12085742117129346,
          -0.8439468871075504,
          -1.158756996162908,
          0.15430035399347133,
          -0.06386858016005441,
          -0.5074262422549175,
          0.11555993742750822,
          -0.5577283425727401,
          -0.47789084485793143,
          -1.6403711405172237,
          0.4827664013390895,
          1.8028155547633575,
          1.4001098054136305,
          0.3267302345742465,
          -0.4848670587721663,
          0.09227216079736342,
          0.07123892931472044,
          1.3481163362612534,
          1.0169867096972263,
          0.6170681768119419,
          0.22108609767698298,
          -0.7842927767017362,
          -1.915537043065621,
          0.328018803408384,
          -1.7278938381029623,
          0.43078382443629565,
          2.0481051229562257,
          -0.7956971542699457,
          0.5020823215935366,
          0.6949890081830239,
          0.5338802549188443,
          1.4392317783792197,
          -0.11039014255304978,
          0.8618715191435556,
          -1.2896289383655481,
          -0.02281907828284579,
          -1.3135449694462873,
          -0.4717030103235045,
          -0.8160617409124374,
          -1.1280099487793187,
          -1.6670501450748478,
          0.7607906281945472,
          0.2796867560346704,
          0.017180080705273514,
          -0.0949567224231892,
          0.00634285875947798,
          0.3046419492352927,
          -1.014498313219501,
          0.30306332735540786,
          1.0227713330043546,
          -0.0836722027615909,
          -0.12612606064856932,
          1.4807005920373766,
          -1.065714626827212,
          0.9040155977160081,
          1.4766809212757679,
          -0.5668708254940893,
          -1.5662672710340224,
          -1.5263870398107666,
          -0.2590630334259091
         ],
         "xaxis": "x3",
         "y": [
          -1.4863073708975698,
          -2.1850824021195616,
          -2.960827272545752,
          0.638069862685476,
          0.21377793975387355,
          -0.8154978341789988,
          -1.5739883105017602,
          0.4318822775286287,
          -1.3265888287929182,
          1.259183517429503,
          -0.017407080654257518,
          -0.10281927824957425,
          0.05337750178968702,
          -0.6292896610597629,
          0.38616052190444494,
          -0.22605631512131022,
          -0.09853750276821739,
          -1.1066396351534582,
          0.9114796019739642,
          0.29518110596127883,
          0.5965871078261196,
          -0.6190242134296731,
          -0.9294887399068007,
          0.24055976556184552,
          0.05308689523824642,
          -0.32226287593468833,
          1.063935624998341,
          -0.5072921436705043,
          -1.5377735821424616,
          -0.685396102123712,
          -2.605179870972897,
          -0.014336078140034441,
          0.13052624885473935,
          -0.3793653369458108,
          0.6065077500095933,
          -0.763188427541439,
          2.170705302187318,
          -0.8878237136360704,
          0.30600965400701974,
          -1.0163183411750913,
          1.0624991809215645,
          -0.4412390260445293,
          0.3651556864264858,
          -1.486978745096095,
          1.664516514200354,
          1.1997710720009844,
          -2.0555831792245747,
          0.9235026440401792,
          0.07848950119542743,
          1.3431294743521662,
          3.2765097706920816,
          -0.4934295310273326,
          0.990094748628564,
          2.0134383679368852,
          -2.287636557492431,
          0.8224077368953896,
          -0.3560884397513596,
          -1.744011177010594,
          -0.034766326276481054,
          -0.7374693628800136,
          -1.140617878297122,
          -0.28734548744461696,
          0.5667681473808669,
          -0.9520658721364366,
          0.9596448650717668,
          0.3919613373221554,
          -0.9680655332483575,
          0.42334251965705855,
          1.772520654229283,
          0.650698170834495,
          -1.1317667464189085,
          -1.8459395957855504,
          0.8062363265030782,
          0.3147212847950096,
          -1.057789454250701,
          -0.29795494761001645,
          0.789773725362857,
          1.083507179451289,
          -1.9468646653134738,
          -0.21824193932452937,
          0.4675002253006263,
          1.605648784272931,
          -0.8821948592590849,
          -1.0917912230779365,
          0.06719803818297368,
          0.770564006511959,
          1.3408187755846943,
          1.7074842570992093,
          1.5703817547245793,
          0.29386034266401145,
          -0.06716747238653473,
          0.9434032958517293,
          -0.04607609878312643,
          -1.5422232108086,
          -0.7792537895554505,
          -0.3687631447341126,
          -0.09668785472371995,
          1.067454982834531,
          0.08877790370553766,
          1.0971434149579615
         ],
         "yaxis": "y3"
        },
        {
         "line": {
          "color": "rgba(128, 128, 128, 1.0)",
          "dash": "solid",
          "shape": "linear",
          "width": 1.3
         },
         "marker": {
          "size": 2,
          "symbol": "circle"
         },
         "mode": "markers",
         "name": "A",
         "text": "",
         "type": "scatter",
         "x": [
          2.0436691209421562,
          0.1824761840116358,
          0.5700043679018382,
          -0.22935727746462556,
          0.7569207059020728,
          -0.14317016618902656,
          0.21129156018164277,
          -0.2616089926871364,
          1.4495406157464286,
          -0.9342860392352873,
          -0.09084447475739998,
          -1.565429635024042,
          -1.5406840105456636,
          -0.8559537704229165,
          -1.1114922404496523,
          0.5063532674496958,
          1.3487191387605066,
          1.956255565670463,
          1.8183720503917729,
          0.5786629868706473,
          -0.3604354290108231,
          0.2873145928066404,
          0.19750155695426078,
          -0.8480331396213573,
          0.417599115069566,
          1.8968061348373466,
          -0.8637792682058373,
          1.6257780581247228,
          -0.8623822878043705,
          0.4556310697362648,
          0.8648090566042301,
          0.7313030024535564,
          2.2412089911543616,
          0.47922271969325386,
          -2.2685243013314262,
          0.04906054663673767,
          -1.498944857376424,
          0.35060996571349773,
          -1.8836306877745341,
          -0.3262599784002874,
          -0.3782286761037799,
          -0.29946333506931067,
          0.7508740231319113,
          1.207476743985673,
          -0.7908941475885819,
          1.3645664408744624,
          -0.3369882440756289,
          0.31576705904068125,
          -0.7581710392004785,
          1.1629083090850254,
          0.349307505649559,
          0.5313594705841929,
          1.1053965751515706,
          -0.46012799965221596,
          1.9386489652387204,
          -0.6788483704507831,
          -2.1840554947861524,
          1.0198006550241243,
          0.31529091115930113,
          0.2241061424559845,
          -1.4119249854812994,
          0.67559656553888,
          -0.4316193782730557,
          -1.4418982123850834,
          -1.2244517549484644,
          -0.156905996972589,
          -0.7081191788451137,
          0.3311222601330798,
          -1.271135923083071,
          -1.6406037783928384,
          -0.7155308476950346,
          0.07123578116279788,
          -0.09593250888678026,
          -3.21697202555598,
          1.578719906595705,
          0.19945974802986063,
          0.7614590083524786,
          0.947436823350358,
          -0.15283764572543185,
          -0.746368577035718,
          -0.4578868834298999,
          0.7806486628818033,
          2.0089091630328966,
          -0.3005203339251017,
          0.41302694814666885,
          -0.4216556948739281,
          0.8077852759929154,
          0.6787555776336831,
          -0.6424320413366892,
          1.0769566754877857,
          0.9454046718505152,
          -0.416183530686335,
          0.7665667379007157,
          0.9349341829591532,
          0.33304764522565167,
          -1.0951765638605833,
          1.7175885746816932,
          2.0570025387997637,
          -1.5297582991982859,
          -0.42968195284927535
         ],
         "xaxis": "x4",
         "y": [
          -1.4863073708975698,
          -2.1850824021195616,
          -2.960827272545752,
          0.638069862685476,
          0.21377793975387355,
          -0.8154978341789988,
          -1.5739883105017602,
          0.4318822775286287,
          -1.3265888287929182,
          1.259183517429503,
          -0.017407080654257518,
          -0.10281927824957425,
          0.05337750178968702,
          -0.6292896610597629,
          0.38616052190444494,
          -0.22605631512131022,
          -0.09853750276821739,
          -1.1066396351534582,
          0.9114796019739642,
          0.29518110596127883,
          0.5965871078261196,
          -0.6190242134296731,
          -0.9294887399068007,
          0.24055976556184552,
          0.05308689523824642,
          -0.32226287593468833,
          1.063935624998341,
          -0.5072921436705043,
          -1.5377735821424616,
          -0.685396102123712,
          -2.605179870972897,
          -0.014336078140034441,
          0.13052624885473935,
          -0.3793653369458108,
          0.6065077500095933,
          -0.763188427541439,
          2.170705302187318,
          -0.8878237136360704,
          0.30600965400701974,
          -1.0163183411750913,
          1.0624991809215645,
          -0.4412390260445293,
          0.3651556864264858,
          -1.486978745096095,
          1.664516514200354,
          1.1997710720009844,
          -2.0555831792245747,
          0.9235026440401792,
          0.07848950119542743,
          1.3431294743521662,
          3.2765097706920816,
          -0.4934295310273326,
          0.990094748628564,
          2.0134383679368852,
          -2.287636557492431,
          0.8224077368953896,
          -0.3560884397513596,
          -1.744011177010594,
          -0.034766326276481054,
          -0.7374693628800136,
          -1.140617878297122,
          -0.28734548744461696,
          0.5667681473808669,
          -0.9520658721364366,
          0.9596448650717668,
          0.3919613373221554,
          -0.9680655332483575,
          0.42334251965705855,
          1.772520654229283,
          0.650698170834495,
          -1.1317667464189085,
          -1.8459395957855504,
          0.8062363265030782,
          0.3147212847950096,
          -1.057789454250701,
          -0.29795494761001645,
          0.789773725362857,
          1.083507179451289,
          -1.9468646653134738,
          -0.21824193932452937,
          0.4675002253006263,
          1.605648784272931,
          -0.8821948592590849,
          -1.0917912230779365,
          0.06719803818297368,
          0.770564006511959,
          1.3408187755846943,
          1.7074842570992093,
          1.5703817547245793,
          0.29386034266401145,
          -0.06716747238653473,
          0.9434032958517293,
          -0.04607609878312643,
          -1.5422232108086,
          -0.7792537895554505,
          -0.3687631447341126,
          -0.09668785472371995,
          1.067454982834531,
          0.08877790370553766,
          1.0971434149579615
         ],
         "yaxis": "y4"
        },
        {
         "line": {
          "color": "rgba(128, 128, 128, 1.0)",
          "dash": "solid",
          "shape": "linear",
          "width": 1.3
         },
         "marker": {
          "size": 2,
          "symbol": "circle"
         },
         "mode": "markers",
         "name": "B",
         "text": "",
         "type": "scatter",
         "x": [
          -1.4863073708975698,
          -2.1850824021195616,
          -2.960827272545752,
          0.638069862685476,
          0.21377793975387355,
          -0.8154978341789988,
          -1.5739883105017602,
          0.4318822775286287,
          -1.3265888287929182,
          1.259183517429503,
          -0.017407080654257518,
          -0.10281927824957425,
          0.05337750178968702,
          -0.6292896610597629,
          0.38616052190444494,
          -0.22605631512131022,
          -0.09853750276821739,
          -1.1066396351534582,
          0.9114796019739642,
          0.29518110596127883,
          0.5965871078261196,
          -0.6190242134296731,
          -0.9294887399068007,
          0.24055976556184552,
          0.05308689523824642,
          -0.32226287593468833,
          1.063935624998341,
          -0.5072921436705043,
          -1.5377735821424616,
          -0.685396102123712,
          -2.605179870972897,
          -0.014336078140034441,
          0.13052624885473935,
          -0.3793653369458108,
          0.6065077500095933,
          -0.763188427541439,
          2.170705302187318,
          -0.8878237136360704,
          0.30600965400701974,
          -1.0163183411750913,
          1.0624991809215645,
          -0.4412390260445293,
          0.3651556864264858,
          -1.486978745096095,
          1.664516514200354,
          1.1997710720009844,
          -2.0555831792245747,
          0.9235026440401792,
          0.07848950119542743,
          1.3431294743521662,
          3.2765097706920816,
          -0.4934295310273326,
          0.990094748628564,
          2.0134383679368852,
          -2.287636557492431,
          0.8224077368953896,
          -0.3560884397513596,
          -1.744011177010594,
          -0.034766326276481054,
          -0.7374693628800136,
          -1.140617878297122,
          -0.28734548744461696,
          0.5667681473808669,
          -0.9520658721364366,
          0.9596448650717668,
          0.3919613373221554,
          -0.9680655332483575,
          0.42334251965705855,
          1.772520654229283,
          0.650698170834495,
          -1.1317667464189085,
          -1.8459395957855504,
          0.8062363265030782,
          0.3147212847950096,
          -1.057789454250701,
          -0.29795494761001645,
          0.789773725362857,
          1.083507179451289,
          -1.9468646653134738,
          -0.21824193932452937,
          0.4675002253006263,
          1.605648784272931,
          -0.8821948592590849,
          -1.0917912230779365,
          0.06719803818297368,
          0.770564006511959,
          1.3408187755846943,
          1.7074842570992093,
          1.5703817547245793,
          0.29386034266401145,
          -0.06716747238653473,
          0.9434032958517293,
          -0.04607609878312643,
          -1.5422232108086,
          -0.7792537895554505,
          -0.3687631447341126,
          -0.09668785472371995,
          1.067454982834531,
          0.08877790370553766,
          1.0971434149579615
         ],
         "xaxis": "x5",
         "y": [
          0.991862700951286,
          0.24950253065649877,
          0.3950093976649536,
          0.6188708512930853,
          -0.7747954695629024,
          -0.6999267092916548,
          0.0767008924504014,
          1.1329314657450371,
          0.6433203381952936,
          1.6131660962513228,
          0.06043736850071907,
          0.8713454604033425,
          -0.18930552552586122,
          0.43833285799875565,
          -0.6995013195151322,
          -1.8064010468855245,
          0.687905900643732,
          1.396414503651976,
          -0.8072414603179552,
          1.0587564990166214,
          -0.3796720805805881,
          -0.3195073545466219,
          -1.3298790867118577,
          0.6457868122925032,
          -0.6441709957256099,
          -0.40827355746977784,
          -0.8355145027336962,
          0.8677656888788933,
          -0.30118120675530397,
          0.4963393424518228,
          1.8997241764226496,
          2.6281040905157247,
          1.4377596195562439,
          -1.8840417497279667,
          -0.4534505483577321,
          -0.6109510793091015,
          0.0151099174140034,
          0.6113033544272953,
          -1.0671475176105258,
          -1.347816683912141,
          0.05455733113361512,
          -0.4739243275402265,
          -0.45829014109480576,
          -0.726852510520777,
          -0.17788606157097492,
          -0.17897625981444226,
          0.685167733415189,
          -1.9724384236155548,
          0.7937847144227674,
          -1.1535059289831828,
          0.5102192179387394,
          0.8606104025042941,
          1.795271491052051,
          0.8545248489559998,
          0.8939539538337453,
          0.9961409783162299,
          -2.212550853061344,
          0.7806743317887066,
          1.1421746771338692,
          0.2881768847509344,
          -0.18142864879455858,
          -1.196135981429346,
          -0.9432708001793368,
          -1.4910858898960022,
          -2.1374718013605234,
          2.2207175524641616,
          0.03019455031206788,
          0.9877754416137221,
          1.044919815072245,
          -0.4359856415997237,
          -2.556134407655902,
          0.8257669498802955,
          -0.49672006283080633,
          -0.5433664670566228,
          -0.40402255151282734,
          -0.9041658119968088,
          0.48220006883816724,
          1.3853556377901446,
          0.6436047187928708,
          0.08846144335836506,
          -0.1682423067605211,
          0.17385203610914976,
          -0.5620543658393782,
          1.1000045334205817,
          0.8449228133014679,
          2.0693586894798575,
          0.556074393022577,
          -0.09675473988838523,
          -1.4876250381532938,
          -0.49795804936956967,
          -2.1141074948250784,
          0.6731424953480482,
          -0.5486912328010581,
          -1.9787097456859963,
          -0.45434678245835275,
          0.5868522472967778,
          0.09853414803666562,
          -0.49452835762931896,
          -2.116011155396429,
          -0.05396114288166204
         ],
         "yaxis": "y5"
        },
        {
         "histfunc": "count",
         "histnorm": "",
         "marker": {
          "color": "rgba(55, 128, 191, 1.0)",
          "line": {
           "color": "#4D5663",
           "width": 1.3
          }
         },
         "name": "B",
         "nbinsx": 10,
         "opacity": 0.8,
         "orientation": "v",
         "type": "histogram",
         "x": [
          0.991862700951286,
          0.24950253065649877,
          0.3950093976649536,
          0.6188708512930853,
          -0.7747954695629024,
          -0.6999267092916548,
          0.0767008924504014,
          1.1329314657450371,
          0.6433203381952936,
          1.6131660962513228,
          0.06043736850071907,
          0.8713454604033425,
          -0.18930552552586122,
          0.43833285799875565,
          -0.6995013195151322,
          -1.8064010468855245,
          0.687905900643732,
          1.396414503651976,
          -0.8072414603179552,
          1.0587564990166214,
          -0.3796720805805881,
          -0.3195073545466219,
          -1.3298790867118577,
          0.6457868122925032,
          -0.6441709957256099,
          -0.40827355746977784,
          -0.8355145027336962,
          0.8677656888788933,
          -0.30118120675530397,
          0.4963393424518228,
          1.8997241764226496,
          2.6281040905157247,
          1.4377596195562439,
          -1.8840417497279667,
          -0.4534505483577321,
          -0.6109510793091015,
          0.0151099174140034,
          0.6113033544272953,
          -1.0671475176105258,
          -1.347816683912141,
          0.05455733113361512,
          -0.4739243275402265,
          -0.45829014109480576,
          -0.726852510520777,
          -0.17788606157097492,
          -0.17897625981444226,
          0.685167733415189,
          -1.9724384236155548,
          0.7937847144227674,
          -1.1535059289831828,
          0.5102192179387394,
          0.8606104025042941,
          1.795271491052051,
          0.8545248489559998,
          0.8939539538337453,
          0.9961409783162299,
          -2.212550853061344,
          0.7806743317887066,
          1.1421746771338692,
          0.2881768847509344,
          -0.18142864879455858,
          -1.196135981429346,
          -0.9432708001793368,
          -1.4910858898960022,
          -2.1374718013605234,
          2.2207175524641616,
          0.03019455031206788,
          0.9877754416137221,
          1.044919815072245,
          -0.4359856415997237,
          -2.556134407655902,
          0.8257669498802955,
          -0.49672006283080633,
          -0.5433664670566228,
          -0.40402255151282734,
          -0.9041658119968088,
          0.48220006883816724,
          1.3853556377901446,
          0.6436047187928708,
          0.08846144335836506,
          -0.1682423067605211,
          0.17385203610914976,
          -0.5620543658393782,
          1.1000045334205817,
          0.8449228133014679,
          2.0693586894798575,
          0.556074393022577,
          -0.09675473988838523,
          -1.4876250381532938,
          -0.49795804936956967,
          -2.1141074948250784,
          0.6731424953480482,
          -0.5486912328010581,
          -1.9787097456859963,
          -0.45434678245835275,
          0.5868522472967778,
          0.09853414803666562,
          -0.49452835762931896,
          -2.116011155396429,
          -0.05396114288166204
         ],
         "xaxis": "x6",
         "yaxis": "y6"
        },
        {
         "line": {
          "color": "rgba(128, 128, 128, 1.0)",
          "dash": "solid",
          "shape": "linear",
          "width": 1.3
         },
         "marker": {
          "size": 2,
          "symbol": "circle"
         },
         "mode": "markers",
         "name": "B",
         "text": "",
         "type": "scatter",
         "x": [
          -0.3753741788856934,
          0.5679662611009498,
          0.4677313122351522,
          1.711581076417976,
          -0.23277048837939648,
          -1.3267012027130738,
          0.3739434057450148,
          -2.643571540323504,
          -1.145880614666761,
          1.1928955037375057,
          1.9863941652632737,
          0.573430062744424,
          0.8156376623031294,
          -0.2572022843431144,
          0.9042432883188274,
          0.3715434829837976,
          -2.0834161164323506,
          1.5953862925501323,
          -0.2238261581980897,
          -0.1216764324691142,
          0.2736288663987507,
          1.4356667621173613,
          -2.1949481488151847,
          -1.3236141120670448,
          -1.0735945971051435,
          -1.3663346326509864,
          -0.0185940426044395,
          1.8902953555195336,
          0.567126228448343,
          -0.5789037243795288,
          -0.5755340178660493,
          1.0550316165963012,
          1.0441029808292899,
          -0.11420736861863401,
          0.12524239868540765,
          2.3400605491663047,
          -0.5782934311304733,
          0.2108310203970129,
          0.4039331862171811,
          0.44360322247555956,
          -0.12085742117129346,
          -0.8439468871075504,
          -1.158756996162908,
          0.15430035399347133,
          -0.06386858016005441,
          -0.5074262422549175,
          0.11555993742750822,
          -0.5577283425727401,
          -0.47789084485793143,
          -1.6403711405172237,
          0.4827664013390895,
          1.8028155547633575,
          1.4001098054136305,
          0.3267302345742465,
          -0.4848670587721663,
          0.09227216079736342,
          0.07123892931472044,
          1.3481163362612534,
          1.0169867096972263,
          0.6170681768119419,
          0.22108609767698298,
          -0.7842927767017362,
          -1.915537043065621,
          0.328018803408384,
          -1.7278938381029623,
          0.43078382443629565,
          2.0481051229562257,
          -0.7956971542699457,
          0.5020823215935366,
          0.6949890081830239,
          0.5338802549188443,
          1.4392317783792197,
          -0.11039014255304978,
          0.8618715191435556,
          -1.2896289383655481,
          -0.02281907828284579,
          -1.3135449694462873,
          -0.4717030103235045,
          -0.8160617409124374,
          -1.1280099487793187,
          -1.6670501450748478,
          0.7607906281945472,
          0.2796867560346704,
          0.017180080705273514,
          -0.0949567224231892,
          0.00634285875947798,
          0.3046419492352927,
          -1.014498313219501,
          0.30306332735540786,
          1.0227713330043546,
          -0.0836722027615909,
          -0.12612606064856932,
          1.4807005920373766,
          -1.065714626827212,
          0.9040155977160081,
          1.4766809212757679,
          -0.5668708254940893,
          -1.5662672710340224,
          -1.5263870398107666,
          -0.2590630334259091
         ],
         "xaxis": "x7",
         "y": [
          0.991862700951286,
          0.24950253065649877,
          0.3950093976649536,
          0.6188708512930853,
          -0.7747954695629024,
          -0.6999267092916548,
          0.0767008924504014,
          1.1329314657450371,
          0.6433203381952936,
          1.6131660962513228,
          0.06043736850071907,
          0.8713454604033425,
          -0.18930552552586122,
          0.43833285799875565,
          -0.6995013195151322,
          -1.8064010468855245,
          0.687905900643732,
          1.396414503651976,
          -0.8072414603179552,
          1.0587564990166214,
          -0.3796720805805881,
          -0.3195073545466219,
          -1.3298790867118577,
          0.6457868122925032,
          -0.6441709957256099,
          -0.40827355746977784,
          -0.8355145027336962,
          0.8677656888788933,
          -0.30118120675530397,
          0.4963393424518228,
          1.8997241764226496,
          2.6281040905157247,
          1.4377596195562439,
          -1.8840417497279667,
          -0.4534505483577321,
          -0.6109510793091015,
          0.0151099174140034,
          0.6113033544272953,
          -1.0671475176105258,
          -1.347816683912141,
          0.05455733113361512,
          -0.4739243275402265,
          -0.45829014109480576,
          -0.726852510520777,
          -0.17788606157097492,
          -0.17897625981444226,
          0.685167733415189,
          -1.9724384236155548,
          0.7937847144227674,
          -1.1535059289831828,
          0.5102192179387394,
          0.8606104025042941,
          1.795271491052051,
          0.8545248489559998,
          0.8939539538337453,
          0.9961409783162299,
          -2.212550853061344,
          0.7806743317887066,
          1.1421746771338692,
          0.2881768847509344,
          -0.18142864879455858,
          -1.196135981429346,
          -0.9432708001793368,
          -1.4910858898960022,
          -2.1374718013605234,
          2.2207175524641616,
          0.03019455031206788,
          0.9877754416137221,
          1.044919815072245,
          -0.4359856415997237,
          -2.556134407655902,
          0.8257669498802955,
          -0.49672006283080633,
          -0.5433664670566228,
          -0.40402255151282734,
          -0.9041658119968088,
          0.48220006883816724,
          1.3853556377901446,
          0.6436047187928708,
          0.08846144335836506,
          -0.1682423067605211,
          0.17385203610914976,
          -0.5620543658393782,
          1.1000045334205817,
          0.8449228133014679,
          2.0693586894798575,
          0.556074393022577,
          -0.09675473988838523,
          -1.4876250381532938,
          -0.49795804936956967,
          -2.1141074948250784,
          0.6731424953480482,
          -0.5486912328010581,
          -1.9787097456859963,
          -0.45434678245835275,
          0.5868522472967778,
          0.09853414803666562,
          -0.49452835762931896,
          -2.116011155396429,
          -0.05396114288166204
         ],
         "yaxis": "y7"
        },
        {
         "line": {
          "color": "rgba(128, 128, 128, 1.0)",
          "dash": "solid",
          "shape": "linear",
          "width": 1.3
         },
         "marker": {
          "size": 2,
          "symbol": "circle"
         },
         "mode": "markers",
         "name": "B",
         "text": "",
         "type": "scatter",
         "x": [
          2.0436691209421562,
          0.1824761840116358,
          0.5700043679018382,
          -0.22935727746462556,
          0.7569207059020728,
          -0.14317016618902656,
          0.21129156018164277,
          -0.2616089926871364,
          1.4495406157464286,
          -0.9342860392352873,
          -0.09084447475739998,
          -1.565429635024042,
          -1.5406840105456636,
          -0.8559537704229165,
          -1.1114922404496523,
          0.5063532674496958,
          1.3487191387605066,
          1.956255565670463,
          1.8183720503917729,
          0.5786629868706473,
          -0.3604354290108231,
          0.2873145928066404,
          0.19750155695426078,
          -0.8480331396213573,
          0.417599115069566,
          1.8968061348373466,
          -0.8637792682058373,
          1.6257780581247228,
          -0.8623822878043705,
          0.4556310697362648,
          0.8648090566042301,
          0.7313030024535564,
          2.2412089911543616,
          0.47922271969325386,
          -2.2685243013314262,
          0.04906054663673767,
          -1.498944857376424,
          0.35060996571349773,
          -1.8836306877745341,
          -0.3262599784002874,
          -0.3782286761037799,
          -0.29946333506931067,
          0.7508740231319113,
          1.207476743985673,
          -0.7908941475885819,
          1.3645664408744624,
          -0.3369882440756289,
          0.31576705904068125,
          -0.7581710392004785,
          1.1629083090850254,
          0.349307505649559,
          0.5313594705841929,
          1.1053965751515706,
          -0.46012799965221596,
          1.9386489652387204,
          -0.6788483704507831,
          -2.1840554947861524,
          1.0198006550241243,
          0.31529091115930113,
          0.2241061424559845,
          -1.4119249854812994,
          0.67559656553888,
          -0.4316193782730557,
          -1.4418982123850834,
          -1.2244517549484644,
          -0.156905996972589,
          -0.7081191788451137,
          0.3311222601330798,
          -1.271135923083071,
          -1.6406037783928384,
          -0.7155308476950346,
          0.07123578116279788,
          -0.09593250888678026,
          -3.21697202555598,
          1.578719906595705,
          0.19945974802986063,
          0.7614590083524786,
          0.947436823350358,
          -0.15283764572543185,
          -0.746368577035718,
          -0.4578868834298999,
          0.7806486628818033,
          2.0089091630328966,
          -0.3005203339251017,
          0.41302694814666885,
          -0.4216556948739281,
          0.8077852759929154,
          0.6787555776336831,
          -0.6424320413366892,
          1.0769566754877857,
          0.9454046718505152,
          -0.416183530686335,
          0.7665667379007157,
          0.9349341829591532,
          0.33304764522565167,
          -1.0951765638605833,
          1.7175885746816932,
          2.0570025387997637,
          -1.5297582991982859,
          -0.42968195284927535
         ],
         "xaxis": "x8",
         "y": [
          0.991862700951286,
          0.24950253065649877,
          0.3950093976649536,
          0.6188708512930853,
          -0.7747954695629024,
          -0.6999267092916548,
          0.0767008924504014,
          1.1329314657450371,
          0.6433203381952936,
          1.6131660962513228,
          0.06043736850071907,
          0.8713454604033425,
          -0.18930552552586122,
          0.43833285799875565,
          -0.6995013195151322,
          -1.8064010468855245,
          0.687905900643732,
          1.396414503651976,
          -0.8072414603179552,
          1.0587564990166214,
          -0.3796720805805881,
          -0.3195073545466219,
          -1.3298790867118577,
          0.6457868122925032,
          -0.6441709957256099,
          -0.40827355746977784,
          -0.8355145027336962,
          0.8677656888788933,
          -0.30118120675530397,
          0.4963393424518228,
          1.8997241764226496,
          2.6281040905157247,
          1.4377596195562439,
          -1.8840417497279667,
          -0.4534505483577321,
          -0.6109510793091015,
          0.0151099174140034,
          0.6113033544272953,
          -1.0671475176105258,
          -1.347816683912141,
          0.05455733113361512,
          -0.4739243275402265,
          -0.45829014109480576,
          -0.726852510520777,
          -0.17788606157097492,
          -0.17897625981444226,
          0.685167733415189,
          -1.9724384236155548,
          0.7937847144227674,
          -1.1535059289831828,
          0.5102192179387394,
          0.8606104025042941,
          1.795271491052051,
          0.8545248489559998,
          0.8939539538337453,
          0.9961409783162299,
          -2.212550853061344,
          0.7806743317887066,
          1.1421746771338692,
          0.2881768847509344,
          -0.18142864879455858,
          -1.196135981429346,
          -0.9432708001793368,
          -1.4910858898960022,
          -2.1374718013605234,
          2.2207175524641616,
          0.03019455031206788,
          0.9877754416137221,
          1.044919815072245,
          -0.4359856415997237,
          -2.556134407655902,
          0.8257669498802955,
          -0.49672006283080633,
          -0.5433664670566228,
          -0.40402255151282734,
          -0.9041658119968088,
          0.48220006883816724,
          1.3853556377901446,
          0.6436047187928708,
          0.08846144335836506,
          -0.1682423067605211,
          0.17385203610914976,
          -0.5620543658393782,
          1.1000045334205817,
          0.8449228133014679,
          2.0693586894798575,
          0.556074393022577,
          -0.09675473988838523,
          -1.4876250381532938,
          -0.49795804936956967,
          -2.1141074948250784,
          0.6731424953480482,
          -0.5486912328010581,
          -1.9787097456859963,
          -0.45434678245835275,
          0.5868522472967778,
          0.09853414803666562,
          -0.49452835762931896,
          -2.116011155396429,
          -0.05396114288166204
         ],
         "yaxis": "y8"
        },
        {
         "line": {
          "color": "rgba(128, 128, 128, 1.0)",
          "dash": "solid",
          "shape": "linear",
          "width": 1.3
         },
         "marker": {
          "size": 2,
          "symbol": "circle"
         },
         "mode": "markers",
         "name": "C",
         "text": "",
         "type": "scatter",
         "x": [
          -1.4863073708975698,
          -2.1850824021195616,
          -2.960827272545752,
          0.638069862685476,
          0.21377793975387355,
          -0.8154978341789988,
          -1.5739883105017602,
          0.4318822775286287,
          -1.3265888287929182,
          1.259183517429503,
          -0.017407080654257518,
          -0.10281927824957425,
          0.05337750178968702,
          -0.6292896610597629,
          0.38616052190444494,
          -0.22605631512131022,
          -0.09853750276821739,
          -1.1066396351534582,
          0.9114796019739642,
          0.29518110596127883,
          0.5965871078261196,
          -0.6190242134296731,
          -0.9294887399068007,
          0.24055976556184552,
          0.05308689523824642,
          -0.32226287593468833,
          1.063935624998341,
          -0.5072921436705043,
          -1.5377735821424616,
          -0.685396102123712,
          -2.605179870972897,
          -0.014336078140034441,
          0.13052624885473935,
          -0.3793653369458108,
          0.6065077500095933,
          -0.763188427541439,
          2.170705302187318,
          -0.8878237136360704,
          0.30600965400701974,
          -1.0163183411750913,
          1.0624991809215645,
          -0.4412390260445293,
          0.3651556864264858,
          -1.486978745096095,
          1.664516514200354,
          1.1997710720009844,
          -2.0555831792245747,
          0.9235026440401792,
          0.07848950119542743,
          1.3431294743521662,
          3.2765097706920816,
          -0.4934295310273326,
          0.990094748628564,
          2.0134383679368852,
          -2.287636557492431,
          0.8224077368953896,
          -0.3560884397513596,
          -1.744011177010594,
          -0.034766326276481054,
          -0.7374693628800136,
          -1.140617878297122,
          -0.28734548744461696,
          0.5667681473808669,
          -0.9520658721364366,
          0.9596448650717668,
          0.3919613373221554,
          -0.9680655332483575,
          0.42334251965705855,
          1.772520654229283,
          0.650698170834495,
          -1.1317667464189085,
          -1.8459395957855504,
          0.8062363265030782,
          0.3147212847950096,
          -1.057789454250701,
          -0.29795494761001645,
          0.789773725362857,
          1.083507179451289,
          -1.9468646653134738,
          -0.21824193932452937,
          0.4675002253006263,
          1.605648784272931,
          -0.8821948592590849,
          -1.0917912230779365,
          0.06719803818297368,
          0.770564006511959,
          1.3408187755846943,
          1.7074842570992093,
          1.5703817547245793,
          0.29386034266401145,
          -0.06716747238653473,
          0.9434032958517293,
          -0.04607609878312643,
          -1.5422232108086,
          -0.7792537895554505,
          -0.3687631447341126,
          -0.09668785472371995,
          1.067454982834531,
          0.08877790370553766,
          1.0971434149579615
         ],
         "xaxis": "x9",
         "y": [
          -0.3753741788856934,
          0.5679662611009498,
          0.4677313122351522,
          1.711581076417976,
          -0.23277048837939648,
          -1.3267012027130738,
          0.3739434057450148,
          -2.643571540323504,
          -1.145880614666761,
          1.1928955037375057,
          1.9863941652632737,
          0.573430062744424,
          0.8156376623031294,
          -0.2572022843431144,
          0.9042432883188274,
          0.3715434829837976,
          -2.0834161164323506,
          1.5953862925501323,
          -0.2238261581980897,
          -0.1216764324691142,
          0.2736288663987507,
          1.4356667621173613,
          -2.1949481488151847,
          -1.3236141120670448,
          -1.0735945971051435,
          -1.3663346326509864,
          -0.0185940426044395,
          1.8902953555195336,
          0.567126228448343,
          -0.5789037243795288,
          -0.5755340178660493,
          1.0550316165963012,
          1.0441029808292899,
          -0.11420736861863401,
          0.12524239868540765,
          2.3400605491663047,
          -0.5782934311304733,
          0.2108310203970129,
          0.4039331862171811,
          0.44360322247555956,
          -0.12085742117129346,
          -0.8439468871075504,
          -1.158756996162908,
          0.15430035399347133,
          -0.06386858016005441,
          -0.5074262422549175,
          0.11555993742750822,
          -0.5577283425727401,
          -0.47789084485793143,
          -1.6403711405172237,
          0.4827664013390895,
          1.8028155547633575,
          1.4001098054136305,
          0.3267302345742465,
          -0.4848670587721663,
          0.09227216079736342,
          0.07123892931472044,
          1.3481163362612534,
          1.0169867096972263,
          0.6170681768119419,
          0.22108609767698298,
          -0.7842927767017362,
          -1.915537043065621,
          0.328018803408384,
          -1.7278938381029623,
          0.43078382443629565,
          2.0481051229562257,
          -0.7956971542699457,
          0.5020823215935366,
          0.6949890081830239,
          0.5338802549188443,
          1.4392317783792197,
          -0.11039014255304978,
          0.8618715191435556,
          -1.2896289383655481,
          -0.02281907828284579,
          -1.3135449694462873,
          -0.4717030103235045,
          -0.8160617409124374,
          -1.1280099487793187,
          -1.6670501450748478,
          0.7607906281945472,
          0.2796867560346704,
          0.017180080705273514,
          -0.0949567224231892,
          0.00634285875947798,
          0.3046419492352927,
          -1.014498313219501,
          0.30306332735540786,
          1.0227713330043546,
          -0.0836722027615909,
          -0.12612606064856932,
          1.4807005920373766,
          -1.065714626827212,
          0.9040155977160081,
          1.4766809212757679,
          -0.5668708254940893,
          -1.5662672710340224,
          -1.5263870398107666,
          -0.2590630334259091
         ],
         "yaxis": "y9"
        },
        {
         "line": {
          "color": "rgba(128, 128, 128, 1.0)",
          "dash": "solid",
          "shape": "linear",
          "width": 1.3
         },
         "marker": {
          "size": 2,
          "symbol": "circle"
         },
         "mode": "markers",
         "name": "C",
         "text": "",
         "type": "scatter",
         "x": [
          0.991862700951286,
          0.24950253065649877,
          0.3950093976649536,
          0.6188708512930853,
          -0.7747954695629024,
          -0.6999267092916548,
          0.0767008924504014,
          1.1329314657450371,
          0.6433203381952936,
          1.6131660962513228,
          0.06043736850071907,
          0.8713454604033425,
          -0.18930552552586122,
          0.43833285799875565,
          -0.6995013195151322,
          -1.8064010468855245,
          0.687905900643732,
          1.396414503651976,
          -0.8072414603179552,
          1.0587564990166214,
          -0.3796720805805881,
          -0.3195073545466219,
          -1.3298790867118577,
          0.6457868122925032,
          -0.6441709957256099,
          -0.40827355746977784,
          -0.8355145027336962,
          0.8677656888788933,
          -0.30118120675530397,
          0.4963393424518228,
          1.8997241764226496,
          2.6281040905157247,
          1.4377596195562439,
          -1.8840417497279667,
          -0.4534505483577321,
          -0.6109510793091015,
          0.0151099174140034,
          0.6113033544272953,
          -1.0671475176105258,
          -1.347816683912141,
          0.05455733113361512,
          -0.4739243275402265,
          -0.45829014109480576,
          -0.726852510520777,
          -0.17788606157097492,
          -0.17897625981444226,
          0.685167733415189,
          -1.9724384236155548,
          0.7937847144227674,
          -1.1535059289831828,
          0.5102192179387394,
          0.8606104025042941,
          1.795271491052051,
          0.8545248489559998,
          0.8939539538337453,
          0.9961409783162299,
          -2.212550853061344,
          0.7806743317887066,
          1.1421746771338692,
          0.2881768847509344,
          -0.18142864879455858,
          -1.196135981429346,
          -0.9432708001793368,
          -1.4910858898960022,
          -2.1374718013605234,
          2.2207175524641616,
          0.03019455031206788,
          0.9877754416137221,
          1.044919815072245,
          -0.4359856415997237,
          -2.556134407655902,
          0.8257669498802955,
          -0.49672006283080633,
          -0.5433664670566228,
          -0.40402255151282734,
          -0.9041658119968088,
          0.48220006883816724,
          1.3853556377901446,
          0.6436047187928708,
          0.08846144335836506,
          -0.1682423067605211,
          0.17385203610914976,
          -0.5620543658393782,
          1.1000045334205817,
          0.8449228133014679,
          2.0693586894798575,
          0.556074393022577,
          -0.09675473988838523,
          -1.4876250381532938,
          -0.49795804936956967,
          -2.1141074948250784,
          0.6731424953480482,
          -0.5486912328010581,
          -1.9787097456859963,
          -0.45434678245835275,
          0.5868522472967778,
          0.09853414803666562,
          -0.49452835762931896,
          -2.116011155396429,
          -0.05396114288166204
         ],
         "xaxis": "x10",
         "y": [
          -0.3753741788856934,
          0.5679662611009498,
          0.4677313122351522,
          1.711581076417976,
          -0.23277048837939648,
          -1.3267012027130738,
          0.3739434057450148,
          -2.643571540323504,
          -1.145880614666761,
          1.1928955037375057,
          1.9863941652632737,
          0.573430062744424,
          0.8156376623031294,
          -0.2572022843431144,
          0.9042432883188274,
          0.3715434829837976,
          -2.0834161164323506,
          1.5953862925501323,
          -0.2238261581980897,
          -0.1216764324691142,
          0.2736288663987507,
          1.4356667621173613,
          -2.1949481488151847,
          -1.3236141120670448,
          -1.0735945971051435,
          -1.3663346326509864,
          -0.0185940426044395,
          1.8902953555195336,
          0.567126228448343,
          -0.5789037243795288,
          -0.5755340178660493,
          1.0550316165963012,
          1.0441029808292899,
          -0.11420736861863401,
          0.12524239868540765,
          2.3400605491663047,
          -0.5782934311304733,
          0.2108310203970129,
          0.4039331862171811,
          0.44360322247555956,
          -0.12085742117129346,
          -0.8439468871075504,
          -1.158756996162908,
          0.15430035399347133,
          -0.06386858016005441,
          -0.5074262422549175,
          0.11555993742750822,
          -0.5577283425727401,
          -0.47789084485793143,
          -1.6403711405172237,
          0.4827664013390895,
          1.8028155547633575,
          1.4001098054136305,
          0.3267302345742465,
          -0.4848670587721663,
          0.09227216079736342,
          0.07123892931472044,
          1.3481163362612534,
          1.0169867096972263,
          0.6170681768119419,
          0.22108609767698298,
          -0.7842927767017362,
          -1.915537043065621,
          0.328018803408384,
          -1.7278938381029623,
          0.43078382443629565,
          2.0481051229562257,
          -0.7956971542699457,
          0.5020823215935366,
          0.6949890081830239,
          0.5338802549188443,
          1.4392317783792197,
          -0.11039014255304978,
          0.8618715191435556,
          -1.2896289383655481,
          -0.02281907828284579,
          -1.3135449694462873,
          -0.4717030103235045,
          -0.8160617409124374,
          -1.1280099487793187,
          -1.6670501450748478,
          0.7607906281945472,
          0.2796867560346704,
          0.017180080705273514,
          -0.0949567224231892,
          0.00634285875947798,
          0.3046419492352927,
          -1.014498313219501,
          0.30306332735540786,
          1.0227713330043546,
          -0.0836722027615909,
          -0.12612606064856932,
          1.4807005920373766,
          -1.065714626827212,
          0.9040155977160081,
          1.4766809212757679,
          -0.5668708254940893,
          -1.5662672710340224,
          -1.5263870398107666,
          -0.2590630334259091
         ],
         "yaxis": "y10"
        },
        {
         "histfunc": "count",
         "histnorm": "",
         "marker": {
          "color": "rgba(50, 171, 96, 1.0)",
          "line": {
           "color": "#4D5663",
           "width": 1.3
          }
         },
         "name": "C",
         "nbinsx": 10,
         "opacity": 0.8,
         "orientation": "v",
         "type": "histogram",
         "x": [
          -0.3753741788856934,
          0.5679662611009498,
          0.4677313122351522,
          1.711581076417976,
          -0.23277048837939648,
          -1.3267012027130738,
          0.3739434057450148,
          -2.643571540323504,
          -1.145880614666761,
          1.1928955037375057,
          1.9863941652632737,
          0.573430062744424,
          0.8156376623031294,
          -0.2572022843431144,
          0.9042432883188274,
          0.3715434829837976,
          -2.0834161164323506,
          1.5953862925501323,
          -0.2238261581980897,
          -0.1216764324691142,
          0.2736288663987507,
          1.4356667621173613,
          -2.1949481488151847,
          -1.3236141120670448,
          -1.0735945971051435,
          -1.3663346326509864,
          -0.0185940426044395,
          1.8902953555195336,
          0.567126228448343,
          -0.5789037243795288,
          -0.5755340178660493,
          1.0550316165963012,
          1.0441029808292899,
          -0.11420736861863401,
          0.12524239868540765,
          2.3400605491663047,
          -0.5782934311304733,
          0.2108310203970129,
          0.4039331862171811,
          0.44360322247555956,
          -0.12085742117129346,
          -0.8439468871075504,
          -1.158756996162908,
          0.15430035399347133,
          -0.06386858016005441,
          -0.5074262422549175,
          0.11555993742750822,
          -0.5577283425727401,
          -0.47789084485793143,
          -1.6403711405172237,
          0.4827664013390895,
          1.8028155547633575,
          1.4001098054136305,
          0.3267302345742465,
          -0.4848670587721663,
          0.09227216079736342,
          0.07123892931472044,
          1.3481163362612534,
          1.0169867096972263,
          0.6170681768119419,
          0.22108609767698298,
          -0.7842927767017362,
          -1.915537043065621,
          0.328018803408384,
          -1.7278938381029623,
          0.43078382443629565,
          2.0481051229562257,
          -0.7956971542699457,
          0.5020823215935366,
          0.6949890081830239,
          0.5338802549188443,
          1.4392317783792197,
          -0.11039014255304978,
          0.8618715191435556,
          -1.2896289383655481,
          -0.02281907828284579,
          -1.3135449694462873,
          -0.4717030103235045,
          -0.8160617409124374,
          -1.1280099487793187,
          -1.6670501450748478,
          0.7607906281945472,
          0.2796867560346704,
          0.017180080705273514,
          -0.0949567224231892,
          0.00634285875947798,
          0.3046419492352927,
          -1.014498313219501,
          0.30306332735540786,
          1.0227713330043546,
          -0.0836722027615909,
          -0.12612606064856932,
          1.4807005920373766,
          -1.065714626827212,
          0.9040155977160081,
          1.4766809212757679,
          -0.5668708254940893,
          -1.5662672710340224,
          -1.5263870398107666,
          -0.2590630334259091
         ],
         "xaxis": "x11",
         "yaxis": "y11"
        },
        {
         "line": {
          "color": "rgba(128, 128, 128, 1.0)",
          "dash": "solid",
          "shape": "linear",
          "width": 1.3
         },
         "marker": {
          "size": 2,
          "symbol": "circle"
         },
         "mode": "markers",
         "name": "C",
         "text": "",
         "type": "scatter",
         "x": [
          2.0436691209421562,
          0.1824761840116358,
          0.5700043679018382,
          -0.22935727746462556,
          0.7569207059020728,
          -0.14317016618902656,
          0.21129156018164277,
          -0.2616089926871364,
          1.4495406157464286,
          -0.9342860392352873,
          -0.09084447475739998,
          -1.565429635024042,
          -1.5406840105456636,
          -0.8559537704229165,
          -1.1114922404496523,
          0.5063532674496958,
          1.3487191387605066,
          1.956255565670463,
          1.8183720503917729,
          0.5786629868706473,
          -0.3604354290108231,
          0.2873145928066404,
          0.19750155695426078,
          -0.8480331396213573,
          0.417599115069566,
          1.8968061348373466,
          -0.8637792682058373,
          1.6257780581247228,
          -0.8623822878043705,
          0.4556310697362648,
          0.8648090566042301,
          0.7313030024535564,
          2.2412089911543616,
          0.47922271969325386,
          -2.2685243013314262,
          0.04906054663673767,
          -1.498944857376424,
          0.35060996571349773,
          -1.8836306877745341,
          -0.3262599784002874,
          -0.3782286761037799,
          -0.29946333506931067,
          0.7508740231319113,
          1.207476743985673,
          -0.7908941475885819,
          1.3645664408744624,
          -0.3369882440756289,
          0.31576705904068125,
          -0.7581710392004785,
          1.1629083090850254,
          0.349307505649559,
          0.5313594705841929,
          1.1053965751515706,
          -0.46012799965221596,
          1.9386489652387204,
          -0.6788483704507831,
          -2.1840554947861524,
          1.0198006550241243,
          0.31529091115930113,
          0.2241061424559845,
          -1.4119249854812994,
          0.67559656553888,
          -0.4316193782730557,
          -1.4418982123850834,
          -1.2244517549484644,
          -0.156905996972589,
          -0.7081191788451137,
          0.3311222601330798,
          -1.271135923083071,
          -1.6406037783928384,
          -0.7155308476950346,
          0.07123578116279788,
          -0.09593250888678026,
          -3.21697202555598,
          1.578719906595705,
          0.19945974802986063,
          0.7614590083524786,
          0.947436823350358,
          -0.15283764572543185,
          -0.746368577035718,
          -0.4578868834298999,
          0.7806486628818033,
          2.0089091630328966,
          -0.3005203339251017,
          0.41302694814666885,
          -0.4216556948739281,
          0.8077852759929154,
          0.6787555776336831,
          -0.6424320413366892,
          1.0769566754877857,
          0.9454046718505152,
          -0.416183530686335,
          0.7665667379007157,
          0.9349341829591532,
          0.33304764522565167,
          -1.0951765638605833,
          1.7175885746816932,
          2.0570025387997637,
          -1.5297582991982859,
          -0.42968195284927535
         ],
         "xaxis": "x12",
         "y": [
          -0.3753741788856934,
          0.5679662611009498,
          0.4677313122351522,
          1.711581076417976,
          -0.23277048837939648,
          -1.3267012027130738,
          0.3739434057450148,
          -2.643571540323504,
          -1.145880614666761,
          1.1928955037375057,
          1.9863941652632737,
          0.573430062744424,
          0.8156376623031294,
          -0.2572022843431144,
          0.9042432883188274,
          0.3715434829837976,
          -2.0834161164323506,
          1.5953862925501323,
          -0.2238261581980897,
          -0.1216764324691142,
          0.2736288663987507,
          1.4356667621173613,
          -2.1949481488151847,
          -1.3236141120670448,
          -1.0735945971051435,
          -1.3663346326509864,
          -0.0185940426044395,
          1.8902953555195336,
          0.567126228448343,
          -0.5789037243795288,
          -0.5755340178660493,
          1.0550316165963012,
          1.0441029808292899,
          -0.11420736861863401,
          0.12524239868540765,
          2.3400605491663047,
          -0.5782934311304733,
          0.2108310203970129,
          0.4039331862171811,
          0.44360322247555956,
          -0.12085742117129346,
          -0.8439468871075504,
          -1.158756996162908,
          0.15430035399347133,
          -0.06386858016005441,
          -0.5074262422549175,
          0.11555993742750822,
          -0.5577283425727401,
          -0.47789084485793143,
          -1.6403711405172237,
          0.4827664013390895,
          1.8028155547633575,
          1.4001098054136305,
          0.3267302345742465,
          -0.4848670587721663,
          0.09227216079736342,
          0.07123892931472044,
          1.3481163362612534,
          1.0169867096972263,
          0.6170681768119419,
          0.22108609767698298,
          -0.7842927767017362,
          -1.915537043065621,
          0.328018803408384,
          -1.7278938381029623,
          0.43078382443629565,
          2.0481051229562257,
          -0.7956971542699457,
          0.5020823215935366,
          0.6949890081830239,
          0.5338802549188443,
          1.4392317783792197,
          -0.11039014255304978,
          0.8618715191435556,
          -1.2896289383655481,
          -0.02281907828284579,
          -1.3135449694462873,
          -0.4717030103235045,
          -0.8160617409124374,
          -1.1280099487793187,
          -1.6670501450748478,
          0.7607906281945472,
          0.2796867560346704,
          0.017180080705273514,
          -0.0949567224231892,
          0.00634285875947798,
          0.3046419492352927,
          -1.014498313219501,
          0.30306332735540786,
          1.0227713330043546,
          -0.0836722027615909,
          -0.12612606064856932,
          1.4807005920373766,
          -1.065714626827212,
          0.9040155977160081,
          1.4766809212757679,
          -0.5668708254940893,
          -1.5662672710340224,
          -1.5263870398107666,
          -0.2590630334259091
         ],
         "yaxis": "y12"
        },
        {
         "line": {
          "color": "rgba(128, 128, 128, 1.0)",
          "dash": "solid",
          "shape": "linear",
          "width": 1.3
         },
         "marker": {
          "size": 2,
          "symbol": "circle"
         },
         "mode": "markers",
         "name": "D",
         "text": "",
         "type": "scatter",
         "x": [
          -1.4863073708975698,
          -2.1850824021195616,
          -2.960827272545752,
          0.638069862685476,
          0.21377793975387355,
          -0.8154978341789988,
          -1.5739883105017602,
          0.4318822775286287,
          -1.3265888287929182,
          1.259183517429503,
          -0.017407080654257518,
          -0.10281927824957425,
          0.05337750178968702,
          -0.6292896610597629,
          0.38616052190444494,
          -0.22605631512131022,
          -0.09853750276821739,
          -1.1066396351534582,
          0.9114796019739642,
          0.29518110596127883,
          0.5965871078261196,
          -0.6190242134296731,
          -0.9294887399068007,
          0.24055976556184552,
          0.05308689523824642,
          -0.32226287593468833,
          1.063935624998341,
          -0.5072921436705043,
          -1.5377735821424616,
          -0.685396102123712,
          -2.605179870972897,
          -0.014336078140034441,
          0.13052624885473935,
          -0.3793653369458108,
          0.6065077500095933,
          -0.763188427541439,
          2.170705302187318,
          -0.8878237136360704,
          0.30600965400701974,
          -1.0163183411750913,
          1.0624991809215645,
          -0.4412390260445293,
          0.3651556864264858,
          -1.486978745096095,
          1.664516514200354,
          1.1997710720009844,
          -2.0555831792245747,
          0.9235026440401792,
          0.07848950119542743,
          1.3431294743521662,
          3.2765097706920816,
          -0.4934295310273326,
          0.990094748628564,
          2.0134383679368852,
          -2.287636557492431,
          0.8224077368953896,
          -0.3560884397513596,
          -1.744011177010594,
          -0.034766326276481054,
          -0.7374693628800136,
          -1.140617878297122,
          -0.28734548744461696,
          0.5667681473808669,
          -0.9520658721364366,
          0.9596448650717668,
          0.3919613373221554,
          -0.9680655332483575,
          0.42334251965705855,
          1.772520654229283,
          0.650698170834495,
          -1.1317667464189085,
          -1.8459395957855504,
          0.8062363265030782,
          0.3147212847950096,
          -1.057789454250701,
          -0.29795494761001645,
          0.789773725362857,
          1.083507179451289,
          -1.9468646653134738,
          -0.21824193932452937,
          0.4675002253006263,
          1.605648784272931,
          -0.8821948592590849,
          -1.0917912230779365,
          0.06719803818297368,
          0.770564006511959,
          1.3408187755846943,
          1.7074842570992093,
          1.5703817547245793,
          0.29386034266401145,
          -0.06716747238653473,
          0.9434032958517293,
          -0.04607609878312643,
          -1.5422232108086,
          -0.7792537895554505,
          -0.3687631447341126,
          -0.09668785472371995,
          1.067454982834531,
          0.08877790370553766,
          1.0971434149579615
         ],
         "xaxis": "x13",
         "y": [
          2.0436691209421562,
          0.1824761840116358,
          0.5700043679018382,
          -0.22935727746462556,
          0.7569207059020728,
          -0.14317016618902656,
          0.21129156018164277,
          -0.2616089926871364,
          1.4495406157464286,
          -0.9342860392352873,
          -0.09084447475739998,
          -1.565429635024042,
          -1.5406840105456636,
          -0.8559537704229165,
          -1.1114922404496523,
          0.5063532674496958,
          1.3487191387605066,
          1.956255565670463,
          1.8183720503917729,
          0.5786629868706473,
          -0.3604354290108231,
          0.2873145928066404,
          0.19750155695426078,
          -0.8480331396213573,
          0.417599115069566,
          1.8968061348373466,
          -0.8637792682058373,
          1.6257780581247228,
          -0.8623822878043705,
          0.4556310697362648,
          0.8648090566042301,
          0.7313030024535564,
          2.2412089911543616,
          0.47922271969325386,
          -2.2685243013314262,
          0.04906054663673767,
          -1.498944857376424,
          0.35060996571349773,
          -1.8836306877745341,
          -0.3262599784002874,
          -0.3782286761037799,
          -0.29946333506931067,
          0.7508740231319113,
          1.207476743985673,
          -0.7908941475885819,
          1.3645664408744624,
          -0.3369882440756289,
          0.31576705904068125,
          -0.7581710392004785,
          1.1629083090850254,
          0.349307505649559,
          0.5313594705841929,
          1.1053965751515706,
          -0.46012799965221596,
          1.9386489652387204,
          -0.6788483704507831,
          -2.1840554947861524,
          1.0198006550241243,
          0.31529091115930113,
          0.2241061424559845,
          -1.4119249854812994,
          0.67559656553888,
          -0.4316193782730557,
          -1.4418982123850834,
          -1.2244517549484644,
          -0.156905996972589,
          -0.7081191788451137,
          0.3311222601330798,
          -1.271135923083071,
          -1.6406037783928384,
          -0.7155308476950346,
          0.07123578116279788,
          -0.09593250888678026,
          -3.21697202555598,
          1.578719906595705,
          0.19945974802986063,
          0.7614590083524786,
          0.947436823350358,
          -0.15283764572543185,
          -0.746368577035718,
          -0.4578868834298999,
          0.7806486628818033,
          2.0089091630328966,
          -0.3005203339251017,
          0.41302694814666885,
          -0.4216556948739281,
          0.8077852759929154,
          0.6787555776336831,
          -0.6424320413366892,
          1.0769566754877857,
          0.9454046718505152,
          -0.416183530686335,
          0.7665667379007157,
          0.9349341829591532,
          0.33304764522565167,
          -1.0951765638605833,
          1.7175885746816932,
          2.0570025387997637,
          -1.5297582991982859,
          -0.42968195284927535
         ],
         "yaxis": "y13"
        },
        {
         "line": {
          "color": "rgba(128, 128, 128, 1.0)",
          "dash": "solid",
          "shape": "linear",
          "width": 1.3
         },
         "marker": {
          "size": 2,
          "symbol": "circle"
         },
         "mode": "markers",
         "name": "D",
         "text": "",
         "type": "scatter",
         "x": [
          0.991862700951286,
          0.24950253065649877,
          0.3950093976649536,
          0.6188708512930853,
          -0.7747954695629024,
          -0.6999267092916548,
          0.0767008924504014,
          1.1329314657450371,
          0.6433203381952936,
          1.6131660962513228,
          0.06043736850071907,
          0.8713454604033425,
          -0.18930552552586122,
          0.43833285799875565,
          -0.6995013195151322,
          -1.8064010468855245,
          0.687905900643732,
          1.396414503651976,
          -0.8072414603179552,
          1.0587564990166214,
          -0.3796720805805881,
          -0.3195073545466219,
          -1.3298790867118577,
          0.6457868122925032,
          -0.6441709957256099,
          -0.40827355746977784,
          -0.8355145027336962,
          0.8677656888788933,
          -0.30118120675530397,
          0.4963393424518228,
          1.8997241764226496,
          2.6281040905157247,
          1.4377596195562439,
          -1.8840417497279667,
          -0.4534505483577321,
          -0.6109510793091015,
          0.0151099174140034,
          0.6113033544272953,
          -1.0671475176105258,
          -1.347816683912141,
          0.05455733113361512,
          -0.4739243275402265,
          -0.45829014109480576,
          -0.726852510520777,
          -0.17788606157097492,
          -0.17897625981444226,
          0.685167733415189,
          -1.9724384236155548,
          0.7937847144227674,
          -1.1535059289831828,
          0.5102192179387394,
          0.8606104025042941,
          1.795271491052051,
          0.8545248489559998,
          0.8939539538337453,
          0.9961409783162299,
          -2.212550853061344,
          0.7806743317887066,
          1.1421746771338692,
          0.2881768847509344,
          -0.18142864879455858,
          -1.196135981429346,
          -0.9432708001793368,
          -1.4910858898960022,
          -2.1374718013605234,
          2.2207175524641616,
          0.03019455031206788,
          0.9877754416137221,
          1.044919815072245,
          -0.4359856415997237,
          -2.556134407655902,
          0.8257669498802955,
          -0.49672006283080633,
          -0.5433664670566228,
          -0.40402255151282734,
          -0.9041658119968088,
          0.48220006883816724,
          1.3853556377901446,
          0.6436047187928708,
          0.08846144335836506,
          -0.1682423067605211,
          0.17385203610914976,
          -0.5620543658393782,
          1.1000045334205817,
          0.8449228133014679,
          2.0693586894798575,
          0.556074393022577,
          -0.09675473988838523,
          -1.4876250381532938,
          -0.49795804936956967,
          -2.1141074948250784,
          0.6731424953480482,
          -0.5486912328010581,
          -1.9787097456859963,
          -0.45434678245835275,
          0.5868522472967778,
          0.09853414803666562,
          -0.49452835762931896,
          -2.116011155396429,
          -0.05396114288166204
         ],
         "xaxis": "x14",
         "y": [
          2.0436691209421562,
          0.1824761840116358,
          0.5700043679018382,
          -0.22935727746462556,
          0.7569207059020728,
          -0.14317016618902656,
          0.21129156018164277,
          -0.2616089926871364,
          1.4495406157464286,
          -0.9342860392352873,
          -0.09084447475739998,
          -1.565429635024042,
          -1.5406840105456636,
          -0.8559537704229165,
          -1.1114922404496523,
          0.5063532674496958,
          1.3487191387605066,
          1.956255565670463,
          1.8183720503917729,
          0.5786629868706473,
          -0.3604354290108231,
          0.2873145928066404,
          0.19750155695426078,
          -0.8480331396213573,
          0.417599115069566,
          1.8968061348373466,
          -0.8637792682058373,
          1.6257780581247228,
          -0.8623822878043705,
          0.4556310697362648,
          0.8648090566042301,
          0.7313030024535564,
          2.2412089911543616,
          0.47922271969325386,
          -2.2685243013314262,
          0.04906054663673767,
          -1.498944857376424,
          0.35060996571349773,
          -1.8836306877745341,
          -0.3262599784002874,
          -0.3782286761037799,
          -0.29946333506931067,
          0.7508740231319113,
          1.207476743985673,
          -0.7908941475885819,
          1.3645664408744624,
          -0.3369882440756289,
          0.31576705904068125,
          -0.7581710392004785,
          1.1629083090850254,
          0.349307505649559,
          0.5313594705841929,
          1.1053965751515706,
          -0.46012799965221596,
          1.9386489652387204,
          -0.6788483704507831,
          -2.1840554947861524,
          1.0198006550241243,
          0.31529091115930113,
          0.2241061424559845,
          -1.4119249854812994,
          0.67559656553888,
          -0.4316193782730557,
          -1.4418982123850834,
          -1.2244517549484644,
          -0.156905996972589,
          -0.7081191788451137,
          0.3311222601330798,
          -1.271135923083071,
          -1.6406037783928384,
          -0.7155308476950346,
          0.07123578116279788,
          -0.09593250888678026,
          -3.21697202555598,
          1.578719906595705,
          0.19945974802986063,
          0.7614590083524786,
          0.947436823350358,
          -0.15283764572543185,
          -0.746368577035718,
          -0.4578868834298999,
          0.7806486628818033,
          2.0089091630328966,
          -0.3005203339251017,
          0.41302694814666885,
          -0.4216556948739281,
          0.8077852759929154,
          0.6787555776336831,
          -0.6424320413366892,
          1.0769566754877857,
          0.9454046718505152,
          -0.416183530686335,
          0.7665667379007157,
          0.9349341829591532,
          0.33304764522565167,
          -1.0951765638605833,
          1.7175885746816932,
          2.0570025387997637,
          -1.5297582991982859,
          -0.42968195284927535
         ],
         "yaxis": "y14"
        },
        {
         "line": {
          "color": "rgba(128, 128, 128, 1.0)",
          "dash": "solid",
          "shape": "linear",
          "width": 1.3
         },
         "marker": {
          "size": 2,
          "symbol": "circle"
         },
         "mode": "markers",
         "name": "D",
         "text": "",
         "type": "scatter",
         "x": [
          -0.3753741788856934,
          0.5679662611009498,
          0.4677313122351522,
          1.711581076417976,
          -0.23277048837939648,
          -1.3267012027130738,
          0.3739434057450148,
          -2.643571540323504,
          -1.145880614666761,
          1.1928955037375057,
          1.9863941652632737,
          0.573430062744424,
          0.8156376623031294,
          -0.2572022843431144,
          0.9042432883188274,
          0.3715434829837976,
          -2.0834161164323506,
          1.5953862925501323,
          -0.2238261581980897,
          -0.1216764324691142,
          0.2736288663987507,
          1.4356667621173613,
          -2.1949481488151847,
          -1.3236141120670448,
          -1.0735945971051435,
          -1.3663346326509864,
          -0.0185940426044395,
          1.8902953555195336,
          0.567126228448343,
          -0.5789037243795288,
          -0.5755340178660493,
          1.0550316165963012,
          1.0441029808292899,
          -0.11420736861863401,
          0.12524239868540765,
          2.3400605491663047,
          -0.5782934311304733,
          0.2108310203970129,
          0.4039331862171811,
          0.44360322247555956,
          -0.12085742117129346,
          -0.8439468871075504,
          -1.158756996162908,
          0.15430035399347133,
          -0.06386858016005441,
          -0.5074262422549175,
          0.11555993742750822,
          -0.5577283425727401,
          -0.47789084485793143,
          -1.6403711405172237,
          0.4827664013390895,
          1.8028155547633575,
          1.4001098054136305,
          0.3267302345742465,
          -0.4848670587721663,
          0.09227216079736342,
          0.07123892931472044,
          1.3481163362612534,
          1.0169867096972263,
          0.6170681768119419,
          0.22108609767698298,
          -0.7842927767017362,
          -1.915537043065621,
          0.328018803408384,
          -1.7278938381029623,
          0.43078382443629565,
          2.0481051229562257,
          -0.7956971542699457,
          0.5020823215935366,
          0.6949890081830239,
          0.5338802549188443,
          1.4392317783792197,
          -0.11039014255304978,
          0.8618715191435556,
          -1.2896289383655481,
          -0.02281907828284579,
          -1.3135449694462873,
          -0.4717030103235045,
          -0.8160617409124374,
          -1.1280099487793187,
          -1.6670501450748478,
          0.7607906281945472,
          0.2796867560346704,
          0.017180080705273514,
          -0.0949567224231892,
          0.00634285875947798,
          0.3046419492352927,
          -1.014498313219501,
          0.30306332735540786,
          1.0227713330043546,
          -0.0836722027615909,
          -0.12612606064856932,
          1.4807005920373766,
          -1.065714626827212,
          0.9040155977160081,
          1.4766809212757679,
          -0.5668708254940893,
          -1.5662672710340224,
          -1.5263870398107666,
          -0.2590630334259091
         ],
         "xaxis": "x15",
         "y": [
          2.0436691209421562,
          0.1824761840116358,
          0.5700043679018382,
          -0.22935727746462556,
          0.7569207059020728,
          -0.14317016618902656,
          0.21129156018164277,
          -0.2616089926871364,
          1.4495406157464286,
          -0.9342860392352873,
          -0.09084447475739998,
          -1.565429635024042,
          -1.5406840105456636,
          -0.8559537704229165,
          -1.1114922404496523,
          0.5063532674496958,
          1.3487191387605066,
          1.956255565670463,
          1.8183720503917729,
          0.5786629868706473,
          -0.3604354290108231,
          0.2873145928066404,
          0.19750155695426078,
          -0.8480331396213573,
          0.417599115069566,
          1.8968061348373466,
          -0.8637792682058373,
          1.6257780581247228,
          -0.8623822878043705,
          0.4556310697362648,
          0.8648090566042301,
          0.7313030024535564,
          2.2412089911543616,
          0.47922271969325386,
          -2.2685243013314262,
          0.04906054663673767,
          -1.498944857376424,
          0.35060996571349773,
          -1.8836306877745341,
          -0.3262599784002874,
          -0.3782286761037799,
          -0.29946333506931067,
          0.7508740231319113,
          1.207476743985673,
          -0.7908941475885819,
          1.3645664408744624,
          -0.3369882440756289,
          0.31576705904068125,
          -0.7581710392004785,
          1.1629083090850254,
          0.349307505649559,
          0.5313594705841929,
          1.1053965751515706,
          -0.46012799965221596,
          1.9386489652387204,
          -0.6788483704507831,
          -2.1840554947861524,
          1.0198006550241243,
          0.31529091115930113,
          0.2241061424559845,
          -1.4119249854812994,
          0.67559656553888,
          -0.4316193782730557,
          -1.4418982123850834,
          -1.2244517549484644,
          -0.156905996972589,
          -0.7081191788451137,
          0.3311222601330798,
          -1.271135923083071,
          -1.6406037783928384,
          -0.7155308476950346,
          0.07123578116279788,
          -0.09593250888678026,
          -3.21697202555598,
          1.578719906595705,
          0.19945974802986063,
          0.7614590083524786,
          0.947436823350358,
          -0.15283764572543185,
          -0.746368577035718,
          -0.4578868834298999,
          0.7806486628818033,
          2.0089091630328966,
          -0.3005203339251017,
          0.41302694814666885,
          -0.4216556948739281,
          0.8077852759929154,
          0.6787555776336831,
          -0.6424320413366892,
          1.0769566754877857,
          0.9454046718505152,
          -0.416183530686335,
          0.7665667379007157,
          0.9349341829591532,
          0.33304764522565167,
          -1.0951765638605833,
          1.7175885746816932,
          2.0570025387997637,
          -1.5297582991982859,
          -0.42968195284927535
         ],
         "yaxis": "y15"
        },
        {
         "histfunc": "count",
         "histnorm": "",
         "marker": {
          "color": "rgba(128, 0, 128, 1.0)",
          "line": {
           "color": "#4D5663",
           "width": 1.3
          }
         },
         "name": "D",
         "nbinsx": 10,
         "opacity": 0.8,
         "orientation": "v",
         "type": "histogram",
         "x": [
          2.0436691209421562,
          0.1824761840116358,
          0.5700043679018382,
          -0.22935727746462556,
          0.7569207059020728,
          -0.14317016618902656,
          0.21129156018164277,
          -0.2616089926871364,
          1.4495406157464286,
          -0.9342860392352873,
          -0.09084447475739998,
          -1.565429635024042,
          -1.5406840105456636,
          -0.8559537704229165,
          -1.1114922404496523,
          0.5063532674496958,
          1.3487191387605066,
          1.956255565670463,
          1.8183720503917729,
          0.5786629868706473,
          -0.3604354290108231,
          0.2873145928066404,
          0.19750155695426078,
          -0.8480331396213573,
          0.417599115069566,
          1.8968061348373466,
          -0.8637792682058373,
          1.6257780581247228,
          -0.8623822878043705,
          0.4556310697362648,
          0.8648090566042301,
          0.7313030024535564,
          2.2412089911543616,
          0.47922271969325386,
          -2.2685243013314262,
          0.04906054663673767,
          -1.498944857376424,
          0.35060996571349773,
          -1.8836306877745341,
          -0.3262599784002874,
          -0.3782286761037799,
          -0.29946333506931067,
          0.7508740231319113,
          1.207476743985673,
          -0.7908941475885819,
          1.3645664408744624,
          -0.3369882440756289,
          0.31576705904068125,
          -0.7581710392004785,
          1.1629083090850254,
          0.349307505649559,
          0.5313594705841929,
          1.1053965751515706,
          -0.46012799965221596,
          1.9386489652387204,
          -0.6788483704507831,
          -2.1840554947861524,
          1.0198006550241243,
          0.31529091115930113,
          0.2241061424559845,
          -1.4119249854812994,
          0.67559656553888,
          -0.4316193782730557,
          -1.4418982123850834,
          -1.2244517549484644,
          -0.156905996972589,
          -0.7081191788451137,
          0.3311222601330798,
          -1.271135923083071,
          -1.6406037783928384,
          -0.7155308476950346,
          0.07123578116279788,
          -0.09593250888678026,
          -3.21697202555598,
          1.578719906595705,
          0.19945974802986063,
          0.7614590083524786,
          0.947436823350358,
          -0.15283764572543185,
          -0.746368577035718,
          -0.4578868834298999,
          0.7806486628818033,
          2.0089091630328966,
          -0.3005203339251017,
          0.41302694814666885,
          -0.4216556948739281,
          0.8077852759929154,
          0.6787555776336831,
          -0.6424320413366892,
          1.0769566754877857,
          0.9454046718505152,
          -0.416183530686335,
          0.7665667379007157,
          0.9349341829591532,
          0.33304764522565167,
          -1.0951765638605833,
          1.7175885746816932,
          2.0570025387997637,
          -1.5297582991982859,
          -0.42968195284927535
         ],
         "xaxis": "x16",
         "yaxis": "y16"
        }
       ],
       "layout": {
        "bargap": 0.02,
        "legend": {
         "bgcolor": "#F5F6F9",
         "font": {
          "color": "#4D5663"
         }
        },
        "paper_bgcolor": "#F5F6F9",
        "plot_bgcolor": "#F5F6F9",
        "showlegend": false,
        "template": {
         "data": {
          "bar": [
           {
            "error_x": {
             "color": "#2a3f5f"
            },
            "error_y": {
             "color": "#2a3f5f"
            },
            "marker": {
             "line": {
              "color": "#E5ECF6",
              "width": 0.5
             }
            },
            "type": "bar"
           }
          ],
          "barpolar": [
           {
            "marker": {
             "line": {
              "color": "#E5ECF6",
              "width": 0.5
             }
            },
            "type": "barpolar"
           }
          ],
          "carpet": [
           {
            "aaxis": {
             "endlinecolor": "#2a3f5f",
             "gridcolor": "white",
             "linecolor": "white",
             "minorgridcolor": "white",
             "startlinecolor": "#2a3f5f"
            },
            "baxis": {
             "endlinecolor": "#2a3f5f",
             "gridcolor": "white",
             "linecolor": "white",
             "minorgridcolor": "white",
             "startlinecolor": "#2a3f5f"
            },
            "type": "carpet"
           }
          ],
          "choropleth": [
           {
            "colorbar": {
             "outlinewidth": 0,
             "ticks": ""
            },
            "type": "choropleth"
           }
          ],
          "contour": [
           {
            "colorbar": {
             "outlinewidth": 0,
             "ticks": ""
            },
            "colorscale": [
             [
              0.0,
              "#0d0887"
             ],
             [
              0.1111111111111111,
              "#46039f"
             ],
             [
              0.2222222222222222,
              "#7201a8"
             ],
             [
              0.3333333333333333,
              "#9c179e"
             ],
             [
              0.4444444444444444,
              "#bd3786"
             ],
             [
              0.5555555555555556,
              "#d8576b"
             ],
             [
              0.6666666666666666,
              "#ed7953"
             ],
             [
              0.7777777777777778,
              "#fb9f3a"
             ],
             [
              0.8888888888888888,
              "#fdca26"
             ],
             [
              1.0,
              "#f0f921"
             ]
            ],
            "type": "contour"
           }
          ],
          "contourcarpet": [
           {
            "colorbar": {
             "outlinewidth": 0,
             "ticks": ""
            },
            "type": "contourcarpet"
           }
          ],
          "heatmap": [
           {
            "colorbar": {
             "outlinewidth": 0,
             "ticks": ""
            },
            "colorscale": [
             [
              0.0,
              "#0d0887"
             ],
             [
              0.1111111111111111,
              "#46039f"
             ],
             [
              0.2222222222222222,
              "#7201a8"
             ],
             [
              0.3333333333333333,
              "#9c179e"
             ],
             [
              0.4444444444444444,
              "#bd3786"
             ],
             [
              0.5555555555555556,
              "#d8576b"
             ],
             [
              0.6666666666666666,
              "#ed7953"
             ],
             [
              0.7777777777777778,
              "#fb9f3a"
             ],
             [
              0.8888888888888888,
              "#fdca26"
             ],
             [
              1.0,
              "#f0f921"
             ]
            ],
            "type": "heatmap"
           }
          ],
          "heatmapgl": [
           {
            "colorbar": {
             "outlinewidth": 0,
             "ticks": ""
            },
            "colorscale": [
             [
              0.0,
              "#0d0887"
             ],
             [
              0.1111111111111111,
              "#46039f"
             ],
             [
              0.2222222222222222,
              "#7201a8"
             ],
             [
              0.3333333333333333,
              "#9c179e"
             ],
             [
              0.4444444444444444,
              "#bd3786"
             ],
             [
              0.5555555555555556,
              "#d8576b"
             ],
             [
              0.6666666666666666,
              "#ed7953"
             ],
             [
              0.7777777777777778,
              "#fb9f3a"
             ],
             [
              0.8888888888888888,
              "#fdca26"
             ],
             [
              1.0,
              "#f0f921"
             ]
            ],
            "type": "heatmapgl"
           }
          ],
          "histogram": [
           {
            "marker": {
             "colorbar": {
              "outlinewidth": 0,
              "ticks": ""
             }
            },
            "type": "histogram"
           }
          ],
          "histogram2d": [
           {
            "colorbar": {
             "outlinewidth": 0,
             "ticks": ""
            },
            "colorscale": [
             [
              0.0,
              "#0d0887"
             ],
             [
              0.1111111111111111,
              "#46039f"
             ],
             [
              0.2222222222222222,
              "#7201a8"
             ],
             [
              0.3333333333333333,
              "#9c179e"
             ],
             [
              0.4444444444444444,
              "#bd3786"
             ],
             [
              0.5555555555555556,
              "#d8576b"
             ],
             [
              0.6666666666666666,
              "#ed7953"
             ],
             [
              0.7777777777777778,
              "#fb9f3a"
             ],
             [
              0.8888888888888888,
              "#fdca26"
             ],
             [
              1.0,
              "#f0f921"
             ]
            ],
            "type": "histogram2d"
           }
          ],
          "histogram2dcontour": [
           {
            "colorbar": {
             "outlinewidth": 0,
             "ticks": ""
            },
            "colorscale": [
             [
              0.0,
              "#0d0887"
             ],
             [
              0.1111111111111111,
              "#46039f"
             ],
             [
              0.2222222222222222,
              "#7201a8"
             ],
             [
              0.3333333333333333,
              "#9c179e"
             ],
             [
              0.4444444444444444,
              "#bd3786"
             ],
             [
              0.5555555555555556,
              "#d8576b"
             ],
             [
              0.6666666666666666,
              "#ed7953"
             ],
             [
              0.7777777777777778,
              "#fb9f3a"
             ],
             [
              0.8888888888888888,
              "#fdca26"
             ],
             [
              1.0,
              "#f0f921"
             ]
            ],
            "type": "histogram2dcontour"
           }
          ],
          "mesh3d": [
           {
            "colorbar": {
             "outlinewidth": 0,
             "ticks": ""
            },
            "type": "mesh3d"
           }
          ],
          "parcoords": [
           {
            "line": {
             "colorbar": {
              "outlinewidth": 0,
              "ticks": ""
             }
            },
            "type": "parcoords"
           }
          ],
          "pie": [
           {
            "automargin": true,
            "type": "pie"
           }
          ],
          "scatter": [
           {
            "marker": {
             "colorbar": {
              "outlinewidth": 0,
              "ticks": ""
             }
            },
            "type": "scatter"
           }
          ],
          "scatter3d": [
           {
            "line": {
             "colorbar": {
              "outlinewidth": 0,
              "ticks": ""
             }
            },
            "marker": {
             "colorbar": {
              "outlinewidth": 0,
              "ticks": ""
             }
            },
            "type": "scatter3d"
           }
          ],
          "scattercarpet": [
           {
            "marker": {
             "colorbar": {
              "outlinewidth": 0,
              "ticks": ""
             }
            },
            "type": "scattercarpet"
           }
          ],
          "scattergeo": [
           {
            "marker": {
             "colorbar": {
              "outlinewidth": 0,
              "ticks": ""
             }
            },
            "type": "scattergeo"
           }
          ],
          "scattergl": [
           {
            "marker": {
             "colorbar": {
              "outlinewidth": 0,
              "ticks": ""
             }
            },
            "type": "scattergl"
           }
          ],
          "scattermapbox": [
           {
            "marker": {
             "colorbar": {
              "outlinewidth": 0,
              "ticks": ""
             }
            },
            "type": "scattermapbox"
           }
          ],
          "scatterpolar": [
           {
            "marker": {
             "colorbar": {
              "outlinewidth": 0,
              "ticks": ""
             }
            },
            "type": "scatterpolar"
           }
          ],
          "scatterpolargl": [
           {
            "marker": {
             "colorbar": {
              "outlinewidth": 0,
              "ticks": ""
             }
            },
            "type": "scatterpolargl"
           }
          ],
          "scatterternary": [
           {
            "marker": {
             "colorbar": {
              "outlinewidth": 0,
              "ticks": ""
             }
            },
            "type": "scatterternary"
           }
          ],
          "surface": [
           {
            "colorbar": {
             "outlinewidth": 0,
             "ticks": ""
            },
            "colorscale": [
             [
              0.0,
              "#0d0887"
             ],
             [
              0.1111111111111111,
              "#46039f"
             ],
             [
              0.2222222222222222,
              "#7201a8"
             ],
             [
              0.3333333333333333,
              "#9c179e"
             ],
             [
              0.4444444444444444,
              "#bd3786"
             ],
             [
              0.5555555555555556,
              "#d8576b"
             ],
             [
              0.6666666666666666,
              "#ed7953"
             ],
             [
              0.7777777777777778,
              "#fb9f3a"
             ],
             [
              0.8888888888888888,
              "#fdca26"
             ],
             [
              1.0,
              "#f0f921"
             ]
            ],
            "type": "surface"
           }
          ],
          "table": [
           {
            "cells": {
             "fill": {
              "color": "#EBF0F8"
             },
             "line": {
              "color": "white"
             }
            },
            "header": {
             "fill": {
              "color": "#C8D4E3"
             },
             "line": {
              "color": "white"
             }
            },
            "type": "table"
           }
          ]
         },
         "layout": {
          "annotationdefaults": {
           "arrowcolor": "#2a3f5f",
           "arrowhead": 0,
           "arrowwidth": 1
          },
          "coloraxis": {
           "colorbar": {
            "outlinewidth": 0,
            "ticks": ""
           }
          },
          "colorscale": {
           "diverging": [
            [
             0,
             "#8e0152"
            ],
            [
             0.1,
             "#c51b7d"
            ],
            [
             0.2,
             "#de77ae"
            ],
            [
             0.3,
             "#f1b6da"
            ],
            [
             0.4,
             "#fde0ef"
            ],
            [
             0.5,
             "#f7f7f7"
            ],
            [
             0.6,
             "#e6f5d0"
            ],
            [
             0.7,
             "#b8e186"
            ],
            [
             0.8,
             "#7fbc41"
            ],
            [
             0.9,
             "#4d9221"
            ],
            [
             1,
             "#276419"
            ]
           ],
           "sequential": [
            [
             0.0,
             "#0d0887"
            ],
            [
             0.1111111111111111,
             "#46039f"
            ],
            [
             0.2222222222222222,
             "#7201a8"
            ],
            [
             0.3333333333333333,
             "#9c179e"
            ],
            [
             0.4444444444444444,
             "#bd3786"
            ],
            [
             0.5555555555555556,
             "#d8576b"
            ],
            [
             0.6666666666666666,
             "#ed7953"
            ],
            [
             0.7777777777777778,
             "#fb9f3a"
            ],
            [
             0.8888888888888888,
             "#fdca26"
            ],
            [
             1.0,
             "#f0f921"
            ]
           ],
           "sequentialminus": [
            [
             0.0,
             "#0d0887"
            ],
            [
             0.1111111111111111,
             "#46039f"
            ],
            [
             0.2222222222222222,
             "#7201a8"
            ],
            [
             0.3333333333333333,
             "#9c179e"
            ],
            [
             0.4444444444444444,
             "#bd3786"
            ],
            [
             0.5555555555555556,
             "#d8576b"
            ],
            [
             0.6666666666666666,
             "#ed7953"
            ],
            [
             0.7777777777777778,
             "#fb9f3a"
            ],
            [
             0.8888888888888888,
             "#fdca26"
            ],
            [
             1.0,
             "#f0f921"
            ]
           ]
          },
          "colorway": [
           "#636efa",
           "#EF553B",
           "#00cc96",
           "#ab63fa",
           "#FFA15A",
           "#19d3f3",
           "#FF6692",
           "#B6E880",
           "#FF97FF",
           "#FECB52"
          ],
          "font": {
           "color": "#2a3f5f"
          },
          "geo": {
           "bgcolor": "white",
           "lakecolor": "white",
           "landcolor": "#E5ECF6",
           "showlakes": true,
           "showland": true,
           "subunitcolor": "white"
          },
          "hoverlabel": {
           "align": "left"
          },
          "hovermode": "closest",
          "mapbox": {
           "style": "light"
          },
          "paper_bgcolor": "white",
          "plot_bgcolor": "#E5ECF6",
          "polar": {
           "angularaxis": {
            "gridcolor": "white",
            "linecolor": "white",
            "ticks": ""
           },
           "bgcolor": "#E5ECF6",
           "radialaxis": {
            "gridcolor": "white",
            "linecolor": "white",
            "ticks": ""
           }
          },
          "scene": {
           "xaxis": {
            "backgroundcolor": "#E5ECF6",
            "gridcolor": "white",
            "gridwidth": 2,
            "linecolor": "white",
            "showbackground": true,
            "ticks": "",
            "zerolinecolor": "white"
           },
           "yaxis": {
            "backgroundcolor": "#E5ECF6",
            "gridcolor": "white",
            "gridwidth": 2,
            "linecolor": "white",
            "showbackground": true,
            "ticks": "",
            "zerolinecolor": "white"
           },
           "zaxis": {
            "backgroundcolor": "#E5ECF6",
            "gridcolor": "white",
            "gridwidth": 2,
            "linecolor": "white",
            "showbackground": true,
            "ticks": "",
            "zerolinecolor": "white"
           }
          },
          "shapedefaults": {
           "line": {
            "color": "#2a3f5f"
           }
          },
          "ternary": {
           "aaxis": {
            "gridcolor": "white",
            "linecolor": "white",
            "ticks": ""
           },
           "baxis": {
            "gridcolor": "white",
            "linecolor": "white",
            "ticks": ""
           },
           "bgcolor": "#E5ECF6",
           "caxis": {
            "gridcolor": "white",
            "linecolor": "white",
            "ticks": ""
           }
          },
          "title": {
           "x": 0.05
          },
          "xaxis": {
           "automargin": true,
           "gridcolor": "white",
           "linecolor": "white",
           "ticks": "",
           "title": {
            "standoff": 15
           },
           "zerolinecolor": "white",
           "zerolinewidth": 2
          },
          "yaxis": {
           "automargin": true,
           "gridcolor": "white",
           "linecolor": "white",
           "ticks": "",
           "title": {
            "standoff": 15
           },
           "zerolinecolor": "white",
           "zerolinewidth": 2
          }
         }
        },
        "title": {
         "font": {
          "color": "#4D5663"
         }
        },
        "xaxis": {
         "anchor": "y",
         "domain": [
          0.0,
          0.2125
         ],
         "gridcolor": "#E1E5ED",
         "showgrid": false,
         "tickfont": {
          "color": "#4D5663"
         },
         "title": {
          "font": {
           "color": "#4D5663"
          },
          "text": ""
         },
         "zerolinecolor": "#E1E5ED"
        },
        "xaxis10": {
         "anchor": "y10",
         "domain": [
          0.2625,
          0.475
         ],
         "gridcolor": "#E1E5ED",
         "showgrid": false,
         "tickfont": {
          "color": "#4D5663"
         },
         "title": {
          "font": {
           "color": "#4D5663"
          },
          "text": ""
         },
         "zerolinecolor": "#E1E5ED"
        },
        "xaxis11": {
         "anchor": "y11",
         "domain": [
          0.525,
          0.7375
         ],
         "gridcolor": "#E1E5ED",
         "showgrid": false,
         "tickfont": {
          "color": "#4D5663"
         },
         "title": {
          "font": {
           "color": "#4D5663"
          },
          "text": ""
         },
         "zerolinecolor": "#E1E5ED"
        },
        "xaxis12": {
         "anchor": "y12",
         "domain": [
          0.7875,
          1.0
         ],
         "gridcolor": "#E1E5ED",
         "showgrid": false,
         "tickfont": {
          "color": "#4D5663"
         },
         "title": {
          "font": {
           "color": "#4D5663"
          },
          "text": ""
         },
         "zerolinecolor": "#E1E5ED"
        },
        "xaxis13": {
         "anchor": "y13",
         "domain": [
          0.0,
          0.2125
         ],
         "gridcolor": "#E1E5ED",
         "showgrid": false,
         "tickfont": {
          "color": "#4D5663"
         },
         "title": {
          "font": {
           "color": "#4D5663"
          },
          "text": ""
         },
         "zerolinecolor": "#E1E5ED"
        },
        "xaxis14": {
         "anchor": "y14",
         "domain": [
          0.2625,
          0.475
         ],
         "gridcolor": "#E1E5ED",
         "showgrid": false,
         "tickfont": {
          "color": "#4D5663"
         },
         "title": {
          "font": {
           "color": "#4D5663"
          },
          "text": ""
         },
         "zerolinecolor": "#E1E5ED"
        },
        "xaxis15": {
         "anchor": "y15",
         "domain": [
          0.525,
          0.7375
         ],
         "gridcolor": "#E1E5ED",
         "showgrid": false,
         "tickfont": {
          "color": "#4D5663"
         },
         "title": {
          "font": {
           "color": "#4D5663"
          },
          "text": ""
         },
         "zerolinecolor": "#E1E5ED"
        },
        "xaxis16": {
         "anchor": "y16",
         "domain": [
          0.7875,
          1.0
         ],
         "gridcolor": "#E1E5ED",
         "showgrid": false,
         "tickfont": {
          "color": "#4D5663"
         },
         "title": {
          "font": {
           "color": "#4D5663"
          },
          "text": ""
         },
         "zerolinecolor": "#E1E5ED"
        },
        "xaxis2": {
         "anchor": "y2",
         "domain": [
          0.2625,
          0.475
         ],
         "gridcolor": "#E1E5ED",
         "showgrid": false,
         "tickfont": {
          "color": "#4D5663"
         },
         "title": {
          "font": {
           "color": "#4D5663"
          },
          "text": ""
         },
         "zerolinecolor": "#E1E5ED"
        },
        "xaxis3": {
         "anchor": "y3",
         "domain": [
          0.525,
          0.7375
         ],
         "gridcolor": "#E1E5ED",
         "showgrid": false,
         "tickfont": {
          "color": "#4D5663"
         },
         "title": {
          "font": {
           "color": "#4D5663"
          },
          "text": ""
         },
         "zerolinecolor": "#E1E5ED"
        },
        "xaxis4": {
         "anchor": "y4",
         "domain": [
          0.7875,
          1.0
         ],
         "gridcolor": "#E1E5ED",
         "showgrid": false,
         "tickfont": {
          "color": "#4D5663"
         },
         "title": {
          "font": {
           "color": "#4D5663"
          },
          "text": ""
         },
         "zerolinecolor": "#E1E5ED"
        },
        "xaxis5": {
         "anchor": "y5",
         "domain": [
          0.0,
          0.2125
         ],
         "gridcolor": "#E1E5ED",
         "showgrid": false,
         "tickfont": {
          "color": "#4D5663"
         },
         "title": {
          "font": {
           "color": "#4D5663"
          },
          "text": ""
         },
         "zerolinecolor": "#E1E5ED"
        },
        "xaxis6": {
         "anchor": "y6",
         "domain": [
          0.2625,
          0.475
         ],
         "gridcolor": "#E1E5ED",
         "showgrid": false,
         "tickfont": {
          "color": "#4D5663"
         },
         "title": {
          "font": {
           "color": "#4D5663"
          },
          "text": ""
         },
         "zerolinecolor": "#E1E5ED"
        },
        "xaxis7": {
         "anchor": "y7",
         "domain": [
          0.525,
          0.7375
         ],
         "gridcolor": "#E1E5ED",
         "showgrid": false,
         "tickfont": {
          "color": "#4D5663"
         },
         "title": {
          "font": {
           "color": "#4D5663"
          },
          "text": ""
         },
         "zerolinecolor": "#E1E5ED"
        },
        "xaxis8": {
         "anchor": "y8",
         "domain": [
          0.7875,
          1.0
         ],
         "gridcolor": "#E1E5ED",
         "showgrid": false,
         "tickfont": {
          "color": "#4D5663"
         },
         "title": {
          "font": {
           "color": "#4D5663"
          },
          "text": ""
         },
         "zerolinecolor": "#E1E5ED"
        },
        "xaxis9": {
         "anchor": "y9",
         "domain": [
          0.0,
          0.2125
         ],
         "gridcolor": "#E1E5ED",
         "showgrid": false,
         "tickfont": {
          "color": "#4D5663"
         },
         "title": {
          "font": {
           "color": "#4D5663"
          },
          "text": ""
         },
         "zerolinecolor": "#E1E5ED"
        },
        "yaxis": {
         "anchor": "x",
         "domain": [
          0.8025,
          1.0
         ],
         "gridcolor": "#E1E5ED",
         "showgrid": false,
         "tickfont": {
          "color": "#4D5663"
         },
         "title": {
          "font": {
           "color": "#4D5663"
          },
          "text": ""
         },
         "zerolinecolor": "#E1E5ED"
        },
        "yaxis10": {
         "anchor": "x10",
         "domain": [
          0.2675,
          0.465
         ],
         "gridcolor": "#E1E5ED",
         "showgrid": false,
         "tickfont": {
          "color": "#4D5663"
         },
         "title": {
          "font": {
           "color": "#4D5663"
          },
          "text": ""
         },
         "zerolinecolor": "#E1E5ED"
        },
        "yaxis11": {
         "anchor": "x11",
         "domain": [
          0.2675,
          0.465
         ],
         "gridcolor": "#E1E5ED",
         "showgrid": false,
         "tickfont": {
          "color": "#4D5663"
         },
         "title": {
          "font": {
           "color": "#4D5663"
          },
          "text": ""
         },
         "zerolinecolor": "#E1E5ED"
        },
        "yaxis12": {
         "anchor": "x12",
         "domain": [
          0.2675,
          0.465
         ],
         "gridcolor": "#E1E5ED",
         "showgrid": false,
         "tickfont": {
          "color": "#4D5663"
         },
         "title": {
          "font": {
           "color": "#4D5663"
          },
          "text": ""
         },
         "zerolinecolor": "#E1E5ED"
        },
        "yaxis13": {
         "anchor": "x13",
         "domain": [
          0.0,
          0.1975
         ],
         "gridcolor": "#E1E5ED",
         "showgrid": false,
         "tickfont": {
          "color": "#4D5663"
         },
         "title": {
          "font": {
           "color": "#4D5663"
          },
          "text": ""
         },
         "zerolinecolor": "#E1E5ED"
        },
        "yaxis14": {
         "anchor": "x14",
         "domain": [
          0.0,
          0.1975
         ],
         "gridcolor": "#E1E5ED",
         "showgrid": false,
         "tickfont": {
          "color": "#4D5663"
         },
         "title": {
          "font": {
           "color": "#4D5663"
          },
          "text": ""
         },
         "zerolinecolor": "#E1E5ED"
        },
        "yaxis15": {
         "anchor": "x15",
         "domain": [
          0.0,
          0.1975
         ],
         "gridcolor": "#E1E5ED",
         "showgrid": false,
         "tickfont": {
          "color": "#4D5663"
         },
         "title": {
          "font": {
           "color": "#4D5663"
          },
          "text": ""
         },
         "zerolinecolor": "#E1E5ED"
        },
        "yaxis16": {
         "anchor": "x16",
         "domain": [
          0.0,
          0.1975
         ],
         "gridcolor": "#E1E5ED",
         "showgrid": false,
         "tickfont": {
          "color": "#4D5663"
         },
         "title": {
          "font": {
           "color": "#4D5663"
          },
          "text": ""
         },
         "zerolinecolor": "#E1E5ED"
        },
        "yaxis2": {
         "anchor": "x2",
         "domain": [
          0.8025,
          1.0
         ],
         "gridcolor": "#E1E5ED",
         "showgrid": false,
         "tickfont": {
          "color": "#4D5663"
         },
         "title": {
          "font": {
           "color": "#4D5663"
          },
          "text": ""
         },
         "zerolinecolor": "#E1E5ED"
        },
        "yaxis3": {
         "anchor": "x3",
         "domain": [
          0.8025,
          1.0
         ],
         "gridcolor": "#E1E5ED",
         "showgrid": false,
         "tickfont": {
          "color": "#4D5663"
         },
         "title": {
          "font": {
           "color": "#4D5663"
          },
          "text": ""
         },
         "zerolinecolor": "#E1E5ED"
        },
        "yaxis4": {
         "anchor": "x4",
         "domain": [
          0.8025,
          1.0
         ],
         "gridcolor": "#E1E5ED",
         "showgrid": false,
         "tickfont": {
          "color": "#4D5663"
         },
         "title": {
          "font": {
           "color": "#4D5663"
          },
          "text": ""
         },
         "zerolinecolor": "#E1E5ED"
        },
        "yaxis5": {
         "anchor": "x5",
         "domain": [
          0.535,
          0.7325
         ],
         "gridcolor": "#E1E5ED",
         "showgrid": false,
         "tickfont": {
          "color": "#4D5663"
         },
         "title": {
          "font": {
           "color": "#4D5663"
          },
          "text": ""
         },
         "zerolinecolor": "#E1E5ED"
        },
        "yaxis6": {
         "anchor": "x6",
         "domain": [
          0.535,
          0.7325
         ],
         "gridcolor": "#E1E5ED",
         "showgrid": false,
         "tickfont": {
          "color": "#4D5663"
         },
         "title": {
          "font": {
           "color": "#4D5663"
          },
          "text": ""
         },
         "zerolinecolor": "#E1E5ED"
        },
        "yaxis7": {
         "anchor": "x7",
         "domain": [
          0.535,
          0.7325
         ],
         "gridcolor": "#E1E5ED",
         "showgrid": false,
         "tickfont": {
          "color": "#4D5663"
         },
         "title": {
          "font": {
           "color": "#4D5663"
          },
          "text": ""
         },
         "zerolinecolor": "#E1E5ED"
        },
        "yaxis8": {
         "anchor": "x8",
         "domain": [
          0.535,
          0.7325
         ],
         "gridcolor": "#E1E5ED",
         "showgrid": false,
         "tickfont": {
          "color": "#4D5663"
         },
         "title": {
          "font": {
           "color": "#4D5663"
          },
          "text": ""
         },
         "zerolinecolor": "#E1E5ED"
        },
        "yaxis9": {
         "anchor": "x9",
         "domain": [
          0.2675,
          0.465
         ],
         "gridcolor": "#E1E5ED",
         "showgrid": false,
         "tickfont": {
          "color": "#4D5663"
         },
         "title": {
          "font": {
           "color": "#4D5663"
          },
          "text": ""
         },
         "zerolinecolor": "#E1E5ED"
        }
       }
      },
      "text/html": "<div>\n        \n        \n            <div id=\"f5490c16-8dbf-405f-ac47-094ee674d15a\" class=\"plotly-graph-div\" style=\"height:525px; width:100%;\"></div>\n            <script type=\"text/javascript\">\n                require([\"plotly\"], function(Plotly) {\n                    window.PLOTLYENV=window.PLOTLYENV || {};\n                    window.PLOTLYENV.BASE_URL='https://plot.ly';\n                    \n                if (document.getElementById(\"f5490c16-8dbf-405f-ac47-094ee674d15a\")) {\n                    Plotly.newPlot(\n                        'f5490c16-8dbf-405f-ac47-094ee674d15a',\n                        [{\"histfunc\": \"count\", \"histnorm\": \"\", \"marker\": {\"color\": \"rgba(255, 153, 51, 1.0)\", \"line\": {\"color\": \"#4D5663\", \"width\": 1.3}}, \"name\": \"A\", \"nbinsx\": 10, \"opacity\": 0.8, \"orientation\": \"v\", \"type\": \"histogram\", \"x\": [-1.4863073708975698, -2.1850824021195616, -2.960827272545752, 0.638069862685476, 0.21377793975387355, -0.8154978341789988, -1.5739883105017602, 0.4318822775286287, -1.3265888287929182, 1.259183517429503, -0.017407080654257518, -0.10281927824957425, 0.05337750178968702, -0.6292896610597629, 0.38616052190444494, -0.22605631512131022, -0.09853750276821739, -1.1066396351534582, 0.9114796019739642, 0.29518110596127883, 0.5965871078261196, -0.6190242134296731, -0.9294887399068007, 0.24055976556184552, 0.05308689523824642, -0.32226287593468833, 1.063935624998341, -0.5072921436705043, -1.5377735821424616, -0.685396102123712, -2.605179870972897, -0.014336078140034441, 0.13052624885473935, -0.3793653369458108, 0.6065077500095933, -0.763188427541439, 2.170705302187318, -0.8878237136360704, 0.30600965400701974, -1.0163183411750913, 1.0624991809215645, -0.4412390260445293, 0.3651556864264858, -1.486978745096095, 1.664516514200354, 1.1997710720009844, -2.0555831792245747, 0.9235026440401792, 0.07848950119542743, 1.3431294743521662, 3.2765097706920816, -0.4934295310273326, 0.990094748628564, 2.0134383679368852, -2.287636557492431, 0.8224077368953896, -0.3560884397513596, -1.744011177010594, -0.034766326276481054, -0.7374693628800136, -1.140617878297122, -0.28734548744461696, 0.5667681473808669, -0.9520658721364366, 0.9596448650717668, 0.3919613373221554, -0.9680655332483575, 0.42334251965705855, 1.772520654229283, 0.650698170834495, -1.1317667464189085, -1.8459395957855504, 0.8062363265030782, 0.3147212847950096, -1.057789454250701, -0.29795494761001645, 0.789773725362857, 1.083507179451289, -1.9468646653134738, -0.21824193932452937, 0.4675002253006263, 1.605648784272931, -0.8821948592590849, -1.0917912230779365, 0.06719803818297368, 0.770564006511959, 1.3408187755846943, 1.7074842570992093, 1.5703817547245793, 0.29386034266401145, -0.06716747238653473, 0.9434032958517293, -0.04607609878312643, -1.5422232108086, -0.7792537895554505, -0.3687631447341126, -0.09668785472371995, 1.067454982834531, 0.08877790370553766, 1.0971434149579615], \"xaxis\": \"x\", \"yaxis\": \"y\"}, {\"line\": {\"color\": \"rgba(128, 128, 128, 1.0)\", \"dash\": \"solid\", \"shape\": \"linear\", \"width\": 1.3}, \"marker\": {\"size\": 2, \"symbol\": \"circle\"}, \"mode\": \"markers\", \"name\": \"A\", \"text\": \"\", \"type\": \"scatter\", \"x\": [0.991862700951286, 0.24950253065649877, 0.3950093976649536, 0.6188708512930853, -0.7747954695629024, -0.6999267092916548, 0.0767008924504014, 1.1329314657450371, 0.6433203381952936, 1.6131660962513228, 0.06043736850071907, 0.8713454604033425, -0.18930552552586122, 0.43833285799875565, -0.6995013195151322, -1.8064010468855245, 0.687905900643732, 1.396414503651976, -0.8072414603179552, 1.0587564990166214, -0.3796720805805881, -0.3195073545466219, -1.3298790867118577, 0.6457868122925032, -0.6441709957256099, -0.40827355746977784, -0.8355145027336962, 0.8677656888788933, -0.30118120675530397, 0.4963393424518228, 1.8997241764226496, 2.6281040905157247, 1.4377596195562439, -1.8840417497279667, -0.4534505483577321, -0.6109510793091015, 0.0151099174140034, 0.6113033544272953, -1.0671475176105258, -1.347816683912141, 0.05455733113361512, -0.4739243275402265, -0.45829014109480576, -0.726852510520777, -0.17788606157097492, -0.17897625981444226, 0.685167733415189, -1.9724384236155548, 0.7937847144227674, -1.1535059289831828, 0.5102192179387394, 0.8606104025042941, 1.795271491052051, 0.8545248489559998, 0.8939539538337453, 0.9961409783162299, -2.212550853061344, 0.7806743317887066, 1.1421746771338692, 0.2881768847509344, -0.18142864879455858, -1.196135981429346, -0.9432708001793368, -1.4910858898960022, -2.1374718013605234, 2.2207175524641616, 0.03019455031206788, 0.9877754416137221, 1.044919815072245, -0.4359856415997237, -2.556134407655902, 0.8257669498802955, -0.49672006283080633, -0.5433664670566228, -0.40402255151282734, -0.9041658119968088, 0.48220006883816724, 1.3853556377901446, 0.6436047187928708, 0.08846144335836506, -0.1682423067605211, 0.17385203610914976, -0.5620543658393782, 1.1000045334205817, 0.8449228133014679, 2.0693586894798575, 0.556074393022577, -0.09675473988838523, -1.4876250381532938, -0.49795804936956967, -2.1141074948250784, 0.6731424953480482, -0.5486912328010581, -1.9787097456859963, -0.45434678245835275, 0.5868522472967778, 0.09853414803666562, -0.49452835762931896, -2.116011155396429, -0.05396114288166204], \"xaxis\": \"x2\", \"y\": [-1.4863073708975698, -2.1850824021195616, -2.960827272545752, 0.638069862685476, 0.21377793975387355, -0.8154978341789988, -1.5739883105017602, 0.4318822775286287, -1.3265888287929182, 1.259183517429503, -0.017407080654257518, -0.10281927824957425, 0.05337750178968702, -0.6292896610597629, 0.38616052190444494, -0.22605631512131022, -0.09853750276821739, -1.1066396351534582, 0.9114796019739642, 0.29518110596127883, 0.5965871078261196, -0.6190242134296731, -0.9294887399068007, 0.24055976556184552, 0.05308689523824642, -0.32226287593468833, 1.063935624998341, -0.5072921436705043, -1.5377735821424616, -0.685396102123712, -2.605179870972897, -0.014336078140034441, 0.13052624885473935, -0.3793653369458108, 0.6065077500095933, -0.763188427541439, 2.170705302187318, -0.8878237136360704, 0.30600965400701974, -1.0163183411750913, 1.0624991809215645, -0.4412390260445293, 0.3651556864264858, -1.486978745096095, 1.664516514200354, 1.1997710720009844, -2.0555831792245747, 0.9235026440401792, 0.07848950119542743, 1.3431294743521662, 3.2765097706920816, -0.4934295310273326, 0.990094748628564, 2.0134383679368852, -2.287636557492431, 0.8224077368953896, -0.3560884397513596, -1.744011177010594, -0.034766326276481054, -0.7374693628800136, -1.140617878297122, -0.28734548744461696, 0.5667681473808669, -0.9520658721364366, 0.9596448650717668, 0.3919613373221554, -0.9680655332483575, 0.42334251965705855, 1.772520654229283, 0.650698170834495, -1.1317667464189085, -1.8459395957855504, 0.8062363265030782, 0.3147212847950096, -1.057789454250701, -0.29795494761001645, 0.789773725362857, 1.083507179451289, -1.9468646653134738, -0.21824193932452937, 0.4675002253006263, 1.605648784272931, -0.8821948592590849, -1.0917912230779365, 0.06719803818297368, 0.770564006511959, 1.3408187755846943, 1.7074842570992093, 1.5703817547245793, 0.29386034266401145, -0.06716747238653473, 0.9434032958517293, -0.04607609878312643, -1.5422232108086, -0.7792537895554505, -0.3687631447341126, -0.09668785472371995, 1.067454982834531, 0.08877790370553766, 1.0971434149579615], \"yaxis\": \"y2\"}, {\"line\": {\"color\": \"rgba(128, 128, 128, 1.0)\", \"dash\": \"solid\", \"shape\": \"linear\", \"width\": 1.3}, \"marker\": {\"size\": 2, \"symbol\": \"circle\"}, \"mode\": \"markers\", \"name\": \"A\", \"text\": \"\", \"type\": \"scatter\", \"x\": [-0.3753741788856934, 0.5679662611009498, 0.4677313122351522, 1.711581076417976, -0.23277048837939648, -1.3267012027130738, 0.3739434057450148, -2.643571540323504, -1.145880614666761, 1.1928955037375057, 1.9863941652632737, 0.573430062744424, 0.8156376623031294, -0.2572022843431144, 0.9042432883188274, 0.3715434829837976, -2.0834161164323506, 1.5953862925501323, -0.2238261581980897, -0.1216764324691142, 0.2736288663987507, 1.4356667621173613, -2.1949481488151847, -1.3236141120670448, -1.0735945971051435, -1.3663346326509864, -0.0185940426044395, 1.8902953555195336, 0.567126228448343, -0.5789037243795288, -0.5755340178660493, 1.0550316165963012, 1.0441029808292899, -0.11420736861863401, 0.12524239868540765, 2.3400605491663047, -0.5782934311304733, 0.2108310203970129, 0.4039331862171811, 0.44360322247555956, -0.12085742117129346, -0.8439468871075504, -1.158756996162908, 0.15430035399347133, -0.06386858016005441, -0.5074262422549175, 0.11555993742750822, -0.5577283425727401, -0.47789084485793143, -1.6403711405172237, 0.4827664013390895, 1.8028155547633575, 1.4001098054136305, 0.3267302345742465, -0.4848670587721663, 0.09227216079736342, 0.07123892931472044, 1.3481163362612534, 1.0169867096972263, 0.6170681768119419, 0.22108609767698298, -0.7842927767017362, -1.915537043065621, 0.328018803408384, -1.7278938381029623, 0.43078382443629565, 2.0481051229562257, -0.7956971542699457, 0.5020823215935366, 0.6949890081830239, 0.5338802549188443, 1.4392317783792197, -0.11039014255304978, 0.8618715191435556, -1.2896289383655481, -0.02281907828284579, -1.3135449694462873, -0.4717030103235045, -0.8160617409124374, -1.1280099487793187, -1.6670501450748478, 0.7607906281945472, 0.2796867560346704, 0.017180080705273514, -0.0949567224231892, 0.00634285875947798, 0.3046419492352927, -1.014498313219501, 0.30306332735540786, 1.0227713330043546, -0.0836722027615909, -0.12612606064856932, 1.4807005920373766, -1.065714626827212, 0.9040155977160081, 1.4766809212757679, -0.5668708254940893, -1.5662672710340224, -1.5263870398107666, -0.2590630334259091], \"xaxis\": \"x3\", \"y\": [-1.4863073708975698, -2.1850824021195616, -2.960827272545752, 0.638069862685476, 0.21377793975387355, -0.8154978341789988, -1.5739883105017602, 0.4318822775286287, -1.3265888287929182, 1.259183517429503, -0.017407080654257518, -0.10281927824957425, 0.05337750178968702, -0.6292896610597629, 0.38616052190444494, -0.22605631512131022, -0.09853750276821739, -1.1066396351534582, 0.9114796019739642, 0.29518110596127883, 0.5965871078261196, -0.6190242134296731, -0.9294887399068007, 0.24055976556184552, 0.05308689523824642, -0.32226287593468833, 1.063935624998341, -0.5072921436705043, -1.5377735821424616, -0.685396102123712, -2.605179870972897, -0.014336078140034441, 0.13052624885473935, -0.3793653369458108, 0.6065077500095933, -0.763188427541439, 2.170705302187318, -0.8878237136360704, 0.30600965400701974, -1.0163183411750913, 1.0624991809215645, -0.4412390260445293, 0.3651556864264858, -1.486978745096095, 1.664516514200354, 1.1997710720009844, -2.0555831792245747, 0.9235026440401792, 0.07848950119542743, 1.3431294743521662, 3.2765097706920816, -0.4934295310273326, 0.990094748628564, 2.0134383679368852, -2.287636557492431, 0.8224077368953896, -0.3560884397513596, -1.744011177010594, -0.034766326276481054, -0.7374693628800136, -1.140617878297122, -0.28734548744461696, 0.5667681473808669, -0.9520658721364366, 0.9596448650717668, 0.3919613373221554, -0.9680655332483575, 0.42334251965705855, 1.772520654229283, 0.650698170834495, -1.1317667464189085, -1.8459395957855504, 0.8062363265030782, 0.3147212847950096, -1.057789454250701, -0.29795494761001645, 0.789773725362857, 1.083507179451289, -1.9468646653134738, -0.21824193932452937, 0.4675002253006263, 1.605648784272931, -0.8821948592590849, -1.0917912230779365, 0.06719803818297368, 0.770564006511959, 1.3408187755846943, 1.7074842570992093, 1.5703817547245793, 0.29386034266401145, -0.06716747238653473, 0.9434032958517293, -0.04607609878312643, -1.5422232108086, -0.7792537895554505, -0.3687631447341126, -0.09668785472371995, 1.067454982834531, 0.08877790370553766, 1.0971434149579615], \"yaxis\": \"y3\"}, {\"line\": {\"color\": \"rgba(128, 128, 128, 1.0)\", \"dash\": \"solid\", \"shape\": \"linear\", \"width\": 1.3}, \"marker\": {\"size\": 2, \"symbol\": \"circle\"}, \"mode\": \"markers\", \"name\": \"A\", \"text\": \"\", \"type\": \"scatter\", \"x\": [2.0436691209421562, 0.1824761840116358, 0.5700043679018382, -0.22935727746462556, 0.7569207059020728, -0.14317016618902656, 0.21129156018164277, -0.2616089926871364, 1.4495406157464286, -0.9342860392352873, -0.09084447475739998, -1.565429635024042, -1.5406840105456636, -0.8559537704229165, -1.1114922404496523, 0.5063532674496958, 1.3487191387605066, 1.956255565670463, 1.8183720503917729, 0.5786629868706473, -0.3604354290108231, 0.2873145928066404, 0.19750155695426078, -0.8480331396213573, 0.417599115069566, 1.8968061348373466, -0.8637792682058373, 1.6257780581247228, -0.8623822878043705, 0.4556310697362648, 0.8648090566042301, 0.7313030024535564, 2.2412089911543616, 0.47922271969325386, -2.2685243013314262, 0.04906054663673767, -1.498944857376424, 0.35060996571349773, -1.8836306877745341, -0.3262599784002874, -0.3782286761037799, -0.29946333506931067, 0.7508740231319113, 1.207476743985673, -0.7908941475885819, 1.3645664408744624, -0.3369882440756289, 0.31576705904068125, -0.7581710392004785, 1.1629083090850254, 0.349307505649559, 0.5313594705841929, 1.1053965751515706, -0.46012799965221596, 1.9386489652387204, -0.6788483704507831, -2.1840554947861524, 1.0198006550241243, 0.31529091115930113, 0.2241061424559845, -1.4119249854812994, 0.67559656553888, -0.4316193782730557, -1.4418982123850834, -1.2244517549484644, -0.156905996972589, -0.7081191788451137, 0.3311222601330798, -1.271135923083071, -1.6406037783928384, -0.7155308476950346, 0.07123578116279788, -0.09593250888678026, -3.21697202555598, 1.578719906595705, 0.19945974802986063, 0.7614590083524786, 0.947436823350358, -0.15283764572543185, -0.746368577035718, -0.4578868834298999, 0.7806486628818033, 2.0089091630328966, -0.3005203339251017, 0.41302694814666885, -0.4216556948739281, 0.8077852759929154, 0.6787555776336831, -0.6424320413366892, 1.0769566754877857, 0.9454046718505152, -0.416183530686335, 0.7665667379007157, 0.9349341829591532, 0.33304764522565167, -1.0951765638605833, 1.7175885746816932, 2.0570025387997637, -1.5297582991982859, -0.42968195284927535], \"xaxis\": \"x4\", \"y\": [-1.4863073708975698, -2.1850824021195616, -2.960827272545752, 0.638069862685476, 0.21377793975387355, -0.8154978341789988, -1.5739883105017602, 0.4318822775286287, -1.3265888287929182, 1.259183517429503, -0.017407080654257518, -0.10281927824957425, 0.05337750178968702, -0.6292896610597629, 0.38616052190444494, -0.22605631512131022, -0.09853750276821739, -1.1066396351534582, 0.9114796019739642, 0.29518110596127883, 0.5965871078261196, -0.6190242134296731, -0.9294887399068007, 0.24055976556184552, 0.05308689523824642, -0.32226287593468833, 1.063935624998341, -0.5072921436705043, -1.5377735821424616, -0.685396102123712, -2.605179870972897, -0.014336078140034441, 0.13052624885473935, -0.3793653369458108, 0.6065077500095933, -0.763188427541439, 2.170705302187318, -0.8878237136360704, 0.30600965400701974, -1.0163183411750913, 1.0624991809215645, -0.4412390260445293, 0.3651556864264858, -1.486978745096095, 1.664516514200354, 1.1997710720009844, -2.0555831792245747, 0.9235026440401792, 0.07848950119542743, 1.3431294743521662, 3.2765097706920816, -0.4934295310273326, 0.990094748628564, 2.0134383679368852, -2.287636557492431, 0.8224077368953896, -0.3560884397513596, -1.744011177010594, -0.034766326276481054, -0.7374693628800136, -1.140617878297122, -0.28734548744461696, 0.5667681473808669, -0.9520658721364366, 0.9596448650717668, 0.3919613373221554, -0.9680655332483575, 0.42334251965705855, 1.772520654229283, 0.650698170834495, -1.1317667464189085, -1.8459395957855504, 0.8062363265030782, 0.3147212847950096, -1.057789454250701, -0.29795494761001645, 0.789773725362857, 1.083507179451289, -1.9468646653134738, -0.21824193932452937, 0.4675002253006263, 1.605648784272931, -0.8821948592590849, -1.0917912230779365, 0.06719803818297368, 0.770564006511959, 1.3408187755846943, 1.7074842570992093, 1.5703817547245793, 0.29386034266401145, -0.06716747238653473, 0.9434032958517293, -0.04607609878312643, -1.5422232108086, -0.7792537895554505, -0.3687631447341126, -0.09668785472371995, 1.067454982834531, 0.08877790370553766, 1.0971434149579615], \"yaxis\": \"y4\"}, {\"line\": {\"color\": \"rgba(128, 128, 128, 1.0)\", \"dash\": \"solid\", \"shape\": \"linear\", \"width\": 1.3}, \"marker\": {\"size\": 2, \"symbol\": \"circle\"}, \"mode\": \"markers\", \"name\": \"B\", \"text\": \"\", \"type\": \"scatter\", \"x\": [-1.4863073708975698, -2.1850824021195616, -2.960827272545752, 0.638069862685476, 0.21377793975387355, -0.8154978341789988, -1.5739883105017602, 0.4318822775286287, -1.3265888287929182, 1.259183517429503, -0.017407080654257518, -0.10281927824957425, 0.05337750178968702, -0.6292896610597629, 0.38616052190444494, -0.22605631512131022, -0.09853750276821739, -1.1066396351534582, 0.9114796019739642, 0.29518110596127883, 0.5965871078261196, -0.6190242134296731, -0.9294887399068007, 0.24055976556184552, 0.05308689523824642, -0.32226287593468833, 1.063935624998341, -0.5072921436705043, -1.5377735821424616, -0.685396102123712, -2.605179870972897, -0.014336078140034441, 0.13052624885473935, -0.3793653369458108, 0.6065077500095933, -0.763188427541439, 2.170705302187318, -0.8878237136360704, 0.30600965400701974, -1.0163183411750913, 1.0624991809215645, -0.4412390260445293, 0.3651556864264858, -1.486978745096095, 1.664516514200354, 1.1997710720009844, -2.0555831792245747, 0.9235026440401792, 0.07848950119542743, 1.3431294743521662, 3.2765097706920816, -0.4934295310273326, 0.990094748628564, 2.0134383679368852, -2.287636557492431, 0.8224077368953896, -0.3560884397513596, -1.744011177010594, -0.034766326276481054, -0.7374693628800136, -1.140617878297122, -0.28734548744461696, 0.5667681473808669, -0.9520658721364366, 0.9596448650717668, 0.3919613373221554, -0.9680655332483575, 0.42334251965705855, 1.772520654229283, 0.650698170834495, -1.1317667464189085, -1.8459395957855504, 0.8062363265030782, 0.3147212847950096, -1.057789454250701, -0.29795494761001645, 0.789773725362857, 1.083507179451289, -1.9468646653134738, -0.21824193932452937, 0.4675002253006263, 1.605648784272931, -0.8821948592590849, -1.0917912230779365, 0.06719803818297368, 0.770564006511959, 1.3408187755846943, 1.7074842570992093, 1.5703817547245793, 0.29386034266401145, -0.06716747238653473, 0.9434032958517293, -0.04607609878312643, -1.5422232108086, -0.7792537895554505, -0.3687631447341126, -0.09668785472371995, 1.067454982834531, 0.08877790370553766, 1.0971434149579615], \"xaxis\": \"x5\", \"y\": [0.991862700951286, 0.24950253065649877, 0.3950093976649536, 0.6188708512930853, -0.7747954695629024, -0.6999267092916548, 0.0767008924504014, 1.1329314657450371, 0.6433203381952936, 1.6131660962513228, 0.06043736850071907, 0.8713454604033425, -0.18930552552586122, 0.43833285799875565, -0.6995013195151322, -1.8064010468855245, 0.687905900643732, 1.396414503651976, -0.8072414603179552, 1.0587564990166214, -0.3796720805805881, -0.3195073545466219, -1.3298790867118577, 0.6457868122925032, -0.6441709957256099, -0.40827355746977784, -0.8355145027336962, 0.8677656888788933, -0.30118120675530397, 0.4963393424518228, 1.8997241764226496, 2.6281040905157247, 1.4377596195562439, -1.8840417497279667, -0.4534505483577321, -0.6109510793091015, 0.0151099174140034, 0.6113033544272953, -1.0671475176105258, -1.347816683912141, 0.05455733113361512, -0.4739243275402265, -0.45829014109480576, -0.726852510520777, -0.17788606157097492, -0.17897625981444226, 0.685167733415189, -1.9724384236155548, 0.7937847144227674, -1.1535059289831828, 0.5102192179387394, 0.8606104025042941, 1.795271491052051, 0.8545248489559998, 0.8939539538337453, 0.9961409783162299, -2.212550853061344, 0.7806743317887066, 1.1421746771338692, 0.2881768847509344, -0.18142864879455858, -1.196135981429346, -0.9432708001793368, -1.4910858898960022, -2.1374718013605234, 2.2207175524641616, 0.03019455031206788, 0.9877754416137221, 1.044919815072245, -0.4359856415997237, -2.556134407655902, 0.8257669498802955, -0.49672006283080633, -0.5433664670566228, -0.40402255151282734, -0.9041658119968088, 0.48220006883816724, 1.3853556377901446, 0.6436047187928708, 0.08846144335836506, -0.1682423067605211, 0.17385203610914976, -0.5620543658393782, 1.1000045334205817, 0.8449228133014679, 2.0693586894798575, 0.556074393022577, -0.09675473988838523, -1.4876250381532938, -0.49795804936956967, -2.1141074948250784, 0.6731424953480482, -0.5486912328010581, -1.9787097456859963, -0.45434678245835275, 0.5868522472967778, 0.09853414803666562, -0.49452835762931896, -2.116011155396429, -0.05396114288166204], \"yaxis\": \"y5\"}, {\"histfunc\": \"count\", \"histnorm\": \"\", \"marker\": {\"color\": \"rgba(55, 128, 191, 1.0)\", \"line\": {\"color\": \"#4D5663\", \"width\": 1.3}}, \"name\": \"B\", \"nbinsx\": 10, \"opacity\": 0.8, \"orientation\": \"v\", \"type\": \"histogram\", \"x\": [0.991862700951286, 0.24950253065649877, 0.3950093976649536, 0.6188708512930853, -0.7747954695629024, -0.6999267092916548, 0.0767008924504014, 1.1329314657450371, 0.6433203381952936, 1.6131660962513228, 0.06043736850071907, 0.8713454604033425, -0.18930552552586122, 0.43833285799875565, -0.6995013195151322, -1.8064010468855245, 0.687905900643732, 1.396414503651976, -0.8072414603179552, 1.0587564990166214, -0.3796720805805881, -0.3195073545466219, -1.3298790867118577, 0.6457868122925032, -0.6441709957256099, -0.40827355746977784, -0.8355145027336962, 0.8677656888788933, -0.30118120675530397, 0.4963393424518228, 1.8997241764226496, 2.6281040905157247, 1.4377596195562439, -1.8840417497279667, -0.4534505483577321, -0.6109510793091015, 0.0151099174140034, 0.6113033544272953, -1.0671475176105258, -1.347816683912141, 0.05455733113361512, -0.4739243275402265, -0.45829014109480576, -0.726852510520777, -0.17788606157097492, -0.17897625981444226, 0.685167733415189, -1.9724384236155548, 0.7937847144227674, -1.1535059289831828, 0.5102192179387394, 0.8606104025042941, 1.795271491052051, 0.8545248489559998, 0.8939539538337453, 0.9961409783162299, -2.212550853061344, 0.7806743317887066, 1.1421746771338692, 0.2881768847509344, -0.18142864879455858, -1.196135981429346, -0.9432708001793368, -1.4910858898960022, -2.1374718013605234, 2.2207175524641616, 0.03019455031206788, 0.9877754416137221, 1.044919815072245, -0.4359856415997237, -2.556134407655902, 0.8257669498802955, -0.49672006283080633, -0.5433664670566228, -0.40402255151282734, -0.9041658119968088, 0.48220006883816724, 1.3853556377901446, 0.6436047187928708, 0.08846144335836506, -0.1682423067605211, 0.17385203610914976, -0.5620543658393782, 1.1000045334205817, 0.8449228133014679, 2.0693586894798575, 0.556074393022577, -0.09675473988838523, -1.4876250381532938, -0.49795804936956967, -2.1141074948250784, 0.6731424953480482, -0.5486912328010581, -1.9787097456859963, -0.45434678245835275, 0.5868522472967778, 0.09853414803666562, -0.49452835762931896, -2.116011155396429, -0.05396114288166204], \"xaxis\": \"x6\", \"yaxis\": \"y6\"}, {\"line\": {\"color\": \"rgba(128, 128, 128, 1.0)\", \"dash\": \"solid\", \"shape\": \"linear\", \"width\": 1.3}, \"marker\": {\"size\": 2, \"symbol\": \"circle\"}, \"mode\": \"markers\", \"name\": \"B\", \"text\": \"\", \"type\": \"scatter\", \"x\": [-0.3753741788856934, 0.5679662611009498, 0.4677313122351522, 1.711581076417976, -0.23277048837939648, -1.3267012027130738, 0.3739434057450148, -2.643571540323504, -1.145880614666761, 1.1928955037375057, 1.9863941652632737, 0.573430062744424, 0.8156376623031294, -0.2572022843431144, 0.9042432883188274, 0.3715434829837976, -2.0834161164323506, 1.5953862925501323, -0.2238261581980897, -0.1216764324691142, 0.2736288663987507, 1.4356667621173613, -2.1949481488151847, -1.3236141120670448, -1.0735945971051435, -1.3663346326509864, -0.0185940426044395, 1.8902953555195336, 0.567126228448343, -0.5789037243795288, -0.5755340178660493, 1.0550316165963012, 1.0441029808292899, -0.11420736861863401, 0.12524239868540765, 2.3400605491663047, -0.5782934311304733, 0.2108310203970129, 0.4039331862171811, 0.44360322247555956, -0.12085742117129346, -0.8439468871075504, -1.158756996162908, 0.15430035399347133, -0.06386858016005441, -0.5074262422549175, 0.11555993742750822, -0.5577283425727401, -0.47789084485793143, -1.6403711405172237, 0.4827664013390895, 1.8028155547633575, 1.4001098054136305, 0.3267302345742465, -0.4848670587721663, 0.09227216079736342, 0.07123892931472044, 1.3481163362612534, 1.0169867096972263, 0.6170681768119419, 0.22108609767698298, -0.7842927767017362, -1.915537043065621, 0.328018803408384, -1.7278938381029623, 0.43078382443629565, 2.0481051229562257, -0.7956971542699457, 0.5020823215935366, 0.6949890081830239, 0.5338802549188443, 1.4392317783792197, -0.11039014255304978, 0.8618715191435556, -1.2896289383655481, -0.02281907828284579, -1.3135449694462873, -0.4717030103235045, -0.8160617409124374, -1.1280099487793187, -1.6670501450748478, 0.7607906281945472, 0.2796867560346704, 0.017180080705273514, -0.0949567224231892, 0.00634285875947798, 0.3046419492352927, -1.014498313219501, 0.30306332735540786, 1.0227713330043546, -0.0836722027615909, -0.12612606064856932, 1.4807005920373766, -1.065714626827212, 0.9040155977160081, 1.4766809212757679, -0.5668708254940893, -1.5662672710340224, -1.5263870398107666, -0.2590630334259091], \"xaxis\": \"x7\", \"y\": [0.991862700951286, 0.24950253065649877, 0.3950093976649536, 0.6188708512930853, -0.7747954695629024, -0.6999267092916548, 0.0767008924504014, 1.1329314657450371, 0.6433203381952936, 1.6131660962513228, 0.06043736850071907, 0.8713454604033425, -0.18930552552586122, 0.43833285799875565, -0.6995013195151322, -1.8064010468855245, 0.687905900643732, 1.396414503651976, -0.8072414603179552, 1.0587564990166214, -0.3796720805805881, -0.3195073545466219, -1.3298790867118577, 0.6457868122925032, -0.6441709957256099, -0.40827355746977784, -0.8355145027336962, 0.8677656888788933, -0.30118120675530397, 0.4963393424518228, 1.8997241764226496, 2.6281040905157247, 1.4377596195562439, -1.8840417497279667, -0.4534505483577321, -0.6109510793091015, 0.0151099174140034, 0.6113033544272953, -1.0671475176105258, -1.347816683912141, 0.05455733113361512, -0.4739243275402265, -0.45829014109480576, -0.726852510520777, -0.17788606157097492, -0.17897625981444226, 0.685167733415189, -1.9724384236155548, 0.7937847144227674, -1.1535059289831828, 0.5102192179387394, 0.8606104025042941, 1.795271491052051, 0.8545248489559998, 0.8939539538337453, 0.9961409783162299, -2.212550853061344, 0.7806743317887066, 1.1421746771338692, 0.2881768847509344, -0.18142864879455858, -1.196135981429346, -0.9432708001793368, -1.4910858898960022, -2.1374718013605234, 2.2207175524641616, 0.03019455031206788, 0.9877754416137221, 1.044919815072245, -0.4359856415997237, -2.556134407655902, 0.8257669498802955, -0.49672006283080633, -0.5433664670566228, -0.40402255151282734, -0.9041658119968088, 0.48220006883816724, 1.3853556377901446, 0.6436047187928708, 0.08846144335836506, -0.1682423067605211, 0.17385203610914976, -0.5620543658393782, 1.1000045334205817, 0.8449228133014679, 2.0693586894798575, 0.556074393022577, -0.09675473988838523, -1.4876250381532938, -0.49795804936956967, -2.1141074948250784, 0.6731424953480482, -0.5486912328010581, -1.9787097456859963, -0.45434678245835275, 0.5868522472967778, 0.09853414803666562, -0.49452835762931896, -2.116011155396429, -0.05396114288166204], \"yaxis\": \"y7\"}, {\"line\": {\"color\": \"rgba(128, 128, 128, 1.0)\", \"dash\": \"solid\", \"shape\": \"linear\", \"width\": 1.3}, \"marker\": {\"size\": 2, \"symbol\": \"circle\"}, \"mode\": \"markers\", \"name\": \"B\", \"text\": \"\", \"type\": \"scatter\", \"x\": [2.0436691209421562, 0.1824761840116358, 0.5700043679018382, -0.22935727746462556, 0.7569207059020728, -0.14317016618902656, 0.21129156018164277, -0.2616089926871364, 1.4495406157464286, -0.9342860392352873, -0.09084447475739998, -1.565429635024042, -1.5406840105456636, -0.8559537704229165, -1.1114922404496523, 0.5063532674496958, 1.3487191387605066, 1.956255565670463, 1.8183720503917729, 0.5786629868706473, -0.3604354290108231, 0.2873145928066404, 0.19750155695426078, -0.8480331396213573, 0.417599115069566, 1.8968061348373466, -0.8637792682058373, 1.6257780581247228, -0.8623822878043705, 0.4556310697362648, 0.8648090566042301, 0.7313030024535564, 2.2412089911543616, 0.47922271969325386, -2.2685243013314262, 0.04906054663673767, -1.498944857376424, 0.35060996571349773, -1.8836306877745341, -0.3262599784002874, -0.3782286761037799, -0.29946333506931067, 0.7508740231319113, 1.207476743985673, -0.7908941475885819, 1.3645664408744624, -0.3369882440756289, 0.31576705904068125, -0.7581710392004785, 1.1629083090850254, 0.349307505649559, 0.5313594705841929, 1.1053965751515706, -0.46012799965221596, 1.9386489652387204, -0.6788483704507831, -2.1840554947861524, 1.0198006550241243, 0.31529091115930113, 0.2241061424559845, -1.4119249854812994, 0.67559656553888, -0.4316193782730557, -1.4418982123850834, -1.2244517549484644, -0.156905996972589, -0.7081191788451137, 0.3311222601330798, -1.271135923083071, -1.6406037783928384, -0.7155308476950346, 0.07123578116279788, -0.09593250888678026, -3.21697202555598, 1.578719906595705, 0.19945974802986063, 0.7614590083524786, 0.947436823350358, -0.15283764572543185, -0.746368577035718, -0.4578868834298999, 0.7806486628818033, 2.0089091630328966, -0.3005203339251017, 0.41302694814666885, -0.4216556948739281, 0.8077852759929154, 0.6787555776336831, -0.6424320413366892, 1.0769566754877857, 0.9454046718505152, -0.416183530686335, 0.7665667379007157, 0.9349341829591532, 0.33304764522565167, -1.0951765638605833, 1.7175885746816932, 2.0570025387997637, -1.5297582991982859, -0.42968195284927535], \"xaxis\": \"x8\", \"y\": [0.991862700951286, 0.24950253065649877, 0.3950093976649536, 0.6188708512930853, -0.7747954695629024, -0.6999267092916548, 0.0767008924504014, 1.1329314657450371, 0.6433203381952936, 1.6131660962513228, 0.06043736850071907, 0.8713454604033425, -0.18930552552586122, 0.43833285799875565, -0.6995013195151322, -1.8064010468855245, 0.687905900643732, 1.396414503651976, -0.8072414603179552, 1.0587564990166214, -0.3796720805805881, -0.3195073545466219, -1.3298790867118577, 0.6457868122925032, -0.6441709957256099, -0.40827355746977784, -0.8355145027336962, 0.8677656888788933, -0.30118120675530397, 0.4963393424518228, 1.8997241764226496, 2.6281040905157247, 1.4377596195562439, -1.8840417497279667, -0.4534505483577321, -0.6109510793091015, 0.0151099174140034, 0.6113033544272953, -1.0671475176105258, -1.347816683912141, 0.05455733113361512, -0.4739243275402265, -0.45829014109480576, -0.726852510520777, -0.17788606157097492, -0.17897625981444226, 0.685167733415189, -1.9724384236155548, 0.7937847144227674, -1.1535059289831828, 0.5102192179387394, 0.8606104025042941, 1.795271491052051, 0.8545248489559998, 0.8939539538337453, 0.9961409783162299, -2.212550853061344, 0.7806743317887066, 1.1421746771338692, 0.2881768847509344, -0.18142864879455858, -1.196135981429346, -0.9432708001793368, -1.4910858898960022, -2.1374718013605234, 2.2207175524641616, 0.03019455031206788, 0.9877754416137221, 1.044919815072245, -0.4359856415997237, -2.556134407655902, 0.8257669498802955, -0.49672006283080633, -0.5433664670566228, -0.40402255151282734, -0.9041658119968088, 0.48220006883816724, 1.3853556377901446, 0.6436047187928708, 0.08846144335836506, -0.1682423067605211, 0.17385203610914976, -0.5620543658393782, 1.1000045334205817, 0.8449228133014679, 2.0693586894798575, 0.556074393022577, -0.09675473988838523, -1.4876250381532938, -0.49795804936956967, -2.1141074948250784, 0.6731424953480482, -0.5486912328010581, -1.9787097456859963, -0.45434678245835275, 0.5868522472967778, 0.09853414803666562, -0.49452835762931896, -2.116011155396429, -0.05396114288166204], \"yaxis\": \"y8\"}, {\"line\": {\"color\": \"rgba(128, 128, 128, 1.0)\", \"dash\": \"solid\", \"shape\": \"linear\", \"width\": 1.3}, \"marker\": {\"size\": 2, \"symbol\": \"circle\"}, \"mode\": \"markers\", \"name\": \"C\", \"text\": \"\", \"type\": \"scatter\", \"x\": [-1.4863073708975698, -2.1850824021195616, -2.960827272545752, 0.638069862685476, 0.21377793975387355, -0.8154978341789988, -1.5739883105017602, 0.4318822775286287, -1.3265888287929182, 1.259183517429503, -0.017407080654257518, -0.10281927824957425, 0.05337750178968702, -0.6292896610597629, 0.38616052190444494, -0.22605631512131022, -0.09853750276821739, -1.1066396351534582, 0.9114796019739642, 0.29518110596127883, 0.5965871078261196, -0.6190242134296731, -0.9294887399068007, 0.24055976556184552, 0.05308689523824642, -0.32226287593468833, 1.063935624998341, -0.5072921436705043, -1.5377735821424616, -0.685396102123712, -2.605179870972897, -0.014336078140034441, 0.13052624885473935, -0.3793653369458108, 0.6065077500095933, -0.763188427541439, 2.170705302187318, -0.8878237136360704, 0.30600965400701974, -1.0163183411750913, 1.0624991809215645, -0.4412390260445293, 0.3651556864264858, -1.486978745096095, 1.664516514200354, 1.1997710720009844, -2.0555831792245747, 0.9235026440401792, 0.07848950119542743, 1.3431294743521662, 3.2765097706920816, -0.4934295310273326, 0.990094748628564, 2.0134383679368852, -2.287636557492431, 0.8224077368953896, -0.3560884397513596, -1.744011177010594, -0.034766326276481054, -0.7374693628800136, -1.140617878297122, -0.28734548744461696, 0.5667681473808669, -0.9520658721364366, 0.9596448650717668, 0.3919613373221554, -0.9680655332483575, 0.42334251965705855, 1.772520654229283, 0.650698170834495, -1.1317667464189085, -1.8459395957855504, 0.8062363265030782, 0.3147212847950096, -1.057789454250701, -0.29795494761001645, 0.789773725362857, 1.083507179451289, -1.9468646653134738, -0.21824193932452937, 0.4675002253006263, 1.605648784272931, -0.8821948592590849, -1.0917912230779365, 0.06719803818297368, 0.770564006511959, 1.3408187755846943, 1.7074842570992093, 1.5703817547245793, 0.29386034266401145, -0.06716747238653473, 0.9434032958517293, -0.04607609878312643, -1.5422232108086, -0.7792537895554505, -0.3687631447341126, -0.09668785472371995, 1.067454982834531, 0.08877790370553766, 1.0971434149579615], \"xaxis\": \"x9\", \"y\": [-0.3753741788856934, 0.5679662611009498, 0.4677313122351522, 1.711581076417976, -0.23277048837939648, -1.3267012027130738, 0.3739434057450148, -2.643571540323504, -1.145880614666761, 1.1928955037375057, 1.9863941652632737, 0.573430062744424, 0.8156376623031294, -0.2572022843431144, 0.9042432883188274, 0.3715434829837976, -2.0834161164323506, 1.5953862925501323, -0.2238261581980897, -0.1216764324691142, 0.2736288663987507, 1.4356667621173613, -2.1949481488151847, -1.3236141120670448, -1.0735945971051435, -1.3663346326509864, -0.0185940426044395, 1.8902953555195336, 0.567126228448343, -0.5789037243795288, -0.5755340178660493, 1.0550316165963012, 1.0441029808292899, -0.11420736861863401, 0.12524239868540765, 2.3400605491663047, -0.5782934311304733, 0.2108310203970129, 0.4039331862171811, 0.44360322247555956, -0.12085742117129346, -0.8439468871075504, -1.158756996162908, 0.15430035399347133, -0.06386858016005441, -0.5074262422549175, 0.11555993742750822, -0.5577283425727401, -0.47789084485793143, -1.6403711405172237, 0.4827664013390895, 1.8028155547633575, 1.4001098054136305, 0.3267302345742465, -0.4848670587721663, 0.09227216079736342, 0.07123892931472044, 1.3481163362612534, 1.0169867096972263, 0.6170681768119419, 0.22108609767698298, -0.7842927767017362, -1.915537043065621, 0.328018803408384, -1.7278938381029623, 0.43078382443629565, 2.0481051229562257, -0.7956971542699457, 0.5020823215935366, 0.6949890081830239, 0.5338802549188443, 1.4392317783792197, -0.11039014255304978, 0.8618715191435556, -1.2896289383655481, -0.02281907828284579, -1.3135449694462873, -0.4717030103235045, -0.8160617409124374, -1.1280099487793187, -1.6670501450748478, 0.7607906281945472, 0.2796867560346704, 0.017180080705273514, -0.0949567224231892, 0.00634285875947798, 0.3046419492352927, -1.014498313219501, 0.30306332735540786, 1.0227713330043546, -0.0836722027615909, -0.12612606064856932, 1.4807005920373766, -1.065714626827212, 0.9040155977160081, 1.4766809212757679, -0.5668708254940893, -1.5662672710340224, -1.5263870398107666, -0.2590630334259091], \"yaxis\": \"y9\"}, {\"line\": {\"color\": \"rgba(128, 128, 128, 1.0)\", \"dash\": \"solid\", \"shape\": \"linear\", \"width\": 1.3}, \"marker\": {\"size\": 2, \"symbol\": \"circle\"}, \"mode\": \"markers\", \"name\": \"C\", \"text\": \"\", \"type\": \"scatter\", \"x\": [0.991862700951286, 0.24950253065649877, 0.3950093976649536, 0.6188708512930853, -0.7747954695629024, -0.6999267092916548, 0.0767008924504014, 1.1329314657450371, 0.6433203381952936, 1.6131660962513228, 0.06043736850071907, 0.8713454604033425, -0.18930552552586122, 0.43833285799875565, -0.6995013195151322, -1.8064010468855245, 0.687905900643732, 1.396414503651976, -0.8072414603179552, 1.0587564990166214, -0.3796720805805881, -0.3195073545466219, -1.3298790867118577, 0.6457868122925032, -0.6441709957256099, -0.40827355746977784, -0.8355145027336962, 0.8677656888788933, -0.30118120675530397, 0.4963393424518228, 1.8997241764226496, 2.6281040905157247, 1.4377596195562439, -1.8840417497279667, -0.4534505483577321, -0.6109510793091015, 0.0151099174140034, 0.6113033544272953, -1.0671475176105258, -1.347816683912141, 0.05455733113361512, -0.4739243275402265, -0.45829014109480576, -0.726852510520777, -0.17788606157097492, -0.17897625981444226, 0.685167733415189, -1.9724384236155548, 0.7937847144227674, -1.1535059289831828, 0.5102192179387394, 0.8606104025042941, 1.795271491052051, 0.8545248489559998, 0.8939539538337453, 0.9961409783162299, -2.212550853061344, 0.7806743317887066, 1.1421746771338692, 0.2881768847509344, -0.18142864879455858, -1.196135981429346, -0.9432708001793368, -1.4910858898960022, -2.1374718013605234, 2.2207175524641616, 0.03019455031206788, 0.9877754416137221, 1.044919815072245, -0.4359856415997237, -2.556134407655902, 0.8257669498802955, -0.49672006283080633, -0.5433664670566228, -0.40402255151282734, -0.9041658119968088, 0.48220006883816724, 1.3853556377901446, 0.6436047187928708, 0.08846144335836506, -0.1682423067605211, 0.17385203610914976, -0.5620543658393782, 1.1000045334205817, 0.8449228133014679, 2.0693586894798575, 0.556074393022577, -0.09675473988838523, -1.4876250381532938, -0.49795804936956967, -2.1141074948250784, 0.6731424953480482, -0.5486912328010581, -1.9787097456859963, -0.45434678245835275, 0.5868522472967778, 0.09853414803666562, -0.49452835762931896, -2.116011155396429, -0.05396114288166204], \"xaxis\": \"x10\", \"y\": [-0.3753741788856934, 0.5679662611009498, 0.4677313122351522, 1.711581076417976, -0.23277048837939648, -1.3267012027130738, 0.3739434057450148, -2.643571540323504, -1.145880614666761, 1.1928955037375057, 1.9863941652632737, 0.573430062744424, 0.8156376623031294, -0.2572022843431144, 0.9042432883188274, 0.3715434829837976, -2.0834161164323506, 1.5953862925501323, -0.2238261581980897, -0.1216764324691142, 0.2736288663987507, 1.4356667621173613, -2.1949481488151847, -1.3236141120670448, -1.0735945971051435, -1.3663346326509864, -0.0185940426044395, 1.8902953555195336, 0.567126228448343, -0.5789037243795288, -0.5755340178660493, 1.0550316165963012, 1.0441029808292899, -0.11420736861863401, 0.12524239868540765, 2.3400605491663047, -0.5782934311304733, 0.2108310203970129, 0.4039331862171811, 0.44360322247555956, -0.12085742117129346, -0.8439468871075504, -1.158756996162908, 0.15430035399347133, -0.06386858016005441, -0.5074262422549175, 0.11555993742750822, -0.5577283425727401, -0.47789084485793143, -1.6403711405172237, 0.4827664013390895, 1.8028155547633575, 1.4001098054136305, 0.3267302345742465, -0.4848670587721663, 0.09227216079736342, 0.07123892931472044, 1.3481163362612534, 1.0169867096972263, 0.6170681768119419, 0.22108609767698298, -0.7842927767017362, -1.915537043065621, 0.328018803408384, -1.7278938381029623, 0.43078382443629565, 2.0481051229562257, -0.7956971542699457, 0.5020823215935366, 0.6949890081830239, 0.5338802549188443, 1.4392317783792197, -0.11039014255304978, 0.8618715191435556, -1.2896289383655481, -0.02281907828284579, -1.3135449694462873, -0.4717030103235045, -0.8160617409124374, -1.1280099487793187, -1.6670501450748478, 0.7607906281945472, 0.2796867560346704, 0.017180080705273514, -0.0949567224231892, 0.00634285875947798, 0.3046419492352927, -1.014498313219501, 0.30306332735540786, 1.0227713330043546, -0.0836722027615909, -0.12612606064856932, 1.4807005920373766, -1.065714626827212, 0.9040155977160081, 1.4766809212757679, -0.5668708254940893, -1.5662672710340224, -1.5263870398107666, -0.2590630334259091], \"yaxis\": \"y10\"}, {\"histfunc\": \"count\", \"histnorm\": \"\", \"marker\": {\"color\": \"rgba(50, 171, 96, 1.0)\", \"line\": {\"color\": \"#4D5663\", \"width\": 1.3}}, \"name\": \"C\", \"nbinsx\": 10, \"opacity\": 0.8, \"orientation\": \"v\", \"type\": \"histogram\", \"x\": [-0.3753741788856934, 0.5679662611009498, 0.4677313122351522, 1.711581076417976, -0.23277048837939648, -1.3267012027130738, 0.3739434057450148, -2.643571540323504, -1.145880614666761, 1.1928955037375057, 1.9863941652632737, 0.573430062744424, 0.8156376623031294, -0.2572022843431144, 0.9042432883188274, 0.3715434829837976, -2.0834161164323506, 1.5953862925501323, -0.2238261581980897, -0.1216764324691142, 0.2736288663987507, 1.4356667621173613, -2.1949481488151847, -1.3236141120670448, -1.0735945971051435, -1.3663346326509864, -0.0185940426044395, 1.8902953555195336, 0.567126228448343, -0.5789037243795288, -0.5755340178660493, 1.0550316165963012, 1.0441029808292899, -0.11420736861863401, 0.12524239868540765, 2.3400605491663047, -0.5782934311304733, 0.2108310203970129, 0.4039331862171811, 0.44360322247555956, -0.12085742117129346, -0.8439468871075504, -1.158756996162908, 0.15430035399347133, -0.06386858016005441, -0.5074262422549175, 0.11555993742750822, -0.5577283425727401, -0.47789084485793143, -1.6403711405172237, 0.4827664013390895, 1.8028155547633575, 1.4001098054136305, 0.3267302345742465, -0.4848670587721663, 0.09227216079736342, 0.07123892931472044, 1.3481163362612534, 1.0169867096972263, 0.6170681768119419, 0.22108609767698298, -0.7842927767017362, -1.915537043065621, 0.328018803408384, -1.7278938381029623, 0.43078382443629565, 2.0481051229562257, -0.7956971542699457, 0.5020823215935366, 0.6949890081830239, 0.5338802549188443, 1.4392317783792197, -0.11039014255304978, 0.8618715191435556, -1.2896289383655481, -0.02281907828284579, -1.3135449694462873, -0.4717030103235045, -0.8160617409124374, -1.1280099487793187, -1.6670501450748478, 0.7607906281945472, 0.2796867560346704, 0.017180080705273514, -0.0949567224231892, 0.00634285875947798, 0.3046419492352927, -1.014498313219501, 0.30306332735540786, 1.0227713330043546, -0.0836722027615909, -0.12612606064856932, 1.4807005920373766, -1.065714626827212, 0.9040155977160081, 1.4766809212757679, -0.5668708254940893, -1.5662672710340224, -1.5263870398107666, -0.2590630334259091], \"xaxis\": \"x11\", \"yaxis\": \"y11\"}, {\"line\": {\"color\": \"rgba(128, 128, 128, 1.0)\", \"dash\": \"solid\", \"shape\": \"linear\", \"width\": 1.3}, \"marker\": {\"size\": 2, \"symbol\": \"circle\"}, \"mode\": \"markers\", \"name\": \"C\", \"text\": \"\", \"type\": \"scatter\", \"x\": [2.0436691209421562, 0.1824761840116358, 0.5700043679018382, -0.22935727746462556, 0.7569207059020728, -0.14317016618902656, 0.21129156018164277, -0.2616089926871364, 1.4495406157464286, -0.9342860392352873, -0.09084447475739998, -1.565429635024042, -1.5406840105456636, -0.8559537704229165, -1.1114922404496523, 0.5063532674496958, 1.3487191387605066, 1.956255565670463, 1.8183720503917729, 0.5786629868706473, -0.3604354290108231, 0.2873145928066404, 0.19750155695426078, -0.8480331396213573, 0.417599115069566, 1.8968061348373466, -0.8637792682058373, 1.6257780581247228, -0.8623822878043705, 0.4556310697362648, 0.8648090566042301, 0.7313030024535564, 2.2412089911543616, 0.47922271969325386, -2.2685243013314262, 0.04906054663673767, -1.498944857376424, 0.35060996571349773, -1.8836306877745341, -0.3262599784002874, -0.3782286761037799, -0.29946333506931067, 0.7508740231319113, 1.207476743985673, -0.7908941475885819, 1.3645664408744624, -0.3369882440756289, 0.31576705904068125, -0.7581710392004785, 1.1629083090850254, 0.349307505649559, 0.5313594705841929, 1.1053965751515706, -0.46012799965221596, 1.9386489652387204, -0.6788483704507831, -2.1840554947861524, 1.0198006550241243, 0.31529091115930113, 0.2241061424559845, -1.4119249854812994, 0.67559656553888, -0.4316193782730557, -1.4418982123850834, -1.2244517549484644, -0.156905996972589, -0.7081191788451137, 0.3311222601330798, -1.271135923083071, -1.6406037783928384, -0.7155308476950346, 0.07123578116279788, -0.09593250888678026, -3.21697202555598, 1.578719906595705, 0.19945974802986063, 0.7614590083524786, 0.947436823350358, -0.15283764572543185, -0.746368577035718, -0.4578868834298999, 0.7806486628818033, 2.0089091630328966, -0.3005203339251017, 0.41302694814666885, -0.4216556948739281, 0.8077852759929154, 0.6787555776336831, -0.6424320413366892, 1.0769566754877857, 0.9454046718505152, -0.416183530686335, 0.7665667379007157, 0.9349341829591532, 0.33304764522565167, -1.0951765638605833, 1.7175885746816932, 2.0570025387997637, -1.5297582991982859, -0.42968195284927535], \"xaxis\": \"x12\", \"y\": [-0.3753741788856934, 0.5679662611009498, 0.4677313122351522, 1.711581076417976, -0.23277048837939648, -1.3267012027130738, 0.3739434057450148, -2.643571540323504, -1.145880614666761, 1.1928955037375057, 1.9863941652632737, 0.573430062744424, 0.8156376623031294, -0.2572022843431144, 0.9042432883188274, 0.3715434829837976, -2.0834161164323506, 1.5953862925501323, -0.2238261581980897, -0.1216764324691142, 0.2736288663987507, 1.4356667621173613, -2.1949481488151847, -1.3236141120670448, -1.0735945971051435, -1.3663346326509864, -0.0185940426044395, 1.8902953555195336, 0.567126228448343, -0.5789037243795288, -0.5755340178660493, 1.0550316165963012, 1.0441029808292899, -0.11420736861863401, 0.12524239868540765, 2.3400605491663047, -0.5782934311304733, 0.2108310203970129, 0.4039331862171811, 0.44360322247555956, -0.12085742117129346, -0.8439468871075504, -1.158756996162908, 0.15430035399347133, -0.06386858016005441, -0.5074262422549175, 0.11555993742750822, -0.5577283425727401, -0.47789084485793143, -1.6403711405172237, 0.4827664013390895, 1.8028155547633575, 1.4001098054136305, 0.3267302345742465, -0.4848670587721663, 0.09227216079736342, 0.07123892931472044, 1.3481163362612534, 1.0169867096972263, 0.6170681768119419, 0.22108609767698298, -0.7842927767017362, -1.915537043065621, 0.328018803408384, -1.7278938381029623, 0.43078382443629565, 2.0481051229562257, -0.7956971542699457, 0.5020823215935366, 0.6949890081830239, 0.5338802549188443, 1.4392317783792197, -0.11039014255304978, 0.8618715191435556, -1.2896289383655481, -0.02281907828284579, -1.3135449694462873, -0.4717030103235045, -0.8160617409124374, -1.1280099487793187, -1.6670501450748478, 0.7607906281945472, 0.2796867560346704, 0.017180080705273514, -0.0949567224231892, 0.00634285875947798, 0.3046419492352927, -1.014498313219501, 0.30306332735540786, 1.0227713330043546, -0.0836722027615909, -0.12612606064856932, 1.4807005920373766, -1.065714626827212, 0.9040155977160081, 1.4766809212757679, -0.5668708254940893, -1.5662672710340224, -1.5263870398107666, -0.2590630334259091], \"yaxis\": \"y12\"}, {\"line\": {\"color\": \"rgba(128, 128, 128, 1.0)\", \"dash\": \"solid\", \"shape\": \"linear\", \"width\": 1.3}, \"marker\": {\"size\": 2, \"symbol\": \"circle\"}, \"mode\": \"markers\", \"name\": \"D\", \"text\": \"\", \"type\": \"scatter\", \"x\": [-1.4863073708975698, -2.1850824021195616, -2.960827272545752, 0.638069862685476, 0.21377793975387355, -0.8154978341789988, -1.5739883105017602, 0.4318822775286287, -1.3265888287929182, 1.259183517429503, -0.017407080654257518, -0.10281927824957425, 0.05337750178968702, -0.6292896610597629, 0.38616052190444494, -0.22605631512131022, -0.09853750276821739, -1.1066396351534582, 0.9114796019739642, 0.29518110596127883, 0.5965871078261196, -0.6190242134296731, -0.9294887399068007, 0.24055976556184552, 0.05308689523824642, -0.32226287593468833, 1.063935624998341, -0.5072921436705043, -1.5377735821424616, -0.685396102123712, -2.605179870972897, -0.014336078140034441, 0.13052624885473935, -0.3793653369458108, 0.6065077500095933, -0.763188427541439, 2.170705302187318, -0.8878237136360704, 0.30600965400701974, -1.0163183411750913, 1.0624991809215645, -0.4412390260445293, 0.3651556864264858, -1.486978745096095, 1.664516514200354, 1.1997710720009844, -2.0555831792245747, 0.9235026440401792, 0.07848950119542743, 1.3431294743521662, 3.2765097706920816, -0.4934295310273326, 0.990094748628564, 2.0134383679368852, -2.287636557492431, 0.8224077368953896, -0.3560884397513596, -1.744011177010594, -0.034766326276481054, -0.7374693628800136, -1.140617878297122, -0.28734548744461696, 0.5667681473808669, -0.9520658721364366, 0.9596448650717668, 0.3919613373221554, -0.9680655332483575, 0.42334251965705855, 1.772520654229283, 0.650698170834495, -1.1317667464189085, -1.8459395957855504, 0.8062363265030782, 0.3147212847950096, -1.057789454250701, -0.29795494761001645, 0.789773725362857, 1.083507179451289, -1.9468646653134738, -0.21824193932452937, 0.4675002253006263, 1.605648784272931, -0.8821948592590849, -1.0917912230779365, 0.06719803818297368, 0.770564006511959, 1.3408187755846943, 1.7074842570992093, 1.5703817547245793, 0.29386034266401145, -0.06716747238653473, 0.9434032958517293, -0.04607609878312643, -1.5422232108086, -0.7792537895554505, -0.3687631447341126, -0.09668785472371995, 1.067454982834531, 0.08877790370553766, 1.0971434149579615], \"xaxis\": \"x13\", \"y\": [2.0436691209421562, 0.1824761840116358, 0.5700043679018382, -0.22935727746462556, 0.7569207059020728, -0.14317016618902656, 0.21129156018164277, -0.2616089926871364, 1.4495406157464286, -0.9342860392352873, -0.09084447475739998, -1.565429635024042, -1.5406840105456636, -0.8559537704229165, -1.1114922404496523, 0.5063532674496958, 1.3487191387605066, 1.956255565670463, 1.8183720503917729, 0.5786629868706473, -0.3604354290108231, 0.2873145928066404, 0.19750155695426078, -0.8480331396213573, 0.417599115069566, 1.8968061348373466, -0.8637792682058373, 1.6257780581247228, -0.8623822878043705, 0.4556310697362648, 0.8648090566042301, 0.7313030024535564, 2.2412089911543616, 0.47922271969325386, -2.2685243013314262, 0.04906054663673767, -1.498944857376424, 0.35060996571349773, -1.8836306877745341, -0.3262599784002874, -0.3782286761037799, -0.29946333506931067, 0.7508740231319113, 1.207476743985673, -0.7908941475885819, 1.3645664408744624, -0.3369882440756289, 0.31576705904068125, -0.7581710392004785, 1.1629083090850254, 0.349307505649559, 0.5313594705841929, 1.1053965751515706, -0.46012799965221596, 1.9386489652387204, -0.6788483704507831, -2.1840554947861524, 1.0198006550241243, 0.31529091115930113, 0.2241061424559845, -1.4119249854812994, 0.67559656553888, -0.4316193782730557, -1.4418982123850834, -1.2244517549484644, -0.156905996972589, -0.7081191788451137, 0.3311222601330798, -1.271135923083071, -1.6406037783928384, -0.7155308476950346, 0.07123578116279788, -0.09593250888678026, -3.21697202555598, 1.578719906595705, 0.19945974802986063, 0.7614590083524786, 0.947436823350358, -0.15283764572543185, -0.746368577035718, -0.4578868834298999, 0.7806486628818033, 2.0089091630328966, -0.3005203339251017, 0.41302694814666885, -0.4216556948739281, 0.8077852759929154, 0.6787555776336831, -0.6424320413366892, 1.0769566754877857, 0.9454046718505152, -0.416183530686335, 0.7665667379007157, 0.9349341829591532, 0.33304764522565167, -1.0951765638605833, 1.7175885746816932, 2.0570025387997637, -1.5297582991982859, -0.42968195284927535], \"yaxis\": \"y13\"}, {\"line\": {\"color\": \"rgba(128, 128, 128, 1.0)\", \"dash\": \"solid\", \"shape\": \"linear\", \"width\": 1.3}, \"marker\": {\"size\": 2, \"symbol\": \"circle\"}, \"mode\": \"markers\", \"name\": \"D\", \"text\": \"\", \"type\": \"scatter\", \"x\": [0.991862700951286, 0.24950253065649877, 0.3950093976649536, 0.6188708512930853, -0.7747954695629024, -0.6999267092916548, 0.0767008924504014, 1.1329314657450371, 0.6433203381952936, 1.6131660962513228, 0.06043736850071907, 0.8713454604033425, -0.18930552552586122, 0.43833285799875565, -0.6995013195151322, -1.8064010468855245, 0.687905900643732, 1.396414503651976, -0.8072414603179552, 1.0587564990166214, -0.3796720805805881, -0.3195073545466219, -1.3298790867118577, 0.6457868122925032, -0.6441709957256099, -0.40827355746977784, -0.8355145027336962, 0.8677656888788933, -0.30118120675530397, 0.4963393424518228, 1.8997241764226496, 2.6281040905157247, 1.4377596195562439, -1.8840417497279667, -0.4534505483577321, -0.6109510793091015, 0.0151099174140034, 0.6113033544272953, -1.0671475176105258, -1.347816683912141, 0.05455733113361512, -0.4739243275402265, -0.45829014109480576, -0.726852510520777, -0.17788606157097492, -0.17897625981444226, 0.685167733415189, -1.9724384236155548, 0.7937847144227674, -1.1535059289831828, 0.5102192179387394, 0.8606104025042941, 1.795271491052051, 0.8545248489559998, 0.8939539538337453, 0.9961409783162299, -2.212550853061344, 0.7806743317887066, 1.1421746771338692, 0.2881768847509344, -0.18142864879455858, -1.196135981429346, -0.9432708001793368, -1.4910858898960022, -2.1374718013605234, 2.2207175524641616, 0.03019455031206788, 0.9877754416137221, 1.044919815072245, -0.4359856415997237, -2.556134407655902, 0.8257669498802955, -0.49672006283080633, -0.5433664670566228, -0.40402255151282734, -0.9041658119968088, 0.48220006883816724, 1.3853556377901446, 0.6436047187928708, 0.08846144335836506, -0.1682423067605211, 0.17385203610914976, -0.5620543658393782, 1.1000045334205817, 0.8449228133014679, 2.0693586894798575, 0.556074393022577, -0.09675473988838523, -1.4876250381532938, -0.49795804936956967, -2.1141074948250784, 0.6731424953480482, -0.5486912328010581, -1.9787097456859963, -0.45434678245835275, 0.5868522472967778, 0.09853414803666562, -0.49452835762931896, -2.116011155396429, -0.05396114288166204], \"xaxis\": \"x14\", \"y\": [2.0436691209421562, 0.1824761840116358, 0.5700043679018382, -0.22935727746462556, 0.7569207059020728, -0.14317016618902656, 0.21129156018164277, -0.2616089926871364, 1.4495406157464286, -0.9342860392352873, -0.09084447475739998, -1.565429635024042, -1.5406840105456636, -0.8559537704229165, -1.1114922404496523, 0.5063532674496958, 1.3487191387605066, 1.956255565670463, 1.8183720503917729, 0.5786629868706473, -0.3604354290108231, 0.2873145928066404, 0.19750155695426078, -0.8480331396213573, 0.417599115069566, 1.8968061348373466, -0.8637792682058373, 1.6257780581247228, -0.8623822878043705, 0.4556310697362648, 0.8648090566042301, 0.7313030024535564, 2.2412089911543616, 0.47922271969325386, -2.2685243013314262, 0.04906054663673767, -1.498944857376424, 0.35060996571349773, -1.8836306877745341, -0.3262599784002874, -0.3782286761037799, -0.29946333506931067, 0.7508740231319113, 1.207476743985673, -0.7908941475885819, 1.3645664408744624, -0.3369882440756289, 0.31576705904068125, -0.7581710392004785, 1.1629083090850254, 0.349307505649559, 0.5313594705841929, 1.1053965751515706, -0.46012799965221596, 1.9386489652387204, -0.6788483704507831, -2.1840554947861524, 1.0198006550241243, 0.31529091115930113, 0.2241061424559845, -1.4119249854812994, 0.67559656553888, -0.4316193782730557, -1.4418982123850834, -1.2244517549484644, -0.156905996972589, -0.7081191788451137, 0.3311222601330798, -1.271135923083071, -1.6406037783928384, -0.7155308476950346, 0.07123578116279788, -0.09593250888678026, -3.21697202555598, 1.578719906595705, 0.19945974802986063, 0.7614590083524786, 0.947436823350358, -0.15283764572543185, -0.746368577035718, -0.4578868834298999, 0.7806486628818033, 2.0089091630328966, -0.3005203339251017, 0.41302694814666885, -0.4216556948739281, 0.8077852759929154, 0.6787555776336831, -0.6424320413366892, 1.0769566754877857, 0.9454046718505152, -0.416183530686335, 0.7665667379007157, 0.9349341829591532, 0.33304764522565167, -1.0951765638605833, 1.7175885746816932, 2.0570025387997637, -1.5297582991982859, -0.42968195284927535], \"yaxis\": \"y14\"}, {\"line\": {\"color\": \"rgba(128, 128, 128, 1.0)\", \"dash\": \"solid\", \"shape\": \"linear\", \"width\": 1.3}, \"marker\": {\"size\": 2, \"symbol\": \"circle\"}, \"mode\": \"markers\", \"name\": \"D\", \"text\": \"\", \"type\": \"scatter\", \"x\": [-0.3753741788856934, 0.5679662611009498, 0.4677313122351522, 1.711581076417976, -0.23277048837939648, -1.3267012027130738, 0.3739434057450148, -2.643571540323504, -1.145880614666761, 1.1928955037375057, 1.9863941652632737, 0.573430062744424, 0.8156376623031294, -0.2572022843431144, 0.9042432883188274, 0.3715434829837976, -2.0834161164323506, 1.5953862925501323, -0.2238261581980897, -0.1216764324691142, 0.2736288663987507, 1.4356667621173613, -2.1949481488151847, -1.3236141120670448, -1.0735945971051435, -1.3663346326509864, -0.0185940426044395, 1.8902953555195336, 0.567126228448343, -0.5789037243795288, -0.5755340178660493, 1.0550316165963012, 1.0441029808292899, -0.11420736861863401, 0.12524239868540765, 2.3400605491663047, -0.5782934311304733, 0.2108310203970129, 0.4039331862171811, 0.44360322247555956, -0.12085742117129346, -0.8439468871075504, -1.158756996162908, 0.15430035399347133, -0.06386858016005441, -0.5074262422549175, 0.11555993742750822, -0.5577283425727401, -0.47789084485793143, -1.6403711405172237, 0.4827664013390895, 1.8028155547633575, 1.4001098054136305, 0.3267302345742465, -0.4848670587721663, 0.09227216079736342, 0.07123892931472044, 1.3481163362612534, 1.0169867096972263, 0.6170681768119419, 0.22108609767698298, -0.7842927767017362, -1.915537043065621, 0.328018803408384, -1.7278938381029623, 0.43078382443629565, 2.0481051229562257, -0.7956971542699457, 0.5020823215935366, 0.6949890081830239, 0.5338802549188443, 1.4392317783792197, -0.11039014255304978, 0.8618715191435556, -1.2896289383655481, -0.02281907828284579, -1.3135449694462873, -0.4717030103235045, -0.8160617409124374, -1.1280099487793187, -1.6670501450748478, 0.7607906281945472, 0.2796867560346704, 0.017180080705273514, -0.0949567224231892, 0.00634285875947798, 0.3046419492352927, -1.014498313219501, 0.30306332735540786, 1.0227713330043546, -0.0836722027615909, -0.12612606064856932, 1.4807005920373766, -1.065714626827212, 0.9040155977160081, 1.4766809212757679, -0.5668708254940893, -1.5662672710340224, -1.5263870398107666, -0.2590630334259091], \"xaxis\": \"x15\", \"y\": [2.0436691209421562, 0.1824761840116358, 0.5700043679018382, -0.22935727746462556, 0.7569207059020728, -0.14317016618902656, 0.21129156018164277, -0.2616089926871364, 1.4495406157464286, -0.9342860392352873, -0.09084447475739998, -1.565429635024042, -1.5406840105456636, -0.8559537704229165, -1.1114922404496523, 0.5063532674496958, 1.3487191387605066, 1.956255565670463, 1.8183720503917729, 0.5786629868706473, -0.3604354290108231, 0.2873145928066404, 0.19750155695426078, -0.8480331396213573, 0.417599115069566, 1.8968061348373466, -0.8637792682058373, 1.6257780581247228, -0.8623822878043705, 0.4556310697362648, 0.8648090566042301, 0.7313030024535564, 2.2412089911543616, 0.47922271969325386, -2.2685243013314262, 0.04906054663673767, -1.498944857376424, 0.35060996571349773, -1.8836306877745341, -0.3262599784002874, -0.3782286761037799, -0.29946333506931067, 0.7508740231319113, 1.207476743985673, -0.7908941475885819, 1.3645664408744624, -0.3369882440756289, 0.31576705904068125, -0.7581710392004785, 1.1629083090850254, 0.349307505649559, 0.5313594705841929, 1.1053965751515706, -0.46012799965221596, 1.9386489652387204, -0.6788483704507831, -2.1840554947861524, 1.0198006550241243, 0.31529091115930113, 0.2241061424559845, -1.4119249854812994, 0.67559656553888, -0.4316193782730557, -1.4418982123850834, -1.2244517549484644, -0.156905996972589, -0.7081191788451137, 0.3311222601330798, -1.271135923083071, -1.6406037783928384, -0.7155308476950346, 0.07123578116279788, -0.09593250888678026, -3.21697202555598, 1.578719906595705, 0.19945974802986063, 0.7614590083524786, 0.947436823350358, -0.15283764572543185, -0.746368577035718, -0.4578868834298999, 0.7806486628818033, 2.0089091630328966, -0.3005203339251017, 0.41302694814666885, -0.4216556948739281, 0.8077852759929154, 0.6787555776336831, -0.6424320413366892, 1.0769566754877857, 0.9454046718505152, -0.416183530686335, 0.7665667379007157, 0.9349341829591532, 0.33304764522565167, -1.0951765638605833, 1.7175885746816932, 2.0570025387997637, -1.5297582991982859, -0.42968195284927535], \"yaxis\": \"y15\"}, {\"histfunc\": \"count\", \"histnorm\": \"\", \"marker\": {\"color\": \"rgba(128, 0, 128, 1.0)\", \"line\": {\"color\": \"#4D5663\", \"width\": 1.3}}, \"name\": \"D\", \"nbinsx\": 10, \"opacity\": 0.8, \"orientation\": \"v\", \"type\": \"histogram\", \"x\": [2.0436691209421562, 0.1824761840116358, 0.5700043679018382, -0.22935727746462556, 0.7569207059020728, -0.14317016618902656, 0.21129156018164277, -0.2616089926871364, 1.4495406157464286, -0.9342860392352873, -0.09084447475739998, -1.565429635024042, -1.5406840105456636, -0.8559537704229165, -1.1114922404496523, 0.5063532674496958, 1.3487191387605066, 1.956255565670463, 1.8183720503917729, 0.5786629868706473, -0.3604354290108231, 0.2873145928066404, 0.19750155695426078, -0.8480331396213573, 0.417599115069566, 1.8968061348373466, -0.8637792682058373, 1.6257780581247228, -0.8623822878043705, 0.4556310697362648, 0.8648090566042301, 0.7313030024535564, 2.2412089911543616, 0.47922271969325386, -2.2685243013314262, 0.04906054663673767, -1.498944857376424, 0.35060996571349773, -1.8836306877745341, -0.3262599784002874, -0.3782286761037799, -0.29946333506931067, 0.7508740231319113, 1.207476743985673, -0.7908941475885819, 1.3645664408744624, -0.3369882440756289, 0.31576705904068125, -0.7581710392004785, 1.1629083090850254, 0.349307505649559, 0.5313594705841929, 1.1053965751515706, -0.46012799965221596, 1.9386489652387204, -0.6788483704507831, -2.1840554947861524, 1.0198006550241243, 0.31529091115930113, 0.2241061424559845, -1.4119249854812994, 0.67559656553888, -0.4316193782730557, -1.4418982123850834, -1.2244517549484644, -0.156905996972589, -0.7081191788451137, 0.3311222601330798, -1.271135923083071, -1.6406037783928384, -0.7155308476950346, 0.07123578116279788, -0.09593250888678026, -3.21697202555598, 1.578719906595705, 0.19945974802986063, 0.7614590083524786, 0.947436823350358, -0.15283764572543185, -0.746368577035718, -0.4578868834298999, 0.7806486628818033, 2.0089091630328966, -0.3005203339251017, 0.41302694814666885, -0.4216556948739281, 0.8077852759929154, 0.6787555776336831, -0.6424320413366892, 1.0769566754877857, 0.9454046718505152, -0.416183530686335, 0.7665667379007157, 0.9349341829591532, 0.33304764522565167, -1.0951765638605833, 1.7175885746816932, 2.0570025387997637, -1.5297582991982859, -0.42968195284927535], \"xaxis\": \"x16\", \"yaxis\": \"y16\"}],\n                        {\"bargap\": 0.02, \"legend\": {\"bgcolor\": \"#F5F6F9\", \"font\": {\"color\": \"#4D5663\"}}, \"paper_bgcolor\": \"#F5F6F9\", \"plot_bgcolor\": \"#F5F6F9\", \"showlegend\": false, \"template\": {\"data\": {\"bar\": [{\"error_x\": {\"color\": \"#2a3f5f\"}, \"error_y\": {\"color\": \"#2a3f5f\"}, \"marker\": {\"line\": {\"color\": \"#E5ECF6\", \"width\": 0.5}}, \"type\": \"bar\"}], \"barpolar\": [{\"marker\": {\"line\": {\"color\": \"#E5ECF6\", \"width\": 0.5}}, \"type\": \"barpolar\"}], \"carpet\": [{\"aaxis\": {\"endlinecolor\": \"#2a3f5f\", \"gridcolor\": \"white\", \"linecolor\": \"white\", \"minorgridcolor\": \"white\", \"startlinecolor\": \"#2a3f5f\"}, \"baxis\": {\"endlinecolor\": \"#2a3f5f\", \"gridcolor\": \"white\", \"linecolor\": \"white\", \"minorgridcolor\": \"white\", \"startlinecolor\": \"#2a3f5f\"}, \"type\": \"carpet\"}], \"choropleth\": [{\"colorbar\": {\"outlinewidth\": 0, \"ticks\": \"\"}, \"type\": \"choropleth\"}], \"contour\": [{\"colorbar\": {\"outlinewidth\": 0, \"ticks\": \"\"}, \"colorscale\": [[0.0, \"#0d0887\"], [0.1111111111111111, \"#46039f\"], [0.2222222222222222, \"#7201a8\"], [0.3333333333333333, \"#9c179e\"], [0.4444444444444444, \"#bd3786\"], [0.5555555555555556, \"#d8576b\"], [0.6666666666666666, \"#ed7953\"], [0.7777777777777778, \"#fb9f3a\"], [0.8888888888888888, \"#fdca26\"], [1.0, \"#f0f921\"]], \"type\": \"contour\"}], \"contourcarpet\": [{\"colorbar\": {\"outlinewidth\": 0, \"ticks\": \"\"}, \"type\": \"contourcarpet\"}], \"heatmap\": [{\"colorbar\": {\"outlinewidth\": 0, \"ticks\": \"\"}, \"colorscale\": [[0.0, \"#0d0887\"], [0.1111111111111111, \"#46039f\"], [0.2222222222222222, \"#7201a8\"], [0.3333333333333333, \"#9c179e\"], [0.4444444444444444, \"#bd3786\"], [0.5555555555555556, \"#d8576b\"], [0.6666666666666666, \"#ed7953\"], [0.7777777777777778, \"#fb9f3a\"], [0.8888888888888888, \"#fdca26\"], [1.0, \"#f0f921\"]], \"type\": \"heatmap\"}], \"heatmapgl\": [{\"colorbar\": {\"outlinewidth\": 0, \"ticks\": \"\"}, \"colorscale\": [[0.0, \"#0d0887\"], [0.1111111111111111, \"#46039f\"], [0.2222222222222222, \"#7201a8\"], [0.3333333333333333, \"#9c179e\"], [0.4444444444444444, \"#bd3786\"], [0.5555555555555556, \"#d8576b\"], [0.6666666666666666, \"#ed7953\"], [0.7777777777777778, \"#fb9f3a\"], [0.8888888888888888, \"#fdca26\"], [1.0, \"#f0f921\"]], \"type\": \"heatmapgl\"}], \"histogram\": [{\"marker\": {\"colorbar\": {\"outlinewidth\": 0, \"ticks\": \"\"}}, \"type\": \"histogram\"}], \"histogram2d\": [{\"colorbar\": {\"outlinewidth\": 0, \"ticks\": \"\"}, \"colorscale\": [[0.0, \"#0d0887\"], [0.1111111111111111, \"#46039f\"], [0.2222222222222222, \"#7201a8\"], [0.3333333333333333, \"#9c179e\"], [0.4444444444444444, \"#bd3786\"], [0.5555555555555556, \"#d8576b\"], [0.6666666666666666, \"#ed7953\"], [0.7777777777777778, \"#fb9f3a\"], [0.8888888888888888, \"#fdca26\"], [1.0, \"#f0f921\"]], \"type\": \"histogram2d\"}], \"histogram2dcontour\": [{\"colorbar\": {\"outlinewidth\": 0, \"ticks\": \"\"}, \"colorscale\": [[0.0, \"#0d0887\"], [0.1111111111111111, \"#46039f\"], [0.2222222222222222, \"#7201a8\"], [0.3333333333333333, \"#9c179e\"], [0.4444444444444444, \"#bd3786\"], [0.5555555555555556, \"#d8576b\"], [0.6666666666666666, \"#ed7953\"], [0.7777777777777778, \"#fb9f3a\"], [0.8888888888888888, \"#fdca26\"], [1.0, \"#f0f921\"]], \"type\": \"histogram2dcontour\"}], \"mesh3d\": [{\"colorbar\": {\"outlinewidth\": 0, \"ticks\": \"\"}, \"type\": \"mesh3d\"}], \"parcoords\": [{\"line\": {\"colorbar\": {\"outlinewidth\": 0, \"ticks\": \"\"}}, \"type\": \"parcoords\"}], \"pie\": [{\"automargin\": true, \"type\": \"pie\"}], \"scatter\": [{\"marker\": {\"colorbar\": {\"outlinewidth\": 0, \"ticks\": \"\"}}, \"type\": \"scatter\"}], \"scatter3d\": [{\"line\": {\"colorbar\": {\"outlinewidth\": 0, \"ticks\": \"\"}}, \"marker\": {\"colorbar\": {\"outlinewidth\": 0, \"ticks\": \"\"}}, \"type\": \"scatter3d\"}], \"scattercarpet\": [{\"marker\": {\"colorbar\": {\"outlinewidth\": 0, \"ticks\": \"\"}}, \"type\": \"scattercarpet\"}], \"scattergeo\": [{\"marker\": {\"colorbar\": {\"outlinewidth\": 0, \"ticks\": \"\"}}, \"type\": \"scattergeo\"}], \"scattergl\": [{\"marker\": {\"colorbar\": {\"outlinewidth\": 0, \"ticks\": \"\"}}, \"type\": \"scattergl\"}], \"scattermapbox\": [{\"marker\": {\"colorbar\": {\"outlinewidth\": 0, \"ticks\": \"\"}}, \"type\": \"scattermapbox\"}], \"scatterpolar\": [{\"marker\": {\"colorbar\": {\"outlinewidth\": 0, \"ticks\": \"\"}}, \"type\": \"scatterpolar\"}], \"scatterpolargl\": [{\"marker\": {\"colorbar\": {\"outlinewidth\": 0, \"ticks\": \"\"}}, \"type\": \"scatterpolargl\"}], \"scatterternary\": [{\"marker\": {\"colorbar\": {\"outlinewidth\": 0, \"ticks\": \"\"}}, \"type\": \"scatterternary\"}], \"surface\": [{\"colorbar\": {\"outlinewidth\": 0, \"ticks\": \"\"}, \"colorscale\": [[0.0, \"#0d0887\"], [0.1111111111111111, \"#46039f\"], [0.2222222222222222, \"#7201a8\"], [0.3333333333333333, \"#9c179e\"], [0.4444444444444444, \"#bd3786\"], [0.5555555555555556, \"#d8576b\"], [0.6666666666666666, \"#ed7953\"], [0.7777777777777778, \"#fb9f3a\"], [0.8888888888888888, \"#fdca26\"], [1.0, \"#f0f921\"]], \"type\": \"surface\"}], \"table\": [{\"cells\": {\"fill\": {\"color\": \"#EBF0F8\"}, \"line\": {\"color\": \"white\"}}, \"header\": {\"fill\": {\"color\": \"#C8D4E3\"}, \"line\": {\"color\": \"white\"}}, \"type\": \"table\"}]}, \"layout\": {\"annotationdefaults\": {\"arrowcolor\": \"#2a3f5f\", \"arrowhead\": 0, \"arrowwidth\": 1}, \"coloraxis\": {\"colorbar\": {\"outlinewidth\": 0, \"ticks\": \"\"}}, \"colorscale\": {\"diverging\": [[0, \"#8e0152\"], [0.1, \"#c51b7d\"], [0.2, \"#de77ae\"], [0.3, \"#f1b6da\"], [0.4, \"#fde0ef\"], [0.5, \"#f7f7f7\"], [0.6, \"#e6f5d0\"], [0.7, \"#b8e186\"], [0.8, \"#7fbc41\"], [0.9, \"#4d9221\"], [1, \"#276419\"]], \"sequential\": [[0.0, \"#0d0887\"], [0.1111111111111111, \"#46039f\"], [0.2222222222222222, \"#7201a8\"], [0.3333333333333333, \"#9c179e\"], [0.4444444444444444, \"#bd3786\"], [0.5555555555555556, \"#d8576b\"], [0.6666666666666666, \"#ed7953\"], [0.7777777777777778, \"#fb9f3a\"], [0.8888888888888888, \"#fdca26\"], [1.0, \"#f0f921\"]], \"sequentialminus\": [[0.0, \"#0d0887\"], [0.1111111111111111, \"#46039f\"], [0.2222222222222222, \"#7201a8\"], [0.3333333333333333, \"#9c179e\"], [0.4444444444444444, \"#bd3786\"], [0.5555555555555556, \"#d8576b\"], [0.6666666666666666, \"#ed7953\"], [0.7777777777777778, \"#fb9f3a\"], [0.8888888888888888, \"#fdca26\"], [1.0, \"#f0f921\"]]}, \"colorway\": [\"#636efa\", \"#EF553B\", \"#00cc96\", \"#ab63fa\", \"#FFA15A\", \"#19d3f3\", \"#FF6692\", \"#B6E880\", \"#FF97FF\", \"#FECB52\"], \"font\": {\"color\": \"#2a3f5f\"}, \"geo\": {\"bgcolor\": \"white\", \"lakecolor\": \"white\", \"landcolor\": \"#E5ECF6\", \"showlakes\": true, \"showland\": true, \"subunitcolor\": \"white\"}, \"hoverlabel\": {\"align\": \"left\"}, \"hovermode\": \"closest\", \"mapbox\": {\"style\": \"light\"}, \"paper_bgcolor\": \"white\", \"plot_bgcolor\": \"#E5ECF6\", \"polar\": {\"angularaxis\": {\"gridcolor\": \"white\", \"linecolor\": \"white\", \"ticks\": \"\"}, \"bgcolor\": \"#E5ECF6\", \"radialaxis\": {\"gridcolor\": \"white\", \"linecolor\": \"white\", \"ticks\": \"\"}}, \"scene\": {\"xaxis\": {\"backgroundcolor\": \"#E5ECF6\", \"gridcolor\": \"white\", \"gridwidth\": 2, \"linecolor\": \"white\", \"showbackground\": true, \"ticks\": \"\", \"zerolinecolor\": \"white\"}, \"yaxis\": {\"backgroundcolor\": \"#E5ECF6\", \"gridcolor\": \"white\", \"gridwidth\": 2, \"linecolor\": \"white\", \"showbackground\": true, \"ticks\": \"\", \"zerolinecolor\": \"white\"}, \"zaxis\": {\"backgroundcolor\": \"#E5ECF6\", \"gridcolor\": \"white\", \"gridwidth\": 2, \"linecolor\": \"white\", \"showbackground\": true, \"ticks\": \"\", \"zerolinecolor\": \"white\"}}, \"shapedefaults\": {\"line\": {\"color\": \"#2a3f5f\"}}, \"ternary\": {\"aaxis\": {\"gridcolor\": \"white\", \"linecolor\": \"white\", \"ticks\": \"\"}, \"baxis\": {\"gridcolor\": \"white\", \"linecolor\": \"white\", \"ticks\": \"\"}, \"bgcolor\": \"#E5ECF6\", \"caxis\": {\"gridcolor\": \"white\", \"linecolor\": \"white\", \"ticks\": \"\"}}, \"title\": {\"x\": 0.05}, \"xaxis\": {\"automargin\": true, \"gridcolor\": \"white\", \"linecolor\": \"white\", \"ticks\": \"\", \"title\": {\"standoff\": 15}, \"zerolinecolor\": \"white\", \"zerolinewidth\": 2}, \"yaxis\": {\"automargin\": true, \"gridcolor\": \"white\", \"linecolor\": \"white\", \"ticks\": \"\", \"title\": {\"standoff\": 15}, \"zerolinecolor\": \"white\", \"zerolinewidth\": 2}}}, \"title\": {\"font\": {\"color\": \"#4D5663\"}}, \"xaxis\": {\"anchor\": \"y\", \"domain\": [0.0, 0.2125], \"gridcolor\": \"#E1E5ED\", \"showgrid\": false, \"tickfont\": {\"color\": \"#4D5663\"}, \"title\": {\"font\": {\"color\": \"#4D5663\"}, \"text\": \"\"}, \"zerolinecolor\": \"#E1E5ED\"}, \"xaxis10\": {\"anchor\": \"y10\", \"domain\": [0.2625, 0.475], \"gridcolor\": \"#E1E5ED\", \"showgrid\": false, \"tickfont\": {\"color\": \"#4D5663\"}, \"title\": {\"font\": {\"color\": \"#4D5663\"}, \"text\": \"\"}, \"zerolinecolor\": \"#E1E5ED\"}, \"xaxis11\": {\"anchor\": \"y11\", \"domain\": [0.525, 0.7375], \"gridcolor\": \"#E1E5ED\", \"showgrid\": false, \"tickfont\": {\"color\": \"#4D5663\"}, \"title\": {\"font\": {\"color\": \"#4D5663\"}, \"text\": \"\"}, \"zerolinecolor\": \"#E1E5ED\"}, \"xaxis12\": {\"anchor\": \"y12\", \"domain\": [0.7875, 1.0], \"gridcolor\": \"#E1E5ED\", \"showgrid\": false, \"tickfont\": {\"color\": \"#4D5663\"}, \"title\": {\"font\": {\"color\": \"#4D5663\"}, \"text\": \"\"}, \"zerolinecolor\": \"#E1E5ED\"}, \"xaxis13\": {\"anchor\": \"y13\", \"domain\": [0.0, 0.2125], \"gridcolor\": \"#E1E5ED\", \"showgrid\": false, \"tickfont\": {\"color\": \"#4D5663\"}, \"title\": {\"font\": {\"color\": \"#4D5663\"}, \"text\": \"\"}, \"zerolinecolor\": \"#E1E5ED\"}, \"xaxis14\": {\"anchor\": \"y14\", \"domain\": [0.2625, 0.475], \"gridcolor\": \"#E1E5ED\", \"showgrid\": false, \"tickfont\": {\"color\": \"#4D5663\"}, \"title\": {\"font\": {\"color\": \"#4D5663\"}, \"text\": \"\"}, \"zerolinecolor\": \"#E1E5ED\"}, \"xaxis15\": {\"anchor\": \"y15\", \"domain\": [0.525, 0.7375], \"gridcolor\": \"#E1E5ED\", \"showgrid\": false, \"tickfont\": {\"color\": \"#4D5663\"}, \"title\": {\"font\": {\"color\": \"#4D5663\"}, \"text\": \"\"}, \"zerolinecolor\": \"#E1E5ED\"}, \"xaxis16\": {\"anchor\": \"y16\", \"domain\": [0.7875, 1.0], \"gridcolor\": \"#E1E5ED\", \"showgrid\": false, \"tickfont\": {\"color\": \"#4D5663\"}, \"title\": {\"font\": {\"color\": \"#4D5663\"}, \"text\": \"\"}, \"zerolinecolor\": \"#E1E5ED\"}, \"xaxis2\": {\"anchor\": \"y2\", \"domain\": [0.2625, 0.475], \"gridcolor\": \"#E1E5ED\", \"showgrid\": false, \"tickfont\": {\"color\": \"#4D5663\"}, \"title\": {\"font\": {\"color\": \"#4D5663\"}, \"text\": \"\"}, \"zerolinecolor\": \"#E1E5ED\"}, \"xaxis3\": {\"anchor\": \"y3\", \"domain\": [0.525, 0.7375], \"gridcolor\": \"#E1E5ED\", \"showgrid\": false, \"tickfont\": {\"color\": \"#4D5663\"}, \"title\": {\"font\": {\"color\": \"#4D5663\"}, \"text\": \"\"}, \"zerolinecolor\": \"#E1E5ED\"}, \"xaxis4\": {\"anchor\": \"y4\", \"domain\": [0.7875, 1.0], \"gridcolor\": \"#E1E5ED\", \"showgrid\": false, \"tickfont\": {\"color\": \"#4D5663\"}, \"title\": {\"font\": {\"color\": \"#4D5663\"}, \"text\": \"\"}, \"zerolinecolor\": \"#E1E5ED\"}, \"xaxis5\": {\"anchor\": \"y5\", \"domain\": [0.0, 0.2125], \"gridcolor\": \"#E1E5ED\", \"showgrid\": false, \"tickfont\": {\"color\": \"#4D5663\"}, \"title\": {\"font\": {\"color\": \"#4D5663\"}, \"text\": \"\"}, \"zerolinecolor\": \"#E1E5ED\"}, \"xaxis6\": {\"anchor\": \"y6\", \"domain\": [0.2625, 0.475], \"gridcolor\": \"#E1E5ED\", \"showgrid\": false, \"tickfont\": {\"color\": \"#4D5663\"}, \"title\": {\"font\": {\"color\": \"#4D5663\"}, \"text\": \"\"}, \"zerolinecolor\": \"#E1E5ED\"}, \"xaxis7\": {\"anchor\": \"y7\", \"domain\": [0.525, 0.7375], \"gridcolor\": \"#E1E5ED\", \"showgrid\": false, \"tickfont\": {\"color\": \"#4D5663\"}, \"title\": {\"font\": {\"color\": \"#4D5663\"}, \"text\": \"\"}, \"zerolinecolor\": \"#E1E5ED\"}, \"xaxis8\": {\"anchor\": \"y8\", \"domain\": [0.7875, 1.0], \"gridcolor\": \"#E1E5ED\", \"showgrid\": false, \"tickfont\": {\"color\": \"#4D5663\"}, \"title\": {\"font\": {\"color\": \"#4D5663\"}, \"text\": \"\"}, \"zerolinecolor\": \"#E1E5ED\"}, \"xaxis9\": {\"anchor\": \"y9\", \"domain\": [0.0, 0.2125], \"gridcolor\": \"#E1E5ED\", \"showgrid\": false, \"tickfont\": {\"color\": \"#4D5663\"}, \"title\": {\"font\": {\"color\": \"#4D5663\"}, \"text\": \"\"}, \"zerolinecolor\": \"#E1E5ED\"}, \"yaxis\": {\"anchor\": \"x\", \"domain\": [0.8025, 1.0], \"gridcolor\": \"#E1E5ED\", \"showgrid\": false, \"tickfont\": {\"color\": \"#4D5663\"}, \"title\": {\"font\": {\"color\": \"#4D5663\"}, \"text\": \"\"}, \"zerolinecolor\": \"#E1E5ED\"}, \"yaxis10\": {\"anchor\": \"x10\", \"domain\": [0.2675, 0.465], \"gridcolor\": \"#E1E5ED\", \"showgrid\": false, \"tickfont\": {\"color\": \"#4D5663\"}, \"title\": {\"font\": {\"color\": \"#4D5663\"}, \"text\": \"\"}, \"zerolinecolor\": \"#E1E5ED\"}, \"yaxis11\": {\"anchor\": \"x11\", \"domain\": [0.2675, 0.465], \"gridcolor\": \"#E1E5ED\", \"showgrid\": false, \"tickfont\": {\"color\": \"#4D5663\"}, \"title\": {\"font\": {\"color\": \"#4D5663\"}, \"text\": \"\"}, \"zerolinecolor\": \"#E1E5ED\"}, \"yaxis12\": {\"anchor\": \"x12\", \"domain\": [0.2675, 0.465], \"gridcolor\": \"#E1E5ED\", \"showgrid\": false, \"tickfont\": {\"color\": \"#4D5663\"}, \"title\": {\"font\": {\"color\": \"#4D5663\"}, \"text\": \"\"}, \"zerolinecolor\": \"#E1E5ED\"}, \"yaxis13\": {\"anchor\": \"x13\", \"domain\": [0.0, 0.1975], \"gridcolor\": \"#E1E5ED\", \"showgrid\": false, \"tickfont\": {\"color\": \"#4D5663\"}, \"title\": {\"font\": {\"color\": \"#4D5663\"}, \"text\": \"\"}, \"zerolinecolor\": \"#E1E5ED\"}, \"yaxis14\": {\"anchor\": \"x14\", \"domain\": [0.0, 0.1975], \"gridcolor\": \"#E1E5ED\", \"showgrid\": false, \"tickfont\": {\"color\": \"#4D5663\"}, \"title\": {\"font\": {\"color\": \"#4D5663\"}, \"text\": \"\"}, \"zerolinecolor\": \"#E1E5ED\"}, \"yaxis15\": {\"anchor\": \"x15\", \"domain\": [0.0, 0.1975], \"gridcolor\": \"#E1E5ED\", \"showgrid\": false, \"tickfont\": {\"color\": \"#4D5663\"}, \"title\": {\"font\": {\"color\": \"#4D5663\"}, \"text\": \"\"}, \"zerolinecolor\": \"#E1E5ED\"}, \"yaxis16\": {\"anchor\": \"x16\", \"domain\": [0.0, 0.1975], \"gridcolor\": \"#E1E5ED\", \"showgrid\": false, \"tickfont\": {\"color\": \"#4D5663\"}, \"title\": {\"font\": {\"color\": \"#4D5663\"}, \"text\": \"\"}, \"zerolinecolor\": \"#E1E5ED\"}, \"yaxis2\": {\"anchor\": \"x2\", \"domain\": [0.8025, 1.0], \"gridcolor\": \"#E1E5ED\", \"showgrid\": false, \"tickfont\": {\"color\": \"#4D5663\"}, \"title\": {\"font\": {\"color\": \"#4D5663\"}, \"text\": \"\"}, \"zerolinecolor\": \"#E1E5ED\"}, \"yaxis3\": {\"anchor\": \"x3\", \"domain\": [0.8025, 1.0], \"gridcolor\": \"#E1E5ED\", \"showgrid\": false, \"tickfont\": {\"color\": \"#4D5663\"}, \"title\": {\"font\": {\"color\": \"#4D5663\"}, \"text\": \"\"}, \"zerolinecolor\": \"#E1E5ED\"}, \"yaxis4\": {\"anchor\": \"x4\", \"domain\": [0.8025, 1.0], \"gridcolor\": \"#E1E5ED\", \"showgrid\": false, \"tickfont\": {\"color\": \"#4D5663\"}, \"title\": {\"font\": {\"color\": \"#4D5663\"}, \"text\": \"\"}, \"zerolinecolor\": \"#E1E5ED\"}, \"yaxis5\": {\"anchor\": \"x5\", \"domain\": [0.535, 0.7325], \"gridcolor\": \"#E1E5ED\", \"showgrid\": false, \"tickfont\": {\"color\": \"#4D5663\"}, \"title\": {\"font\": {\"color\": \"#4D5663\"}, \"text\": \"\"}, \"zerolinecolor\": \"#E1E5ED\"}, \"yaxis6\": {\"anchor\": \"x6\", \"domain\": [0.535, 0.7325], \"gridcolor\": \"#E1E5ED\", \"showgrid\": false, \"tickfont\": {\"color\": \"#4D5663\"}, \"title\": {\"font\": {\"color\": \"#4D5663\"}, \"text\": \"\"}, \"zerolinecolor\": \"#E1E5ED\"}, \"yaxis7\": {\"anchor\": \"x7\", \"domain\": [0.535, 0.7325], \"gridcolor\": \"#E1E5ED\", \"showgrid\": false, \"tickfont\": {\"color\": \"#4D5663\"}, \"title\": {\"font\": {\"color\": \"#4D5663\"}, \"text\": \"\"}, \"zerolinecolor\": \"#E1E5ED\"}, \"yaxis8\": {\"anchor\": \"x8\", \"domain\": [0.535, 0.7325], \"gridcolor\": \"#E1E5ED\", \"showgrid\": false, \"tickfont\": {\"color\": \"#4D5663\"}, \"title\": {\"font\": {\"color\": \"#4D5663\"}, \"text\": \"\"}, \"zerolinecolor\": \"#E1E5ED\"}, \"yaxis9\": {\"anchor\": \"x9\", \"domain\": [0.2675, 0.465], \"gridcolor\": \"#E1E5ED\", \"showgrid\": false, \"tickfont\": {\"color\": \"#4D5663\"}, \"title\": {\"font\": {\"color\": \"#4D5663\"}, \"text\": \"\"}, \"zerolinecolor\": \"#E1E5ED\"}},\n                        {\"showLink\": true, \"linkText\": \"Export to plot.ly\", \"plotlyServerURL\": \"https://plot.ly\", \"responsive\": true}\n                    ).then(function(){\n                            \nvar gd = document.getElementById('f5490c16-8dbf-405f-ac47-094ee674d15a');\nvar x = new MutationObserver(function (mutations, observer) {{\n        var display = window.getComputedStyle(gd).display;\n        if (!display || display === 'none') {{\n            console.log([gd, 'removed!']);\n            Plotly.purge(gd);\n            observer.disconnect();\n        }}\n}});\n\n// Listen for the removal of the full notebook cells\nvar notebookContainer = gd.closest('#notebook-container');\nif (notebookContainer) {{\n    x.observe(notebookContainer, {childList: true});\n}}\n\n// Listen for the clearing of the current output cell\nvar outputEl = gd.closest('.output');\nif (outputEl) {{\n    x.observe(outputEl, {childList: true});\n}}\n\n                        })\n                };\n                });\n            </script>\n        </div>"
     },
     "metadata": {},
     "output_type": "display_data"
    }
   ],
   "source": [
    "df.scatter_matrix()"
   ],
   "metadata": {
    "collapsed": false,
    "pycharm": {
     "name": "#%%\n",
     "is_executing": false
    }
   }
  },
  {
   "cell_type": "code",
   "execution_count": null,
   "outputs": [],
   "source": [
    "\n"
   ],
   "metadata": {
    "collapsed": false,
    "pycharm": {
     "name": "#%%\n"
    }
   }
  }
 ],
 "metadata": {
  "kernelspec": {
   "display_name": "Python 3",
   "language": "python",
   "name": "python3"
  },
  "language_info": {
   "codemirror_mode": {
    "name": "ipython",
    "version": 3
   },
   "file_extension": ".py",
   "mimetype": "text/x-python",
   "name": "python",
   "nbconvert_exporter": "python",
   "pygments_lexer": "ipython3",
   "version": "3.7.4"
  },
  "pycharm": {
   "stem_cell": {
    "cell_type": "raw",
    "source": [],
    "metadata": {
     "collapsed": false
    }
   }
  }
 },
 "nbformat": 4,
 "nbformat_minor": 1
}