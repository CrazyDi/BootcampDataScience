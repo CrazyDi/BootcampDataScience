{
 "cells": [
  {
   "cell_type": "markdown",
   "metadata": {},
   "source": [
    "___\n",
    "\n",
    "<a href='http://www.pieriandata.com'> <img src='../../Pierian_Data_Logo.png' /></a>\n",
    "___\n",
    "# Ecommerce Purchases Exercise\n",
    "\n",
    "In this Exercise you will be given some Fake Data about some purchases done through Amazon! Just go ahead and follow the directions and try your best to answer the questions and complete the tasks. Feel free to reference the solutions. Most of the tasks can be solved in different ways. For the most part, the questions get progressively harder.\n",
    "\n",
    "Please excuse anything that doesn't make \"Real-World\" sense in the dataframe, all the data is fake and made-up.\n",
    "\n",
    "Also note that all of these questions can be answered with one line of code.\n",
    "____\n",
    "**Import pandas and read in the Ecommerce Purchases csv file and set it to a DataFrame called ecom.**"
   ]
  },
  {
   "cell_type": "code",
   "execution_count": 1,
   "metadata": {
    "collapsed": true,
    "pycharm": {
     "is_executing": false
    }
   },
   "outputs": [],
   "source": [
    "import pandas as pd"
   ]
  },
  {
   "cell_type": "code",
   "execution_count": 2,
   "metadata": {
    "collapsed": true,
    "pycharm": {
     "is_executing": false
    }
   },
   "outputs": [],
   "source": [
    "ecom = pd.read_csv('Ecommerce Purchases')"
   ]
  },
  {
   "cell_type": "markdown",
   "metadata": {},
   "source": [
    "**Check the head of the DataFrame.**"
   ]
  },
  {
   "cell_type": "code",
   "execution_count": 3,
   "metadata": {
    "collapsed": false,
    "pycharm": {
     "is_executing": false
    }
   },
   "outputs": [
    {
     "data": {
      "text/plain": "                                             Address    Lot AM or PM  \\\n0  16629 Pace Camp Apt. 448\\nAlexisborough, NE 77...  46 in       PM   \n1  9374 Jasmine Spurs Suite 508\\nSouth John, TN 8...  28 rn       PM   \n2                   Unit 0065 Box 5052\\nDPO AP 27450  94 vE       PM   \n3              7780 Julia Fords\\nNew Stacy, WA 45798  36 vm       PM   \n4  23012 Munoz Drive Suite 337\\nNew Cynthia, TX 5...  20 IE       AM   \n\n                                        Browser Info  \\\n0  Opera/9.56.(X11; Linux x86_64; sl-SI) Presto/2...   \n1  Opera/8.93.(Windows 98; Win 9x 4.90; en-US) Pr...   \n2  Mozilla/5.0 (compatible; MSIE 9.0; Windows NT ...   \n3  Mozilla/5.0 (Macintosh; Intel Mac OS X 10_8_0 ...   \n4  Opera/9.58.(X11; Linux x86_64; it-IT) Presto/2...   \n\n                           Company       Credit Card CC Exp Date  \\\n0                  Martinez-Herman  6011929061123406       02/20   \n1  Fletcher, Richards and Whitaker  3337758169645356       11/18   \n2       Simpson, Williams and Pham      675957666125       08/19   \n3  Williams, Marshall and Buchanan  6011578504430710       02/24   \n4        Brown, Watson and Andrews  6011456623207998       10/25   \n\n   CC Security Code                  CC Provider  \\\n0               900                 JCB 16 digit   \n1               561                   Mastercard   \n2               699                 JCB 16 digit   \n3               384                     Discover   \n4               678  Diners Club / Carte Blanche   \n\n                            Email                                     Job  \\\n0               pdunlap@yahoo.com  Scientist, product/process development   \n1              anthony41@reed.com                       Drilling engineer   \n2  amymiller@morales-harrison.com                Customer service manager   \n3     brent16@olson-robinson.info                       Drilling engineer   \n4     christopherwright@gmail.com                             Fine artist   \n\n        IP Address Language  Purchase Price  \n0  149.146.147.205       el           98.14  \n1     15.160.41.51       fr           70.73  \n2   132.207.160.22       de            0.95  \n3     30.250.74.19       es           78.04  \n4     24.140.33.94       es           77.82  ",
      "text/html": "<div>\n<style scoped>\n    .dataframe tbody tr th:only-of-type {\n        vertical-align: middle;\n    }\n\n    .dataframe tbody tr th {\n        vertical-align: top;\n    }\n\n    .dataframe thead th {\n        text-align: right;\n    }\n</style>\n<table border=\"1\" class=\"dataframe\">\n  <thead>\n    <tr style=\"text-align: right;\">\n      <th></th>\n      <th>Address</th>\n      <th>Lot</th>\n      <th>AM or PM</th>\n      <th>Browser Info</th>\n      <th>Company</th>\n      <th>Credit Card</th>\n      <th>CC Exp Date</th>\n      <th>CC Security Code</th>\n      <th>CC Provider</th>\n      <th>Email</th>\n      <th>Job</th>\n      <th>IP Address</th>\n      <th>Language</th>\n      <th>Purchase Price</th>\n    </tr>\n  </thead>\n  <tbody>\n    <tr>\n      <th>0</th>\n      <td>16629 Pace Camp Apt. 448\\nAlexisborough, NE 77...</td>\n      <td>46 in</td>\n      <td>PM</td>\n      <td>Opera/9.56.(X11; Linux x86_64; sl-SI) Presto/2...</td>\n      <td>Martinez-Herman</td>\n      <td>6011929061123406</td>\n      <td>02/20</td>\n      <td>900</td>\n      <td>JCB 16 digit</td>\n      <td>pdunlap@yahoo.com</td>\n      <td>Scientist, product/process development</td>\n      <td>149.146.147.205</td>\n      <td>el</td>\n      <td>98.14</td>\n    </tr>\n    <tr>\n      <th>1</th>\n      <td>9374 Jasmine Spurs Suite 508\\nSouth John, TN 8...</td>\n      <td>28 rn</td>\n      <td>PM</td>\n      <td>Opera/8.93.(Windows 98; Win 9x 4.90; en-US) Pr...</td>\n      <td>Fletcher, Richards and Whitaker</td>\n      <td>3337758169645356</td>\n      <td>11/18</td>\n      <td>561</td>\n      <td>Mastercard</td>\n      <td>anthony41@reed.com</td>\n      <td>Drilling engineer</td>\n      <td>15.160.41.51</td>\n      <td>fr</td>\n      <td>70.73</td>\n    </tr>\n    <tr>\n      <th>2</th>\n      <td>Unit 0065 Box 5052\\nDPO AP 27450</td>\n      <td>94 vE</td>\n      <td>PM</td>\n      <td>Mozilla/5.0 (compatible; MSIE 9.0; Windows NT ...</td>\n      <td>Simpson, Williams and Pham</td>\n      <td>675957666125</td>\n      <td>08/19</td>\n      <td>699</td>\n      <td>JCB 16 digit</td>\n      <td>amymiller@morales-harrison.com</td>\n      <td>Customer service manager</td>\n      <td>132.207.160.22</td>\n      <td>de</td>\n      <td>0.95</td>\n    </tr>\n    <tr>\n      <th>3</th>\n      <td>7780 Julia Fords\\nNew Stacy, WA 45798</td>\n      <td>36 vm</td>\n      <td>PM</td>\n      <td>Mozilla/5.0 (Macintosh; Intel Mac OS X 10_8_0 ...</td>\n      <td>Williams, Marshall and Buchanan</td>\n      <td>6011578504430710</td>\n      <td>02/24</td>\n      <td>384</td>\n      <td>Discover</td>\n      <td>brent16@olson-robinson.info</td>\n      <td>Drilling engineer</td>\n      <td>30.250.74.19</td>\n      <td>es</td>\n      <td>78.04</td>\n    </tr>\n    <tr>\n      <th>4</th>\n      <td>23012 Munoz Drive Suite 337\\nNew Cynthia, TX 5...</td>\n      <td>20 IE</td>\n      <td>AM</td>\n      <td>Opera/9.58.(X11; Linux x86_64; it-IT) Presto/2...</td>\n      <td>Brown, Watson and Andrews</td>\n      <td>6011456623207998</td>\n      <td>10/25</td>\n      <td>678</td>\n      <td>Diners Club / Carte Blanche</td>\n      <td>christopherwright@gmail.com</td>\n      <td>Fine artist</td>\n      <td>24.140.33.94</td>\n      <td>es</td>\n      <td>77.82</td>\n    </tr>\n  </tbody>\n</table>\n</div>"
     },
     "metadata": {},
     "output_type": "execute_result",
     "execution_count": 3
    }
   ],
   "source": [
    "ecom.head()"
   ]
  },
  {
   "cell_type": "markdown",
   "metadata": {},
   "source": [
    "**How many rows and columns are there?**"
   ]
  },
  {
   "cell_type": "code",
   "execution_count": 4,
   "metadata": {
    "collapsed": false,
    "pycharm": {
     "is_executing": false
    }
   },
   "outputs": [
    {
     "name": "stdout",
     "text": [
      "<class 'pandas.core.frame.DataFrame'>\n",
      "RangeIndex: 10000 entries, 0 to 9999\n",
      "Data columns (total 14 columns):\n",
      " #   Column            Non-Null Count  Dtype  \n",
      "---  ------            --------------  -----  \n",
      " 0   Address           10000 non-null  object \n",
      " 1   Lot               10000 non-null  object \n",
      " 2   AM or PM          10000 non-null  object \n",
      " 3   Browser Info      10000 non-null  object \n",
      " 4   Company           10000 non-null  object \n",
      " 5   Credit Card       10000 non-null  int64  \n",
      " 6   CC Exp Date       10000 non-null  object \n",
      " 7   CC Security Code  10000 non-null  int64  \n",
      " 8   CC Provider       10000 non-null  object \n",
      " 9   Email             10000 non-null  object \n",
      " 10  Job               10000 non-null  object \n",
      " 11  IP Address        10000 non-null  object \n",
      " 12  Language          10000 non-null  object \n",
      " 13  Purchase Price    10000 non-null  float64\n",
      "dtypes: float64(1), int64(2), object(11)\n",
      "memory usage: 664.1+ KB\n"
     ],
     "output_type": "stream"
    }
   ],
   "source": [
    "ecom.info()"
   ]
  },
  {
   "cell_type": "markdown",
   "metadata": {},
   "source": [
    "**What is the average Purchase Price?**"
   ]
  },
  {
   "cell_type": "code",
   "execution_count": 5,
   "metadata": {
    "collapsed": false,
    "pycharm": {
     "is_executing": false
    }
   },
   "outputs": [
    {
     "data": {
      "text/plain": "50.347302"
     },
     "metadata": {},
     "output_type": "execute_result",
     "execution_count": 5
    }
   ],
   "source": [
    "ecom['Purchase Price'].mean()"
   ]
  },
  {
   "cell_type": "markdown",
   "metadata": {},
   "source": [
    "**What were the highest and lowest purchase prices?**"
   ]
  },
  {
   "cell_type": "code",
   "execution_count": 6,
   "metadata": {
    "collapsed": false,
    "pycharm": {
     "is_executing": false
    }
   },
   "outputs": [
    {
     "data": {
      "text/plain": "99.99"
     },
     "metadata": {},
     "output_type": "execute_result",
     "execution_count": 6
    }
   ],
   "source": [
    "ecom['Purchase Price'].max()"
   ]
  },
  {
   "cell_type": "code",
   "execution_count": 7,
   "metadata": {
    "collapsed": false,
    "pycharm": {
     "is_executing": false
    }
   },
   "outputs": [
    {
     "data": {
      "text/plain": "0.0"
     },
     "metadata": {},
     "output_type": "execute_result",
     "execution_count": 7
    }
   ],
   "source": [
    "ecom['Purchase Price'].min()"
   ]
  },
  {
   "cell_type": "markdown",
   "metadata": {},
   "source": [
    "**How many people have English 'en' as their Language of choice on the website?**"
   ]
  },
  {
   "cell_type": "code",
   "execution_count": 8,
   "metadata": {
    "collapsed": false,
    "pycharm": {
     "is_executing": false
    }
   },
   "outputs": [
    {
     "data": {
      "text/plain": "1098"
     },
     "metadata": {},
     "output_type": "execute_result",
     "execution_count": 8
    }
   ],
   "source": [
    "sum(ecom['Language'] == 'en')"
   ]
  },
  {
   "cell_type": "markdown",
   "metadata": {},
   "source": [
    "**How many people have the job title of \"Lawyer\" ?**\n"
   ]
  },
  {
   "cell_type": "code",
   "execution_count": 9,
   "metadata": {
    "collapsed": false,
    "pycharm": {
     "is_executing": false
    }
   },
   "outputs": [
    {
     "data": {
      "text/plain": "30"
     },
     "metadata": {},
     "output_type": "execute_result",
     "execution_count": 9
    }
   ],
   "source": [
    "sum(ecom['Job'] == 'Lawyer')"
   ]
  },
  {
   "cell_type": "markdown",
   "metadata": {},
   "source": [
    "**How many people made the purchase during the AM and how many people made the purchase during PM ?**\n",
    "\n",
    "**(Hint: Check out [value_counts()](http://pandas.pydata.org/pandas-docs/stable/generated/pandas.Series.value_counts.html) ) **"
   ]
  },
  {
   "cell_type": "code",
   "execution_count": 10,
   "metadata": {
    "collapsed": false,
    "pycharm": {
     "is_executing": false
    }
   },
   "outputs": [
    {
     "data": {
      "text/plain": "PM    5068\nAM    4932\nName: AM or PM, dtype: int64"
     },
     "metadata": {},
     "output_type": "execute_result",
     "execution_count": 10
    }
   ],
   "source": [
    "ecom['AM or PM'].value_counts()"
   ]
  },
  {
   "cell_type": "markdown",
   "metadata": {},
   "source": [
    "**What are the 5 most common Job Titles?**"
   ]
  },
  {
   "cell_type": "code",
   "execution_count": 13,
   "metadata": {
    "collapsed": false,
    "pycharm": {
     "is_executing": false
    }
   },
   "outputs": [
    {
     "data": {
      "text/plain": "Interior and spatial designer    31\nLawyer                           30\nSocial researcher                28\nDesigner, jewellery              27\nPurchasing manager               27\nName: Job, dtype: int64"
     },
     "metadata": {},
     "output_type": "execute_result",
     "execution_count": 13
    }
   ],
   "source": [
    "ecom['Job'].value_counts().sort_values(ascending=False).head(5)"
   ]
  },
  {
   "cell_type": "markdown",
   "metadata": {},
   "source": [
    "**Someone made a purchase that came from Lot: \"90 WT\" , what was the Purchase Price for this transaction?**"
   ]
  },
  {
   "cell_type": "code",
   "execution_count": 14,
   "metadata": {
    "collapsed": false,
    "pycharm": {
     "is_executing": false
    }
   },
   "outputs": [
    {
     "data": {
      "text/plain": "513    75.1\nName: Purchase Price, dtype: float64"
     },
     "metadata": {},
     "output_type": "execute_result",
     "execution_count": 14
    }
   ],
   "source": [
    "ecom[ecom['Lot'] == \"90 WT\"]['Purchase Price']"
   ]
  },
  {
   "cell_type": "markdown",
   "metadata": {},
   "source": [
    "**What is the email of the person with the following Credit Card Number: 4926535242672853**"
   ]
  },
  {
   "cell_type": "code",
   "execution_count": 16,
   "metadata": {
    "collapsed": false,
    "pycharm": {
     "is_executing": false
    }
   },
   "outputs": [
    {
     "data": {
      "text/plain": "1234    bondellen@williams-garza.com\nName: Email, dtype: object"
     },
     "metadata": {},
     "output_type": "execute_result",
     "execution_count": 16
    }
   ],
   "source": [
    "ecom[ecom['Credit Card'] == 4926535242672853]['Email']"
   ]
  },
  {
   "cell_type": "markdown",
   "metadata": {},
   "source": [
    "**How many people have American Express as their Credit Card Provider *and* made a purchase above $95 ?**"
   ]
  },
  {
   "cell_type": "code",
   "execution_count": 18,
   "metadata": {
    "collapsed": false,
    "pycharm": {
     "is_executing": false
    }
   },
   "outputs": [
    {
     "data": {
      "text/plain": "39"
     },
     "metadata": {},
     "output_type": "execute_result",
     "execution_count": 18
    }
   ],
   "source": [
    "sum((ecom['CC Provider'] == 'American Express') & (ecom['Purchase Price'] > 95))"
   ]
  },
  {
   "cell_type": "markdown",
   "metadata": {},
   "source": [
    "**Hard: How many people have a credit card that expires in 2025?**"
   ]
  },
  {
   "cell_type": "code",
   "execution_count": 19,
   "metadata": {
    "collapsed": false,
    "pycharm": {
     "is_executing": false
    }
   },
   "outputs": [
    {
     "data": {
      "text/plain": "1033"
     },
     "metadata": {},
     "output_type": "execute_result",
     "execution_count": 19
    }
   ],
   "source": [
    "sum(ecom['CC Exp Date'].str.contains('/25'))"
   ]
  },
  {
   "cell_type": "markdown",
   "metadata": {},
   "source": [
    "**Hard: What are the top 5 most popular email providers/hosts (e.g. gmail.com, yahoo.com, etc...)**"
   ]
  },
  {
   "cell_type": "code",
   "execution_count": 26,
   "metadata": {
    "collapsed": false,
    "pycharm": {
     "is_executing": false
    }
   },
   "outputs": [
    {
     "data": {
      "text/plain": "hotmail.com     1638\nyahoo.com       1616\ngmail.com       1605\nsmith.com         42\nwilliams.com      37\nName: Email, dtype: int64"
     },
     "metadata": {},
     "output_type": "execute_result",
     "execution_count": 26
    }
   ],
   "source": [
    "s = 'bondellen@williams-garza.com'\n",
    "def get_provider(s):\n",
    "    return s[(s.index('@') + 1):]\n",
    "\n",
    "ecom['Email'].apply(get_provider).value_counts().sort_values(ascending=False).head(5)"
   ]
  },
  {
   "cell_type": "markdown",
   "metadata": {},
   "source": [
    "# Great Job!"
   ]
  }
 ],
 "metadata": {
  "kernelspec": {
   "display_name": "Python 3",
   "language": "python",
   "name": "python3"
  },
  "language_info": {
   "codemirror_mode": {
    "name": "ipython",
    "version": 3
   },
   "file_extension": ".py",
   "mimetype": "text/x-python",
   "name": "python",
   "nbconvert_exporter": "python",
   "pygments_lexer": "ipython3",
   "version": "3.5.1"
  },
  "pycharm": {
   "stem_cell": {
    "cell_type": "raw",
    "source": [],
    "metadata": {
     "collapsed": false
    }
   }
  }
 },
 "nbformat": 4,
 "nbformat_minor": 0
}